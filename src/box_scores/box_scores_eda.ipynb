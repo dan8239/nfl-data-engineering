{
 "cells": [
  {
   "cell_type": "code",
   "execution_count": 47,
   "metadata": {},
   "outputs": [
    {
     "data": {
      "text/plain": [
       "<module 'plotly.express' from '/Users/DanPfeiffer/Documents/code/data-collector/env/lib/python3.11/site-packages/plotly/express/__init__.py'>"
      ]
     },
     "execution_count": 47,
     "metadata": {},
     "output_type": "execute_result"
    }
   ],
   "source": [
    "import pandas as pd\n",
    "from geo import geocode\n",
    "import importlib\n",
    "import plotly.express as px\n",
    "\n",
    "pd.set_option('display.max_columns', None)\n",
    "pd.set_option('display.max_rows', None)\n",
    "importlib.reload(geocode)\n",
    "importlib.reload(px)"
   ]
  },
  {
   "cell_type": "code",
   "execution_count": 3,
   "metadata": {},
   "outputs": [],
   "source": [
    "box_scores_df = pd.read_csv(\"../../output/box_scores/box_scores_df.csv\")"
   ]
  },
  {
   "cell_type": "code",
   "execution_count": 4,
   "metadata": {},
   "outputs": [],
   "source": [
    "#box_report = ProfileReport(box_scores_df,\n",
    "#                           explorative=True)"
   ]
  },
  {
   "cell_type": "code",
   "execution_count": 5,
   "metadata": {},
   "outputs": [],
   "source": [
    "# box_report.to_file(\"../output/box_scores/box_score_report.html\")"
   ]
  },
  {
   "cell_type": "code",
   "execution_count": 7,
   "metadata": {},
   "outputs": [
    {
     "data": {
      "text/plain": [
       "Index(['id', 'uid', 'date', 'attendance', 'time_valid', 'neutral_site',\n",
       "       'conference_competition', 'play_by_play_available', 'recent',\n",
       "       'start_date', 'notes_type', 'notes_headline', 'broadcast_market',\n",
       "       'broadcast_name', 'type_id', 'type_abbreviation', 'venue_id',\n",
       "       'venue_full_name', 'venue_address_city', 'venue_address_state',\n",
       "       'venue_indoor', 'status_clock', 'status_display_clock', 'status_period',\n",
       "       'status_type_id', 'status_type_name', 'status_type_state',\n",
       "       'status_type_completed', 'status_type_description',\n",
       "       'status_type_detail', 'status_type_short_detail', 'status_is_tbd_flex',\n",
       "       'format_regulation_periods', 'home_id', 'home_uid', 'home_location',\n",
       "       'home_name', 'home_abbreviation', 'home_display_name',\n",
       "       'home_short_display_name', 'home_color', 'home_alternate_color',\n",
       "       'home_is_active', 'home_venue_id', 'home_logo', 'home_score',\n",
       "       'home_winner', 'home_current_rank', 'home_linescores', 'home_records',\n",
       "       'away_id', 'away_uid', 'away_location', 'away_name',\n",
       "       'away_abbreviation', 'away_display_name', 'away_short_display_name',\n",
       "       'away_color', 'away_alternate_color', 'away_is_active', 'away_venue_id',\n",
       "       'away_logo', 'away_score', 'away_winner', 'away_current_rank',\n",
       "       'away_linescores', 'away_records', 'game_id', 'season', 'season_type',\n",
       "       'week', 'status_type_alt_detail'],\n",
       "      dtype='object')"
      ]
     },
     "execution_count": 7,
     "metadata": {},
     "output_type": "execute_result"
    }
   ],
   "source": [
    "box_scores_df.columns"
   ]
  },
  {
   "cell_type": "code",
   "execution_count": 41,
   "metadata": {},
   "outputs": [],
   "source": [
    "cols_to_keep = ['id', 'uid', 'date', 'attendance', 'neutral_site',\n",
    "       'start_date', 'notes_type', 'venue_id',\n",
    "       'venue_full_name', 'venue_address_city', 'venue_address_state',\n",
    "       'venue_indoor',      'home_id', 'home_uid', 'home_location',\n",
    "       'home_name', 'home_abbreviation', 'home_display_name',\n",
    "       'home_short_display_name',\n",
    "       'home_is_active', 'home_venue_id', 'home_score',\n",
    "       'home_winner',       \n",
    "       'away_id', 'away_uid', 'away_location', 'away_name',\n",
    "       'away_abbreviation', 'away_display_name', 'away_short_display_name',\n",
    "       'away_is_active', 'away_venue_id',\n",
    "       'away_logo', 'away_score', 'away_winner', 'game_id', 'season', 'season_type',\n",
    "       'week', 'status_type_alt_detail']"
   ]
  },
  {
   "cell_type": "code",
   "execution_count": 42,
   "metadata": {},
   "outputs": [],
   "source": [
    "box_scores_df = box_scores_df[cols_to_keep]"
   ]
  },
  {
   "cell_type": "code",
   "execution_count": 27,
   "metadata": {},
   "outputs": [],
   "source": [
    "stadium_df = box_scores_df[[\n",
    "    \"venue_id\", \n",
    "    \"venue_full_name\", \n",
    "    \"venue_address_city\",\n",
    "    \"venue_address_state\",\n",
    "    \"attendance\"\n",
    "]].groupby([\n",
    "    \"venue_id\", \n",
    "    \"venue_full_name\",\n",
    "    \"venue_address_city\",\n",
    "    \"venue_address_state\"\n",
    "]).mean().reset_index().sort_values(by=[\n",
    "    \"venue_address_state\", \n",
    "    \"venue_address_city\"\n",
    "])"
   ]
  },
  {
   "cell_type": "code",
   "execution_count": 32,
   "metadata": {},
   "outputs": [],
   "source": [
    "stadium_df = geocode.geocode_dataframe(df=stadium_df, \n",
    "                                       city_colname=\"venue_address_city\", \n",
    "                                       state_colname=\"venue_address_state\")"
   ]
  },
  {
   "cell_type": "code",
   "execution_count": 34,
   "metadata": {},
   "outputs": [],
   "source": [
    "stadium_df.to_csv(\"reference/stadiums.csv\", index=False)"
   ]
  },
  {
   "cell_type": "code",
   "execution_count": 60,
   "metadata": {},
   "outputs": [],
   "source": [
    "box_scores_df[\"score_differential\"] = box_scores_df[\"home_score\"] - box_scores_df[\"away_score\"]\n",
    "box_scores_df[\"abs_score_differential\"] = abs(box_scores_df[\"score_differential\"])\n",
    "box_scores_df[\"total_score\"] = box_scores_df[\"home_score\"] + box_scores_df[\"away_score\"]\n",
    "box_scores_df[\"score_differential_percentile\"] = box_scores_df['score_differential'].rank(pct=True)\n",
    "box_scores_df[\"total_score_percentile\"] = box_scores_df['total_score'].rank(pct=True)"
   ]
  },
  {
   "cell_type": "code",
   "execution_count": 52,
   "metadata": {},
   "outputs": [
    {
     "data": {
      "text/html": [
       "<div>\n",
       "<style scoped>\n",
       "    .dataframe tbody tr th:only-of-type {\n",
       "        vertical-align: middle;\n",
       "    }\n",
       "\n",
       "    .dataframe tbody tr th {\n",
       "        vertical-align: top;\n",
       "    }\n",
       "\n",
       "    .dataframe thead th {\n",
       "        text-align: right;\n",
       "    }\n",
       "</style>\n",
       "<table border=\"1\" class=\"dataframe\">\n",
       "  <thead>\n",
       "    <tr style=\"text-align: right;\">\n",
       "      <th></th>\n",
       "      <th>home_score</th>\n",
       "      <th>away_score</th>\n",
       "      <th>score_differential</th>\n",
       "      <th>abs_score_differential</th>\n",
       "      <th>total_score</th>\n",
       "    </tr>\n",
       "  </thead>\n",
       "  <tbody>\n",
       "    <tr>\n",
       "      <th>count</th>\n",
       "      <td>6265.000000</td>\n",
       "      <td>6265.000000</td>\n",
       "      <td>6265.000000</td>\n",
       "      <td>6265.000000</td>\n",
       "      <td>6265.000000</td>\n",
       "    </tr>\n",
       "    <tr>\n",
       "      <th>mean</th>\n",
       "      <td>22.821868</td>\n",
       "      <td>20.792338</td>\n",
       "      <td>2.029529</td>\n",
       "      <td>11.264645</td>\n",
       "      <td>43.614206</td>\n",
       "    </tr>\n",
       "    <tr>\n",
       "      <th>std</th>\n",
       "      <td>10.188918</td>\n",
       "      <td>9.877578</td>\n",
       "      <td>14.313994</td>\n",
       "      <td>9.060771</td>\n",
       "      <td>14.066655</td>\n",
       "    </tr>\n",
       "    <tr>\n",
       "      <th>min</th>\n",
       "      <td>0.000000</td>\n",
       "      <td>0.000000</td>\n",
       "      <td>-49.000000</td>\n",
       "      <td>0.000000</td>\n",
       "      <td>0.000000</td>\n",
       "    </tr>\n",
       "    <tr>\n",
       "      <th>25%</th>\n",
       "      <td>16.000000</td>\n",
       "      <td>14.000000</td>\n",
       "      <td>-7.000000</td>\n",
       "      <td>4.000000</td>\n",
       "      <td>34.000000</td>\n",
       "    </tr>\n",
       "    <tr>\n",
       "      <th>50%</th>\n",
       "      <td>23.000000</td>\n",
       "      <td>20.000000</td>\n",
       "      <td>3.000000</td>\n",
       "      <td>8.000000</td>\n",
       "      <td>43.000000</td>\n",
       "    </tr>\n",
       "    <tr>\n",
       "      <th>75%</th>\n",
       "      <td>30.000000</td>\n",
       "      <td>27.000000</td>\n",
       "      <td>10.000000</td>\n",
       "      <td>17.000000</td>\n",
       "      <td>52.000000</td>\n",
       "    </tr>\n",
       "    <tr>\n",
       "      <th>max</th>\n",
       "      <td>70.000000</td>\n",
       "      <td>59.000000</td>\n",
       "      <td>59.000000</td>\n",
       "      <td>59.000000</td>\n",
       "      <td>105.000000</td>\n",
       "    </tr>\n",
       "  </tbody>\n",
       "</table>\n",
       "</div>"
      ],
      "text/plain": [
       "        home_score   away_score  score_differential  abs_score_differential  \\\n",
       "count  6265.000000  6265.000000         6265.000000             6265.000000   \n",
       "mean     22.821868    20.792338            2.029529               11.264645   \n",
       "std      10.188918     9.877578           14.313994                9.060771   \n",
       "min       0.000000     0.000000          -49.000000                0.000000   \n",
       "25%      16.000000    14.000000           -7.000000                4.000000   \n",
       "50%      23.000000    20.000000            3.000000                8.000000   \n",
       "75%      30.000000    27.000000           10.000000               17.000000   \n",
       "max      70.000000    59.000000           59.000000               59.000000   \n",
       "\n",
       "       total_score  \n",
       "count  6265.000000  \n",
       "mean     43.614206  \n",
       "std      14.066655  \n",
       "min       0.000000  \n",
       "25%      34.000000  \n",
       "50%      43.000000  \n",
       "75%      52.000000  \n",
       "max     105.000000  "
      ]
     },
     "execution_count": 52,
     "metadata": {},
     "output_type": "execute_result"
    }
   ],
   "source": [
    "score_cols = [\"home_score\",\n",
    "    \"away_score\",\n",
    "    \"score_differential\",\n",
    "    \"abs_score_differential\",\n",
    "    \"total_score\"]\n",
    "box_scores_df[score_cols].describe()"
   ]
  },
  {
   "cell_type": "code",
   "execution_count": 54,
   "metadata": {},
   "outputs": [],
   "source": [
    "fig = px.histogram(box_scores_df, x=[\"home_score\", \"away_score\"], histnorm=\"percent\")\n",
    "fig.write_html(\"../output/visualizations/score_histogram.html\")"
   ]
  },
  {
   "cell_type": "code",
   "execution_count": 55,
   "metadata": {},
   "outputs": [],
   "source": [
    "for col in score_cols:\n",
    "    title = f\"{col}_histogram\"\n",
    "    fig = px.histogram(box_scores_df, x=col, title=title, histnorm=\"percent\")\n",
    "    fig.write_html(f\"../output/visualizations/{title}.html\")\n",
    "    for y_col in score_cols:\n",
    "        if y_col != col:\n",
    "            title = f\"{col}_vs_{y_col}_scatter\"\n",
    "            fig = px.scatter(box_scores_df, x=col, y=y_col, title=title)\n",
    "            fig.write_html(f\"../output/visualizations/{title}.html\")\n"
   ]
  },
  {
   "cell_type": "code",
   "execution_count": 59,
   "metadata": {},
   "outputs": [],
   "source": [
    "title = f\"game_line_scatter\"\n",
    "fig=px.scatter(box_scores_df, x=\"score_differential\", y=\"score_differential_percentile\",title=title)\n",
    "fig.write_html(f\"../output/visualizations/{title}.html\")"
   ]
  },
  {
   "cell_type": "code",
   "execution_count": 61,
   "metadata": {},
   "outputs": [],
   "source": [
    "title = f\"total_line_scatter\"\n",
    "fig=px.scatter(box_scores_df, x=\"total_score\", y=\"total_score_percentile\",title=title)\n",
    "fig.write_html(f\"../output/visualizations/{title}.html\")"
   ]
  },
  {
   "cell_type": "code",
   "execution_count": null,
   "metadata": {},
   "outputs": [],
   "source": []
  }
 ],
 "metadata": {
  "kernelspec": {
   "display_name": "env",
   "language": "python",
   "name": "python3"
  },
  "language_info": {
   "codemirror_mode": {
    "name": "ipython",
    "version": 3
   },
   "file_extension": ".py",
   "mimetype": "text/x-python",
   "name": "python",
   "nbconvert_exporter": "python",
   "pygments_lexer": "ipython3",
   "version": "3.11.5"
  }
 },
 "nbformat": 4,
 "nbformat_minor": 2
}
