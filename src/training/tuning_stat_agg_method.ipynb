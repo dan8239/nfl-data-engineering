{
 "cells": [
  {
   "cell_type": "code",
   "execution_count": 1,
   "metadata": {},
   "outputs": [],
   "source": [
    "import os\n",
    "import sys\n",
    "os.chdir(\"/Users/DanPfeiffer/Documents/code/data-collector/src\")\n",
    "sys.path.append(os.getcwd())\n",
    "import pandas as pd\n",
    "import importlib\n",
    "import plotly.express as px\n",
    "from sklearn.pipeline import Pipeline\n",
    "from sklearn.preprocessing import StandardScaler\n",
    "from sklearn.impute import SimpleImputer\n",
    "import numpy as np\n",
    "from sklearn.metrics import mean_absolute_error\n",
    "from sklearn.ensemble import RandomForestRegressor, GradientBoostingRegressor, ExtraTreesRegressor\n",
    "from sklearn.model_selection import RandomizedSearchCV, ParameterSampler\n",
    "import itertools\n",
    "\n",
    "pd.set_option('display.max_columns', None)\n",
    "pd.set_option('display.max_rows', None)\n",
    "random_state=54"
   ]
  },
  {
   "cell_type": "code",
   "execution_count": 4,
   "metadata": {},
   "outputs": [
    {
     "data": {
      "text/plain": [
       "['.DS_Store',\n",
       " '16_games_exp_weighted_mean_decay0.6999999999999997_training.csv',\n",
       " '16_games_exp_weighted_mean_decay0.7199999999999998_training.csv',\n",
       " '16_games_exp_weighted_mean_decay0.7399999999999999_training.csv',\n",
       " '16_games_exp_weighted_mean_decay0.7599999999999999_training.csv',\n",
       " '16_games_exp_weighted_mean_decay0.7799999999999999_training.csv',\n",
       " '16_games_exp_weighted_mean_decay0.7999999999999999_training.csv',\n",
       " '16_games_exp_weighted_mean_decay0.8199999999999998_training.csv',\n",
       " '16_games_exp_weighted_mean_decay0.82_training.csv',\n",
       " '16_games_exp_weighted_mean_decay0.8399999999999999_training.csv',\n",
       " '16_games_exp_weighted_mean_decay0.8599999999999999_training.csv',\n",
       " '16_games_exp_weighted_mean_decay0.8799999999999999_training.csv',\n",
       " '16_games_exp_weighted_mean_decay0.88_training.csv',\n",
       " '16_games_exp_weighted_mean_decay0.8999999999999999_training.csv',\n",
       " '16_games_exp_weighted_mean_decay0.9199999999999999_training.csv',\n",
       " '16_games_exp_weighted_mean_decay0.94_training.csv',\n",
       " '16_games_exp_weighted_mean_decay0.96_training.csv',\n",
       " '16_games_exp_weighted_mean_decay0.98_training.csv',\n",
       " '16_games_exp_weighted_mean_decay0.9_training.csv',\n",
       " '16_games_exp_weighted_mean_decay1.0_training.csv',\n",
       " 'box_scores.csv',\n",
       " 'training.csv']"
      ]
     },
     "execution_count": 4,
     "metadata": {},
     "output_type": "execute_result"
    }
   ],
   "source": [
    "file_list = os.listdir('../data/transformed')\n",
    "file_list.sort()\n",
    "file_list"
   ]
  },
  {
   "cell_type": "code",
   "execution_count": 5,
   "metadata": {},
   "outputs": [
    {
     "name": "stdout",
     "output_type": "stream",
     "text": [
      "{'16_games_exp_weighted_mean_decay0.6999999999999997_training.csv': '16_games_exp_weighted_mean_decay0.6999999999999997', '16_games_exp_weighted_mean_decay0.7199999999999998_training.csv': '16_games_exp_weighted_mean_decay0.7199999999999998', '16_games_exp_weighted_mean_decay0.7399999999999999_training.csv': '16_games_exp_weighted_mean_decay0.7399999999999999', '16_games_exp_weighted_mean_decay0.7599999999999999_training.csv': '16_games_exp_weighted_mean_decay0.7599999999999999', '16_games_exp_weighted_mean_decay0.7799999999999999_training.csv': '16_games_exp_weighted_mean_decay0.7799999999999999', '16_games_exp_weighted_mean_decay0.7999999999999999_training.csv': '16_games_exp_weighted_mean_decay0.7999999999999999', '16_games_exp_weighted_mean_decay0.8199999999999998_training.csv': '16_games_exp_weighted_mean_decay0.8199999999999998', '16_games_exp_weighted_mean_decay0.82_training.csv': '16_games_exp_weighted_mean_decay0.82', '16_games_exp_weighted_mean_decay0.8399999999999999_training.csv': '16_games_exp_weighted_mean_decay0.8399999999999999', '16_games_exp_weighted_mean_decay0.8599999999999999_training.csv': '16_games_exp_weighted_mean_decay0.8599999999999999', '16_games_exp_weighted_mean_decay0.8799999999999999_training.csv': '16_games_exp_weighted_mean_decay0.8799999999999999', '16_games_exp_weighted_mean_decay0.88_training.csv': '16_games_exp_weighted_mean_decay0.88', '16_games_exp_weighted_mean_decay0.8999999999999999_training.csv': '16_games_exp_weighted_mean_decay0.8999999999999999', '16_games_exp_weighted_mean_decay0.9199999999999999_training.csv': '16_games_exp_weighted_mean_decay0.9199999999999999', '16_games_exp_weighted_mean_decay0.94_training.csv': '16_games_exp_weighted_mean_decay0.94', '16_games_exp_weighted_mean_decay0.96_training.csv': '16_games_exp_weighted_mean_decay0.96', '16_games_exp_weighted_mean_decay0.98_training.csv': '16_games_exp_weighted_mean_decay0.98', '16_games_exp_weighted_mean_decay0.9_training.csv': '16_games_exp_weighted_mean_decay0.9', '16_games_exp_weighted_mean_decay1.0_training.csv': '16_games_exp_weighted_mean_decay1.0'}\n"
     ]
    }
   ],
   "source": [
    "skip_files = ['training.csv', 'box_scores.csv', '.DS_Store']\n",
    "read_files = [file for file in file_list if file not in skip_files]\n",
    "experiment_names = [file.replace(\"_training.csv\", \"\") for file in read_files]\n",
    "files_to_exp_names = dict(zip(read_files, experiment_names))\n",
    "print(files_to_exp_names)"
   ]
  },
  {
   "cell_type": "markdown",
   "metadata": {},
   "source": [
    "### Test Agg Method\n",
    "\n",
    "Loop through all the training data experiments and see which has the best performance"
   ]
  },
  {
   "cell_type": "code",
   "execution_count": 8,
   "metadata": {
    "jupyter": {
     "source_hidden": true
    }
   },
   "outputs": [],
   "source": [
    "train_features = [\n",
    "    'game_datetime',\n",
    "    'home_offense_special_teams_net_punt_ypa',\n",
    "    'offense_special_teams_net_punt_ypa_all_matchup_differential',\n",
    "    'offense_special_teams_gross_punt_ypa_matchup_differential',\n",
    "    'offense_special_teams_fg_made_pcnt_matchup_differential',\n",
    "    'road_defense_passing_attempts',\n",
    "    'road_defense_passing_completion_pcnt',\n",
    "    'road_defense_passing_ypa',\n",
    "    'road_defense_passing_ypc',\n",
    "    'road_defense_passing_1st_downs',\n",
    "    'road_defense_passing_td_pcnt',\n",
    "    'road_defense_passing_pass_rtg',\n",
    "    'road_defense_passing_sack_pcnt',\n",
    "    'road_defense_passing_sacks',\n",
    "    'road_defense_passing_1st_down_pcnt',\n",
    "    'road_defense_rushing_attempts',\n",
    "    'road_defense_rushing_ypg',\n",
    "    'road_defense_rushing_ypa',\n",
    "    'road_defense_rushing_td_pcnt',\n",
    "    'road_defense_rushing_1st_down_pcnt',\n",
    "    'road_defense_scoring_yards_per_point',\n",
    "    'road_defense_scoring_rz_attempts',\n",
    "    'road_defense_scoring_rz_td_pcnt',\n",
    "    'road_def_turnovers_fumbles',\n",
    "    'road_def_turnovers_takeaways',\n",
    "    'road_def_turnovers_int_pcnt',\n",
    "    'road_defense_total_plays',\n",
    "    'road_defense_total_yards_per_play',\n",
    "    'road_defense_total_3rd_downs',\n",
    "    'road_defense_total_4th_downs',\n",
    "    'road_defense_total_seconds_per_play',\n",
    "    'road_defense_total_1st_downs_per_play',\n",
    "    'road_defense_total_3rd_down_conversion_pcnt',\n",
    "    'road_defense_total_4th_down_conversion_pcnt',\n",
    "    'road_defense_total_punts_per_play',\n",
    "    'road_defense_total_punts_per_score',\n",
    "    'road_defense_total_solo_tackles',\n",
    "    'road_defense_total_assisted_tackles',\n",
    "    'home_off_turnovers_fumbles',\n",
    "    'home_off_turnovers_int_pcnt',\n",
    "    'off_turnovers_fumbles_matchup_differential',\n",
    "    'off_turnovers_int_pcnt_matchup_differential',\n",
    "    'home_offense_passing_completion_pcnt',\n",
    "    'home_offense_passing_ypa',\n",
    "    'home_offense_passing_ypc',\n",
    "    'home_offense_passing_td_pcnt',\n",
    "    'home_offense_passing_sack_pcnt',\n",
    "    'home_offense_passing_1st_down_pcnt',\n",
    "    'home_offense_passing_pass_rtg',\n",
    "    'offense_passing_completion_pcnt_matchup_differential',\n",
    "    'offense_passing_ypa_matchup_differential',\n",
    "    'offense_passing_ypc_matchup_differential',\n",
    "    'offense_passing_sack_pcnt_matchup_differential',\n",
    "    'offense_passing_1st_downs_matchup_differential',\n",
    "    'offense_passing_1st_down_pcnt_matchup_differential',\n",
    "    'offense_passing_pass_rtg_matchup_differential',\n",
    "    'home_offense_rushing_ypa',\n",
    "    'home_offense_rushing_td_pcnt',\n",
    "    'offense_rushing_ypa_matchup_differential',\n",
    "    'offense_rushing_td_pcnt_matchup_differential',\n",
    "    'home_offense_scoring_points_per_game',\n",
    "    'home_offense_scoring_points_per_game_delta',\n",
    "    'home_offense_scoring_yards_per_point',\n",
    "    'home_offense_scoring_yards_per_point_delta',\n",
    "    'home_offense_scoring_points_per_play',\n",
    "    'home_offense_scoring_rz_td_pcnt',\n",
    "    'offense_scoring_points_per_game_matchup_differential',\n",
    "    'offense_scoring_points_per_game_delta_matchup_differential',\n",
    "    'offense_scoring_yards_per_point_matchup_differential',\n",
    "    'offense_scoring_yards_per_point_delta_matchup_differential',\n",
    "    'offense_scoring_points_per_play_matchup_differential',\n",
    "    'home_offense_total_yards',\n",
    "    'home_offense_total_plays',\n",
    "    'home_offense_total_yards_per_play',\n",
    "    'home_offense_total_1st_downs',\n",
    "    'home_offense_total_3rd_downs',\n",
    "    'home_offense_total_3rd_down_conversions',\n",
    "    'home_offense_total_4th_downs',\n",
    "    'home_offense_total_4th_down_conversions',\n",
    "    'home_offense_total_seconds_per_play',\n",
    "    'home_offense_total_1st_downs_per_play',\n",
    "    'home_offense_total_3rd_down_conversion_pcnt',\n",
    "    'home_offense_total_4th_down_conversion_pcnt',\n",
    "    'home_offense_total_punts_per_play',\n",
    "    'home_offense_total_punts_per_score',\n",
    "    'home_offense_total_opp_tackles',\n",
    "    'home_offense_total_opp_solo_tackles',\n",
    "    'home_offense_total_opp_asst_tackles',\n",
    "    'offense_total_yards_matchup_differential',\n",
    "    'offense_total_plays_matchup_differential',\n",
    "    'offense_total_yards_per_play_matchup_differential',\n",
    "    'offense_total_1st_downs_matchup_differential',\n",
    "    'offense_total_3rd_downs_matchup_differential',\n",
    "    'offense_total_3rd_down_conversions_matchup_differential',\n",
    "    'offense_total_4th_downs_matchup_differential',\n",
    "    'offense_total_4th_down_conversions_matchup_differential',\n",
    "    'offense_total_seconds_per_play_matchup_differential',\n",
    "    'offense_total_1st_downs_per_play_matchup_differential',\n",
    "    'offense_total_3rd_down_conversion_pcnt_matchup_differential',\n",
    "    'offense_total_4th_down_conversion_pcnt_matchup_differential',\n",
    "    'offense_total_punts_per_play_matchup_differential',\n",
    "    'offense_total_punts_per_score_matchup_differential',\n",
    "    'offense_total_opp_tackles_matchup_differential',\n",
    "    'offense_total_opp_solo_tackles_matchup_differential',\n",
    "    'offense_total_opp_asst_tackles_matchup_differential',\n",
    "    'home_penalties_opponent_penalty_yards',\n",
    "    'home_penalties_opponent_penalty_1st_downs',\n",
    "    'home_penalties_opponent_yards_per_penalty',\n",
    "    'penalties_opponent_penalty_yards_matchup_differential',\n",
    "    'penalties_opponent_penalty_1st_downs_matchup_differential',\n",
    "    'penalties_opponent_yards_per_penalty_matchup_differential',\n",
    "    'home_penalties_penalties',\n",
    "    'home_penalties_yards_per_penalty',\n",
    "    'penalties_penalties_matchup_differential',\n",
    "    'penalties_yards_per_penalty_matchup_differential',\n",
    "    'home_rankings_home_advantage_rating',\n",
    "    'home_rankings_home_rating',\n",
    "    'road_rankings_home_advantage_rating',\n",
    "    'road_rankings_home_rating',\n",
    "    'rankings_home_rating_matchup_differential',\n",
    "    'home_rankings_consistency_rating',\n",
    "    'road_rankings_consistency_rating',\n",
    "    'rankings_consistency_rating_matchup_differential',\n",
    "    'home_rankings_luck_rating',\n",
    "    'road_rankings_luck_rating',\n",
    "    'rankings_luck_rating_matchup_differential',\n",
    "    'home_rankings_road_rating',\n",
    "    'road_rankings_road_rating',\n",
    "    'home_rankings_sos_basic_rating',\n",
    "    'road_rankings_sos_basic_rating',\n",
    "    'rankings_sos_basic_rating_matchup_differential',\n",
    "    'home_rankings_predictive_rating',\n",
    "    'road_rankings_predictive_rating',\n",
    "    'rankings_predictive_rating_matchup_differential',\n",
    "    'defense_special_teams_fg_made_pcnt_matchup_differential',\n",
    "    'road_offense_special_teams_gross_punt_ypa',\n",
    "    'road_offense_special_teams_net_punt_ypa',\n",
    "    'defense_special_teams_net_punt_ypa_all_matchup_differential',\n",
    "    'defense_special_teams_gross_punt_ypa_matchup_differential',\n",
    "    'home_defense_special_teams_gross_punt_yards',\n",
    "    'home_defense_special_teams_net_punt_yards',\n",
    "    'home_defense_special_teams_gross_punt_ypa',\n",
    "    'home_defense_special_teams_net_punt_ypa',\n",
    "    'road_defense_special_teams_gross_punt_yards',\n",
    "    'road_defense_special_teams_net_punt_yards',\n",
    "    'road_defense_special_teams_gross_punt_ypa',\n",
    "    'road_defense_special_teams_net_punt_ypa',\n",
    "    'home_defense_passing_attempts',\n",
    "    'home_defense_passing_completion_pcnt',\n",
    "    'home_defense_passing_ypa',\n",
    "    'home_defense_passing_ypc',\n",
    "    'home_defense_passing_1st_downs',\n",
    "    'home_defense_passing_td_pcnt',\n",
    "    'home_defense_passing_pass_rtg',\n",
    "    'home_defense_passing_sack_pcnt',\n",
    "    'home_defense_passing_sacks',\n",
    "    'home_defense_passing_1st_down_pcnt',\n",
    "    'home_defense_rushing_attempts',\n",
    "    'home_defense_rushing_ypg',\n",
    "    'home_defense_rushing_ypa',\n",
    "    'home_defense_rushing_td_pcnt',\n",
    "    'home_defense_rushing_1st_down_pcnt',\n",
    "    'home_defense_scoring_yards_per_point',\n",
    "    'home_defense_scoring_rz_attempts',\n",
    "    'home_defense_scoring_rz_td_pcnt',\n",
    "    'home_def_turnovers_fumbles',\n",
    "    'home_def_turnovers_takeaways',\n",
    "    'home_def_turnovers_int_pcnt',\n",
    "    'home_defense_total_plays',\n",
    "    'home_defense_total_yards_per_play',\n",
    "    'home_defense_total_3rd_downs',\n",
    "    'home_defense_total_4th_downs',\n",
    "    'home_defense_total_seconds_per_play',\n",
    "    'home_defense_total_1st_downs_per_play',\n",
    "    'home_defense_total_3rd_down_conversion_pcnt',\n",
    "    'home_defense_total_4th_down_conversion_pcnt',\n",
    "    'home_defense_total_punts_per_play',\n",
    "    'home_defense_total_punts_per_score',\n",
    "    'home_defense_total_solo_tackles',\n",
    "    'home_defense_total_assisted_tackles',\n",
    "    'road_off_turnovers_fumbles',\n",
    "    'road_off_turnovers_int_pcnt',\n",
    "    'def_turnovers_fumbles_matchup_differential',\n",
    "    'def_turnovers_int_pcnt_matchup_differential',\n",
    "    'road_offense_passing_attempts',\n",
    "    'road_offense_passing_incompletions',\n",
    "    'road_offense_passing_completion_pcnt',\n",
    "    'road_offense_passing_ypa',\n",
    "    'road_offense_passing_ypc',\n",
    "    'road_offense_passing_td_pcnt',\n",
    "    'road_offense_passing_sack_pcnt',\n",
    "    'road_offense_passing_1st_down_pcnt',\n",
    "    'road_offense_passing_pass_rtg',\n",
    "    'defense_passing_incompletions_matchup_differential',\n",
    "    'defense_passing_completion_pcnt_matchup_differential',\n",
    "    'defense_passing_ypa_matchup_differential',\n",
    "    'defense_passing_ypc_matchup_differential',\n",
    "    'defense_passing_td_pcnt_matchup_differential',\n",
    "    'defense_passing_sack_pcnt_matchup_differential',\n",
    "    'defense_passing_1st_down_pcnt_matchup_differential',\n",
    "    'defense_passing_pass_rtg_matchup_differential',\n",
    "    'defense_passing_play_pcnt_matchup_differential',\n",
    "    'defense_rushing_ypa_matchup_differential',\n",
    "    'defense_rushing_td_pcnt_matchup_differential',\n",
    "    'defense_rushing_1st_down_pcnt_matchup_differential',\n",
    "    'road_offense_scoring_points_per_game',\n",
    "    'road_offense_scoring_points_per_game_delta',\n",
    "    'road_offense_scoring_yards_per_point',\n",
    "    'road_offense_scoring_yards_per_point_delta',\n",
    "    'road_offense_scoring_points_per_play',\n",
    "    'road_offense_scoring_rz_td_pcnt',\n",
    "    'road_offense_total_yards',\n",
    "    'road_offense_total_plays',\n",
    "    'road_offense_total_yards_per_play',\n",
    "    'road_offense_total_1st_downs',\n",
    "    'road_offense_total_3rd_downs',\n",
    "    'road_offense_total_3rd_down_conversions',\n",
    "    'road_offense_total_4th_downs',\n",
    "    'road_offense_total_4th_down_conversions',\n",
    "    'road_offense_total_seconds_per_play',\n",
    "    'road_offense_total_1st_downs_per_play',\n",
    "    'road_offense_total_3rd_down_conversion_pcnt',\n",
    "    'road_offense_total_4th_down_conversion_pcnt',\n",
    "    'road_offense_total_punts_per_play',\n",
    "    'road_offense_total_punts_per_score',\n",
    "    'road_offense_total_opp_tackles',\n",
    "    'road_offense_total_opp_solo_tackles',\n",
    "    'road_offense_total_opp_asst_tackles',\n",
    "    'defense_total_yards_matchup_differential',\n",
    "    'defense_total_plays_matchup_differential',\n",
    "    'defense_total_yards_per_play_matchup_differential',\n",
    "    'defense_total_1st_downs_matchup_differential',\n",
    "    'defense_total_3rd_downs_matchup_differential',\n",
    "    'defense_total_3rd_down_conversions_matchup_differential',\n",
    "    'defense_total_4th_downs_matchup_differential',\n",
    "    'defense_total_4th_down_conversions_matchup_differential',\n",
    "    'defense_total_time_of_possession_matchup_differential',\n",
    "    'defense_total_seconds_per_play_matchup_differential',\n",
    "    'defense_total_1st_downs_per_play_matchup_differential',\n",
    "    'defense_total_3rd_down_conversion_pcnt_matchup_differential',\n",
    "    'defense_total_4th_down_conversion_pcnt_matchup_differential',\n",
    "    'defense_total_punts_per_play_matchup_differential',\n",
    "    'defense_total_punts_per_score_matchup_differential',\n",
    "    'defense_total_tackles_matchup_differential',\n",
    "    'defense_total_solo_tackles_matchup_differential',\n",
    "    'defense_total_assisted_tackles_matchup_differential',\n",
    "    'road_penalties_opponent_penalty_yards',\n",
    "    'road_penalties_opponent_penalty_1st_downs',\n",
    "    'road_penalties_opponent_yards_per_penalty',\n",
    "    'road_penalties_penalties',\n",
    "    'road_penalties_yards_per_penalty',\n",
    "    'home_days_rest',\n",
    "    'away_days_rest',\n",
    "    'rest_differential',\n",
    "    'week',\n",
    "    'game_time_hrs',\n",
    "    'type_id',\n",
    "    'venue_indoor',\n",
    "    'home_timezones_traveled',\n",
    "    'away_timezones_traveled',\n",
    "    'timezones_traveled_delta',\n",
    "    'home_travel_distance',\n",
    "    'away_travel_distance',\n",
    "    'travel_delta',\n",
    "]\n",
    "spread_y = [\n",
    "    'score_differential',\n",
    "]\n",
    "total_y = [\n",
    "    'total_score', \n",
    "]\n",
    "all_spread_y = [\n",
    "    '+20.0_home_cover',\n",
    "'+19.5_home_cover',\n",
    "'+19.0_home_cover',\n",
    "'+18.5_home_cover',\n",
    "'+18.0_home_cover',\n",
    "'+17.5_home_cover',\n",
    "'+17.0_home_cover',\n",
    "'+16.5_home_cover',\n",
    "'+16.0_home_cover',\n",
    "'+15.5_home_cover',\n",
    "'+15.0_home_cover',\n",
    "'+14.5_home_cover',\n",
    "'+14.0_home_cover',\n",
    "'+13.5_home_cover',\n",
    "'+13.0_home_cover',\n",
    "'+12.5_home_cover',\n",
    "'+12.0_home_cover',\n",
    "'+11.5_home_cover',\n",
    "'+11.0_home_cover',\n",
    "'+10.5_home_cover',\n",
    "'+10.0_home_cover',\n",
    "'+9.5_home_cover',\n",
    "'+9.0_home_cover',\n",
    "'+8.5_home_cover',\n",
    "'+8.0_home_cover',\n",
    "'+7.5_home_cover',\n",
    "'+7.0_home_cover',\n",
    "'+6.5_home_cover',\n",
    "'+6.0_home_cover',\n",
    "'+5.5_home_cover',\n",
    "'+5.0_home_cover',\n",
    "'+4.5_home_cover',\n",
    "'+4.0_home_cover',\n",
    "'+3.5_home_cover',\n",
    "'+3.0_home_cover',\n",
    "'+2.5_home_cover',\n",
    "'+2.0_home_cover',\n",
    "'+1.5_home_cover',\n",
    "'+1.0_home_cover',\n",
    "'+0.5_home_cover',\n",
    "'0.0_home_cover',\n",
    "'-0.5_home_cover',\n",
    "'-1.0_home_cover',\n",
    "'-1.5_home_cover',\n",
    "'-2.0_home_cover',\n",
    "'-2.5_home_cover',\n",
    "'-3.0_home_cover',\n",
    "'-3.5_home_cover',\n",
    "'-4.0_home_cover',\n",
    "'-4.5_home_cover',\n",
    "'-5.0_home_cover',\n",
    "'-5.5_home_cover',\n",
    "'-6.0_home_cover',\n",
    "'-6.5_home_cover',\n",
    "'-7.0_home_cover',\n",
    "'-7.5_home_cover',\n",
    "'-8.0_home_cover',\n",
    "'-8.5_home_cover',\n",
    "'-9.0_home_cover',\n",
    "'-9.5_home_cover',\n",
    "'-10.0_home_cover',\n",
    "'-10.5_home_cover',\n",
    "'-11.0_home_cover',\n",
    "'-11.5_home_cover',\n",
    "'-12.0_home_cover',\n",
    "'-12.5_home_cover',\n",
    "'-13.0_home_cover',\n",
    "'-13.5_home_cover',\n",
    "'-14.0_home_cover',\n",
    "'-14.5_home_cover',\n",
    "'-15.0_home_cover',\n",
    "'-15.5_home_cover',\n",
    "'-16.0_home_cover',\n",
    "'-16.5_home_cover',\n",
    "'-17.0_home_cover',\n",
    "'-17.5_home_cover',\n",
    "'-18.0_home_cover',\n",
    "'-18.5_home_cover',\n",
    "'-19.0_home_cover',\n",
    "'-19.5_home_cover',\n",
    "'-20.0_home_cover',\n",
    "'-20.5_home_cover',\n",
    "'-21.0_home_cover',\n",
    "'-21.5_home_cover',\n",
    "'-22.0_home_cover',\n",
    "'-22.5_home_cover',\n",
    "'-23.0_home_cover',\n",
    "'-23.5_home_cover',\n",
    "'-24.0_home_cover',\n",
    "]\n",
    "all_total_y = [\n",
    "    '25.0_total_over_hits',\n",
    "'25.5_total_over_hits',\n",
    "'26.0_total_over_hits',\n",
    "'26.5_total_over_hits',\n",
    "'27.0_total_over_hits',\n",
    "'27.5_total_over_hits',\n",
    "'28.0_total_over_hits',\n",
    "'28.5_total_over_hits',\n",
    "'29.0_total_over_hits',\n",
    "'29.5_total_over_hits',\n",
    "'30.0_total_over_hits',\n",
    "'30.5_total_over_hits',\n",
    "'31.0_total_over_hits',\n",
    "'31.5_total_over_hits',\n",
    "'32.0_total_over_hits',\n",
    "'32.5_total_over_hits',\n",
    "'33.0_total_over_hits',\n",
    "'33.5_total_over_hits',\n",
    "'34.0_total_over_hits',\n",
    "'34.5_total_over_hits',\n",
    "'35.0_total_over_hits',\n",
    "'35.5_total_over_hits',\n",
    "'36.0_total_over_hits',\n",
    "'36.5_total_over_hits',\n",
    "'37.0_total_over_hits',\n",
    "'37.5_total_over_hits',\n",
    "'38.0_total_over_hits',\n",
    "'38.5_total_over_hits',\n",
    "'39.0_total_over_hits',\n",
    "'39.5_total_over_hits',\n",
    "'40.0_total_over_hits',\n",
    "'40.5_total_over_hits',\n",
    "'41.0_total_over_hits',\n",
    "'41.5_total_over_hits',\n",
    "'42.0_total_over_hits',\n",
    "'42.5_total_over_hits',\n",
    "'43.0_total_over_hits',\n",
    "'43.5_total_over_hits',\n",
    "'44.0_total_over_hits',\n",
    "'44.5_total_over_hits',\n",
    "'45.0_total_over_hits',\n",
    "'45.5_total_over_hits',\n",
    "'46.0_total_over_hits',\n",
    "'46.5_total_over_hits',\n",
    "'47.0_total_over_hits',\n",
    "'47.5_total_over_hits',\n",
    "'48.0_total_over_hits',\n",
    "'48.5_total_over_hits',\n",
    "'49.0_total_over_hits',\n",
    "'49.5_total_over_hits',\n",
    "'50.0_total_over_hits',\n",
    "'50.5_total_over_hits',\n",
    "'51.0_total_over_hits',\n",
    "'51.5_total_over_hits',\n",
    "'52.0_total_over_hits',\n",
    "'52.5_total_over_hits',\n",
    "'53.0_total_over_hits',\n",
    "'53.5_total_over_hits',\n",
    "'54.0_total_over_hits',\n",
    "'54.5_total_over_hits',\n",
    "'55.0_total_over_hits',\n",
    "'55.5_total_over_hits',\n",
    "'56.0_total_over_hits',\n",
    "'56.5_total_over_hits',\n",
    "'57.0_total_over_hits',\n",
    "'57.5_total_over_hits',\n",
    "'58.0_total_over_hits',\n",
    "'58.5_total_over_hits',\n",
    "'59.0_total_over_hits',\n",
    "'59.5_total_over_hits',\n",
    "'60.0_total_over_hits',\n",
    "'60.5_total_over_hits',\n",
    "'61.0_total_over_hits',\n",
    "'61.5_total_over_hits',\n",
    "'62.0_total_over_hits',\n",
    "'62.5_total_over_hits',\n",
    "'63.0_total_over_hits',\n",
    "'63.5_total_over_hits',\n",
    "'64.0_total_over_hits',\n",
    "'64.5_total_over_hits',\n",
    "'65.0_total_over_hits',\n",
    "'65.5_total_over_hits',\n",
    "'66.0_total_over_hits',\n",
    "'66.5_total_over_hits',\n",
    "'67.0_total_over_hits',\n",
    "'67.5_total_over_hits',\n",
    "'68.0_total_over_hits',\n",
    "'68.5_total_over_hits',\n",
    "'69.0_total_over_hits',\n",
    "'69.5_total_over_hits',\n",
    "'70.0_total_over_hits',\n",
    "'70.5_total_over_hits',\n",
    "'71.0_total_over_hits',\n",
    "'71.5_total_over_hits',\n",
    "'72.0_total_over_hits',\n",
    "'72.5_total_over_hits',\n",
    "'73.0_total_over_hits',\n",
    "'73.5_total_over_hits',\n",
    "'74.0_total_over_hits',\n",
    "'74.5_total_over_hits',\n",
    "]"
   ]
  },
  {
   "cell_type": "code",
   "execution_count": 10,
   "metadata": {
    "collapsed": true,
    "jupyter": {
     "outputs_hidden": true
    }
   },
   "outputs": [
    {
     "name": "stdout",
     "output_type": "stream",
     "text": [
      "Training 16_games_exp_weighted_mean_decay0.6999999999999997 with GBR\n"
     ]
    },
    {
     "name": "stderr",
     "output_type": "stream",
     "text": [
      "/var/folders/h1/1n1src7x64q_jwgsr43hmkxm0000gq/T/ipykernel_59208/2010834509.py:83: DtypeWarning: Columns (20,46,63) have mixed types. Specify dtype option on import or set low_memory=False.\n",
      "  training_df = pd.read_csv(f\"../data/transformed/{file_name}\")\n"
     ]
    },
    {
     "name": "stdout",
     "output_type": "stream",
     "text": [
      "Validation year 2013\n"
     ]
    },
    {
     "name": "stderr",
     "output_type": "stream",
     "text": [
      "/Users/DanPfeiffer/Documents/code/data-collector/env/lib/python3.11/site-packages/sklearn/impute/_base.py:577: UserWarning: Skipping features without any observed values: ['offense_total_4th_down_conversion_pcnt_matchup_differential'\n",
      " 'defense_total_4th_down_conversion_pcnt_matchup_differential']. At least one non-missing value is needed for imputation with strategy='mean'.\n",
      "  warnings.warn(\n",
      "/Users/DanPfeiffer/Documents/code/data-collector/env/lib/python3.11/site-packages/sklearn/impute/_base.py:577: UserWarning: Skipping features without any observed values: ['offense_total_4th_down_conversion_pcnt_matchup_differential'\n",
      " 'defense_total_4th_down_conversion_pcnt_matchup_differential']. At least one non-missing value is needed for imputation with strategy='mean'.\n",
      "  warnings.warn(\n",
      "/Users/DanPfeiffer/Documents/code/data-collector/env/lib/python3.11/site-packages/sklearn/impute/_base.py:577: UserWarning: Skipping features without any observed values: ['offense_total_4th_down_conversion_pcnt_matchup_differential'\n",
      " 'defense_total_4th_down_conversion_pcnt_matchup_differential']. At least one non-missing value is needed for imputation with strategy='mean'.\n",
      "  warnings.warn(\n"
     ]
    },
    {
     "name": "stdout",
     "output_type": "stream",
     "text": [
      "GBR - Train score: 10.1046 | Validation score: 9.9540\n",
      "\n",
      "Validation year 2014\n"
     ]
    },
    {
     "name": "stderr",
     "output_type": "stream",
     "text": [
      "/Users/DanPfeiffer/Documents/code/data-collector/env/lib/python3.11/site-packages/sklearn/impute/_base.py:577: UserWarning: Skipping features without any observed values: ['offense_total_4th_down_conversion_pcnt_matchup_differential'\n",
      " 'defense_total_4th_down_conversion_pcnt_matchup_differential']. At least one non-missing value is needed for imputation with strategy='mean'.\n",
      "  warnings.warn(\n",
      "/Users/DanPfeiffer/Documents/code/data-collector/env/lib/python3.11/site-packages/sklearn/impute/_base.py:577: UserWarning: Skipping features without any observed values: ['offense_total_4th_down_conversion_pcnt_matchup_differential'\n",
      " 'defense_total_4th_down_conversion_pcnt_matchup_differential']. At least one non-missing value is needed for imputation with strategy='mean'.\n",
      "  warnings.warn(\n",
      "/Users/DanPfeiffer/Documents/code/data-collector/env/lib/python3.11/site-packages/sklearn/impute/_base.py:577: UserWarning: Skipping features without any observed values: ['offense_total_4th_down_conversion_pcnt_matchup_differential'\n",
      " 'defense_total_4th_down_conversion_pcnt_matchup_differential']. At least one non-missing value is needed for imputation with strategy='mean'.\n",
      "  warnings.warn(\n"
     ]
    },
    {
     "name": "stdout",
     "output_type": "stream",
     "text": [
      "GBR - Train score: 10.0483 | Validation score: 11.3309\n",
      "\n",
      "Validation year 2015\n"
     ]
    },
    {
     "name": "stderr",
     "output_type": "stream",
     "text": [
      "/Users/DanPfeiffer/Documents/code/data-collector/env/lib/python3.11/site-packages/sklearn/impute/_base.py:577: UserWarning: Skipping features without any observed values: ['offense_total_4th_down_conversion_pcnt_matchup_differential'\n",
      " 'defense_total_4th_down_conversion_pcnt_matchup_differential']. At least one non-missing value is needed for imputation with strategy='mean'.\n",
      "  warnings.warn(\n",
      "/Users/DanPfeiffer/Documents/code/data-collector/env/lib/python3.11/site-packages/sklearn/impute/_base.py:577: UserWarning: Skipping features without any observed values: ['offense_total_4th_down_conversion_pcnt_matchup_differential'\n",
      " 'defense_total_4th_down_conversion_pcnt_matchup_differential']. At least one non-missing value is needed for imputation with strategy='mean'.\n",
      "  warnings.warn(\n",
      "/Users/DanPfeiffer/Documents/code/data-collector/env/lib/python3.11/site-packages/sklearn/impute/_base.py:577: UserWarning: Skipping features without any observed values: ['offense_total_4th_down_conversion_pcnt_matchup_differential'\n",
      " 'defense_total_4th_down_conversion_pcnt_matchup_differential']. At least one non-missing value is needed for imputation with strategy='mean'.\n",
      "  warnings.warn(\n"
     ]
    },
    {
     "name": "stdout",
     "output_type": "stream",
     "text": [
      "GBR - Train score: 9.9704 | Validation score: 10.2334\n",
      "\n",
      "Validation year 2016\n"
     ]
    },
    {
     "name": "stderr",
     "output_type": "stream",
     "text": [
      "/Users/DanPfeiffer/Documents/code/data-collector/env/lib/python3.11/site-packages/sklearn/impute/_base.py:577: UserWarning: Skipping features without any observed values: ['offense_total_4th_down_conversion_pcnt_matchup_differential'\n",
      " 'defense_total_4th_down_conversion_pcnt_matchup_differential']. At least one non-missing value is needed for imputation with strategy='mean'.\n",
      "  warnings.warn(\n",
      "/Users/DanPfeiffer/Documents/code/data-collector/env/lib/python3.11/site-packages/sklearn/impute/_base.py:577: UserWarning: Skipping features without any observed values: ['offense_total_4th_down_conversion_pcnt_matchup_differential'\n",
      " 'defense_total_4th_down_conversion_pcnt_matchup_differential']. At least one non-missing value is needed for imputation with strategy='mean'.\n",
      "  warnings.warn(\n",
      "/Users/DanPfeiffer/Documents/code/data-collector/env/lib/python3.11/site-packages/sklearn/impute/_base.py:577: UserWarning: Skipping features without any observed values: ['offense_total_4th_down_conversion_pcnt_matchup_differential'\n",
      " 'defense_total_4th_down_conversion_pcnt_matchup_differential']. At least one non-missing value is needed for imputation with strategy='mean'.\n",
      "  warnings.warn(\n"
     ]
    },
    {
     "name": "stdout",
     "output_type": "stream",
     "text": [
      "GBR - Train score: 9.9593 | Validation score: 9.4374\n",
      "\n",
      "Validation year 2017\n"
     ]
    },
    {
     "name": "stderr",
     "output_type": "stream",
     "text": [
      "/Users/DanPfeiffer/Documents/code/data-collector/env/lib/python3.11/site-packages/sklearn/impute/_base.py:577: UserWarning: Skipping features without any observed values: ['road_defense_total_4th_down_conversion_pcnt'\n",
      " 'offense_total_4th_down_conversion_pcnt_matchup_differential'\n",
      " 'home_defense_total_4th_down_conversion_pcnt'\n",
      " 'defense_total_4th_down_conversion_pcnt_matchup_differential']. At least one non-missing value is needed for imputation with strategy='mean'.\n",
      "  warnings.warn(\n",
      "/Users/DanPfeiffer/Documents/code/data-collector/env/lib/python3.11/site-packages/sklearn/impute/_base.py:577: UserWarning: Skipping features without any observed values: ['road_defense_total_4th_down_conversion_pcnt'\n",
      " 'offense_total_4th_down_conversion_pcnt_matchup_differential'\n",
      " 'home_defense_total_4th_down_conversion_pcnt'\n",
      " 'defense_total_4th_down_conversion_pcnt_matchup_differential']. At least one non-missing value is needed for imputation with strategy='mean'.\n",
      "  warnings.warn(\n",
      "/Users/DanPfeiffer/Documents/code/data-collector/env/lib/python3.11/site-packages/sklearn/impute/_base.py:577: UserWarning: Skipping features without any observed values: ['road_defense_total_4th_down_conversion_pcnt'\n",
      " 'offense_total_4th_down_conversion_pcnt_matchup_differential'\n",
      " 'home_defense_total_4th_down_conversion_pcnt'\n",
      " 'defense_total_4th_down_conversion_pcnt_matchup_differential']. At least one non-missing value is needed for imputation with strategy='mean'.\n",
      "  warnings.warn(\n"
     ]
    },
    {
     "name": "stdout",
     "output_type": "stream",
     "text": [
      "GBR - Train score: 9.1715 | Validation score: 11.0297\n",
      "\n",
      "Validation year 2018\n"
     ]
    },
    {
     "name": "stderr",
     "output_type": "stream",
     "text": [
      "/Users/DanPfeiffer/Documents/code/data-collector/env/lib/python3.11/site-packages/sklearn/impute/_base.py:577: UserWarning: Skipping features without any observed values: ['road_defense_total_4th_down_conversion_pcnt'\n",
      " 'offense_total_4th_down_conversion_pcnt_matchup_differential'\n",
      " 'home_defense_total_4th_down_conversion_pcnt'\n",
      " 'defense_total_4th_down_conversion_pcnt_matchup_differential']. At least one non-missing value is needed for imputation with strategy='mean'.\n",
      "  warnings.warn(\n",
      "/Users/DanPfeiffer/Documents/code/data-collector/env/lib/python3.11/site-packages/sklearn/impute/_base.py:577: UserWarning: Skipping features without any observed values: ['road_defense_total_4th_down_conversion_pcnt'\n",
      " 'offense_total_4th_down_conversion_pcnt_matchup_differential'\n",
      " 'home_defense_total_4th_down_conversion_pcnt'\n",
      " 'defense_total_4th_down_conversion_pcnt_matchup_differential']. At least one non-missing value is needed for imputation with strategy='mean'.\n",
      "  warnings.warn(\n",
      "/Users/DanPfeiffer/Documents/code/data-collector/env/lib/python3.11/site-packages/sklearn/impute/_base.py:577: UserWarning: Skipping features without any observed values: ['road_defense_total_4th_down_conversion_pcnt'\n",
      " 'offense_total_4th_down_conversion_pcnt_matchup_differential'\n",
      " 'home_defense_total_4th_down_conversion_pcnt'\n",
      " 'defense_total_4th_down_conversion_pcnt_matchup_differential']. At least one non-missing value is needed for imputation with strategy='mean'.\n",
      "  warnings.warn(\n"
     ]
    },
    {
     "name": "stdout",
     "output_type": "stream",
     "text": [
      "GBR - Train score: 9.9781 | Validation score: 9.9834\n",
      "\n",
      "Validation year 2019\n"
     ]
    },
    {
     "name": "stderr",
     "output_type": "stream",
     "text": [
      "/Users/DanPfeiffer/Documents/code/data-collector/env/lib/python3.11/site-packages/sklearn/impute/_base.py:577: UserWarning: Skipping features without any observed values: ['road_defense_total_4th_down_conversion_pcnt'\n",
      " 'offense_total_4th_down_conversion_pcnt_matchup_differential'\n",
      " 'home_defense_total_4th_down_conversion_pcnt'\n",
      " 'defense_total_4th_down_conversion_pcnt_matchup_differential']. At least one non-missing value is needed for imputation with strategy='mean'.\n",
      "  warnings.warn(\n",
      "/Users/DanPfeiffer/Documents/code/data-collector/env/lib/python3.11/site-packages/sklearn/impute/_base.py:577: UserWarning: Skipping features without any observed values: ['road_defense_total_4th_down_conversion_pcnt'\n",
      " 'offense_total_4th_down_conversion_pcnt_matchup_differential'\n",
      " 'home_defense_total_4th_down_conversion_pcnt'\n",
      " 'defense_total_4th_down_conversion_pcnt_matchup_differential']. At least one non-missing value is needed for imputation with strategy='mean'.\n",
      "  warnings.warn(\n",
      "/Users/DanPfeiffer/Documents/code/data-collector/env/lib/python3.11/site-packages/sklearn/impute/_base.py:577: UserWarning: Skipping features without any observed values: ['road_defense_total_4th_down_conversion_pcnt'\n",
      " 'offense_total_4th_down_conversion_pcnt_matchup_differential'\n",
      " 'home_defense_total_4th_down_conversion_pcnt'\n",
      " 'defense_total_4th_down_conversion_pcnt_matchup_differential']. At least one non-missing value is needed for imputation with strategy='mean'.\n",
      "  warnings.warn(\n"
     ]
    },
    {
     "name": "stdout",
     "output_type": "stream",
     "text": [
      "GBR - Train score: 9.5515 | Validation score: 11.0374\n",
      "\n",
      "Validation year 2020\n"
     ]
    },
    {
     "name": "stderr",
     "output_type": "stream",
     "text": [
      "/Users/DanPfeiffer/Documents/code/data-collector/env/lib/python3.11/site-packages/sklearn/impute/_base.py:577: UserWarning: Skipping features without any observed values: ['road_defense_total_4th_down_conversion_pcnt'\n",
      " 'offense_total_4th_down_conversion_pcnt_matchup_differential'\n",
      " 'home_defense_total_4th_down_conversion_pcnt'\n",
      " 'defense_total_4th_down_conversion_pcnt_matchup_differential']. At least one non-missing value is needed for imputation with strategy='mean'.\n",
      "  warnings.warn(\n",
      "/Users/DanPfeiffer/Documents/code/data-collector/env/lib/python3.11/site-packages/sklearn/impute/_base.py:577: UserWarning: Skipping features without any observed values: ['road_defense_total_4th_down_conversion_pcnt'\n",
      " 'offense_total_4th_down_conversion_pcnt_matchup_differential'\n",
      " 'home_defense_total_4th_down_conversion_pcnt'\n",
      " 'defense_total_4th_down_conversion_pcnt_matchup_differential']. At least one non-missing value is needed for imputation with strategy='mean'.\n",
      "  warnings.warn(\n",
      "/Users/DanPfeiffer/Documents/code/data-collector/env/lib/python3.11/site-packages/sklearn/impute/_base.py:577: UserWarning: Skipping features without any observed values: ['road_defense_total_4th_down_conversion_pcnt'\n",
      " 'offense_total_4th_down_conversion_pcnt_matchup_differential'\n",
      " 'home_defense_total_4th_down_conversion_pcnt'\n",
      " 'defense_total_4th_down_conversion_pcnt_matchup_differential']. At least one non-missing value is needed for imputation with strategy='mean'.\n",
      "  warnings.warn(\n"
     ]
    },
    {
     "name": "stdout",
     "output_type": "stream",
     "text": [
      "GBR - Train score: 9.9223 | Validation score: 10.1899\n",
      "\n",
      "Validation year 2021\n"
     ]
    },
    {
     "name": "stderr",
     "output_type": "stream",
     "text": [
      "/Users/DanPfeiffer/Documents/code/data-collector/env/lib/python3.11/site-packages/sklearn/impute/_base.py:577: UserWarning: Skipping features without any observed values: ['offense_total_4th_down_conversion_pcnt_matchup_differential'\n",
      " 'defense_total_4th_down_conversion_pcnt_matchup_differential']. At least one non-missing value is needed for imputation with strategy='mean'.\n",
      "  warnings.warn(\n",
      "/Users/DanPfeiffer/Documents/code/data-collector/env/lib/python3.11/site-packages/sklearn/impute/_base.py:577: UserWarning: Skipping features without any observed values: ['offense_total_4th_down_conversion_pcnt_matchup_differential'\n",
      " 'defense_total_4th_down_conversion_pcnt_matchup_differential']. At least one non-missing value is needed for imputation with strategy='mean'.\n",
      "  warnings.warn(\n",
      "/Users/DanPfeiffer/Documents/code/data-collector/env/lib/python3.11/site-packages/sklearn/impute/_base.py:577: UserWarning: Skipping features without any observed values: ['offense_total_4th_down_conversion_pcnt_matchup_differential'\n",
      " 'defense_total_4th_down_conversion_pcnt_matchup_differential']. At least one non-missing value is needed for imputation with strategy='mean'.\n",
      "  warnings.warn(\n"
     ]
    },
    {
     "name": "stdout",
     "output_type": "stream",
     "text": [
      "GBR - Train score: 9.2961 | Validation score: 11.2971\n",
      "\n",
      "Validation year 2022\n"
     ]
    },
    {
     "name": "stderr",
     "output_type": "stream",
     "text": [
      "/Users/DanPfeiffer/Documents/code/data-collector/env/lib/python3.11/site-packages/sklearn/impute/_base.py:577: UserWarning: Skipping features without any observed values: ['offense_total_4th_down_conversion_pcnt_matchup_differential'\n",
      " 'defense_total_4th_down_conversion_pcnt_matchup_differential']. At least one non-missing value is needed for imputation with strategy='mean'.\n",
      "  warnings.warn(\n",
      "/Users/DanPfeiffer/Documents/code/data-collector/env/lib/python3.11/site-packages/sklearn/impute/_base.py:577: UserWarning: Skipping features without any observed values: ['offense_total_4th_down_conversion_pcnt_matchup_differential'\n",
      " 'defense_total_4th_down_conversion_pcnt_matchup_differential']. At least one non-missing value is needed for imputation with strategy='mean'.\n",
      "  warnings.warn(\n",
      "/Users/DanPfeiffer/Documents/code/data-collector/env/lib/python3.11/site-packages/sklearn/impute/_base.py:577: UserWarning: Skipping features without any observed values: ['offense_total_4th_down_conversion_pcnt_matchup_differential'\n",
      " 'defense_total_4th_down_conversion_pcnt_matchup_differential']. At least one non-missing value is needed for imputation with strategy='mean'.\n",
      "  warnings.warn(\n"
     ]
    },
    {
     "name": "stdout",
     "output_type": "stream",
     "text": [
      "GBR - Train score: 9.4577 | Validation score: 9.2783\n",
      "\n",
      "Training 16_games_exp_weighted_mean_decay0.7199999999999998 with GBR\n"
     ]
    },
    {
     "name": "stderr",
     "output_type": "stream",
     "text": [
      "/var/folders/h1/1n1src7x64q_jwgsr43hmkxm0000gq/T/ipykernel_59208/2010834509.py:83: DtypeWarning: Columns (20,46,63) have mixed types. Specify dtype option on import or set low_memory=False.\n",
      "  training_df = pd.read_csv(f\"../data/transformed/{file_name}\")\n"
     ]
    },
    {
     "name": "stdout",
     "output_type": "stream",
     "text": [
      "Validation year 2013\n"
     ]
    },
    {
     "name": "stderr",
     "output_type": "stream",
     "text": [
      "/Users/DanPfeiffer/Documents/code/data-collector/env/lib/python3.11/site-packages/sklearn/impute/_base.py:577: UserWarning: Skipping features without any observed values: ['offense_total_4th_down_conversion_pcnt_matchup_differential'\n",
      " 'defense_total_4th_down_conversion_pcnt_matchup_differential']. At least one non-missing value is needed for imputation with strategy='mean'.\n",
      "  warnings.warn(\n",
      "/Users/DanPfeiffer/Documents/code/data-collector/env/lib/python3.11/site-packages/sklearn/impute/_base.py:577: UserWarning: Skipping features without any observed values: ['offense_total_4th_down_conversion_pcnt_matchup_differential'\n",
      " 'defense_total_4th_down_conversion_pcnt_matchup_differential']. At least one non-missing value is needed for imputation with strategy='mean'.\n",
      "  warnings.warn(\n",
      "/Users/DanPfeiffer/Documents/code/data-collector/env/lib/python3.11/site-packages/sklearn/impute/_base.py:577: UserWarning: Skipping features without any observed values: ['offense_total_4th_down_conversion_pcnt_matchup_differential'\n",
      " 'defense_total_4th_down_conversion_pcnt_matchup_differential']. At least one non-missing value is needed for imputation with strategy='mean'.\n",
      "  warnings.warn(\n"
     ]
    },
    {
     "name": "stdout",
     "output_type": "stream",
     "text": [
      "GBR - Train score: 9.4393 | Validation score: 10.2894\n",
      "\n",
      "Validation year 2014\n"
     ]
    },
    {
     "name": "stderr",
     "output_type": "stream",
     "text": [
      "/Users/DanPfeiffer/Documents/code/data-collector/env/lib/python3.11/site-packages/sklearn/impute/_base.py:577: UserWarning: Skipping features without any observed values: ['offense_total_4th_down_conversion_pcnt_matchup_differential'\n",
      " 'defense_total_4th_down_conversion_pcnt_matchup_differential']. At least one non-missing value is needed for imputation with strategy='mean'.\n",
      "  warnings.warn(\n",
      "/Users/DanPfeiffer/Documents/code/data-collector/env/lib/python3.11/site-packages/sklearn/impute/_base.py:577: UserWarning: Skipping features without any observed values: ['offense_total_4th_down_conversion_pcnt_matchup_differential'\n",
      " 'defense_total_4th_down_conversion_pcnt_matchup_differential']. At least one non-missing value is needed for imputation with strategy='mean'.\n",
      "  warnings.warn(\n",
      "/Users/DanPfeiffer/Documents/code/data-collector/env/lib/python3.11/site-packages/sklearn/impute/_base.py:577: UserWarning: Skipping features without any observed values: ['offense_total_4th_down_conversion_pcnt_matchup_differential'\n",
      " 'defense_total_4th_down_conversion_pcnt_matchup_differential']. At least one non-missing value is needed for imputation with strategy='mean'.\n",
      "  warnings.warn(\n"
     ]
    },
    {
     "name": "stdout",
     "output_type": "stream",
     "text": [
      "GBR - Train score: 9.8495 | Validation score: 11.4078\n",
      "\n",
      "Validation year 2015\n"
     ]
    },
    {
     "name": "stderr",
     "output_type": "stream",
     "text": [
      "/Users/DanPfeiffer/Documents/code/data-collector/env/lib/python3.11/site-packages/sklearn/impute/_base.py:577: UserWarning: Skipping features without any observed values: ['offense_total_4th_down_conversion_pcnt_matchup_differential'\n",
      " 'defense_total_4th_down_conversion_pcnt_matchup_differential']. At least one non-missing value is needed for imputation with strategy='mean'.\n",
      "  warnings.warn(\n",
      "/Users/DanPfeiffer/Documents/code/data-collector/env/lib/python3.11/site-packages/sklearn/impute/_base.py:577: UserWarning: Skipping features without any observed values: ['offense_total_4th_down_conversion_pcnt_matchup_differential'\n",
      " 'defense_total_4th_down_conversion_pcnt_matchup_differential']. At least one non-missing value is needed for imputation with strategy='mean'.\n",
      "  warnings.warn(\n",
      "/Users/DanPfeiffer/Documents/code/data-collector/env/lib/python3.11/site-packages/sklearn/impute/_base.py:577: UserWarning: Skipping features without any observed values: ['offense_total_4th_down_conversion_pcnt_matchup_differential'\n",
      " 'defense_total_4th_down_conversion_pcnt_matchup_differential']. At least one non-missing value is needed for imputation with strategy='mean'.\n",
      "  warnings.warn(\n"
     ]
    },
    {
     "name": "stdout",
     "output_type": "stream",
     "text": [
      "GBR - Train score: 10.1412 | Validation score: 10.2575\n",
      "\n",
      "Validation year 2016\n"
     ]
    },
    {
     "name": "stderr",
     "output_type": "stream",
     "text": [
      "/Users/DanPfeiffer/Documents/code/data-collector/env/lib/python3.11/site-packages/sklearn/impute/_base.py:577: UserWarning: Skipping features without any observed values: ['offense_total_4th_down_conversion_pcnt_matchup_differential'\n",
      " 'defense_total_4th_down_conversion_pcnt_matchup_differential']. At least one non-missing value is needed for imputation with strategy='mean'.\n",
      "  warnings.warn(\n",
      "/Users/DanPfeiffer/Documents/code/data-collector/env/lib/python3.11/site-packages/sklearn/impute/_base.py:577: UserWarning: Skipping features without any observed values: ['offense_total_4th_down_conversion_pcnt_matchup_differential'\n",
      " 'defense_total_4th_down_conversion_pcnt_matchup_differential']. At least one non-missing value is needed for imputation with strategy='mean'.\n",
      "  warnings.warn(\n",
      "/Users/DanPfeiffer/Documents/code/data-collector/env/lib/python3.11/site-packages/sklearn/impute/_base.py:577: UserWarning: Skipping features without any observed values: ['offense_total_4th_down_conversion_pcnt_matchup_differential'\n",
      " 'defense_total_4th_down_conversion_pcnt_matchup_differential']. At least one non-missing value is needed for imputation with strategy='mean'.\n",
      "  warnings.warn(\n"
     ]
    },
    {
     "name": "stdout",
     "output_type": "stream",
     "text": [
      "GBR - Train score: 9.9411 | Validation score: 9.3954\n",
      "\n",
      "Validation year 2017\n"
     ]
    },
    {
     "name": "stderr",
     "output_type": "stream",
     "text": [
      "/Users/DanPfeiffer/Documents/code/data-collector/env/lib/python3.11/site-packages/sklearn/impute/_base.py:577: UserWarning: Skipping features without any observed values: ['road_defense_total_4th_down_conversion_pcnt'\n",
      " 'offense_total_4th_down_conversion_pcnt_matchup_differential'\n",
      " 'home_defense_total_4th_down_conversion_pcnt'\n",
      " 'defense_total_4th_down_conversion_pcnt_matchup_differential']. At least one non-missing value is needed for imputation with strategy='mean'.\n",
      "  warnings.warn(\n",
      "/Users/DanPfeiffer/Documents/code/data-collector/env/lib/python3.11/site-packages/sklearn/impute/_base.py:577: UserWarning: Skipping features without any observed values: ['road_defense_total_4th_down_conversion_pcnt'\n",
      " 'offense_total_4th_down_conversion_pcnt_matchup_differential'\n",
      " 'home_defense_total_4th_down_conversion_pcnt'\n",
      " 'defense_total_4th_down_conversion_pcnt_matchup_differential']. At least one non-missing value is needed for imputation with strategy='mean'.\n",
      "  warnings.warn(\n",
      "/Users/DanPfeiffer/Documents/code/data-collector/env/lib/python3.11/site-packages/sklearn/impute/_base.py:577: UserWarning: Skipping features without any observed values: ['road_defense_total_4th_down_conversion_pcnt'\n",
      " 'offense_total_4th_down_conversion_pcnt_matchup_differential'\n",
      " 'home_defense_total_4th_down_conversion_pcnt'\n",
      " 'defense_total_4th_down_conversion_pcnt_matchup_differential']. At least one non-missing value is needed for imputation with strategy='mean'.\n",
      "  warnings.warn(\n"
     ]
    },
    {
     "name": "stdout",
     "output_type": "stream",
     "text": [
      "GBR - Train score: 9.6877 | Validation score: 11.0082\n",
      "\n",
      "Validation year 2018\n"
     ]
    },
    {
     "name": "stderr",
     "output_type": "stream",
     "text": [
      "/Users/DanPfeiffer/Documents/code/data-collector/env/lib/python3.11/site-packages/sklearn/impute/_base.py:577: UserWarning: Skipping features without any observed values: ['road_defense_total_4th_down_conversion_pcnt'\n",
      " 'offense_total_4th_down_conversion_pcnt_matchup_differential'\n",
      " 'home_defense_total_4th_down_conversion_pcnt'\n",
      " 'defense_total_4th_down_conversion_pcnt_matchup_differential']. At least one non-missing value is needed for imputation with strategy='mean'.\n",
      "  warnings.warn(\n",
      "/Users/DanPfeiffer/Documents/code/data-collector/env/lib/python3.11/site-packages/sklearn/impute/_base.py:577: UserWarning: Skipping features without any observed values: ['road_defense_total_4th_down_conversion_pcnt'\n",
      " 'offense_total_4th_down_conversion_pcnt_matchup_differential'\n",
      " 'home_defense_total_4th_down_conversion_pcnt'\n",
      " 'defense_total_4th_down_conversion_pcnt_matchup_differential']. At least one non-missing value is needed for imputation with strategy='mean'.\n",
      "  warnings.warn(\n",
      "/Users/DanPfeiffer/Documents/code/data-collector/env/lib/python3.11/site-packages/sklearn/impute/_base.py:577: UserWarning: Skipping features without any observed values: ['road_defense_total_4th_down_conversion_pcnt'\n",
      " 'offense_total_4th_down_conversion_pcnt_matchup_differential'\n",
      " 'home_defense_total_4th_down_conversion_pcnt'\n",
      " 'defense_total_4th_down_conversion_pcnt_matchup_differential']. At least one non-missing value is needed for imputation with strategy='mean'.\n",
      "  warnings.warn(\n"
     ]
    },
    {
     "name": "stdout",
     "output_type": "stream",
     "text": [
      "GBR - Train score: 9.4232 | Validation score: 10.1314\n",
      "\n",
      "Validation year 2019\n"
     ]
    },
    {
     "name": "stderr",
     "output_type": "stream",
     "text": [
      "/Users/DanPfeiffer/Documents/code/data-collector/env/lib/python3.11/site-packages/sklearn/impute/_base.py:577: UserWarning: Skipping features without any observed values: ['road_defense_total_4th_down_conversion_pcnt'\n",
      " 'offense_total_4th_down_conversion_pcnt_matchup_differential'\n",
      " 'home_defense_total_4th_down_conversion_pcnt'\n",
      " 'defense_total_4th_down_conversion_pcnt_matchup_differential']. At least one non-missing value is needed for imputation with strategy='mean'.\n",
      "  warnings.warn(\n",
      "/Users/DanPfeiffer/Documents/code/data-collector/env/lib/python3.11/site-packages/sklearn/impute/_base.py:577: UserWarning: Skipping features without any observed values: ['road_defense_total_4th_down_conversion_pcnt'\n",
      " 'offense_total_4th_down_conversion_pcnt_matchup_differential'\n",
      " 'home_defense_total_4th_down_conversion_pcnt'\n",
      " 'defense_total_4th_down_conversion_pcnt_matchup_differential']. At least one non-missing value is needed for imputation with strategy='mean'.\n",
      "  warnings.warn(\n",
      "/Users/DanPfeiffer/Documents/code/data-collector/env/lib/python3.11/site-packages/sklearn/impute/_base.py:577: UserWarning: Skipping features without any observed values: ['road_defense_total_4th_down_conversion_pcnt'\n",
      " 'offense_total_4th_down_conversion_pcnt_matchup_differential'\n",
      " 'home_defense_total_4th_down_conversion_pcnt'\n",
      " 'defense_total_4th_down_conversion_pcnt_matchup_differential']. At least one non-missing value is needed for imputation with strategy='mean'.\n",
      "  warnings.warn(\n"
     ]
    },
    {
     "name": "stdout",
     "output_type": "stream",
     "text": [
      "GBR - Train score: 9.2337 | Validation score: 10.8938\n",
      "\n",
      "Validation year 2020\n"
     ]
    },
    {
     "name": "stderr",
     "output_type": "stream",
     "text": [
      "/Users/DanPfeiffer/Documents/code/data-collector/env/lib/python3.11/site-packages/sklearn/impute/_base.py:577: UserWarning: Skipping features without any observed values: ['road_defense_total_4th_down_conversion_pcnt'\n",
      " 'offense_total_4th_down_conversion_pcnt_matchup_differential'\n",
      " 'home_defense_total_4th_down_conversion_pcnt'\n",
      " 'defense_total_4th_down_conversion_pcnt_matchup_differential']. At least one non-missing value is needed for imputation with strategy='mean'.\n",
      "  warnings.warn(\n",
      "/Users/DanPfeiffer/Documents/code/data-collector/env/lib/python3.11/site-packages/sklearn/impute/_base.py:577: UserWarning: Skipping features without any observed values: ['road_defense_total_4th_down_conversion_pcnt'\n",
      " 'offense_total_4th_down_conversion_pcnt_matchup_differential'\n",
      " 'home_defense_total_4th_down_conversion_pcnt'\n",
      " 'defense_total_4th_down_conversion_pcnt_matchup_differential']. At least one non-missing value is needed for imputation with strategy='mean'.\n",
      "  warnings.warn(\n",
      "/Users/DanPfeiffer/Documents/code/data-collector/env/lib/python3.11/site-packages/sklearn/impute/_base.py:577: UserWarning: Skipping features without any observed values: ['road_defense_total_4th_down_conversion_pcnt'\n",
      " 'offense_total_4th_down_conversion_pcnt_matchup_differential'\n",
      " 'home_defense_total_4th_down_conversion_pcnt'\n",
      " 'defense_total_4th_down_conversion_pcnt_matchup_differential']. At least one non-missing value is needed for imputation with strategy='mean'.\n",
      "  warnings.warn(\n"
     ]
    },
    {
     "name": "stdout",
     "output_type": "stream",
     "text": [
      "GBR - Train score: 9.1694 | Validation score: 9.9510\n",
      "\n",
      "Validation year 2021\n"
     ]
    },
    {
     "name": "stderr",
     "output_type": "stream",
     "text": [
      "/Users/DanPfeiffer/Documents/code/data-collector/env/lib/python3.11/site-packages/sklearn/impute/_base.py:577: UserWarning: Skipping features without any observed values: ['offense_total_4th_down_conversion_pcnt_matchup_differential'\n",
      " 'defense_total_4th_down_conversion_pcnt_matchup_differential']. At least one non-missing value is needed for imputation with strategy='mean'.\n",
      "  warnings.warn(\n",
      "/Users/DanPfeiffer/Documents/code/data-collector/env/lib/python3.11/site-packages/sklearn/impute/_base.py:577: UserWarning: Skipping features without any observed values: ['offense_total_4th_down_conversion_pcnt_matchup_differential'\n",
      " 'defense_total_4th_down_conversion_pcnt_matchup_differential']. At least one non-missing value is needed for imputation with strategy='mean'.\n",
      "  warnings.warn(\n",
      "/Users/DanPfeiffer/Documents/code/data-collector/env/lib/python3.11/site-packages/sklearn/impute/_base.py:577: UserWarning: Skipping features without any observed values: ['offense_total_4th_down_conversion_pcnt_matchup_differential'\n",
      " 'defense_total_4th_down_conversion_pcnt_matchup_differential']. At least one non-missing value is needed for imputation with strategy='mean'.\n",
      "  warnings.warn(\n"
     ]
    },
    {
     "name": "stdout",
     "output_type": "stream",
     "text": [
      "GBR - Train score: 8.9504 | Validation score: 11.1777\n",
      "\n",
      "Validation year 2022\n"
     ]
    },
    {
     "name": "stderr",
     "output_type": "stream",
     "text": [
      "/Users/DanPfeiffer/Documents/code/data-collector/env/lib/python3.11/site-packages/sklearn/impute/_base.py:577: UserWarning: Skipping features without any observed values: ['offense_total_4th_down_conversion_pcnt_matchup_differential'\n",
      " 'defense_total_4th_down_conversion_pcnt_matchup_differential']. At least one non-missing value is needed for imputation with strategy='mean'.\n",
      "  warnings.warn(\n",
      "/Users/DanPfeiffer/Documents/code/data-collector/env/lib/python3.11/site-packages/sklearn/impute/_base.py:577: UserWarning: Skipping features without any observed values: ['offense_total_4th_down_conversion_pcnt_matchup_differential'\n",
      " 'defense_total_4th_down_conversion_pcnt_matchup_differential']. At least one non-missing value is needed for imputation with strategy='mean'.\n",
      "  warnings.warn(\n",
      "/Users/DanPfeiffer/Documents/code/data-collector/env/lib/python3.11/site-packages/sklearn/impute/_base.py:577: UserWarning: Skipping features without any observed values: ['offense_total_4th_down_conversion_pcnt_matchup_differential'\n",
      " 'defense_total_4th_down_conversion_pcnt_matchup_differential']. At least one non-missing value is needed for imputation with strategy='mean'.\n",
      "  warnings.warn(\n"
     ]
    },
    {
     "name": "stdout",
     "output_type": "stream",
     "text": [
      "GBR - Train score: 9.3993 | Validation score: 9.3186\n",
      "\n",
      "Training 16_games_exp_weighted_mean_decay0.7399999999999999 with GBR\n"
     ]
    },
    {
     "name": "stderr",
     "output_type": "stream",
     "text": [
      "/var/folders/h1/1n1src7x64q_jwgsr43hmkxm0000gq/T/ipykernel_59208/2010834509.py:83: DtypeWarning: Columns (20,46,63) have mixed types. Specify dtype option on import or set low_memory=False.\n",
      "  training_df = pd.read_csv(f\"../data/transformed/{file_name}\")\n"
     ]
    },
    {
     "name": "stdout",
     "output_type": "stream",
     "text": [
      "Validation year 2013\n"
     ]
    },
    {
     "name": "stderr",
     "output_type": "stream",
     "text": [
      "/Users/DanPfeiffer/Documents/code/data-collector/env/lib/python3.11/site-packages/sklearn/impute/_base.py:577: UserWarning: Skipping features without any observed values: ['offense_total_4th_down_conversion_pcnt_matchup_differential'\n",
      " 'defense_total_4th_down_conversion_pcnt_matchup_differential']. At least one non-missing value is needed for imputation with strategy='mean'.\n",
      "  warnings.warn(\n",
      "/Users/DanPfeiffer/Documents/code/data-collector/env/lib/python3.11/site-packages/sklearn/impute/_base.py:577: UserWarning: Skipping features without any observed values: ['offense_total_4th_down_conversion_pcnt_matchup_differential'\n",
      " 'defense_total_4th_down_conversion_pcnt_matchup_differential']. At least one non-missing value is needed for imputation with strategy='mean'.\n",
      "  warnings.warn(\n",
      "/Users/DanPfeiffer/Documents/code/data-collector/env/lib/python3.11/site-packages/sklearn/impute/_base.py:577: UserWarning: Skipping features without any observed values: ['offense_total_4th_down_conversion_pcnt_matchup_differential'\n",
      " 'defense_total_4th_down_conversion_pcnt_matchup_differential']. At least one non-missing value is needed for imputation with strategy='mean'.\n",
      "  warnings.warn(\n"
     ]
    },
    {
     "name": "stdout",
     "output_type": "stream",
     "text": [
      "GBR - Train score: 9.9303 | Validation score: 10.2477\n",
      "\n",
      "Validation year 2014\n"
     ]
    },
    {
     "name": "stderr",
     "output_type": "stream",
     "text": [
      "/Users/DanPfeiffer/Documents/code/data-collector/env/lib/python3.11/site-packages/sklearn/impute/_base.py:577: UserWarning: Skipping features without any observed values: ['offense_total_4th_down_conversion_pcnt_matchup_differential'\n",
      " 'defense_total_4th_down_conversion_pcnt_matchup_differential']. At least one non-missing value is needed for imputation with strategy='mean'.\n",
      "  warnings.warn(\n",
      "/Users/DanPfeiffer/Documents/code/data-collector/env/lib/python3.11/site-packages/sklearn/impute/_base.py:577: UserWarning: Skipping features without any observed values: ['offense_total_4th_down_conversion_pcnt_matchup_differential'\n",
      " 'defense_total_4th_down_conversion_pcnt_matchup_differential']. At least one non-missing value is needed for imputation with strategy='mean'.\n",
      "  warnings.warn(\n",
      "/Users/DanPfeiffer/Documents/code/data-collector/env/lib/python3.11/site-packages/sklearn/impute/_base.py:577: UserWarning: Skipping features without any observed values: ['offense_total_4th_down_conversion_pcnt_matchup_differential'\n",
      " 'defense_total_4th_down_conversion_pcnt_matchup_differential']. At least one non-missing value is needed for imputation with strategy='mean'.\n",
      "  warnings.warn(\n"
     ]
    },
    {
     "name": "stdout",
     "output_type": "stream",
     "text": [
      "GBR - Train score: 9.7174 | Validation score: 11.3428\n",
      "\n",
      "Validation year 2015\n"
     ]
    },
    {
     "name": "stderr",
     "output_type": "stream",
     "text": [
      "/Users/DanPfeiffer/Documents/code/data-collector/env/lib/python3.11/site-packages/sklearn/impute/_base.py:577: UserWarning: Skipping features without any observed values: ['offense_total_4th_down_conversion_pcnt_matchup_differential'\n",
      " 'defense_total_4th_down_conversion_pcnt_matchup_differential']. At least one non-missing value is needed for imputation with strategy='mean'.\n",
      "  warnings.warn(\n",
      "/Users/DanPfeiffer/Documents/code/data-collector/env/lib/python3.11/site-packages/sklearn/impute/_base.py:577: UserWarning: Skipping features without any observed values: ['offense_total_4th_down_conversion_pcnt_matchup_differential'\n",
      " 'defense_total_4th_down_conversion_pcnt_matchup_differential']. At least one non-missing value is needed for imputation with strategy='mean'.\n",
      "  warnings.warn(\n",
      "/Users/DanPfeiffer/Documents/code/data-collector/env/lib/python3.11/site-packages/sklearn/impute/_base.py:577: UserWarning: Skipping features without any observed values: ['offense_total_4th_down_conversion_pcnt_matchup_differential'\n",
      " 'defense_total_4th_down_conversion_pcnt_matchup_differential']. At least one non-missing value is needed for imputation with strategy='mean'.\n",
      "  warnings.warn(\n"
     ]
    },
    {
     "name": "stdout",
     "output_type": "stream",
     "text": [
      "GBR - Train score: 10.0676 | Validation score: 10.3474\n",
      "\n",
      "Validation year 2016\n"
     ]
    },
    {
     "name": "stderr",
     "output_type": "stream",
     "text": [
      "/Users/DanPfeiffer/Documents/code/data-collector/env/lib/python3.11/site-packages/sklearn/impute/_base.py:577: UserWarning: Skipping features without any observed values: ['offense_total_4th_down_conversion_pcnt_matchup_differential'\n",
      " 'defense_total_4th_down_conversion_pcnt_matchup_differential']. At least one non-missing value is needed for imputation with strategy='mean'.\n",
      "  warnings.warn(\n",
      "/Users/DanPfeiffer/Documents/code/data-collector/env/lib/python3.11/site-packages/sklearn/impute/_base.py:577: UserWarning: Skipping features without any observed values: ['offense_total_4th_down_conversion_pcnt_matchup_differential'\n",
      " 'defense_total_4th_down_conversion_pcnt_matchup_differential']. At least one non-missing value is needed for imputation with strategy='mean'.\n",
      "  warnings.warn(\n",
      "/Users/DanPfeiffer/Documents/code/data-collector/env/lib/python3.11/site-packages/sklearn/impute/_base.py:577: UserWarning: Skipping features without any observed values: ['offense_total_4th_down_conversion_pcnt_matchup_differential'\n",
      " 'defense_total_4th_down_conversion_pcnt_matchup_differential']. At least one non-missing value is needed for imputation with strategy='mean'.\n",
      "  warnings.warn(\n"
     ]
    },
    {
     "name": "stdout",
     "output_type": "stream",
     "text": [
      "GBR - Train score: 9.9742 | Validation score: 9.4525\n",
      "\n",
      "Validation year 2017\n"
     ]
    },
    {
     "name": "stderr",
     "output_type": "stream",
     "text": [
      "/Users/DanPfeiffer/Documents/code/data-collector/env/lib/python3.11/site-packages/sklearn/impute/_base.py:577: UserWarning: Skipping features without any observed values: ['road_defense_total_4th_down_conversion_pcnt'\n",
      " 'offense_total_4th_down_conversion_pcnt_matchup_differential'\n",
      " 'home_defense_total_4th_down_conversion_pcnt'\n",
      " 'defense_total_4th_down_conversion_pcnt_matchup_differential']. At least one non-missing value is needed for imputation with strategy='mean'.\n",
      "  warnings.warn(\n",
      "/Users/DanPfeiffer/Documents/code/data-collector/env/lib/python3.11/site-packages/sklearn/impute/_base.py:577: UserWarning: Skipping features without any observed values: ['road_defense_total_4th_down_conversion_pcnt'\n",
      " 'offense_total_4th_down_conversion_pcnt_matchup_differential'\n",
      " 'home_defense_total_4th_down_conversion_pcnt'\n",
      " 'defense_total_4th_down_conversion_pcnt_matchup_differential']. At least one non-missing value is needed for imputation with strategy='mean'.\n",
      "  warnings.warn(\n",
      "/Users/DanPfeiffer/Documents/code/data-collector/env/lib/python3.11/site-packages/sklearn/impute/_base.py:577: UserWarning: Skipping features without any observed values: ['road_defense_total_4th_down_conversion_pcnt'\n",
      " 'offense_total_4th_down_conversion_pcnt_matchup_differential'\n",
      " 'home_defense_total_4th_down_conversion_pcnt'\n",
      " 'defense_total_4th_down_conversion_pcnt_matchup_differential']. At least one non-missing value is needed for imputation with strategy='mean'.\n",
      "  warnings.warn(\n"
     ]
    },
    {
     "name": "stdout",
     "output_type": "stream",
     "text": [
      "GBR - Train score: 10.0682 | Validation score: 10.8881\n",
      "\n",
      "Validation year 2018\n"
     ]
    },
    {
     "name": "stderr",
     "output_type": "stream",
     "text": [
      "/Users/DanPfeiffer/Documents/code/data-collector/env/lib/python3.11/site-packages/sklearn/impute/_base.py:577: UserWarning: Skipping features without any observed values: ['road_defense_total_4th_down_conversion_pcnt'\n",
      " 'offense_total_4th_down_conversion_pcnt_matchup_differential'\n",
      " 'home_defense_total_4th_down_conversion_pcnt'\n",
      " 'defense_total_4th_down_conversion_pcnt_matchup_differential']. At least one non-missing value is needed for imputation with strategy='mean'.\n",
      "  warnings.warn(\n",
      "/Users/DanPfeiffer/Documents/code/data-collector/env/lib/python3.11/site-packages/sklearn/impute/_base.py:577: UserWarning: Skipping features without any observed values: ['road_defense_total_4th_down_conversion_pcnt'\n",
      " 'offense_total_4th_down_conversion_pcnt_matchup_differential'\n",
      " 'home_defense_total_4th_down_conversion_pcnt'\n",
      " 'defense_total_4th_down_conversion_pcnt_matchup_differential']. At least one non-missing value is needed for imputation with strategy='mean'.\n",
      "  warnings.warn(\n",
      "/Users/DanPfeiffer/Documents/code/data-collector/env/lib/python3.11/site-packages/sklearn/impute/_base.py:577: UserWarning: Skipping features without any observed values: ['road_defense_total_4th_down_conversion_pcnt'\n",
      " 'offense_total_4th_down_conversion_pcnt_matchup_differential'\n",
      " 'home_defense_total_4th_down_conversion_pcnt'\n",
      " 'defense_total_4th_down_conversion_pcnt_matchup_differential']. At least one non-missing value is needed for imputation with strategy='mean'.\n",
      "  warnings.warn(\n"
     ]
    },
    {
     "name": "stdout",
     "output_type": "stream",
     "text": [
      "GBR - Train score: 9.8856 | Validation score: 9.9406\n",
      "\n",
      "Validation year 2019\n"
     ]
    },
    {
     "name": "stderr",
     "output_type": "stream",
     "text": [
      "/Users/DanPfeiffer/Documents/code/data-collector/env/lib/python3.11/site-packages/sklearn/impute/_base.py:577: UserWarning: Skipping features without any observed values: ['road_defense_total_4th_down_conversion_pcnt'\n",
      " 'offense_total_4th_down_conversion_pcnt_matchup_differential'\n",
      " 'home_defense_total_4th_down_conversion_pcnt'\n",
      " 'defense_total_4th_down_conversion_pcnt_matchup_differential']. At least one non-missing value is needed for imputation with strategy='mean'.\n",
      "  warnings.warn(\n",
      "/Users/DanPfeiffer/Documents/code/data-collector/env/lib/python3.11/site-packages/sklearn/impute/_base.py:577: UserWarning: Skipping features without any observed values: ['road_defense_total_4th_down_conversion_pcnt'\n",
      " 'offense_total_4th_down_conversion_pcnt_matchup_differential'\n",
      " 'home_defense_total_4th_down_conversion_pcnt'\n",
      " 'defense_total_4th_down_conversion_pcnt_matchup_differential']. At least one non-missing value is needed for imputation with strategy='mean'.\n",
      "  warnings.warn(\n",
      "/Users/DanPfeiffer/Documents/code/data-collector/env/lib/python3.11/site-packages/sklearn/impute/_base.py:577: UserWarning: Skipping features without any observed values: ['road_defense_total_4th_down_conversion_pcnt'\n",
      " 'offense_total_4th_down_conversion_pcnt_matchup_differential'\n",
      " 'home_defense_total_4th_down_conversion_pcnt'\n",
      " 'defense_total_4th_down_conversion_pcnt_matchup_differential']. At least one non-missing value is needed for imputation with strategy='mean'.\n",
      "  warnings.warn(\n"
     ]
    },
    {
     "name": "stdout",
     "output_type": "stream",
     "text": [
      "GBR - Train score: 9.2028 | Validation score: 10.7393\n",
      "\n",
      "Validation year 2020\n"
     ]
    },
    {
     "name": "stderr",
     "output_type": "stream",
     "text": [
      "/Users/DanPfeiffer/Documents/code/data-collector/env/lib/python3.11/site-packages/sklearn/impute/_base.py:577: UserWarning: Skipping features without any observed values: ['road_defense_total_4th_down_conversion_pcnt'\n",
      " 'offense_total_4th_down_conversion_pcnt_matchup_differential'\n",
      " 'home_defense_total_4th_down_conversion_pcnt'\n",
      " 'defense_total_4th_down_conversion_pcnt_matchup_differential']. At least one non-missing value is needed for imputation with strategy='mean'.\n",
      "  warnings.warn(\n",
      "/Users/DanPfeiffer/Documents/code/data-collector/env/lib/python3.11/site-packages/sklearn/impute/_base.py:577: UserWarning: Skipping features without any observed values: ['road_defense_total_4th_down_conversion_pcnt'\n",
      " 'offense_total_4th_down_conversion_pcnt_matchup_differential'\n",
      " 'home_defense_total_4th_down_conversion_pcnt'\n",
      " 'defense_total_4th_down_conversion_pcnt_matchup_differential']. At least one non-missing value is needed for imputation with strategy='mean'.\n",
      "  warnings.warn(\n",
      "/Users/DanPfeiffer/Documents/code/data-collector/env/lib/python3.11/site-packages/sklearn/impute/_base.py:577: UserWarning: Skipping features without any observed values: ['road_defense_total_4th_down_conversion_pcnt'\n",
      " 'offense_total_4th_down_conversion_pcnt_matchup_differential'\n",
      " 'home_defense_total_4th_down_conversion_pcnt'\n",
      " 'defense_total_4th_down_conversion_pcnt_matchup_differential']. At least one non-missing value is needed for imputation with strategy='mean'.\n",
      "  warnings.warn(\n"
     ]
    },
    {
     "name": "stdout",
     "output_type": "stream",
     "text": [
      "GBR - Train score: 9.7740 | Validation score: 10.1726\n",
      "\n",
      "Validation year 2021\n"
     ]
    },
    {
     "name": "stderr",
     "output_type": "stream",
     "text": [
      "/Users/DanPfeiffer/Documents/code/data-collector/env/lib/python3.11/site-packages/sklearn/impute/_base.py:577: UserWarning: Skipping features without any observed values: ['offense_total_4th_down_conversion_pcnt_matchup_differential'\n",
      " 'defense_total_4th_down_conversion_pcnt_matchup_differential']. At least one non-missing value is needed for imputation with strategy='mean'.\n",
      "  warnings.warn(\n",
      "/Users/DanPfeiffer/Documents/code/data-collector/env/lib/python3.11/site-packages/sklearn/impute/_base.py:577: UserWarning: Skipping features without any observed values: ['offense_total_4th_down_conversion_pcnt_matchup_differential'\n",
      " 'defense_total_4th_down_conversion_pcnt_matchup_differential']. At least one non-missing value is needed for imputation with strategy='mean'.\n",
      "  warnings.warn(\n",
      "/Users/DanPfeiffer/Documents/code/data-collector/env/lib/python3.11/site-packages/sklearn/impute/_base.py:577: UserWarning: Skipping features without any observed values: ['offense_total_4th_down_conversion_pcnt_matchup_differential'\n",
      " 'defense_total_4th_down_conversion_pcnt_matchup_differential']. At least one non-missing value is needed for imputation with strategy='mean'.\n",
      "  warnings.warn(\n"
     ]
    },
    {
     "name": "stdout",
     "output_type": "stream",
     "text": [
      "GBR - Train score: 8.2329 | Validation score: 11.2962\n",
      "\n",
      "Validation year 2022\n"
     ]
    },
    {
     "name": "stderr",
     "output_type": "stream",
     "text": [
      "/Users/DanPfeiffer/Documents/code/data-collector/env/lib/python3.11/site-packages/sklearn/impute/_base.py:577: UserWarning: Skipping features without any observed values: ['offense_total_4th_down_conversion_pcnt_matchup_differential'\n",
      " 'defense_total_4th_down_conversion_pcnt_matchup_differential']. At least one non-missing value is needed for imputation with strategy='mean'.\n",
      "  warnings.warn(\n",
      "/Users/DanPfeiffer/Documents/code/data-collector/env/lib/python3.11/site-packages/sklearn/impute/_base.py:577: UserWarning: Skipping features without any observed values: ['offense_total_4th_down_conversion_pcnt_matchup_differential'\n",
      " 'defense_total_4th_down_conversion_pcnt_matchup_differential']. At least one non-missing value is needed for imputation with strategy='mean'.\n",
      "  warnings.warn(\n",
      "/Users/DanPfeiffer/Documents/code/data-collector/env/lib/python3.11/site-packages/sklearn/impute/_base.py:577: UserWarning: Skipping features without any observed values: ['offense_total_4th_down_conversion_pcnt_matchup_differential'\n",
      " 'defense_total_4th_down_conversion_pcnt_matchup_differential']. At least one non-missing value is needed for imputation with strategy='mean'.\n",
      "  warnings.warn(\n"
     ]
    },
    {
     "name": "stdout",
     "output_type": "stream",
     "text": [
      "GBR - Train score: 9.4379 | Validation score: 9.2823\n",
      "\n",
      "Training 16_games_exp_weighted_mean_decay0.7599999999999999 with GBR\n"
     ]
    },
    {
     "name": "stderr",
     "output_type": "stream",
     "text": [
      "/var/folders/h1/1n1src7x64q_jwgsr43hmkxm0000gq/T/ipykernel_59208/2010834509.py:83: DtypeWarning: Columns (20,46,63) have mixed types. Specify dtype option on import or set low_memory=False.\n",
      "  training_df = pd.read_csv(f\"../data/transformed/{file_name}\")\n"
     ]
    },
    {
     "name": "stdout",
     "output_type": "stream",
     "text": [
      "Validation year 2013\n"
     ]
    },
    {
     "name": "stderr",
     "output_type": "stream",
     "text": [
      "/Users/DanPfeiffer/Documents/code/data-collector/env/lib/python3.11/site-packages/sklearn/impute/_base.py:577: UserWarning: Skipping features without any observed values: ['offense_total_4th_down_conversion_pcnt_matchup_differential'\n",
      " 'defense_total_4th_down_conversion_pcnt_matchup_differential']. At least one non-missing value is needed for imputation with strategy='mean'.\n",
      "  warnings.warn(\n",
      "/Users/DanPfeiffer/Documents/code/data-collector/env/lib/python3.11/site-packages/sklearn/impute/_base.py:577: UserWarning: Skipping features without any observed values: ['offense_total_4th_down_conversion_pcnt_matchup_differential'\n",
      " 'defense_total_4th_down_conversion_pcnt_matchup_differential']. At least one non-missing value is needed for imputation with strategy='mean'.\n",
      "  warnings.warn(\n",
      "/Users/DanPfeiffer/Documents/code/data-collector/env/lib/python3.11/site-packages/sklearn/impute/_base.py:577: UserWarning: Skipping features without any observed values: ['offense_total_4th_down_conversion_pcnt_matchup_differential'\n",
      " 'defense_total_4th_down_conversion_pcnt_matchup_differential']. At least one non-missing value is needed for imputation with strategy='mean'.\n",
      "  warnings.warn(\n"
     ]
    },
    {
     "name": "stdout",
     "output_type": "stream",
     "text": [
      "GBR - Train score: 10.1056 | Validation score: 10.3177\n",
      "\n",
      "Validation year 2014\n"
     ]
    },
    {
     "name": "stderr",
     "output_type": "stream",
     "text": [
      "/Users/DanPfeiffer/Documents/code/data-collector/env/lib/python3.11/site-packages/sklearn/impute/_base.py:577: UserWarning: Skipping features without any observed values: ['offense_total_4th_down_conversion_pcnt_matchup_differential'\n",
      " 'defense_total_4th_down_conversion_pcnt_matchup_differential']. At least one non-missing value is needed for imputation with strategy='mean'.\n",
      "  warnings.warn(\n",
      "/Users/DanPfeiffer/Documents/code/data-collector/env/lib/python3.11/site-packages/sklearn/impute/_base.py:577: UserWarning: Skipping features without any observed values: ['offense_total_4th_down_conversion_pcnt_matchup_differential'\n",
      " 'defense_total_4th_down_conversion_pcnt_matchup_differential']. At least one non-missing value is needed for imputation with strategy='mean'.\n",
      "  warnings.warn(\n",
      "/Users/DanPfeiffer/Documents/code/data-collector/env/lib/python3.11/site-packages/sklearn/impute/_base.py:577: UserWarning: Skipping features without any observed values: ['offense_total_4th_down_conversion_pcnt_matchup_differential'\n",
      " 'defense_total_4th_down_conversion_pcnt_matchup_differential']. At least one non-missing value is needed for imputation with strategy='mean'.\n",
      "  warnings.warn(\n"
     ]
    },
    {
     "name": "stdout",
     "output_type": "stream",
     "text": [
      "GBR - Train score: 10.1917 | Validation score: 11.1777\n",
      "\n",
      "Validation year 2015\n"
     ]
    },
    {
     "name": "stderr",
     "output_type": "stream",
     "text": [
      "/Users/DanPfeiffer/Documents/code/data-collector/env/lib/python3.11/site-packages/sklearn/impute/_base.py:577: UserWarning: Skipping features without any observed values: ['offense_total_4th_down_conversion_pcnt_matchup_differential'\n",
      " 'defense_total_4th_down_conversion_pcnt_matchup_differential']. At least one non-missing value is needed for imputation with strategy='mean'.\n",
      "  warnings.warn(\n",
      "/Users/DanPfeiffer/Documents/code/data-collector/env/lib/python3.11/site-packages/sklearn/impute/_base.py:577: UserWarning: Skipping features without any observed values: ['offense_total_4th_down_conversion_pcnt_matchup_differential'\n",
      " 'defense_total_4th_down_conversion_pcnt_matchup_differential']. At least one non-missing value is needed for imputation with strategy='mean'.\n",
      "  warnings.warn(\n",
      "/Users/DanPfeiffer/Documents/code/data-collector/env/lib/python3.11/site-packages/sklearn/impute/_base.py:577: UserWarning: Skipping features without any observed values: ['offense_total_4th_down_conversion_pcnt_matchup_differential'\n",
      " 'defense_total_4th_down_conversion_pcnt_matchup_differential']. At least one non-missing value is needed for imputation with strategy='mean'.\n",
      "  warnings.warn(\n"
     ]
    },
    {
     "name": "stdout",
     "output_type": "stream",
     "text": [
      "GBR - Train score: 9.9697 | Validation score: 10.3443\n",
      "\n",
      "Validation year 2016\n"
     ]
    },
    {
     "name": "stderr",
     "output_type": "stream",
     "text": [
      "/Users/DanPfeiffer/Documents/code/data-collector/env/lib/python3.11/site-packages/sklearn/impute/_base.py:577: UserWarning: Skipping features without any observed values: ['offense_total_4th_down_conversion_pcnt_matchup_differential'\n",
      " 'defense_total_4th_down_conversion_pcnt_matchup_differential']. At least one non-missing value is needed for imputation with strategy='mean'.\n",
      "  warnings.warn(\n",
      "/Users/DanPfeiffer/Documents/code/data-collector/env/lib/python3.11/site-packages/sklearn/impute/_base.py:577: UserWarning: Skipping features without any observed values: ['offense_total_4th_down_conversion_pcnt_matchup_differential'\n",
      " 'defense_total_4th_down_conversion_pcnt_matchup_differential']. At least one non-missing value is needed for imputation with strategy='mean'.\n",
      "  warnings.warn(\n",
      "/Users/DanPfeiffer/Documents/code/data-collector/env/lib/python3.11/site-packages/sklearn/impute/_base.py:577: UserWarning: Skipping features without any observed values: ['offense_total_4th_down_conversion_pcnt_matchup_differential'\n",
      " 'defense_total_4th_down_conversion_pcnt_matchup_differential']. At least one non-missing value is needed for imputation with strategy='mean'.\n",
      "  warnings.warn(\n"
     ]
    },
    {
     "name": "stdout",
     "output_type": "stream",
     "text": [
      "GBR - Train score: 9.9118 | Validation score: 9.4052\n",
      "\n",
      "Validation year 2017\n"
     ]
    },
    {
     "name": "stderr",
     "output_type": "stream",
     "text": [
      "/Users/DanPfeiffer/Documents/code/data-collector/env/lib/python3.11/site-packages/sklearn/impute/_base.py:577: UserWarning: Skipping features without any observed values: ['road_defense_total_4th_down_conversion_pcnt'\n",
      " 'offense_total_4th_down_conversion_pcnt_matchup_differential'\n",
      " 'home_defense_total_4th_down_conversion_pcnt'\n",
      " 'defense_total_4th_down_conversion_pcnt_matchup_differential']. At least one non-missing value is needed for imputation with strategy='mean'.\n",
      "  warnings.warn(\n",
      "/Users/DanPfeiffer/Documents/code/data-collector/env/lib/python3.11/site-packages/sklearn/impute/_base.py:577: UserWarning: Skipping features without any observed values: ['road_defense_total_4th_down_conversion_pcnt'\n",
      " 'offense_total_4th_down_conversion_pcnt_matchup_differential'\n",
      " 'home_defense_total_4th_down_conversion_pcnt'\n",
      " 'defense_total_4th_down_conversion_pcnt_matchup_differential']. At least one non-missing value is needed for imputation with strategy='mean'.\n",
      "  warnings.warn(\n",
      "/Users/DanPfeiffer/Documents/code/data-collector/env/lib/python3.11/site-packages/sklearn/impute/_base.py:577: UserWarning: Skipping features without any observed values: ['road_defense_total_4th_down_conversion_pcnt'\n",
      " 'offense_total_4th_down_conversion_pcnt_matchup_differential'\n",
      " 'home_defense_total_4th_down_conversion_pcnt'\n",
      " 'defense_total_4th_down_conversion_pcnt_matchup_differential']. At least one non-missing value is needed for imputation with strategy='mean'.\n",
      "  warnings.warn(\n"
     ]
    },
    {
     "name": "stdout",
     "output_type": "stream",
     "text": [
      "GBR - Train score: 9.6925 | Validation score: 10.9258\n",
      "\n",
      "Validation year 2018\n"
     ]
    },
    {
     "name": "stderr",
     "output_type": "stream",
     "text": [
      "/Users/DanPfeiffer/Documents/code/data-collector/env/lib/python3.11/site-packages/sklearn/impute/_base.py:577: UserWarning: Skipping features without any observed values: ['road_defense_total_4th_down_conversion_pcnt'\n",
      " 'offense_total_4th_down_conversion_pcnt_matchup_differential'\n",
      " 'home_defense_total_4th_down_conversion_pcnt'\n",
      " 'defense_total_4th_down_conversion_pcnt_matchup_differential']. At least one non-missing value is needed for imputation with strategy='mean'.\n",
      "  warnings.warn(\n",
      "/Users/DanPfeiffer/Documents/code/data-collector/env/lib/python3.11/site-packages/sklearn/impute/_base.py:577: UserWarning: Skipping features without any observed values: ['road_defense_total_4th_down_conversion_pcnt'\n",
      " 'offense_total_4th_down_conversion_pcnt_matchup_differential'\n",
      " 'home_defense_total_4th_down_conversion_pcnt'\n",
      " 'defense_total_4th_down_conversion_pcnt_matchup_differential']. At least one non-missing value is needed for imputation with strategy='mean'.\n",
      "  warnings.warn(\n",
      "/Users/DanPfeiffer/Documents/code/data-collector/env/lib/python3.11/site-packages/sklearn/impute/_base.py:577: UserWarning: Skipping features without any observed values: ['road_defense_total_4th_down_conversion_pcnt'\n",
      " 'offense_total_4th_down_conversion_pcnt_matchup_differential'\n",
      " 'home_defense_total_4th_down_conversion_pcnt'\n",
      " 'defense_total_4th_down_conversion_pcnt_matchup_differential']. At least one non-missing value is needed for imputation with strategy='mean'.\n",
      "  warnings.warn(\n"
     ]
    },
    {
     "name": "stdout",
     "output_type": "stream",
     "text": [
      "GBR - Train score: 9.5063 | Validation score: 10.0143\n",
      "\n",
      "Validation year 2019\n"
     ]
    },
    {
     "name": "stderr",
     "output_type": "stream",
     "text": [
      "/Users/DanPfeiffer/Documents/code/data-collector/env/lib/python3.11/site-packages/sklearn/impute/_base.py:577: UserWarning: Skipping features without any observed values: ['road_defense_total_4th_down_conversion_pcnt'\n",
      " 'offense_total_4th_down_conversion_pcnt_matchup_differential'\n",
      " 'home_defense_total_4th_down_conversion_pcnt'\n",
      " 'defense_total_4th_down_conversion_pcnt_matchup_differential']. At least one non-missing value is needed for imputation with strategy='mean'.\n",
      "  warnings.warn(\n",
      "/Users/DanPfeiffer/Documents/code/data-collector/env/lib/python3.11/site-packages/sklearn/impute/_base.py:577: UserWarning: Skipping features without any observed values: ['road_defense_total_4th_down_conversion_pcnt'\n",
      " 'offense_total_4th_down_conversion_pcnt_matchup_differential'\n",
      " 'home_defense_total_4th_down_conversion_pcnt'\n",
      " 'defense_total_4th_down_conversion_pcnt_matchup_differential']. At least one non-missing value is needed for imputation with strategy='mean'.\n",
      "  warnings.warn(\n",
      "/Users/DanPfeiffer/Documents/code/data-collector/env/lib/python3.11/site-packages/sklearn/impute/_base.py:577: UserWarning: Skipping features without any observed values: ['road_defense_total_4th_down_conversion_pcnt'\n",
      " 'offense_total_4th_down_conversion_pcnt_matchup_differential'\n",
      " 'home_defense_total_4th_down_conversion_pcnt'\n",
      " 'defense_total_4th_down_conversion_pcnt_matchup_differential']. At least one non-missing value is needed for imputation with strategy='mean'.\n",
      "  warnings.warn(\n"
     ]
    },
    {
     "name": "stdout",
     "output_type": "stream",
     "text": [
      "GBR - Train score: 9.1980 | Validation score: 10.8972\n",
      "\n",
      "Validation year 2020\n"
     ]
    },
    {
     "name": "stderr",
     "output_type": "stream",
     "text": [
      "/Users/DanPfeiffer/Documents/code/data-collector/env/lib/python3.11/site-packages/sklearn/impute/_base.py:577: UserWarning: Skipping features without any observed values: ['road_defense_total_4th_down_conversion_pcnt'\n",
      " 'offense_total_4th_down_conversion_pcnt_matchup_differential'\n",
      " 'home_defense_total_4th_down_conversion_pcnt'\n",
      " 'defense_total_4th_down_conversion_pcnt_matchup_differential']. At least one non-missing value is needed for imputation with strategy='mean'.\n",
      "  warnings.warn(\n",
      "/Users/DanPfeiffer/Documents/code/data-collector/env/lib/python3.11/site-packages/sklearn/impute/_base.py:577: UserWarning: Skipping features without any observed values: ['road_defense_total_4th_down_conversion_pcnt'\n",
      " 'offense_total_4th_down_conversion_pcnt_matchup_differential'\n",
      " 'home_defense_total_4th_down_conversion_pcnt'\n",
      " 'defense_total_4th_down_conversion_pcnt_matchup_differential']. At least one non-missing value is needed for imputation with strategy='mean'.\n",
      "  warnings.warn(\n",
      "/Users/DanPfeiffer/Documents/code/data-collector/env/lib/python3.11/site-packages/sklearn/impute/_base.py:577: UserWarning: Skipping features without any observed values: ['road_defense_total_4th_down_conversion_pcnt'\n",
      " 'offense_total_4th_down_conversion_pcnt_matchup_differential'\n",
      " 'home_defense_total_4th_down_conversion_pcnt'\n",
      " 'defense_total_4th_down_conversion_pcnt_matchup_differential']. At least one non-missing value is needed for imputation with strategy='mean'.\n",
      "  warnings.warn(\n"
     ]
    },
    {
     "name": "stdout",
     "output_type": "stream",
     "text": [
      "GBR - Train score: 9.0052 | Validation score: 10.2047\n",
      "\n",
      "Validation year 2021\n"
     ]
    },
    {
     "name": "stderr",
     "output_type": "stream",
     "text": [
      "/Users/DanPfeiffer/Documents/code/data-collector/env/lib/python3.11/site-packages/sklearn/impute/_base.py:577: UserWarning: Skipping features without any observed values: ['offense_total_4th_down_conversion_pcnt_matchup_differential'\n",
      " 'defense_total_4th_down_conversion_pcnt_matchup_differential']. At least one non-missing value is needed for imputation with strategy='mean'.\n",
      "  warnings.warn(\n",
      "/Users/DanPfeiffer/Documents/code/data-collector/env/lib/python3.11/site-packages/sklearn/impute/_base.py:577: UserWarning: Skipping features without any observed values: ['offense_total_4th_down_conversion_pcnt_matchup_differential'\n",
      " 'defense_total_4th_down_conversion_pcnt_matchup_differential']. At least one non-missing value is needed for imputation with strategy='mean'.\n",
      "  warnings.warn(\n",
      "/Users/DanPfeiffer/Documents/code/data-collector/env/lib/python3.11/site-packages/sklearn/impute/_base.py:577: UserWarning: Skipping features without any observed values: ['offense_total_4th_down_conversion_pcnt_matchup_differential'\n",
      " 'defense_total_4th_down_conversion_pcnt_matchup_differential']. At least one non-missing value is needed for imputation with strategy='mean'.\n",
      "  warnings.warn(\n"
     ]
    },
    {
     "name": "stdout",
     "output_type": "stream",
     "text": [
      "GBR - Train score: 8.6113 | Validation score: 11.2001\n",
      "\n",
      "Validation year 2022\n"
     ]
    },
    {
     "name": "stderr",
     "output_type": "stream",
     "text": [
      "/Users/DanPfeiffer/Documents/code/data-collector/env/lib/python3.11/site-packages/sklearn/impute/_base.py:577: UserWarning: Skipping features without any observed values: ['offense_total_4th_down_conversion_pcnt_matchup_differential'\n",
      " 'defense_total_4th_down_conversion_pcnt_matchup_differential']. At least one non-missing value is needed for imputation with strategy='mean'.\n",
      "  warnings.warn(\n",
      "/Users/DanPfeiffer/Documents/code/data-collector/env/lib/python3.11/site-packages/sklearn/impute/_base.py:577: UserWarning: Skipping features without any observed values: ['offense_total_4th_down_conversion_pcnt_matchup_differential'\n",
      " 'defense_total_4th_down_conversion_pcnt_matchup_differential']. At least one non-missing value is needed for imputation with strategy='mean'.\n",
      "  warnings.warn(\n",
      "/Users/DanPfeiffer/Documents/code/data-collector/env/lib/python3.11/site-packages/sklearn/impute/_base.py:577: UserWarning: Skipping features without any observed values: ['offense_total_4th_down_conversion_pcnt_matchup_differential'\n",
      " 'defense_total_4th_down_conversion_pcnt_matchup_differential']. At least one non-missing value is needed for imputation with strategy='mean'.\n",
      "  warnings.warn(\n"
     ]
    },
    {
     "name": "stdout",
     "output_type": "stream",
     "text": [
      "GBR - Train score: 9.5726 | Validation score: 9.3238\n",
      "\n",
      "Training 16_games_exp_weighted_mean_decay0.7799999999999999 with GBR\n"
     ]
    },
    {
     "name": "stderr",
     "output_type": "stream",
     "text": [
      "/var/folders/h1/1n1src7x64q_jwgsr43hmkxm0000gq/T/ipykernel_59208/2010834509.py:83: DtypeWarning: Columns (20,46,63) have mixed types. Specify dtype option on import or set low_memory=False.\n",
      "  training_df = pd.read_csv(f\"../data/transformed/{file_name}\")\n"
     ]
    },
    {
     "name": "stdout",
     "output_type": "stream",
     "text": [
      "Validation year 2013\n"
     ]
    },
    {
     "name": "stderr",
     "output_type": "stream",
     "text": [
      "/Users/DanPfeiffer/Documents/code/data-collector/env/lib/python3.11/site-packages/sklearn/impute/_base.py:577: UserWarning: Skipping features without any observed values: ['offense_total_4th_down_conversion_pcnt_matchup_differential'\n",
      " 'defense_total_4th_down_conversion_pcnt_matchup_differential']. At least one non-missing value is needed for imputation with strategy='mean'.\n",
      "  warnings.warn(\n",
      "/Users/DanPfeiffer/Documents/code/data-collector/env/lib/python3.11/site-packages/sklearn/impute/_base.py:577: UserWarning: Skipping features without any observed values: ['offense_total_4th_down_conversion_pcnt_matchup_differential'\n",
      " 'defense_total_4th_down_conversion_pcnt_matchup_differential']. At least one non-missing value is needed for imputation with strategy='mean'.\n",
      "  warnings.warn(\n",
      "/Users/DanPfeiffer/Documents/code/data-collector/env/lib/python3.11/site-packages/sklearn/impute/_base.py:577: UserWarning: Skipping features without any observed values: ['offense_total_4th_down_conversion_pcnt_matchup_differential'\n",
      " 'defense_total_4th_down_conversion_pcnt_matchup_differential']. At least one non-missing value is needed for imputation with strategy='mean'.\n",
      "  warnings.warn(\n"
     ]
    },
    {
     "name": "stdout",
     "output_type": "stream",
     "text": [
      "GBR - Train score: 10.0813 | Validation score: 10.1284\n",
      "\n",
      "Validation year 2014\n"
     ]
    },
    {
     "name": "stderr",
     "output_type": "stream",
     "text": [
      "/Users/DanPfeiffer/Documents/code/data-collector/env/lib/python3.11/site-packages/sklearn/impute/_base.py:577: UserWarning: Skipping features without any observed values: ['offense_total_4th_down_conversion_pcnt_matchup_differential'\n",
      " 'defense_total_4th_down_conversion_pcnt_matchup_differential']. At least one non-missing value is needed for imputation with strategy='mean'.\n",
      "  warnings.warn(\n",
      "/Users/DanPfeiffer/Documents/code/data-collector/env/lib/python3.11/site-packages/sklearn/impute/_base.py:577: UserWarning: Skipping features without any observed values: ['offense_total_4th_down_conversion_pcnt_matchup_differential'\n",
      " 'defense_total_4th_down_conversion_pcnt_matchup_differential']. At least one non-missing value is needed for imputation with strategy='mean'.\n",
      "  warnings.warn(\n",
      "/Users/DanPfeiffer/Documents/code/data-collector/env/lib/python3.11/site-packages/sklearn/impute/_base.py:577: UserWarning: Skipping features without any observed values: ['offense_total_4th_down_conversion_pcnt_matchup_differential'\n",
      " 'defense_total_4th_down_conversion_pcnt_matchup_differential']. At least one non-missing value is needed for imputation with strategy='mean'.\n",
      "  warnings.warn(\n"
     ]
    },
    {
     "name": "stdout",
     "output_type": "stream",
     "text": [
      "GBR - Train score: 9.7085 | Validation score: 11.3767\n",
      "\n",
      "Validation year 2015\n"
     ]
    },
    {
     "name": "stderr",
     "output_type": "stream",
     "text": [
      "/Users/DanPfeiffer/Documents/code/data-collector/env/lib/python3.11/site-packages/sklearn/impute/_base.py:577: UserWarning: Skipping features without any observed values: ['offense_total_4th_down_conversion_pcnt_matchup_differential'\n",
      " 'defense_total_4th_down_conversion_pcnt_matchup_differential']. At least one non-missing value is needed for imputation with strategy='mean'.\n",
      "  warnings.warn(\n",
      "/Users/DanPfeiffer/Documents/code/data-collector/env/lib/python3.11/site-packages/sklearn/impute/_base.py:577: UserWarning: Skipping features without any observed values: ['offense_total_4th_down_conversion_pcnt_matchup_differential'\n",
      " 'defense_total_4th_down_conversion_pcnt_matchup_differential']. At least one non-missing value is needed for imputation with strategy='mean'.\n",
      "  warnings.warn(\n",
      "/Users/DanPfeiffer/Documents/code/data-collector/env/lib/python3.11/site-packages/sklearn/impute/_base.py:577: UserWarning: Skipping features without any observed values: ['offense_total_4th_down_conversion_pcnt_matchup_differential'\n",
      " 'defense_total_4th_down_conversion_pcnt_matchup_differential']. At least one non-missing value is needed for imputation with strategy='mean'.\n",
      "  warnings.warn(\n"
     ]
    },
    {
     "name": "stdout",
     "output_type": "stream",
     "text": [
      "GBR - Train score: 10.2109 | Validation score: 10.2932\n",
      "\n",
      "Validation year 2016\n"
     ]
    },
    {
     "name": "stderr",
     "output_type": "stream",
     "text": [
      "/Users/DanPfeiffer/Documents/code/data-collector/env/lib/python3.11/site-packages/sklearn/impute/_base.py:577: UserWarning: Skipping features without any observed values: ['offense_total_4th_down_conversion_pcnt_matchup_differential'\n",
      " 'defense_total_4th_down_conversion_pcnt_matchup_differential']. At least one non-missing value is needed for imputation with strategy='mean'.\n",
      "  warnings.warn(\n",
      "/Users/DanPfeiffer/Documents/code/data-collector/env/lib/python3.11/site-packages/sklearn/impute/_base.py:577: UserWarning: Skipping features without any observed values: ['offense_total_4th_down_conversion_pcnt_matchup_differential'\n",
      " 'defense_total_4th_down_conversion_pcnt_matchup_differential']. At least one non-missing value is needed for imputation with strategy='mean'.\n",
      "  warnings.warn(\n",
      "/Users/DanPfeiffer/Documents/code/data-collector/env/lib/python3.11/site-packages/sklearn/impute/_base.py:577: UserWarning: Skipping features without any observed values: ['offense_total_4th_down_conversion_pcnt_matchup_differential'\n",
      " 'defense_total_4th_down_conversion_pcnt_matchup_differential']. At least one non-missing value is needed for imputation with strategy='mean'.\n",
      "  warnings.warn(\n"
     ]
    },
    {
     "name": "stdout",
     "output_type": "stream",
     "text": [
      "GBR - Train score: 9.9812 | Validation score: 9.3372\n",
      "\n",
      "Validation year 2017\n"
     ]
    },
    {
     "name": "stderr",
     "output_type": "stream",
     "text": [
      "/Users/DanPfeiffer/Documents/code/data-collector/env/lib/python3.11/site-packages/sklearn/impute/_base.py:577: UserWarning: Skipping features without any observed values: ['road_defense_total_4th_down_conversion_pcnt'\n",
      " 'offense_total_4th_down_conversion_pcnt_matchup_differential'\n",
      " 'home_defense_total_4th_down_conversion_pcnt'\n",
      " 'defense_total_4th_down_conversion_pcnt_matchup_differential']. At least one non-missing value is needed for imputation with strategy='mean'.\n",
      "  warnings.warn(\n",
      "/Users/DanPfeiffer/Documents/code/data-collector/env/lib/python3.11/site-packages/sklearn/impute/_base.py:577: UserWarning: Skipping features without any observed values: ['road_defense_total_4th_down_conversion_pcnt'\n",
      " 'offense_total_4th_down_conversion_pcnt_matchup_differential'\n",
      " 'home_defense_total_4th_down_conversion_pcnt'\n",
      " 'defense_total_4th_down_conversion_pcnt_matchup_differential']. At least one non-missing value is needed for imputation with strategy='mean'.\n",
      "  warnings.warn(\n",
      "/Users/DanPfeiffer/Documents/code/data-collector/env/lib/python3.11/site-packages/sklearn/impute/_base.py:577: UserWarning: Skipping features without any observed values: ['road_defense_total_4th_down_conversion_pcnt'\n",
      " 'offense_total_4th_down_conversion_pcnt_matchup_differential'\n",
      " 'home_defense_total_4th_down_conversion_pcnt'\n",
      " 'defense_total_4th_down_conversion_pcnt_matchup_differential']. At least one non-missing value is needed for imputation with strategy='mean'.\n",
      "  warnings.warn(\n"
     ]
    },
    {
     "name": "stdout",
     "output_type": "stream",
     "text": [
      "GBR - Train score: 9.8928 | Validation score: 10.9127\n",
      "\n",
      "Validation year 2018\n"
     ]
    },
    {
     "name": "stderr",
     "output_type": "stream",
     "text": [
      "/Users/DanPfeiffer/Documents/code/data-collector/env/lib/python3.11/site-packages/sklearn/impute/_base.py:577: UserWarning: Skipping features without any observed values: ['road_defense_total_4th_down_conversion_pcnt'\n",
      " 'offense_total_4th_down_conversion_pcnt_matchup_differential'\n",
      " 'home_defense_total_4th_down_conversion_pcnt'\n",
      " 'defense_total_4th_down_conversion_pcnt_matchup_differential']. At least one non-missing value is needed for imputation with strategy='mean'.\n",
      "  warnings.warn(\n",
      "/Users/DanPfeiffer/Documents/code/data-collector/env/lib/python3.11/site-packages/sklearn/impute/_base.py:577: UserWarning: Skipping features without any observed values: ['road_defense_total_4th_down_conversion_pcnt'\n",
      " 'offense_total_4th_down_conversion_pcnt_matchup_differential'\n",
      " 'home_defense_total_4th_down_conversion_pcnt'\n",
      " 'defense_total_4th_down_conversion_pcnt_matchup_differential']. At least one non-missing value is needed for imputation with strategy='mean'.\n",
      "  warnings.warn(\n",
      "/Users/DanPfeiffer/Documents/code/data-collector/env/lib/python3.11/site-packages/sklearn/impute/_base.py:577: UserWarning: Skipping features without any observed values: ['road_defense_total_4th_down_conversion_pcnt'\n",
      " 'offense_total_4th_down_conversion_pcnt_matchup_differential'\n",
      " 'home_defense_total_4th_down_conversion_pcnt'\n",
      " 'defense_total_4th_down_conversion_pcnt_matchup_differential']. At least one non-missing value is needed for imputation with strategy='mean'.\n",
      "  warnings.warn(\n"
     ]
    },
    {
     "name": "stdout",
     "output_type": "stream",
     "text": [
      "GBR - Train score: 9.5546 | Validation score: 9.9434\n",
      "\n",
      "Validation year 2019\n"
     ]
    },
    {
     "name": "stderr",
     "output_type": "stream",
     "text": [
      "/Users/DanPfeiffer/Documents/code/data-collector/env/lib/python3.11/site-packages/sklearn/impute/_base.py:577: UserWarning: Skipping features without any observed values: ['road_defense_total_4th_down_conversion_pcnt'\n",
      " 'offense_total_4th_down_conversion_pcnt_matchup_differential'\n",
      " 'home_defense_total_4th_down_conversion_pcnt'\n",
      " 'defense_total_4th_down_conversion_pcnt_matchup_differential']. At least one non-missing value is needed for imputation with strategy='mean'.\n",
      "  warnings.warn(\n",
      "/Users/DanPfeiffer/Documents/code/data-collector/env/lib/python3.11/site-packages/sklearn/impute/_base.py:577: UserWarning: Skipping features without any observed values: ['road_defense_total_4th_down_conversion_pcnt'\n",
      " 'offense_total_4th_down_conversion_pcnt_matchup_differential'\n",
      " 'home_defense_total_4th_down_conversion_pcnt'\n",
      " 'defense_total_4th_down_conversion_pcnt_matchup_differential']. At least one non-missing value is needed for imputation with strategy='mean'.\n",
      "  warnings.warn(\n",
      "/Users/DanPfeiffer/Documents/code/data-collector/env/lib/python3.11/site-packages/sklearn/impute/_base.py:577: UserWarning: Skipping features without any observed values: ['road_defense_total_4th_down_conversion_pcnt'\n",
      " 'offense_total_4th_down_conversion_pcnt_matchup_differential'\n",
      " 'home_defense_total_4th_down_conversion_pcnt'\n",
      " 'defense_total_4th_down_conversion_pcnt_matchup_differential']. At least one non-missing value is needed for imputation with strategy='mean'.\n",
      "  warnings.warn(\n"
     ]
    },
    {
     "name": "stdout",
     "output_type": "stream",
     "text": [
      "GBR - Train score: 9.3478 | Validation score: 10.8667\n",
      "\n",
      "Validation year 2020\n"
     ]
    },
    {
     "name": "stderr",
     "output_type": "stream",
     "text": [
      "/Users/DanPfeiffer/Documents/code/data-collector/env/lib/python3.11/site-packages/sklearn/impute/_base.py:577: UserWarning: Skipping features without any observed values: ['road_defense_total_4th_down_conversion_pcnt'\n",
      " 'offense_total_4th_down_conversion_pcnt_matchup_differential'\n",
      " 'home_defense_total_4th_down_conversion_pcnt'\n",
      " 'defense_total_4th_down_conversion_pcnt_matchup_differential']. At least one non-missing value is needed for imputation with strategy='mean'.\n",
      "  warnings.warn(\n",
      "/Users/DanPfeiffer/Documents/code/data-collector/env/lib/python3.11/site-packages/sklearn/impute/_base.py:577: UserWarning: Skipping features without any observed values: ['road_defense_total_4th_down_conversion_pcnt'\n",
      " 'offense_total_4th_down_conversion_pcnt_matchup_differential'\n",
      " 'home_defense_total_4th_down_conversion_pcnt'\n",
      " 'defense_total_4th_down_conversion_pcnt_matchup_differential']. At least one non-missing value is needed for imputation with strategy='mean'.\n",
      "  warnings.warn(\n",
      "/Users/DanPfeiffer/Documents/code/data-collector/env/lib/python3.11/site-packages/sklearn/impute/_base.py:577: UserWarning: Skipping features without any observed values: ['road_defense_total_4th_down_conversion_pcnt'\n",
      " 'offense_total_4th_down_conversion_pcnt_matchup_differential'\n",
      " 'home_defense_total_4th_down_conversion_pcnt'\n",
      " 'defense_total_4th_down_conversion_pcnt_matchup_differential']. At least one non-missing value is needed for imputation with strategy='mean'.\n",
      "  warnings.warn(\n"
     ]
    },
    {
     "name": "stdout",
     "output_type": "stream",
     "text": [
      "GBR - Train score: 9.7283 | Validation score: 10.1736\n",
      "\n",
      "Validation year 2021\n"
     ]
    },
    {
     "name": "stderr",
     "output_type": "stream",
     "text": [
      "/Users/DanPfeiffer/Documents/code/data-collector/env/lib/python3.11/site-packages/sklearn/impute/_base.py:577: UserWarning: Skipping features without any observed values: ['offense_total_4th_down_conversion_pcnt_matchup_differential'\n",
      " 'defense_total_4th_down_conversion_pcnt_matchup_differential']. At least one non-missing value is needed for imputation with strategy='mean'.\n",
      "  warnings.warn(\n",
      "/Users/DanPfeiffer/Documents/code/data-collector/env/lib/python3.11/site-packages/sklearn/impute/_base.py:577: UserWarning: Skipping features without any observed values: ['offense_total_4th_down_conversion_pcnt_matchup_differential'\n",
      " 'defense_total_4th_down_conversion_pcnt_matchup_differential']. At least one non-missing value is needed for imputation with strategy='mean'.\n",
      "  warnings.warn(\n",
      "/Users/DanPfeiffer/Documents/code/data-collector/env/lib/python3.11/site-packages/sklearn/impute/_base.py:577: UserWarning: Skipping features without any observed values: ['offense_total_4th_down_conversion_pcnt_matchup_differential'\n",
      " 'defense_total_4th_down_conversion_pcnt_matchup_differential']. At least one non-missing value is needed for imputation with strategy='mean'.\n",
      "  warnings.warn(\n"
     ]
    },
    {
     "name": "stdout",
     "output_type": "stream",
     "text": [
      "GBR - Train score: 9.1047 | Validation score: 11.4571\n",
      "\n",
      "Validation year 2022\n"
     ]
    },
    {
     "name": "stderr",
     "output_type": "stream",
     "text": [
      "/Users/DanPfeiffer/Documents/code/data-collector/env/lib/python3.11/site-packages/sklearn/impute/_base.py:577: UserWarning: Skipping features without any observed values: ['offense_total_4th_down_conversion_pcnt_matchup_differential'\n",
      " 'defense_total_4th_down_conversion_pcnt_matchup_differential']. At least one non-missing value is needed for imputation with strategy='mean'.\n",
      "  warnings.warn(\n",
      "/Users/DanPfeiffer/Documents/code/data-collector/env/lib/python3.11/site-packages/sklearn/impute/_base.py:577: UserWarning: Skipping features without any observed values: ['offense_total_4th_down_conversion_pcnt_matchup_differential'\n",
      " 'defense_total_4th_down_conversion_pcnt_matchup_differential']. At least one non-missing value is needed for imputation with strategy='mean'.\n",
      "  warnings.warn(\n",
      "/Users/DanPfeiffer/Documents/code/data-collector/env/lib/python3.11/site-packages/sklearn/impute/_base.py:577: UserWarning: Skipping features without any observed values: ['offense_total_4th_down_conversion_pcnt_matchup_differential'\n",
      " 'defense_total_4th_down_conversion_pcnt_matchup_differential']. At least one non-missing value is needed for imputation with strategy='mean'.\n",
      "  warnings.warn(\n"
     ]
    },
    {
     "name": "stdout",
     "output_type": "stream",
     "text": [
      "GBR - Train score: 9.5260 | Validation score: 9.1771\n",
      "\n",
      "Training 16_games_exp_weighted_mean_decay0.7999999999999999 with GBR\n"
     ]
    },
    {
     "name": "stderr",
     "output_type": "stream",
     "text": [
      "/var/folders/h1/1n1src7x64q_jwgsr43hmkxm0000gq/T/ipykernel_59208/2010834509.py:83: DtypeWarning: Columns (20,46,63) have mixed types. Specify dtype option on import or set low_memory=False.\n",
      "  training_df = pd.read_csv(f\"../data/transformed/{file_name}\")\n"
     ]
    },
    {
     "name": "stdout",
     "output_type": "stream",
     "text": [
      "Validation year 2013\n"
     ]
    },
    {
     "name": "stderr",
     "output_type": "stream",
     "text": [
      "/Users/DanPfeiffer/Documents/code/data-collector/env/lib/python3.11/site-packages/sklearn/impute/_base.py:577: UserWarning: Skipping features without any observed values: ['offense_total_4th_down_conversion_pcnt_matchup_differential'\n",
      " 'defense_total_4th_down_conversion_pcnt_matchup_differential']. At least one non-missing value is needed for imputation with strategy='mean'.\n",
      "  warnings.warn(\n",
      "/Users/DanPfeiffer/Documents/code/data-collector/env/lib/python3.11/site-packages/sklearn/impute/_base.py:577: UserWarning: Skipping features without any observed values: ['offense_total_4th_down_conversion_pcnt_matchup_differential'\n",
      " 'defense_total_4th_down_conversion_pcnt_matchup_differential']. At least one non-missing value is needed for imputation with strategy='mean'.\n",
      "  warnings.warn(\n",
      "/Users/DanPfeiffer/Documents/code/data-collector/env/lib/python3.11/site-packages/sklearn/impute/_base.py:577: UserWarning: Skipping features without any observed values: ['offense_total_4th_down_conversion_pcnt_matchup_differential'\n",
      " 'defense_total_4th_down_conversion_pcnt_matchup_differential']. At least one non-missing value is needed for imputation with strategy='mean'.\n",
      "  warnings.warn(\n"
     ]
    },
    {
     "name": "stdout",
     "output_type": "stream",
     "text": [
      "GBR - Train score: 9.7358 | Validation score: 10.4419\n",
      "\n",
      "Validation year 2014\n"
     ]
    },
    {
     "name": "stderr",
     "output_type": "stream",
     "text": [
      "/Users/DanPfeiffer/Documents/code/data-collector/env/lib/python3.11/site-packages/sklearn/impute/_base.py:577: UserWarning: Skipping features without any observed values: ['offense_total_4th_down_conversion_pcnt_matchup_differential'\n",
      " 'defense_total_4th_down_conversion_pcnt_matchup_differential']. At least one non-missing value is needed for imputation with strategy='mean'.\n",
      "  warnings.warn(\n",
      "/Users/DanPfeiffer/Documents/code/data-collector/env/lib/python3.11/site-packages/sklearn/impute/_base.py:577: UserWarning: Skipping features without any observed values: ['offense_total_4th_down_conversion_pcnt_matchup_differential'\n",
      " 'defense_total_4th_down_conversion_pcnt_matchup_differential']. At least one non-missing value is needed for imputation with strategy='mean'.\n",
      "  warnings.warn(\n",
      "/Users/DanPfeiffer/Documents/code/data-collector/env/lib/python3.11/site-packages/sklearn/impute/_base.py:577: UserWarning: Skipping features without any observed values: ['offense_total_4th_down_conversion_pcnt_matchup_differential'\n",
      " 'defense_total_4th_down_conversion_pcnt_matchup_differential']. At least one non-missing value is needed for imputation with strategy='mean'.\n",
      "  warnings.warn(\n"
     ]
    },
    {
     "name": "stdout",
     "output_type": "stream",
     "text": [
      "GBR - Train score: 9.1168 | Validation score: 11.4014\n",
      "\n",
      "Validation year 2015\n"
     ]
    },
    {
     "name": "stderr",
     "output_type": "stream",
     "text": [
      "/Users/DanPfeiffer/Documents/code/data-collector/env/lib/python3.11/site-packages/sklearn/impute/_base.py:577: UserWarning: Skipping features without any observed values: ['offense_total_4th_down_conversion_pcnt_matchup_differential'\n",
      " 'defense_total_4th_down_conversion_pcnt_matchup_differential']. At least one non-missing value is needed for imputation with strategy='mean'.\n",
      "  warnings.warn(\n",
      "/Users/DanPfeiffer/Documents/code/data-collector/env/lib/python3.11/site-packages/sklearn/impute/_base.py:577: UserWarning: Skipping features without any observed values: ['offense_total_4th_down_conversion_pcnt_matchup_differential'\n",
      " 'defense_total_4th_down_conversion_pcnt_matchup_differential']. At least one non-missing value is needed for imputation with strategy='mean'.\n",
      "  warnings.warn(\n",
      "/Users/DanPfeiffer/Documents/code/data-collector/env/lib/python3.11/site-packages/sklearn/impute/_base.py:577: UserWarning: Skipping features without any observed values: ['offense_total_4th_down_conversion_pcnt_matchup_differential'\n",
      " 'defense_total_4th_down_conversion_pcnt_matchup_differential']. At least one non-missing value is needed for imputation with strategy='mean'.\n",
      "  warnings.warn(\n"
     ]
    },
    {
     "name": "stdout",
     "output_type": "stream",
     "text": [
      "GBR - Train score: 9.9242 | Validation score: 10.4252\n",
      "\n",
      "Validation year 2016\n"
     ]
    },
    {
     "name": "stderr",
     "output_type": "stream",
     "text": [
      "/Users/DanPfeiffer/Documents/code/data-collector/env/lib/python3.11/site-packages/sklearn/impute/_base.py:577: UserWarning: Skipping features without any observed values: ['offense_total_4th_down_conversion_pcnt_matchup_differential'\n",
      " 'defense_total_4th_down_conversion_pcnt_matchup_differential']. At least one non-missing value is needed for imputation with strategy='mean'.\n",
      "  warnings.warn(\n",
      "/Users/DanPfeiffer/Documents/code/data-collector/env/lib/python3.11/site-packages/sklearn/impute/_base.py:577: UserWarning: Skipping features without any observed values: ['offense_total_4th_down_conversion_pcnt_matchup_differential'\n",
      " 'defense_total_4th_down_conversion_pcnt_matchup_differential']. At least one non-missing value is needed for imputation with strategy='mean'.\n",
      "  warnings.warn(\n",
      "/Users/DanPfeiffer/Documents/code/data-collector/env/lib/python3.11/site-packages/sklearn/impute/_base.py:577: UserWarning: Skipping features without any observed values: ['offense_total_4th_down_conversion_pcnt_matchup_differential'\n",
      " 'defense_total_4th_down_conversion_pcnt_matchup_differential']. At least one non-missing value is needed for imputation with strategy='mean'.\n",
      "  warnings.warn(\n"
     ]
    },
    {
     "name": "stdout",
     "output_type": "stream",
     "text": [
      "GBR - Train score: 10.0741 | Validation score: 9.2900\n",
      "\n",
      "Validation year 2017\n"
     ]
    },
    {
     "name": "stderr",
     "output_type": "stream",
     "text": [
      "/Users/DanPfeiffer/Documents/code/data-collector/env/lib/python3.11/site-packages/sklearn/impute/_base.py:577: UserWarning: Skipping features without any observed values: ['road_defense_total_4th_down_conversion_pcnt'\n",
      " 'offense_total_4th_down_conversion_pcnt_matchup_differential'\n",
      " 'home_defense_total_4th_down_conversion_pcnt'\n",
      " 'defense_total_4th_down_conversion_pcnt_matchup_differential']. At least one non-missing value is needed for imputation with strategy='mean'.\n",
      "  warnings.warn(\n",
      "/Users/DanPfeiffer/Documents/code/data-collector/env/lib/python3.11/site-packages/sklearn/impute/_base.py:577: UserWarning: Skipping features without any observed values: ['road_defense_total_4th_down_conversion_pcnt'\n",
      " 'offense_total_4th_down_conversion_pcnt_matchup_differential'\n",
      " 'home_defense_total_4th_down_conversion_pcnt'\n",
      " 'defense_total_4th_down_conversion_pcnt_matchup_differential']. At least one non-missing value is needed for imputation with strategy='mean'.\n",
      "  warnings.warn(\n",
      "/Users/DanPfeiffer/Documents/code/data-collector/env/lib/python3.11/site-packages/sklearn/impute/_base.py:577: UserWarning: Skipping features without any observed values: ['road_defense_total_4th_down_conversion_pcnt'\n",
      " 'offense_total_4th_down_conversion_pcnt_matchup_differential'\n",
      " 'home_defense_total_4th_down_conversion_pcnt'\n",
      " 'defense_total_4th_down_conversion_pcnt_matchup_differential']. At least one non-missing value is needed for imputation with strategy='mean'.\n",
      "  warnings.warn(\n"
     ]
    },
    {
     "name": "stdout",
     "output_type": "stream",
     "text": [
      "GBR - Train score: 9.9554 | Validation score: 10.7345\n",
      "\n",
      "Validation year 2018\n"
     ]
    },
    {
     "name": "stderr",
     "output_type": "stream",
     "text": [
      "/Users/DanPfeiffer/Documents/code/data-collector/env/lib/python3.11/site-packages/sklearn/impute/_base.py:577: UserWarning: Skipping features without any observed values: ['road_defense_total_4th_down_conversion_pcnt'\n",
      " 'offense_total_4th_down_conversion_pcnt_matchup_differential'\n",
      " 'home_defense_total_4th_down_conversion_pcnt'\n",
      " 'defense_total_4th_down_conversion_pcnt_matchup_differential']. At least one non-missing value is needed for imputation with strategy='mean'.\n",
      "  warnings.warn(\n",
      "/Users/DanPfeiffer/Documents/code/data-collector/env/lib/python3.11/site-packages/sklearn/impute/_base.py:577: UserWarning: Skipping features without any observed values: ['road_defense_total_4th_down_conversion_pcnt'\n",
      " 'offense_total_4th_down_conversion_pcnt_matchup_differential'\n",
      " 'home_defense_total_4th_down_conversion_pcnt'\n",
      " 'defense_total_4th_down_conversion_pcnt_matchup_differential']. At least one non-missing value is needed for imputation with strategy='mean'.\n",
      "  warnings.warn(\n",
      "/Users/DanPfeiffer/Documents/code/data-collector/env/lib/python3.11/site-packages/sklearn/impute/_base.py:577: UserWarning: Skipping features without any observed values: ['road_defense_total_4th_down_conversion_pcnt'\n",
      " 'offense_total_4th_down_conversion_pcnt_matchup_differential'\n",
      " 'home_defense_total_4th_down_conversion_pcnt'\n",
      " 'defense_total_4th_down_conversion_pcnt_matchup_differential']. At least one non-missing value is needed for imputation with strategy='mean'.\n",
      "  warnings.warn(\n"
     ]
    },
    {
     "name": "stdout",
     "output_type": "stream",
     "text": [
      "GBR - Train score: 9.5024 | Validation score: 9.8986\n",
      "\n",
      "Validation year 2019\n"
     ]
    },
    {
     "name": "stderr",
     "output_type": "stream",
     "text": [
      "/Users/DanPfeiffer/Documents/code/data-collector/env/lib/python3.11/site-packages/sklearn/impute/_base.py:577: UserWarning: Skipping features without any observed values: ['road_defense_total_4th_down_conversion_pcnt'\n",
      " 'offense_total_4th_down_conversion_pcnt_matchup_differential'\n",
      " 'home_defense_total_4th_down_conversion_pcnt'\n",
      " 'defense_total_4th_down_conversion_pcnt_matchup_differential']. At least one non-missing value is needed for imputation with strategy='mean'.\n",
      "  warnings.warn(\n",
      "/Users/DanPfeiffer/Documents/code/data-collector/env/lib/python3.11/site-packages/sklearn/impute/_base.py:577: UserWarning: Skipping features without any observed values: ['road_defense_total_4th_down_conversion_pcnt'\n",
      " 'offense_total_4th_down_conversion_pcnt_matchup_differential'\n",
      " 'home_defense_total_4th_down_conversion_pcnt'\n",
      " 'defense_total_4th_down_conversion_pcnt_matchup_differential']. At least one non-missing value is needed for imputation with strategy='mean'.\n",
      "  warnings.warn(\n",
      "/Users/DanPfeiffer/Documents/code/data-collector/env/lib/python3.11/site-packages/sklearn/impute/_base.py:577: UserWarning: Skipping features without any observed values: ['road_defense_total_4th_down_conversion_pcnt'\n",
      " 'offense_total_4th_down_conversion_pcnt_matchup_differential'\n",
      " 'home_defense_total_4th_down_conversion_pcnt'\n",
      " 'defense_total_4th_down_conversion_pcnt_matchup_differential']. At least one non-missing value is needed for imputation with strategy='mean'.\n",
      "  warnings.warn(\n"
     ]
    },
    {
     "name": "stdout",
     "output_type": "stream",
     "text": [
      "GBR - Train score: 9.1714 | Validation score: 10.7654\n",
      "\n",
      "Validation year 2020\n"
     ]
    },
    {
     "name": "stderr",
     "output_type": "stream",
     "text": [
      "/Users/DanPfeiffer/Documents/code/data-collector/env/lib/python3.11/site-packages/sklearn/impute/_base.py:577: UserWarning: Skipping features without any observed values: ['road_defense_total_4th_down_conversion_pcnt'\n",
      " 'offense_total_4th_down_conversion_pcnt_matchup_differential'\n",
      " 'home_defense_total_4th_down_conversion_pcnt'\n",
      " 'defense_total_4th_down_conversion_pcnt_matchup_differential']. At least one non-missing value is needed for imputation with strategy='mean'.\n",
      "  warnings.warn(\n",
      "/Users/DanPfeiffer/Documents/code/data-collector/env/lib/python3.11/site-packages/sklearn/impute/_base.py:577: UserWarning: Skipping features without any observed values: ['road_defense_total_4th_down_conversion_pcnt'\n",
      " 'offense_total_4th_down_conversion_pcnt_matchup_differential'\n",
      " 'home_defense_total_4th_down_conversion_pcnt'\n",
      " 'defense_total_4th_down_conversion_pcnt_matchup_differential']. At least one non-missing value is needed for imputation with strategy='mean'.\n",
      "  warnings.warn(\n",
      "/Users/DanPfeiffer/Documents/code/data-collector/env/lib/python3.11/site-packages/sklearn/impute/_base.py:577: UserWarning: Skipping features without any observed values: ['road_defense_total_4th_down_conversion_pcnt'\n",
      " 'offense_total_4th_down_conversion_pcnt_matchup_differential'\n",
      " 'home_defense_total_4th_down_conversion_pcnt'\n",
      " 'defense_total_4th_down_conversion_pcnt_matchup_differential']. At least one non-missing value is needed for imputation with strategy='mean'.\n",
      "  warnings.warn(\n"
     ]
    },
    {
     "name": "stdout",
     "output_type": "stream",
     "text": [
      "GBR - Train score: 9.7500 | Validation score: 10.0568\n",
      "\n",
      "Validation year 2021\n"
     ]
    },
    {
     "name": "stderr",
     "output_type": "stream",
     "text": [
      "/Users/DanPfeiffer/Documents/code/data-collector/env/lib/python3.11/site-packages/sklearn/impute/_base.py:577: UserWarning: Skipping features without any observed values: ['offense_total_4th_down_conversion_pcnt_matchup_differential'\n",
      " 'defense_total_4th_down_conversion_pcnt_matchup_differential']. At least one non-missing value is needed for imputation with strategy='mean'.\n",
      "  warnings.warn(\n",
      "/Users/DanPfeiffer/Documents/code/data-collector/env/lib/python3.11/site-packages/sklearn/impute/_base.py:577: UserWarning: Skipping features without any observed values: ['offense_total_4th_down_conversion_pcnt_matchup_differential'\n",
      " 'defense_total_4th_down_conversion_pcnt_matchup_differential']. At least one non-missing value is needed for imputation with strategy='mean'.\n",
      "  warnings.warn(\n",
      "/Users/DanPfeiffer/Documents/code/data-collector/env/lib/python3.11/site-packages/sklearn/impute/_base.py:577: UserWarning: Skipping features without any observed values: ['offense_total_4th_down_conversion_pcnt_matchup_differential'\n",
      " 'defense_total_4th_down_conversion_pcnt_matchup_differential']. At least one non-missing value is needed for imputation with strategy='mean'.\n",
      "  warnings.warn(\n"
     ]
    },
    {
     "name": "stdout",
     "output_type": "stream",
     "text": [
      "GBR - Train score: 8.7922 | Validation score: 11.3698\n",
      "\n",
      "Validation year 2022\n"
     ]
    },
    {
     "name": "stderr",
     "output_type": "stream",
     "text": [
      "/Users/DanPfeiffer/Documents/code/data-collector/env/lib/python3.11/site-packages/sklearn/impute/_base.py:577: UserWarning: Skipping features without any observed values: ['offense_total_4th_down_conversion_pcnt_matchup_differential'\n",
      " 'defense_total_4th_down_conversion_pcnt_matchup_differential']. At least one non-missing value is needed for imputation with strategy='mean'.\n",
      "  warnings.warn(\n",
      "/Users/DanPfeiffer/Documents/code/data-collector/env/lib/python3.11/site-packages/sklearn/impute/_base.py:577: UserWarning: Skipping features without any observed values: ['offense_total_4th_down_conversion_pcnt_matchup_differential'\n",
      " 'defense_total_4th_down_conversion_pcnt_matchup_differential']. At least one non-missing value is needed for imputation with strategy='mean'.\n",
      "  warnings.warn(\n",
      "/Users/DanPfeiffer/Documents/code/data-collector/env/lib/python3.11/site-packages/sklearn/impute/_base.py:577: UserWarning: Skipping features without any observed values: ['offense_total_4th_down_conversion_pcnt_matchup_differential'\n",
      " 'defense_total_4th_down_conversion_pcnt_matchup_differential']. At least one non-missing value is needed for imputation with strategy='mean'.\n",
      "  warnings.warn(\n"
     ]
    },
    {
     "name": "stdout",
     "output_type": "stream",
     "text": [
      "GBR - Train score: 9.5437 | Validation score: 9.2669\n",
      "\n",
      "Training 16_games_exp_weighted_mean_decay0.8199999999999998 with GBR\n"
     ]
    },
    {
     "name": "stderr",
     "output_type": "stream",
     "text": [
      "/var/folders/h1/1n1src7x64q_jwgsr43hmkxm0000gq/T/ipykernel_59208/2010834509.py:83: DtypeWarning: Columns (20,46,63) have mixed types. Specify dtype option on import or set low_memory=False.\n",
      "  training_df = pd.read_csv(f\"../data/transformed/{file_name}\")\n"
     ]
    },
    {
     "name": "stdout",
     "output_type": "stream",
     "text": [
      "Validation year 2013\n"
     ]
    },
    {
     "name": "stderr",
     "output_type": "stream",
     "text": [
      "/Users/DanPfeiffer/Documents/code/data-collector/env/lib/python3.11/site-packages/sklearn/impute/_base.py:577: UserWarning: Skipping features without any observed values: ['offense_total_4th_down_conversion_pcnt_matchup_differential'\n",
      " 'defense_total_4th_down_conversion_pcnt_matchup_differential']. At least one non-missing value is needed for imputation with strategy='mean'.\n",
      "  warnings.warn(\n",
      "/Users/DanPfeiffer/Documents/code/data-collector/env/lib/python3.11/site-packages/sklearn/impute/_base.py:577: UserWarning: Skipping features without any observed values: ['offense_total_4th_down_conversion_pcnt_matchup_differential'\n",
      " 'defense_total_4th_down_conversion_pcnt_matchup_differential']. At least one non-missing value is needed for imputation with strategy='mean'.\n",
      "  warnings.warn(\n",
      "/Users/DanPfeiffer/Documents/code/data-collector/env/lib/python3.11/site-packages/sklearn/impute/_base.py:577: UserWarning: Skipping features without any observed values: ['offense_total_4th_down_conversion_pcnt_matchup_differential'\n",
      " 'defense_total_4th_down_conversion_pcnt_matchup_differential']. At least one non-missing value is needed for imputation with strategy='mean'.\n",
      "  warnings.warn(\n"
     ]
    },
    {
     "name": "stdout",
     "output_type": "stream",
     "text": [
      "GBR - Train score: 10.0544 | Validation score: 10.2867\n",
      "\n",
      "Validation year 2014\n"
     ]
    },
    {
     "name": "stderr",
     "output_type": "stream",
     "text": [
      "/Users/DanPfeiffer/Documents/code/data-collector/env/lib/python3.11/site-packages/sklearn/impute/_base.py:577: UserWarning: Skipping features without any observed values: ['offense_total_4th_down_conversion_pcnt_matchup_differential'\n",
      " 'defense_total_4th_down_conversion_pcnt_matchup_differential']. At least one non-missing value is needed for imputation with strategy='mean'.\n",
      "  warnings.warn(\n",
      "/Users/DanPfeiffer/Documents/code/data-collector/env/lib/python3.11/site-packages/sklearn/impute/_base.py:577: UserWarning: Skipping features without any observed values: ['offense_total_4th_down_conversion_pcnt_matchup_differential'\n",
      " 'defense_total_4th_down_conversion_pcnt_matchup_differential']. At least one non-missing value is needed for imputation with strategy='mean'.\n",
      "  warnings.warn(\n",
      "/Users/DanPfeiffer/Documents/code/data-collector/env/lib/python3.11/site-packages/sklearn/impute/_base.py:577: UserWarning: Skipping features without any observed values: ['offense_total_4th_down_conversion_pcnt_matchup_differential'\n",
      " 'defense_total_4th_down_conversion_pcnt_matchup_differential']. At least one non-missing value is needed for imputation with strategy='mean'.\n",
      "  warnings.warn(\n"
     ]
    },
    {
     "name": "stdout",
     "output_type": "stream",
     "text": [
      "GBR - Train score: 9.7116 | Validation score: 11.2620\n",
      "\n",
      "Validation year 2015\n"
     ]
    },
    {
     "name": "stderr",
     "output_type": "stream",
     "text": [
      "/Users/DanPfeiffer/Documents/code/data-collector/env/lib/python3.11/site-packages/sklearn/impute/_base.py:577: UserWarning: Skipping features without any observed values: ['offense_total_4th_down_conversion_pcnt_matchup_differential'\n",
      " 'defense_total_4th_down_conversion_pcnt_matchup_differential']. At least one non-missing value is needed for imputation with strategy='mean'.\n",
      "  warnings.warn(\n",
      "/Users/DanPfeiffer/Documents/code/data-collector/env/lib/python3.11/site-packages/sklearn/impute/_base.py:577: UserWarning: Skipping features without any observed values: ['offense_total_4th_down_conversion_pcnt_matchup_differential'\n",
      " 'defense_total_4th_down_conversion_pcnt_matchup_differential']. At least one non-missing value is needed for imputation with strategy='mean'.\n",
      "  warnings.warn(\n",
      "/Users/DanPfeiffer/Documents/code/data-collector/env/lib/python3.11/site-packages/sklearn/impute/_base.py:577: UserWarning: Skipping features without any observed values: ['offense_total_4th_down_conversion_pcnt_matchup_differential'\n",
      " 'defense_total_4th_down_conversion_pcnt_matchup_differential']. At least one non-missing value is needed for imputation with strategy='mean'.\n",
      "  warnings.warn(\n"
     ]
    },
    {
     "name": "stdout",
     "output_type": "stream",
     "text": [
      "GBR - Train score: 10.3717 | Validation score: 10.5293\n",
      "\n",
      "Validation year 2016\n"
     ]
    },
    {
     "name": "stderr",
     "output_type": "stream",
     "text": [
      "/Users/DanPfeiffer/Documents/code/data-collector/env/lib/python3.11/site-packages/sklearn/impute/_base.py:577: UserWarning: Skipping features without any observed values: ['offense_total_4th_down_conversion_pcnt_matchup_differential'\n",
      " 'defense_total_4th_down_conversion_pcnt_matchup_differential']. At least one non-missing value is needed for imputation with strategy='mean'.\n",
      "  warnings.warn(\n",
      "/Users/DanPfeiffer/Documents/code/data-collector/env/lib/python3.11/site-packages/sklearn/impute/_base.py:577: UserWarning: Skipping features without any observed values: ['offense_total_4th_down_conversion_pcnt_matchup_differential'\n",
      " 'defense_total_4th_down_conversion_pcnt_matchup_differential']. At least one non-missing value is needed for imputation with strategy='mean'.\n",
      "  warnings.warn(\n",
      "/Users/DanPfeiffer/Documents/code/data-collector/env/lib/python3.11/site-packages/sklearn/impute/_base.py:577: UserWarning: Skipping features without any observed values: ['offense_total_4th_down_conversion_pcnt_matchup_differential'\n",
      " 'defense_total_4th_down_conversion_pcnt_matchup_differential']. At least one non-missing value is needed for imputation with strategy='mean'.\n",
      "  warnings.warn(\n"
     ]
    },
    {
     "name": "stdout",
     "output_type": "stream",
     "text": [
      "GBR - Train score: 9.9289 | Validation score: 9.2925\n",
      "\n",
      "Validation year 2017\n"
     ]
    },
    {
     "name": "stderr",
     "output_type": "stream",
     "text": [
      "/Users/DanPfeiffer/Documents/code/data-collector/env/lib/python3.11/site-packages/sklearn/impute/_base.py:577: UserWarning: Skipping features without any observed values: ['road_defense_total_4th_down_conversion_pcnt'\n",
      " 'offense_total_4th_down_conversion_pcnt_matchup_differential'\n",
      " 'home_defense_total_4th_down_conversion_pcnt'\n",
      " 'defense_total_4th_down_conversion_pcnt_matchup_differential']. At least one non-missing value is needed for imputation with strategy='mean'.\n",
      "  warnings.warn(\n",
      "/Users/DanPfeiffer/Documents/code/data-collector/env/lib/python3.11/site-packages/sklearn/impute/_base.py:577: UserWarning: Skipping features without any observed values: ['road_defense_total_4th_down_conversion_pcnt'\n",
      " 'offense_total_4th_down_conversion_pcnt_matchup_differential'\n",
      " 'home_defense_total_4th_down_conversion_pcnt'\n",
      " 'defense_total_4th_down_conversion_pcnt_matchup_differential']. At least one non-missing value is needed for imputation with strategy='mean'.\n",
      "  warnings.warn(\n",
      "/Users/DanPfeiffer/Documents/code/data-collector/env/lib/python3.11/site-packages/sklearn/impute/_base.py:577: UserWarning: Skipping features without any observed values: ['road_defense_total_4th_down_conversion_pcnt'\n",
      " 'offense_total_4th_down_conversion_pcnt_matchup_differential'\n",
      " 'home_defense_total_4th_down_conversion_pcnt'\n",
      " 'defense_total_4th_down_conversion_pcnt_matchup_differential']. At least one non-missing value is needed for imputation with strategy='mean'.\n",
      "  warnings.warn(\n"
     ]
    },
    {
     "name": "stdout",
     "output_type": "stream",
     "text": [
      "GBR - Train score: 9.8804 | Validation score: 10.8809\n",
      "\n",
      "Validation year 2018\n"
     ]
    },
    {
     "name": "stderr",
     "output_type": "stream",
     "text": [
      "/Users/DanPfeiffer/Documents/code/data-collector/env/lib/python3.11/site-packages/sklearn/impute/_base.py:577: UserWarning: Skipping features without any observed values: ['road_defense_total_4th_down_conversion_pcnt'\n",
      " 'offense_total_4th_down_conversion_pcnt_matchup_differential'\n",
      " 'home_defense_total_4th_down_conversion_pcnt'\n",
      " 'defense_total_4th_down_conversion_pcnt_matchup_differential']. At least one non-missing value is needed for imputation with strategy='mean'.\n",
      "  warnings.warn(\n",
      "/Users/DanPfeiffer/Documents/code/data-collector/env/lib/python3.11/site-packages/sklearn/impute/_base.py:577: UserWarning: Skipping features without any observed values: ['road_defense_total_4th_down_conversion_pcnt'\n",
      " 'offense_total_4th_down_conversion_pcnt_matchup_differential'\n",
      " 'home_defense_total_4th_down_conversion_pcnt'\n",
      " 'defense_total_4th_down_conversion_pcnt_matchup_differential']. At least one non-missing value is needed for imputation with strategy='mean'.\n",
      "  warnings.warn(\n",
      "/Users/DanPfeiffer/Documents/code/data-collector/env/lib/python3.11/site-packages/sklearn/impute/_base.py:577: UserWarning: Skipping features without any observed values: ['road_defense_total_4th_down_conversion_pcnt'\n",
      " 'offense_total_4th_down_conversion_pcnt_matchup_differential'\n",
      " 'home_defense_total_4th_down_conversion_pcnt'\n",
      " 'defense_total_4th_down_conversion_pcnt_matchup_differential']. At least one non-missing value is needed for imputation with strategy='mean'.\n",
      "  warnings.warn(\n"
     ]
    },
    {
     "name": "stdout",
     "output_type": "stream",
     "text": [
      "GBR - Train score: 9.7951 | Validation score: 9.8771\n",
      "\n",
      "Validation year 2019\n"
     ]
    },
    {
     "name": "stderr",
     "output_type": "stream",
     "text": [
      "/Users/DanPfeiffer/Documents/code/data-collector/env/lib/python3.11/site-packages/sklearn/impute/_base.py:577: UserWarning: Skipping features without any observed values: ['road_defense_total_4th_down_conversion_pcnt'\n",
      " 'offense_total_4th_down_conversion_pcnt_matchup_differential'\n",
      " 'home_defense_total_4th_down_conversion_pcnt'\n",
      " 'defense_total_4th_down_conversion_pcnt_matchup_differential']. At least one non-missing value is needed for imputation with strategy='mean'.\n",
      "  warnings.warn(\n",
      "/Users/DanPfeiffer/Documents/code/data-collector/env/lib/python3.11/site-packages/sklearn/impute/_base.py:577: UserWarning: Skipping features without any observed values: ['road_defense_total_4th_down_conversion_pcnt'\n",
      " 'offense_total_4th_down_conversion_pcnt_matchup_differential'\n",
      " 'home_defense_total_4th_down_conversion_pcnt'\n",
      " 'defense_total_4th_down_conversion_pcnt_matchup_differential']. At least one non-missing value is needed for imputation with strategy='mean'.\n",
      "  warnings.warn(\n",
      "/Users/DanPfeiffer/Documents/code/data-collector/env/lib/python3.11/site-packages/sklearn/impute/_base.py:577: UserWarning: Skipping features without any observed values: ['road_defense_total_4th_down_conversion_pcnt'\n",
      " 'offense_total_4th_down_conversion_pcnt_matchup_differential'\n",
      " 'home_defense_total_4th_down_conversion_pcnt'\n",
      " 'defense_total_4th_down_conversion_pcnt_matchup_differential']. At least one non-missing value is needed for imputation with strategy='mean'.\n",
      "  warnings.warn(\n"
     ]
    },
    {
     "name": "stdout",
     "output_type": "stream",
     "text": [
      "GBR - Train score: 9.4647 | Validation score: 10.8497\n",
      "\n",
      "Validation year 2020\n"
     ]
    },
    {
     "name": "stderr",
     "output_type": "stream",
     "text": [
      "/Users/DanPfeiffer/Documents/code/data-collector/env/lib/python3.11/site-packages/sklearn/impute/_base.py:577: UserWarning: Skipping features without any observed values: ['road_defense_total_4th_down_conversion_pcnt'\n",
      " 'offense_total_4th_down_conversion_pcnt_matchup_differential'\n",
      " 'home_defense_total_4th_down_conversion_pcnt'\n",
      " 'defense_total_4th_down_conversion_pcnt_matchup_differential']. At least one non-missing value is needed for imputation with strategy='mean'.\n",
      "  warnings.warn(\n",
      "/Users/DanPfeiffer/Documents/code/data-collector/env/lib/python3.11/site-packages/sklearn/impute/_base.py:577: UserWarning: Skipping features without any observed values: ['road_defense_total_4th_down_conversion_pcnt'\n",
      " 'offense_total_4th_down_conversion_pcnt_matchup_differential'\n",
      " 'home_defense_total_4th_down_conversion_pcnt'\n",
      " 'defense_total_4th_down_conversion_pcnt_matchup_differential']. At least one non-missing value is needed for imputation with strategy='mean'.\n",
      "  warnings.warn(\n",
      "/Users/DanPfeiffer/Documents/code/data-collector/env/lib/python3.11/site-packages/sklearn/impute/_base.py:577: UserWarning: Skipping features without any observed values: ['road_defense_total_4th_down_conversion_pcnt'\n",
      " 'offense_total_4th_down_conversion_pcnt_matchup_differential'\n",
      " 'home_defense_total_4th_down_conversion_pcnt'\n",
      " 'defense_total_4th_down_conversion_pcnt_matchup_differential']. At least one non-missing value is needed for imputation with strategy='mean'.\n",
      "  warnings.warn(\n"
     ]
    },
    {
     "name": "stdout",
     "output_type": "stream",
     "text": [
      "GBR - Train score: 9.7713 | Validation score: 10.2123\n",
      "\n",
      "Validation year 2021\n"
     ]
    },
    {
     "name": "stderr",
     "output_type": "stream",
     "text": [
      "/Users/DanPfeiffer/Documents/code/data-collector/env/lib/python3.11/site-packages/sklearn/impute/_base.py:577: UserWarning: Skipping features without any observed values: ['offense_total_4th_down_conversion_pcnt_matchup_differential'\n",
      " 'defense_total_4th_down_conversion_pcnt_matchup_differential']. At least one non-missing value is needed for imputation with strategy='mean'.\n",
      "  warnings.warn(\n",
      "/Users/DanPfeiffer/Documents/code/data-collector/env/lib/python3.11/site-packages/sklearn/impute/_base.py:577: UserWarning: Skipping features without any observed values: ['offense_total_4th_down_conversion_pcnt_matchup_differential'\n",
      " 'defense_total_4th_down_conversion_pcnt_matchup_differential']. At least one non-missing value is needed for imputation with strategy='mean'.\n",
      "  warnings.warn(\n",
      "/Users/DanPfeiffer/Documents/code/data-collector/env/lib/python3.11/site-packages/sklearn/impute/_base.py:577: UserWarning: Skipping features without any observed values: ['offense_total_4th_down_conversion_pcnt_matchup_differential'\n",
      " 'defense_total_4th_down_conversion_pcnt_matchup_differential']. At least one non-missing value is needed for imputation with strategy='mean'.\n",
      "  warnings.warn(\n"
     ]
    },
    {
     "name": "stdout",
     "output_type": "stream",
     "text": [
      "GBR - Train score: 9.2491 | Validation score: 11.4681\n",
      "\n",
      "Validation year 2022\n"
     ]
    },
    {
     "name": "stderr",
     "output_type": "stream",
     "text": [
      "/Users/DanPfeiffer/Documents/code/data-collector/env/lib/python3.11/site-packages/sklearn/impute/_base.py:577: UserWarning: Skipping features without any observed values: ['offense_total_4th_down_conversion_pcnt_matchup_differential'\n",
      " 'defense_total_4th_down_conversion_pcnt_matchup_differential']. At least one non-missing value is needed for imputation with strategy='mean'.\n",
      "  warnings.warn(\n",
      "/Users/DanPfeiffer/Documents/code/data-collector/env/lib/python3.11/site-packages/sklearn/impute/_base.py:577: UserWarning: Skipping features without any observed values: ['offense_total_4th_down_conversion_pcnt_matchup_differential'\n",
      " 'defense_total_4th_down_conversion_pcnt_matchup_differential']. At least one non-missing value is needed for imputation with strategy='mean'.\n",
      "  warnings.warn(\n",
      "/Users/DanPfeiffer/Documents/code/data-collector/env/lib/python3.11/site-packages/sklearn/impute/_base.py:577: UserWarning: Skipping features without any observed values: ['offense_total_4th_down_conversion_pcnt_matchup_differential'\n",
      " 'defense_total_4th_down_conversion_pcnt_matchup_differential']. At least one non-missing value is needed for imputation with strategy='mean'.\n",
      "  warnings.warn(\n"
     ]
    },
    {
     "name": "stdout",
     "output_type": "stream",
     "text": [
      "GBR - Train score: 9.1994 | Validation score: 9.4864\n",
      "\n",
      "Training 16_games_exp_weighted_mean_decay0.82 with GBR\n"
     ]
    },
    {
     "name": "stderr",
     "output_type": "stream",
     "text": [
      "/var/folders/h1/1n1src7x64q_jwgsr43hmkxm0000gq/T/ipykernel_59208/2010834509.py:83: DtypeWarning: Columns (20,46,63) have mixed types. Specify dtype option on import or set low_memory=False.\n",
      "  training_df = pd.read_csv(f\"../data/transformed/{file_name}\")\n"
     ]
    },
    {
     "name": "stdout",
     "output_type": "stream",
     "text": [
      "Validation year 2013\n"
     ]
    },
    {
     "name": "stderr",
     "output_type": "stream",
     "text": [
      "/Users/DanPfeiffer/Documents/code/data-collector/env/lib/python3.11/site-packages/sklearn/impute/_base.py:577: UserWarning: Skipping features without any observed values: ['offense_total_4th_down_conversion_pcnt_matchup_differential'\n",
      " 'defense_total_4th_down_conversion_pcnt_matchup_differential']. At least one non-missing value is needed for imputation with strategy='mean'.\n",
      "  warnings.warn(\n",
      "/Users/DanPfeiffer/Documents/code/data-collector/env/lib/python3.11/site-packages/sklearn/impute/_base.py:577: UserWarning: Skipping features without any observed values: ['offense_total_4th_down_conversion_pcnt_matchup_differential'\n",
      " 'defense_total_4th_down_conversion_pcnt_matchup_differential']. At least one non-missing value is needed for imputation with strategy='mean'.\n",
      "  warnings.warn(\n",
      "/Users/DanPfeiffer/Documents/code/data-collector/env/lib/python3.11/site-packages/sklearn/impute/_base.py:577: UserWarning: Skipping features without any observed values: ['offense_total_4th_down_conversion_pcnt_matchup_differential'\n",
      " 'defense_total_4th_down_conversion_pcnt_matchup_differential']. At least one non-missing value is needed for imputation with strategy='mean'.\n",
      "  warnings.warn(\n"
     ]
    },
    {
     "name": "stdout",
     "output_type": "stream",
     "text": [
      "GBR - Train score: 10.0544 | Validation score: 10.2867\n",
      "\n",
      "Validation year 2014\n"
     ]
    },
    {
     "name": "stderr",
     "output_type": "stream",
     "text": [
      "/Users/DanPfeiffer/Documents/code/data-collector/env/lib/python3.11/site-packages/sklearn/impute/_base.py:577: UserWarning: Skipping features without any observed values: ['offense_total_4th_down_conversion_pcnt_matchup_differential'\n",
      " 'defense_total_4th_down_conversion_pcnt_matchup_differential']. At least one non-missing value is needed for imputation with strategy='mean'.\n",
      "  warnings.warn(\n",
      "/Users/DanPfeiffer/Documents/code/data-collector/env/lib/python3.11/site-packages/sklearn/impute/_base.py:577: UserWarning: Skipping features without any observed values: ['offense_total_4th_down_conversion_pcnt_matchup_differential'\n",
      " 'defense_total_4th_down_conversion_pcnt_matchup_differential']. At least one non-missing value is needed for imputation with strategy='mean'.\n",
      "  warnings.warn(\n",
      "/Users/DanPfeiffer/Documents/code/data-collector/env/lib/python3.11/site-packages/sklearn/impute/_base.py:577: UserWarning: Skipping features without any observed values: ['offense_total_4th_down_conversion_pcnt_matchup_differential'\n",
      " 'defense_total_4th_down_conversion_pcnt_matchup_differential']. At least one non-missing value is needed for imputation with strategy='mean'.\n",
      "  warnings.warn(\n"
     ]
    },
    {
     "name": "stdout",
     "output_type": "stream",
     "text": [
      "GBR - Train score: 9.7116 | Validation score: 11.2620\n",
      "\n",
      "Validation year 2015\n"
     ]
    },
    {
     "name": "stderr",
     "output_type": "stream",
     "text": [
      "/Users/DanPfeiffer/Documents/code/data-collector/env/lib/python3.11/site-packages/sklearn/impute/_base.py:577: UserWarning: Skipping features without any observed values: ['offense_total_4th_down_conversion_pcnt_matchup_differential'\n",
      " 'defense_total_4th_down_conversion_pcnt_matchup_differential']. At least one non-missing value is needed for imputation with strategy='mean'.\n",
      "  warnings.warn(\n",
      "/Users/DanPfeiffer/Documents/code/data-collector/env/lib/python3.11/site-packages/sklearn/impute/_base.py:577: UserWarning: Skipping features without any observed values: ['offense_total_4th_down_conversion_pcnt_matchup_differential'\n",
      " 'defense_total_4th_down_conversion_pcnt_matchup_differential']. At least one non-missing value is needed for imputation with strategy='mean'.\n",
      "  warnings.warn(\n",
      "/Users/DanPfeiffer/Documents/code/data-collector/env/lib/python3.11/site-packages/sklearn/impute/_base.py:577: UserWarning: Skipping features without any observed values: ['offense_total_4th_down_conversion_pcnt_matchup_differential'\n",
      " 'defense_total_4th_down_conversion_pcnt_matchup_differential']. At least one non-missing value is needed for imputation with strategy='mean'.\n",
      "  warnings.warn(\n"
     ]
    },
    {
     "name": "stdout",
     "output_type": "stream",
     "text": [
      "GBR - Train score: 10.3717 | Validation score: 10.5293\n",
      "\n",
      "Validation year 2016\n"
     ]
    },
    {
     "name": "stderr",
     "output_type": "stream",
     "text": [
      "/Users/DanPfeiffer/Documents/code/data-collector/env/lib/python3.11/site-packages/sklearn/impute/_base.py:577: UserWarning: Skipping features without any observed values: ['offense_total_4th_down_conversion_pcnt_matchup_differential'\n",
      " 'defense_total_4th_down_conversion_pcnt_matchup_differential']. At least one non-missing value is needed for imputation with strategy='mean'.\n",
      "  warnings.warn(\n",
      "/Users/DanPfeiffer/Documents/code/data-collector/env/lib/python3.11/site-packages/sklearn/impute/_base.py:577: UserWarning: Skipping features without any observed values: ['offense_total_4th_down_conversion_pcnt_matchup_differential'\n",
      " 'defense_total_4th_down_conversion_pcnt_matchup_differential']. At least one non-missing value is needed for imputation with strategy='mean'.\n",
      "  warnings.warn(\n",
      "/Users/DanPfeiffer/Documents/code/data-collector/env/lib/python3.11/site-packages/sklearn/impute/_base.py:577: UserWarning: Skipping features without any observed values: ['offense_total_4th_down_conversion_pcnt_matchup_differential'\n",
      " 'defense_total_4th_down_conversion_pcnt_matchup_differential']. At least one non-missing value is needed for imputation with strategy='mean'.\n",
      "  warnings.warn(\n"
     ]
    },
    {
     "name": "stdout",
     "output_type": "stream",
     "text": [
      "GBR - Train score: 9.9289 | Validation score: 9.2925\n",
      "\n",
      "Validation year 2017\n"
     ]
    },
    {
     "name": "stderr",
     "output_type": "stream",
     "text": [
      "/Users/DanPfeiffer/Documents/code/data-collector/env/lib/python3.11/site-packages/sklearn/impute/_base.py:577: UserWarning: Skipping features without any observed values: ['road_defense_total_4th_down_conversion_pcnt'\n",
      " 'offense_total_4th_down_conversion_pcnt_matchup_differential'\n",
      " 'home_defense_total_4th_down_conversion_pcnt'\n",
      " 'defense_total_4th_down_conversion_pcnt_matchup_differential']. At least one non-missing value is needed for imputation with strategy='mean'.\n",
      "  warnings.warn(\n",
      "/Users/DanPfeiffer/Documents/code/data-collector/env/lib/python3.11/site-packages/sklearn/impute/_base.py:577: UserWarning: Skipping features without any observed values: ['road_defense_total_4th_down_conversion_pcnt'\n",
      " 'offense_total_4th_down_conversion_pcnt_matchup_differential'\n",
      " 'home_defense_total_4th_down_conversion_pcnt'\n",
      " 'defense_total_4th_down_conversion_pcnt_matchup_differential']. At least one non-missing value is needed for imputation with strategy='mean'.\n",
      "  warnings.warn(\n",
      "/Users/DanPfeiffer/Documents/code/data-collector/env/lib/python3.11/site-packages/sklearn/impute/_base.py:577: UserWarning: Skipping features without any observed values: ['road_defense_total_4th_down_conversion_pcnt'\n",
      " 'offense_total_4th_down_conversion_pcnt_matchup_differential'\n",
      " 'home_defense_total_4th_down_conversion_pcnt'\n",
      " 'defense_total_4th_down_conversion_pcnt_matchup_differential']. At least one non-missing value is needed for imputation with strategy='mean'.\n",
      "  warnings.warn(\n"
     ]
    },
    {
     "name": "stdout",
     "output_type": "stream",
     "text": [
      "GBR - Train score: 9.8804 | Validation score: 10.8809\n",
      "\n",
      "Validation year 2018\n"
     ]
    },
    {
     "name": "stderr",
     "output_type": "stream",
     "text": [
      "/Users/DanPfeiffer/Documents/code/data-collector/env/lib/python3.11/site-packages/sklearn/impute/_base.py:577: UserWarning: Skipping features without any observed values: ['road_defense_total_4th_down_conversion_pcnt'\n",
      " 'offense_total_4th_down_conversion_pcnt_matchup_differential'\n",
      " 'home_defense_total_4th_down_conversion_pcnt'\n",
      " 'defense_total_4th_down_conversion_pcnt_matchup_differential']. At least one non-missing value is needed for imputation with strategy='mean'.\n",
      "  warnings.warn(\n",
      "/Users/DanPfeiffer/Documents/code/data-collector/env/lib/python3.11/site-packages/sklearn/impute/_base.py:577: UserWarning: Skipping features without any observed values: ['road_defense_total_4th_down_conversion_pcnt'\n",
      " 'offense_total_4th_down_conversion_pcnt_matchup_differential'\n",
      " 'home_defense_total_4th_down_conversion_pcnt'\n",
      " 'defense_total_4th_down_conversion_pcnt_matchup_differential']. At least one non-missing value is needed for imputation with strategy='mean'.\n",
      "  warnings.warn(\n",
      "/Users/DanPfeiffer/Documents/code/data-collector/env/lib/python3.11/site-packages/sklearn/impute/_base.py:577: UserWarning: Skipping features without any observed values: ['road_defense_total_4th_down_conversion_pcnt'\n",
      " 'offense_total_4th_down_conversion_pcnt_matchup_differential'\n",
      " 'home_defense_total_4th_down_conversion_pcnt'\n",
      " 'defense_total_4th_down_conversion_pcnt_matchup_differential']. At least one non-missing value is needed for imputation with strategy='mean'.\n",
      "  warnings.warn(\n"
     ]
    },
    {
     "name": "stdout",
     "output_type": "stream",
     "text": [
      "GBR - Train score: 9.7951 | Validation score: 9.8771\n",
      "\n",
      "Validation year 2019\n"
     ]
    },
    {
     "name": "stderr",
     "output_type": "stream",
     "text": [
      "/Users/DanPfeiffer/Documents/code/data-collector/env/lib/python3.11/site-packages/sklearn/impute/_base.py:577: UserWarning: Skipping features without any observed values: ['road_defense_total_4th_down_conversion_pcnt'\n",
      " 'offense_total_4th_down_conversion_pcnt_matchup_differential'\n",
      " 'home_defense_total_4th_down_conversion_pcnt'\n",
      " 'defense_total_4th_down_conversion_pcnt_matchup_differential']. At least one non-missing value is needed for imputation with strategy='mean'.\n",
      "  warnings.warn(\n",
      "/Users/DanPfeiffer/Documents/code/data-collector/env/lib/python3.11/site-packages/sklearn/impute/_base.py:577: UserWarning: Skipping features without any observed values: ['road_defense_total_4th_down_conversion_pcnt'\n",
      " 'offense_total_4th_down_conversion_pcnt_matchup_differential'\n",
      " 'home_defense_total_4th_down_conversion_pcnt'\n",
      " 'defense_total_4th_down_conversion_pcnt_matchup_differential']. At least one non-missing value is needed for imputation with strategy='mean'.\n",
      "  warnings.warn(\n",
      "/Users/DanPfeiffer/Documents/code/data-collector/env/lib/python3.11/site-packages/sklearn/impute/_base.py:577: UserWarning: Skipping features without any observed values: ['road_defense_total_4th_down_conversion_pcnt'\n",
      " 'offense_total_4th_down_conversion_pcnt_matchup_differential'\n",
      " 'home_defense_total_4th_down_conversion_pcnt'\n",
      " 'defense_total_4th_down_conversion_pcnt_matchup_differential']. At least one non-missing value is needed for imputation with strategy='mean'.\n",
      "  warnings.warn(\n"
     ]
    },
    {
     "name": "stdout",
     "output_type": "stream",
     "text": [
      "GBR - Train score: 9.4647 | Validation score: 10.8497\n",
      "\n",
      "Validation year 2020\n"
     ]
    },
    {
     "name": "stderr",
     "output_type": "stream",
     "text": [
      "/Users/DanPfeiffer/Documents/code/data-collector/env/lib/python3.11/site-packages/sklearn/impute/_base.py:577: UserWarning: Skipping features without any observed values: ['road_defense_total_4th_down_conversion_pcnt'\n",
      " 'offense_total_4th_down_conversion_pcnt_matchup_differential'\n",
      " 'home_defense_total_4th_down_conversion_pcnt'\n",
      " 'defense_total_4th_down_conversion_pcnt_matchup_differential']. At least one non-missing value is needed for imputation with strategy='mean'.\n",
      "  warnings.warn(\n",
      "/Users/DanPfeiffer/Documents/code/data-collector/env/lib/python3.11/site-packages/sklearn/impute/_base.py:577: UserWarning: Skipping features without any observed values: ['road_defense_total_4th_down_conversion_pcnt'\n",
      " 'offense_total_4th_down_conversion_pcnt_matchup_differential'\n",
      " 'home_defense_total_4th_down_conversion_pcnt'\n",
      " 'defense_total_4th_down_conversion_pcnt_matchup_differential']. At least one non-missing value is needed for imputation with strategy='mean'.\n",
      "  warnings.warn(\n",
      "/Users/DanPfeiffer/Documents/code/data-collector/env/lib/python3.11/site-packages/sklearn/impute/_base.py:577: UserWarning: Skipping features without any observed values: ['road_defense_total_4th_down_conversion_pcnt'\n",
      " 'offense_total_4th_down_conversion_pcnt_matchup_differential'\n",
      " 'home_defense_total_4th_down_conversion_pcnt'\n",
      " 'defense_total_4th_down_conversion_pcnt_matchup_differential']. At least one non-missing value is needed for imputation with strategy='mean'.\n",
      "  warnings.warn(\n"
     ]
    },
    {
     "name": "stdout",
     "output_type": "stream",
     "text": [
      "GBR - Train score: 9.7713 | Validation score: 10.2123\n",
      "\n",
      "Validation year 2021\n"
     ]
    },
    {
     "name": "stderr",
     "output_type": "stream",
     "text": [
      "/Users/DanPfeiffer/Documents/code/data-collector/env/lib/python3.11/site-packages/sklearn/impute/_base.py:577: UserWarning: Skipping features without any observed values: ['offense_total_4th_down_conversion_pcnt_matchup_differential'\n",
      " 'defense_total_4th_down_conversion_pcnt_matchup_differential']. At least one non-missing value is needed for imputation with strategy='mean'.\n",
      "  warnings.warn(\n",
      "/Users/DanPfeiffer/Documents/code/data-collector/env/lib/python3.11/site-packages/sklearn/impute/_base.py:577: UserWarning: Skipping features without any observed values: ['offense_total_4th_down_conversion_pcnt_matchup_differential'\n",
      " 'defense_total_4th_down_conversion_pcnt_matchup_differential']. At least one non-missing value is needed for imputation with strategy='mean'.\n",
      "  warnings.warn(\n",
      "/Users/DanPfeiffer/Documents/code/data-collector/env/lib/python3.11/site-packages/sklearn/impute/_base.py:577: UserWarning: Skipping features without any observed values: ['offense_total_4th_down_conversion_pcnt_matchup_differential'\n",
      " 'defense_total_4th_down_conversion_pcnt_matchup_differential']. At least one non-missing value is needed for imputation with strategy='mean'.\n",
      "  warnings.warn(\n"
     ]
    },
    {
     "name": "stdout",
     "output_type": "stream",
     "text": [
      "GBR - Train score: 9.2491 | Validation score: 11.4681\n",
      "\n",
      "Validation year 2022\n"
     ]
    },
    {
     "name": "stderr",
     "output_type": "stream",
     "text": [
      "/Users/DanPfeiffer/Documents/code/data-collector/env/lib/python3.11/site-packages/sklearn/impute/_base.py:577: UserWarning: Skipping features without any observed values: ['offense_total_4th_down_conversion_pcnt_matchup_differential'\n",
      " 'defense_total_4th_down_conversion_pcnt_matchup_differential']. At least one non-missing value is needed for imputation with strategy='mean'.\n",
      "  warnings.warn(\n",
      "/Users/DanPfeiffer/Documents/code/data-collector/env/lib/python3.11/site-packages/sklearn/impute/_base.py:577: UserWarning: Skipping features without any observed values: ['offense_total_4th_down_conversion_pcnt_matchup_differential'\n",
      " 'defense_total_4th_down_conversion_pcnt_matchup_differential']. At least one non-missing value is needed for imputation with strategy='mean'.\n",
      "  warnings.warn(\n",
      "/Users/DanPfeiffer/Documents/code/data-collector/env/lib/python3.11/site-packages/sklearn/impute/_base.py:577: UserWarning: Skipping features without any observed values: ['offense_total_4th_down_conversion_pcnt_matchup_differential'\n",
      " 'defense_total_4th_down_conversion_pcnt_matchup_differential']. At least one non-missing value is needed for imputation with strategy='mean'.\n",
      "  warnings.warn(\n"
     ]
    },
    {
     "name": "stdout",
     "output_type": "stream",
     "text": [
      "GBR - Train score: 9.1994 | Validation score: 9.4864\n",
      "\n",
      "Training 16_games_exp_weighted_mean_decay0.8399999999999999 with GBR\n"
     ]
    },
    {
     "name": "stderr",
     "output_type": "stream",
     "text": [
      "/var/folders/h1/1n1src7x64q_jwgsr43hmkxm0000gq/T/ipykernel_59208/2010834509.py:83: DtypeWarning: Columns (20,46,63) have mixed types. Specify dtype option on import or set low_memory=False.\n",
      "  training_df = pd.read_csv(f\"../data/transformed/{file_name}\")\n"
     ]
    },
    {
     "name": "stdout",
     "output_type": "stream",
     "text": [
      "Validation year 2013\n"
     ]
    },
    {
     "name": "stderr",
     "output_type": "stream",
     "text": [
      "/Users/DanPfeiffer/Documents/code/data-collector/env/lib/python3.11/site-packages/sklearn/impute/_base.py:577: UserWarning: Skipping features without any observed values: ['offense_total_4th_down_conversion_pcnt_matchup_differential'\n",
      " 'defense_total_4th_down_conversion_pcnt_matchup_differential']. At least one non-missing value is needed for imputation with strategy='mean'.\n",
      "  warnings.warn(\n",
      "/Users/DanPfeiffer/Documents/code/data-collector/env/lib/python3.11/site-packages/sklearn/impute/_base.py:577: UserWarning: Skipping features without any observed values: ['offense_total_4th_down_conversion_pcnt_matchup_differential'\n",
      " 'defense_total_4th_down_conversion_pcnt_matchup_differential']. At least one non-missing value is needed for imputation with strategy='mean'.\n",
      "  warnings.warn(\n",
      "/Users/DanPfeiffer/Documents/code/data-collector/env/lib/python3.11/site-packages/sklearn/impute/_base.py:577: UserWarning: Skipping features without any observed values: ['offense_total_4th_down_conversion_pcnt_matchup_differential'\n",
      " 'defense_total_4th_down_conversion_pcnt_matchup_differential']. At least one non-missing value is needed for imputation with strategy='mean'.\n",
      "  warnings.warn(\n"
     ]
    },
    {
     "name": "stdout",
     "output_type": "stream",
     "text": [
      "GBR - Train score: 10.3432 | Validation score: 10.0984\n",
      "\n",
      "Validation year 2014\n"
     ]
    },
    {
     "name": "stderr",
     "output_type": "stream",
     "text": [
      "/Users/DanPfeiffer/Documents/code/data-collector/env/lib/python3.11/site-packages/sklearn/impute/_base.py:577: UserWarning: Skipping features without any observed values: ['offense_total_4th_down_conversion_pcnt_matchup_differential'\n",
      " 'defense_total_4th_down_conversion_pcnt_matchup_differential']. At least one non-missing value is needed for imputation with strategy='mean'.\n",
      "  warnings.warn(\n",
      "/Users/DanPfeiffer/Documents/code/data-collector/env/lib/python3.11/site-packages/sklearn/impute/_base.py:577: UserWarning: Skipping features without any observed values: ['offense_total_4th_down_conversion_pcnt_matchup_differential'\n",
      " 'defense_total_4th_down_conversion_pcnt_matchup_differential']. At least one non-missing value is needed for imputation with strategy='mean'.\n",
      "  warnings.warn(\n",
      "/Users/DanPfeiffer/Documents/code/data-collector/env/lib/python3.11/site-packages/sklearn/impute/_base.py:577: UserWarning: Skipping features without any observed values: ['offense_total_4th_down_conversion_pcnt_matchup_differential'\n",
      " 'defense_total_4th_down_conversion_pcnt_matchup_differential']. At least one non-missing value is needed for imputation with strategy='mean'.\n",
      "  warnings.warn(\n"
     ]
    },
    {
     "name": "stdout",
     "output_type": "stream",
     "text": [
      "GBR - Train score: 9.6824 | Validation score: 11.2815\n",
      "\n",
      "Validation year 2015\n"
     ]
    },
    {
     "name": "stderr",
     "output_type": "stream",
     "text": [
      "/Users/DanPfeiffer/Documents/code/data-collector/env/lib/python3.11/site-packages/sklearn/impute/_base.py:577: UserWarning: Skipping features without any observed values: ['offense_total_4th_down_conversion_pcnt_matchup_differential'\n",
      " 'defense_total_4th_down_conversion_pcnt_matchup_differential']. At least one non-missing value is needed for imputation with strategy='mean'.\n",
      "  warnings.warn(\n",
      "/Users/DanPfeiffer/Documents/code/data-collector/env/lib/python3.11/site-packages/sklearn/impute/_base.py:577: UserWarning: Skipping features without any observed values: ['offense_total_4th_down_conversion_pcnt_matchup_differential'\n",
      " 'defense_total_4th_down_conversion_pcnt_matchup_differential']. At least one non-missing value is needed for imputation with strategy='mean'.\n",
      "  warnings.warn(\n",
      "/Users/DanPfeiffer/Documents/code/data-collector/env/lib/python3.11/site-packages/sklearn/impute/_base.py:577: UserWarning: Skipping features without any observed values: ['offense_total_4th_down_conversion_pcnt_matchup_differential'\n",
      " 'defense_total_4th_down_conversion_pcnt_matchup_differential']. At least one non-missing value is needed for imputation with strategy='mean'.\n",
      "  warnings.warn(\n"
     ]
    },
    {
     "name": "stdout",
     "output_type": "stream",
     "text": [
      "GBR - Train score: 10.1790 | Validation score: 10.4803\n",
      "\n",
      "Validation year 2016\n"
     ]
    },
    {
     "name": "stderr",
     "output_type": "stream",
     "text": [
      "/Users/DanPfeiffer/Documents/code/data-collector/env/lib/python3.11/site-packages/sklearn/impute/_base.py:577: UserWarning: Skipping features without any observed values: ['offense_total_4th_down_conversion_pcnt_matchup_differential'\n",
      " 'defense_total_4th_down_conversion_pcnt_matchup_differential']. At least one non-missing value is needed for imputation with strategy='mean'.\n",
      "  warnings.warn(\n",
      "/Users/DanPfeiffer/Documents/code/data-collector/env/lib/python3.11/site-packages/sklearn/impute/_base.py:577: UserWarning: Skipping features without any observed values: ['offense_total_4th_down_conversion_pcnt_matchup_differential'\n",
      " 'defense_total_4th_down_conversion_pcnt_matchup_differential']. At least one non-missing value is needed for imputation with strategy='mean'.\n",
      "  warnings.warn(\n",
      "/Users/DanPfeiffer/Documents/code/data-collector/env/lib/python3.11/site-packages/sklearn/impute/_base.py:577: UserWarning: Skipping features without any observed values: ['offense_total_4th_down_conversion_pcnt_matchup_differential'\n",
      " 'defense_total_4th_down_conversion_pcnt_matchup_differential']. At least one non-missing value is needed for imputation with strategy='mean'.\n",
      "  warnings.warn(\n"
     ]
    },
    {
     "name": "stdout",
     "output_type": "stream",
     "text": [
      "GBR - Train score: 9.8824 | Validation score: 9.2954\n",
      "\n",
      "Validation year 2017\n"
     ]
    },
    {
     "name": "stderr",
     "output_type": "stream",
     "text": [
      "/Users/DanPfeiffer/Documents/code/data-collector/env/lib/python3.11/site-packages/sklearn/impute/_base.py:577: UserWarning: Skipping features without any observed values: ['road_defense_total_4th_down_conversion_pcnt'\n",
      " 'offense_total_4th_down_conversion_pcnt_matchup_differential'\n",
      " 'home_defense_total_4th_down_conversion_pcnt'\n",
      " 'defense_total_4th_down_conversion_pcnt_matchup_differential']. At least one non-missing value is needed for imputation with strategy='mean'.\n",
      "  warnings.warn(\n",
      "/Users/DanPfeiffer/Documents/code/data-collector/env/lib/python3.11/site-packages/sklearn/impute/_base.py:577: UserWarning: Skipping features without any observed values: ['road_defense_total_4th_down_conversion_pcnt'\n",
      " 'offense_total_4th_down_conversion_pcnt_matchup_differential'\n",
      " 'home_defense_total_4th_down_conversion_pcnt'\n",
      " 'defense_total_4th_down_conversion_pcnt_matchup_differential']. At least one non-missing value is needed for imputation with strategy='mean'.\n",
      "  warnings.warn(\n",
      "/Users/DanPfeiffer/Documents/code/data-collector/env/lib/python3.11/site-packages/sklearn/impute/_base.py:577: UserWarning: Skipping features without any observed values: ['road_defense_total_4th_down_conversion_pcnt'\n",
      " 'offense_total_4th_down_conversion_pcnt_matchup_differential'\n",
      " 'home_defense_total_4th_down_conversion_pcnt'\n",
      " 'defense_total_4th_down_conversion_pcnt_matchup_differential']. At least one non-missing value is needed for imputation with strategy='mean'.\n",
      "  warnings.warn(\n"
     ]
    },
    {
     "name": "stdout",
     "output_type": "stream",
     "text": [
      "GBR - Train score: 9.5099 | Validation score: 10.9074\n",
      "\n",
      "Validation year 2018\n"
     ]
    },
    {
     "name": "stderr",
     "output_type": "stream",
     "text": [
      "/Users/DanPfeiffer/Documents/code/data-collector/env/lib/python3.11/site-packages/sklearn/impute/_base.py:577: UserWarning: Skipping features without any observed values: ['road_defense_total_4th_down_conversion_pcnt'\n",
      " 'offense_total_4th_down_conversion_pcnt_matchup_differential'\n",
      " 'home_defense_total_4th_down_conversion_pcnt'\n",
      " 'defense_total_4th_down_conversion_pcnt_matchup_differential']. At least one non-missing value is needed for imputation with strategy='mean'.\n",
      "  warnings.warn(\n",
      "/Users/DanPfeiffer/Documents/code/data-collector/env/lib/python3.11/site-packages/sklearn/impute/_base.py:577: UserWarning: Skipping features without any observed values: ['road_defense_total_4th_down_conversion_pcnt'\n",
      " 'offense_total_4th_down_conversion_pcnt_matchup_differential'\n",
      " 'home_defense_total_4th_down_conversion_pcnt'\n",
      " 'defense_total_4th_down_conversion_pcnt_matchup_differential']. At least one non-missing value is needed for imputation with strategy='mean'.\n",
      "  warnings.warn(\n",
      "/Users/DanPfeiffer/Documents/code/data-collector/env/lib/python3.11/site-packages/sklearn/impute/_base.py:577: UserWarning: Skipping features without any observed values: ['road_defense_total_4th_down_conversion_pcnt'\n",
      " 'offense_total_4th_down_conversion_pcnt_matchup_differential'\n",
      " 'home_defense_total_4th_down_conversion_pcnt'\n",
      " 'defense_total_4th_down_conversion_pcnt_matchup_differential']. At least one non-missing value is needed for imputation with strategy='mean'.\n",
      "  warnings.warn(\n"
     ]
    },
    {
     "name": "stdout",
     "output_type": "stream",
     "text": [
      "GBR - Train score: 9.5030 | Validation score: 10.0506\n",
      "\n",
      "Validation year 2019\n"
     ]
    },
    {
     "name": "stderr",
     "output_type": "stream",
     "text": [
      "/Users/DanPfeiffer/Documents/code/data-collector/env/lib/python3.11/site-packages/sklearn/impute/_base.py:577: UserWarning: Skipping features without any observed values: ['road_defense_total_4th_down_conversion_pcnt'\n",
      " 'offense_total_4th_down_conversion_pcnt_matchup_differential'\n",
      " 'home_defense_total_4th_down_conversion_pcnt'\n",
      " 'defense_total_4th_down_conversion_pcnt_matchup_differential']. At least one non-missing value is needed for imputation with strategy='mean'.\n",
      "  warnings.warn(\n",
      "/Users/DanPfeiffer/Documents/code/data-collector/env/lib/python3.11/site-packages/sklearn/impute/_base.py:577: UserWarning: Skipping features without any observed values: ['road_defense_total_4th_down_conversion_pcnt'\n",
      " 'offense_total_4th_down_conversion_pcnt_matchup_differential'\n",
      " 'home_defense_total_4th_down_conversion_pcnt'\n",
      " 'defense_total_4th_down_conversion_pcnt_matchup_differential']. At least one non-missing value is needed for imputation with strategy='mean'.\n",
      "  warnings.warn(\n",
      "/Users/DanPfeiffer/Documents/code/data-collector/env/lib/python3.11/site-packages/sklearn/impute/_base.py:577: UserWarning: Skipping features without any observed values: ['road_defense_total_4th_down_conversion_pcnt'\n",
      " 'offense_total_4th_down_conversion_pcnt_matchup_differential'\n",
      " 'home_defense_total_4th_down_conversion_pcnt'\n",
      " 'defense_total_4th_down_conversion_pcnt_matchup_differential']. At least one non-missing value is needed for imputation with strategy='mean'.\n",
      "  warnings.warn(\n"
     ]
    },
    {
     "name": "stdout",
     "output_type": "stream",
     "text": [
      "GBR - Train score: 9.2519 | Validation score: 10.8498\n",
      "\n",
      "Validation year 2020\n"
     ]
    },
    {
     "name": "stderr",
     "output_type": "stream",
     "text": [
      "/Users/DanPfeiffer/Documents/code/data-collector/env/lib/python3.11/site-packages/sklearn/impute/_base.py:577: UserWarning: Skipping features without any observed values: ['road_defense_total_4th_down_conversion_pcnt'\n",
      " 'offense_total_4th_down_conversion_pcnt_matchup_differential'\n",
      " 'home_defense_total_4th_down_conversion_pcnt'\n",
      " 'defense_total_4th_down_conversion_pcnt_matchup_differential']. At least one non-missing value is needed for imputation with strategy='mean'.\n",
      "  warnings.warn(\n",
      "/Users/DanPfeiffer/Documents/code/data-collector/env/lib/python3.11/site-packages/sklearn/impute/_base.py:577: UserWarning: Skipping features without any observed values: ['road_defense_total_4th_down_conversion_pcnt'\n",
      " 'offense_total_4th_down_conversion_pcnt_matchup_differential'\n",
      " 'home_defense_total_4th_down_conversion_pcnt'\n",
      " 'defense_total_4th_down_conversion_pcnt_matchup_differential']. At least one non-missing value is needed for imputation with strategy='mean'.\n",
      "  warnings.warn(\n",
      "/Users/DanPfeiffer/Documents/code/data-collector/env/lib/python3.11/site-packages/sklearn/impute/_base.py:577: UserWarning: Skipping features without any observed values: ['road_defense_total_4th_down_conversion_pcnt'\n",
      " 'offense_total_4th_down_conversion_pcnt_matchup_differential'\n",
      " 'home_defense_total_4th_down_conversion_pcnt'\n",
      " 'defense_total_4th_down_conversion_pcnt_matchup_differential']. At least one non-missing value is needed for imputation with strategy='mean'.\n",
      "  warnings.warn(\n"
     ]
    },
    {
     "name": "stdout",
     "output_type": "stream",
     "text": [
      "GBR - Train score: 9.7476 | Validation score: 10.2437\n",
      "\n",
      "Validation year 2021\n"
     ]
    },
    {
     "name": "stderr",
     "output_type": "stream",
     "text": [
      "/Users/DanPfeiffer/Documents/code/data-collector/env/lib/python3.11/site-packages/sklearn/impute/_base.py:577: UserWarning: Skipping features without any observed values: ['offense_total_4th_down_conversion_pcnt_matchup_differential'\n",
      " 'defense_total_4th_down_conversion_pcnt_matchup_differential']. At least one non-missing value is needed for imputation with strategy='mean'.\n",
      "  warnings.warn(\n",
      "/Users/DanPfeiffer/Documents/code/data-collector/env/lib/python3.11/site-packages/sklearn/impute/_base.py:577: UserWarning: Skipping features without any observed values: ['offense_total_4th_down_conversion_pcnt_matchup_differential'\n",
      " 'defense_total_4th_down_conversion_pcnt_matchup_differential']. At least one non-missing value is needed for imputation with strategy='mean'.\n",
      "  warnings.warn(\n",
      "/Users/DanPfeiffer/Documents/code/data-collector/env/lib/python3.11/site-packages/sklearn/impute/_base.py:577: UserWarning: Skipping features without any observed values: ['offense_total_4th_down_conversion_pcnt_matchup_differential'\n",
      " 'defense_total_4th_down_conversion_pcnt_matchup_differential']. At least one non-missing value is needed for imputation with strategy='mean'.\n",
      "  warnings.warn(\n"
     ]
    },
    {
     "name": "stdout",
     "output_type": "stream",
     "text": [
      "GBR - Train score: 8.6503 | Validation score: 11.5383\n",
      "\n",
      "Validation year 2022\n"
     ]
    },
    {
     "name": "stderr",
     "output_type": "stream",
     "text": [
      "/Users/DanPfeiffer/Documents/code/data-collector/env/lib/python3.11/site-packages/sklearn/impute/_base.py:577: UserWarning: Skipping features without any observed values: ['offense_total_4th_down_conversion_pcnt_matchup_differential'\n",
      " 'defense_total_4th_down_conversion_pcnt_matchup_differential']. At least one non-missing value is needed for imputation with strategy='mean'.\n",
      "  warnings.warn(\n",
      "/Users/DanPfeiffer/Documents/code/data-collector/env/lib/python3.11/site-packages/sklearn/impute/_base.py:577: UserWarning: Skipping features without any observed values: ['offense_total_4th_down_conversion_pcnt_matchup_differential'\n",
      " 'defense_total_4th_down_conversion_pcnt_matchup_differential']. At least one non-missing value is needed for imputation with strategy='mean'.\n",
      "  warnings.warn(\n",
      "/Users/DanPfeiffer/Documents/code/data-collector/env/lib/python3.11/site-packages/sklearn/impute/_base.py:577: UserWarning: Skipping features without any observed values: ['offense_total_4th_down_conversion_pcnt_matchup_differential'\n",
      " 'defense_total_4th_down_conversion_pcnt_matchup_differential']. At least one non-missing value is needed for imputation with strategy='mean'.\n",
      "  warnings.warn(\n"
     ]
    },
    {
     "name": "stdout",
     "output_type": "stream",
     "text": [
      "GBR - Train score: 9.4140 | Validation score: 9.4580\n",
      "\n",
      "Training 16_games_exp_weighted_mean_decay0.8599999999999999 with GBR\n"
     ]
    },
    {
     "name": "stderr",
     "output_type": "stream",
     "text": [
      "/var/folders/h1/1n1src7x64q_jwgsr43hmkxm0000gq/T/ipykernel_59208/2010834509.py:83: DtypeWarning: Columns (20,46,63) have mixed types. Specify dtype option on import or set low_memory=False.\n",
      "  training_df = pd.read_csv(f\"../data/transformed/{file_name}\")\n"
     ]
    },
    {
     "name": "stdout",
     "output_type": "stream",
     "text": [
      "Validation year 2013\n"
     ]
    },
    {
     "name": "stderr",
     "output_type": "stream",
     "text": [
      "/Users/DanPfeiffer/Documents/code/data-collector/env/lib/python3.11/site-packages/sklearn/impute/_base.py:577: UserWarning: Skipping features without any observed values: ['offense_total_4th_down_conversion_pcnt_matchup_differential'\n",
      " 'defense_total_4th_down_conversion_pcnt_matchup_differential']. At least one non-missing value is needed for imputation with strategy='mean'.\n",
      "  warnings.warn(\n",
      "/Users/DanPfeiffer/Documents/code/data-collector/env/lib/python3.11/site-packages/sklearn/impute/_base.py:577: UserWarning: Skipping features without any observed values: ['offense_total_4th_down_conversion_pcnt_matchup_differential'\n",
      " 'defense_total_4th_down_conversion_pcnt_matchup_differential']. At least one non-missing value is needed for imputation with strategy='mean'.\n",
      "  warnings.warn(\n",
      "/Users/DanPfeiffer/Documents/code/data-collector/env/lib/python3.11/site-packages/sklearn/impute/_base.py:577: UserWarning: Skipping features without any observed values: ['offense_total_4th_down_conversion_pcnt_matchup_differential'\n",
      " 'defense_total_4th_down_conversion_pcnt_matchup_differential']. At least one non-missing value is needed for imputation with strategy='mean'.\n",
      "  warnings.warn(\n"
     ]
    },
    {
     "name": "stdout",
     "output_type": "stream",
     "text": [
      "GBR - Train score: 10.0205 | Validation score: 10.4278\n",
      "\n",
      "Validation year 2014\n"
     ]
    },
    {
     "name": "stderr",
     "output_type": "stream",
     "text": [
      "/Users/DanPfeiffer/Documents/code/data-collector/env/lib/python3.11/site-packages/sklearn/impute/_base.py:577: UserWarning: Skipping features without any observed values: ['offense_total_4th_down_conversion_pcnt_matchup_differential'\n",
      " 'defense_total_4th_down_conversion_pcnt_matchup_differential']. At least one non-missing value is needed for imputation with strategy='mean'.\n",
      "  warnings.warn(\n",
      "/Users/DanPfeiffer/Documents/code/data-collector/env/lib/python3.11/site-packages/sklearn/impute/_base.py:577: UserWarning: Skipping features without any observed values: ['offense_total_4th_down_conversion_pcnt_matchup_differential'\n",
      " 'defense_total_4th_down_conversion_pcnt_matchup_differential']. At least one non-missing value is needed for imputation with strategy='mean'.\n",
      "  warnings.warn(\n",
      "/Users/DanPfeiffer/Documents/code/data-collector/env/lib/python3.11/site-packages/sklearn/impute/_base.py:577: UserWarning: Skipping features without any observed values: ['offense_total_4th_down_conversion_pcnt_matchup_differential'\n",
      " 'defense_total_4th_down_conversion_pcnt_matchup_differential']. At least one non-missing value is needed for imputation with strategy='mean'.\n",
      "  warnings.warn(\n"
     ]
    },
    {
     "name": "stdout",
     "output_type": "stream",
     "text": [
      "GBR - Train score: 10.0257 | Validation score: 11.2991\n",
      "\n",
      "Validation year 2015\n"
     ]
    },
    {
     "name": "stderr",
     "output_type": "stream",
     "text": [
      "/Users/DanPfeiffer/Documents/code/data-collector/env/lib/python3.11/site-packages/sklearn/impute/_base.py:577: UserWarning: Skipping features without any observed values: ['offense_total_4th_down_conversion_pcnt_matchup_differential'\n",
      " 'defense_total_4th_down_conversion_pcnt_matchup_differential']. At least one non-missing value is needed for imputation with strategy='mean'.\n",
      "  warnings.warn(\n",
      "/Users/DanPfeiffer/Documents/code/data-collector/env/lib/python3.11/site-packages/sklearn/impute/_base.py:577: UserWarning: Skipping features without any observed values: ['offense_total_4th_down_conversion_pcnt_matchup_differential'\n",
      " 'defense_total_4th_down_conversion_pcnt_matchup_differential']. At least one non-missing value is needed for imputation with strategy='mean'.\n",
      "  warnings.warn(\n",
      "/Users/DanPfeiffer/Documents/code/data-collector/env/lib/python3.11/site-packages/sklearn/impute/_base.py:577: UserWarning: Skipping features without any observed values: ['offense_total_4th_down_conversion_pcnt_matchup_differential'\n",
      " 'defense_total_4th_down_conversion_pcnt_matchup_differential']. At least one non-missing value is needed for imputation with strategy='mean'.\n",
      "  warnings.warn(\n"
     ]
    },
    {
     "name": "stdout",
     "output_type": "stream",
     "text": [
      "GBR - Train score: 10.3697 | Validation score: 10.4605\n",
      "\n",
      "Validation year 2016\n"
     ]
    },
    {
     "name": "stderr",
     "output_type": "stream",
     "text": [
      "/Users/DanPfeiffer/Documents/code/data-collector/env/lib/python3.11/site-packages/sklearn/impute/_base.py:577: UserWarning: Skipping features without any observed values: ['offense_total_4th_down_conversion_pcnt_matchup_differential'\n",
      " 'defense_total_4th_down_conversion_pcnt_matchup_differential']. At least one non-missing value is needed for imputation with strategy='mean'.\n",
      "  warnings.warn(\n",
      "/Users/DanPfeiffer/Documents/code/data-collector/env/lib/python3.11/site-packages/sklearn/impute/_base.py:577: UserWarning: Skipping features without any observed values: ['offense_total_4th_down_conversion_pcnt_matchup_differential'\n",
      " 'defense_total_4th_down_conversion_pcnt_matchup_differential']. At least one non-missing value is needed for imputation with strategy='mean'.\n",
      "  warnings.warn(\n",
      "/Users/DanPfeiffer/Documents/code/data-collector/env/lib/python3.11/site-packages/sklearn/impute/_base.py:577: UserWarning: Skipping features without any observed values: ['offense_total_4th_down_conversion_pcnt_matchup_differential'\n",
      " 'defense_total_4th_down_conversion_pcnt_matchup_differential']. At least one non-missing value is needed for imputation with strategy='mean'.\n",
      "  warnings.warn(\n"
     ]
    },
    {
     "name": "stdout",
     "output_type": "stream",
     "text": [
      "GBR - Train score: 10.0745 | Validation score: 9.3159\n",
      "\n",
      "Validation year 2017\n"
     ]
    },
    {
     "name": "stderr",
     "output_type": "stream",
     "text": [
      "/Users/DanPfeiffer/Documents/code/data-collector/env/lib/python3.11/site-packages/sklearn/impute/_base.py:577: UserWarning: Skipping features without any observed values: ['road_defense_total_4th_down_conversion_pcnt'\n",
      " 'offense_total_4th_down_conversion_pcnt_matchup_differential'\n",
      " 'home_defense_total_4th_down_conversion_pcnt'\n",
      " 'defense_total_4th_down_conversion_pcnt_matchup_differential']. At least one non-missing value is needed for imputation with strategy='mean'.\n",
      "  warnings.warn(\n",
      "/Users/DanPfeiffer/Documents/code/data-collector/env/lib/python3.11/site-packages/sklearn/impute/_base.py:577: UserWarning: Skipping features without any observed values: ['road_defense_total_4th_down_conversion_pcnt'\n",
      " 'offense_total_4th_down_conversion_pcnt_matchup_differential'\n",
      " 'home_defense_total_4th_down_conversion_pcnt'\n",
      " 'defense_total_4th_down_conversion_pcnt_matchup_differential']. At least one non-missing value is needed for imputation with strategy='mean'.\n",
      "  warnings.warn(\n",
      "/Users/DanPfeiffer/Documents/code/data-collector/env/lib/python3.11/site-packages/sklearn/impute/_base.py:577: UserWarning: Skipping features without any observed values: ['road_defense_total_4th_down_conversion_pcnt'\n",
      " 'offense_total_4th_down_conversion_pcnt_matchup_differential'\n",
      " 'home_defense_total_4th_down_conversion_pcnt'\n",
      " 'defense_total_4th_down_conversion_pcnt_matchup_differential']. At least one non-missing value is needed for imputation with strategy='mean'.\n",
      "  warnings.warn(\n"
     ]
    },
    {
     "name": "stdout",
     "output_type": "stream",
     "text": [
      "GBR - Train score: 9.6780 | Validation score: 10.7529\n",
      "\n",
      "Validation year 2018\n"
     ]
    },
    {
     "name": "stderr",
     "output_type": "stream",
     "text": [
      "/Users/DanPfeiffer/Documents/code/data-collector/env/lib/python3.11/site-packages/sklearn/impute/_base.py:577: UserWarning: Skipping features without any observed values: ['road_defense_total_4th_down_conversion_pcnt'\n",
      " 'offense_total_4th_down_conversion_pcnt_matchup_differential'\n",
      " 'home_defense_total_4th_down_conversion_pcnt'\n",
      " 'defense_total_4th_down_conversion_pcnt_matchup_differential']. At least one non-missing value is needed for imputation with strategy='mean'.\n",
      "  warnings.warn(\n",
      "/Users/DanPfeiffer/Documents/code/data-collector/env/lib/python3.11/site-packages/sklearn/impute/_base.py:577: UserWarning: Skipping features without any observed values: ['road_defense_total_4th_down_conversion_pcnt'\n",
      " 'offense_total_4th_down_conversion_pcnt_matchup_differential'\n",
      " 'home_defense_total_4th_down_conversion_pcnt'\n",
      " 'defense_total_4th_down_conversion_pcnt_matchup_differential']. At least one non-missing value is needed for imputation with strategy='mean'.\n",
      "  warnings.warn(\n",
      "/Users/DanPfeiffer/Documents/code/data-collector/env/lib/python3.11/site-packages/sklearn/impute/_base.py:577: UserWarning: Skipping features without any observed values: ['road_defense_total_4th_down_conversion_pcnt'\n",
      " 'offense_total_4th_down_conversion_pcnt_matchup_differential'\n",
      " 'home_defense_total_4th_down_conversion_pcnt'\n",
      " 'defense_total_4th_down_conversion_pcnt_matchup_differential']. At least one non-missing value is needed for imputation with strategy='mean'.\n",
      "  warnings.warn(\n"
     ]
    },
    {
     "name": "stdout",
     "output_type": "stream",
     "text": [
      "GBR - Train score: 9.8810 | Validation score: 10.0238\n",
      "\n",
      "Validation year 2019\n"
     ]
    },
    {
     "name": "stderr",
     "output_type": "stream",
     "text": [
      "/Users/DanPfeiffer/Documents/code/data-collector/env/lib/python3.11/site-packages/sklearn/impute/_base.py:577: UserWarning: Skipping features without any observed values: ['road_defense_total_4th_down_conversion_pcnt'\n",
      " 'offense_total_4th_down_conversion_pcnt_matchup_differential'\n",
      " 'home_defense_total_4th_down_conversion_pcnt'\n",
      " 'defense_total_4th_down_conversion_pcnt_matchup_differential']. At least one non-missing value is needed for imputation with strategy='mean'.\n",
      "  warnings.warn(\n",
      "/Users/DanPfeiffer/Documents/code/data-collector/env/lib/python3.11/site-packages/sklearn/impute/_base.py:577: UserWarning: Skipping features without any observed values: ['road_defense_total_4th_down_conversion_pcnt'\n",
      " 'offense_total_4th_down_conversion_pcnt_matchup_differential'\n",
      " 'home_defense_total_4th_down_conversion_pcnt'\n",
      " 'defense_total_4th_down_conversion_pcnt_matchup_differential']. At least one non-missing value is needed for imputation with strategy='mean'.\n",
      "  warnings.warn(\n",
      "/Users/DanPfeiffer/Documents/code/data-collector/env/lib/python3.11/site-packages/sklearn/impute/_base.py:577: UserWarning: Skipping features without any observed values: ['road_defense_total_4th_down_conversion_pcnt'\n",
      " 'offense_total_4th_down_conversion_pcnt_matchup_differential'\n",
      " 'home_defense_total_4th_down_conversion_pcnt'\n",
      " 'defense_total_4th_down_conversion_pcnt_matchup_differential']. At least one non-missing value is needed for imputation with strategy='mean'.\n",
      "  warnings.warn(\n"
     ]
    },
    {
     "name": "stdout",
     "output_type": "stream",
     "text": [
      "GBR - Train score: 9.4852 | Validation score: 10.8017\n",
      "\n",
      "Validation year 2020\n"
     ]
    },
    {
     "name": "stderr",
     "output_type": "stream",
     "text": [
      "/Users/DanPfeiffer/Documents/code/data-collector/env/lib/python3.11/site-packages/sklearn/impute/_base.py:577: UserWarning: Skipping features without any observed values: ['road_defense_total_4th_down_conversion_pcnt'\n",
      " 'offense_total_4th_down_conversion_pcnt_matchup_differential'\n",
      " 'home_defense_total_4th_down_conversion_pcnt'\n",
      " 'defense_total_4th_down_conversion_pcnt_matchup_differential']. At least one non-missing value is needed for imputation with strategy='mean'.\n",
      "  warnings.warn(\n",
      "/Users/DanPfeiffer/Documents/code/data-collector/env/lib/python3.11/site-packages/sklearn/impute/_base.py:577: UserWarning: Skipping features without any observed values: ['road_defense_total_4th_down_conversion_pcnt'\n",
      " 'offense_total_4th_down_conversion_pcnt_matchup_differential'\n",
      " 'home_defense_total_4th_down_conversion_pcnt'\n",
      " 'defense_total_4th_down_conversion_pcnt_matchup_differential']. At least one non-missing value is needed for imputation with strategy='mean'.\n",
      "  warnings.warn(\n",
      "/Users/DanPfeiffer/Documents/code/data-collector/env/lib/python3.11/site-packages/sklearn/impute/_base.py:577: UserWarning: Skipping features without any observed values: ['road_defense_total_4th_down_conversion_pcnt'\n",
      " 'offense_total_4th_down_conversion_pcnt_matchup_differential'\n",
      " 'home_defense_total_4th_down_conversion_pcnt'\n",
      " 'defense_total_4th_down_conversion_pcnt_matchup_differential']. At least one non-missing value is needed for imputation with strategy='mean'.\n",
      "  warnings.warn(\n"
     ]
    },
    {
     "name": "stdout",
     "output_type": "stream",
     "text": [
      "GBR - Train score: 8.9871 | Validation score: 10.3793\n",
      "\n",
      "Validation year 2021\n"
     ]
    },
    {
     "name": "stderr",
     "output_type": "stream",
     "text": [
      "/Users/DanPfeiffer/Documents/code/data-collector/env/lib/python3.11/site-packages/sklearn/impute/_base.py:577: UserWarning: Skipping features without any observed values: ['offense_total_4th_down_conversion_pcnt_matchup_differential'\n",
      " 'defense_total_4th_down_conversion_pcnt_matchup_differential']. At least one non-missing value is needed for imputation with strategy='mean'.\n",
      "  warnings.warn(\n",
      "/Users/DanPfeiffer/Documents/code/data-collector/env/lib/python3.11/site-packages/sklearn/impute/_base.py:577: UserWarning: Skipping features without any observed values: ['offense_total_4th_down_conversion_pcnt_matchup_differential'\n",
      " 'defense_total_4th_down_conversion_pcnt_matchup_differential']. At least one non-missing value is needed for imputation with strategy='mean'.\n",
      "  warnings.warn(\n",
      "/Users/DanPfeiffer/Documents/code/data-collector/env/lib/python3.11/site-packages/sklearn/impute/_base.py:577: UserWarning: Skipping features without any observed values: ['offense_total_4th_down_conversion_pcnt_matchup_differential'\n",
      " 'defense_total_4th_down_conversion_pcnt_matchup_differential']. At least one non-missing value is needed for imputation with strategy='mean'.\n",
      "  warnings.warn(\n"
     ]
    },
    {
     "name": "stdout",
     "output_type": "stream",
     "text": [
      "GBR - Train score: 9.6203 | Validation score: 11.4386\n",
      "\n",
      "Validation year 2022\n"
     ]
    },
    {
     "name": "stderr",
     "output_type": "stream",
     "text": [
      "/Users/DanPfeiffer/Documents/code/data-collector/env/lib/python3.11/site-packages/sklearn/impute/_base.py:577: UserWarning: Skipping features without any observed values: ['offense_total_4th_down_conversion_pcnt_matchup_differential'\n",
      " 'defense_total_4th_down_conversion_pcnt_matchup_differential']. At least one non-missing value is needed for imputation with strategy='mean'.\n",
      "  warnings.warn(\n",
      "/Users/DanPfeiffer/Documents/code/data-collector/env/lib/python3.11/site-packages/sklearn/impute/_base.py:577: UserWarning: Skipping features without any observed values: ['offense_total_4th_down_conversion_pcnt_matchup_differential'\n",
      " 'defense_total_4th_down_conversion_pcnt_matchup_differential']. At least one non-missing value is needed for imputation with strategy='mean'.\n",
      "  warnings.warn(\n",
      "/Users/DanPfeiffer/Documents/code/data-collector/env/lib/python3.11/site-packages/sklearn/impute/_base.py:577: UserWarning: Skipping features without any observed values: ['offense_total_4th_down_conversion_pcnt_matchup_differential'\n",
      " 'defense_total_4th_down_conversion_pcnt_matchup_differential']. At least one non-missing value is needed for imputation with strategy='mean'.\n",
      "  warnings.warn(\n"
     ]
    },
    {
     "name": "stdout",
     "output_type": "stream",
     "text": [
      "GBR - Train score: 8.9478 | Validation score: 9.4440\n",
      "\n",
      "Training 16_games_exp_weighted_mean_decay0.8799999999999999 with GBR\n"
     ]
    },
    {
     "name": "stderr",
     "output_type": "stream",
     "text": [
      "/var/folders/h1/1n1src7x64q_jwgsr43hmkxm0000gq/T/ipykernel_59208/2010834509.py:83: DtypeWarning: Columns (20,46,63) have mixed types. Specify dtype option on import or set low_memory=False.\n",
      "  training_df = pd.read_csv(f\"../data/transformed/{file_name}\")\n"
     ]
    },
    {
     "name": "stdout",
     "output_type": "stream",
     "text": [
      "Validation year 2013\n"
     ]
    },
    {
     "name": "stderr",
     "output_type": "stream",
     "text": [
      "/Users/DanPfeiffer/Documents/code/data-collector/env/lib/python3.11/site-packages/sklearn/impute/_base.py:577: UserWarning: Skipping features without any observed values: ['offense_total_4th_down_conversion_pcnt_matchup_differential'\n",
      " 'defense_total_4th_down_conversion_pcnt_matchup_differential']. At least one non-missing value is needed for imputation with strategy='mean'.\n",
      "  warnings.warn(\n",
      "/Users/DanPfeiffer/Documents/code/data-collector/env/lib/python3.11/site-packages/sklearn/impute/_base.py:577: UserWarning: Skipping features without any observed values: ['offense_total_4th_down_conversion_pcnt_matchup_differential'\n",
      " 'defense_total_4th_down_conversion_pcnt_matchup_differential']. At least one non-missing value is needed for imputation with strategy='mean'.\n",
      "  warnings.warn(\n",
      "/Users/DanPfeiffer/Documents/code/data-collector/env/lib/python3.11/site-packages/sklearn/impute/_base.py:577: UserWarning: Skipping features without any observed values: ['offense_total_4th_down_conversion_pcnt_matchup_differential'\n",
      " 'defense_total_4th_down_conversion_pcnt_matchup_differential']. At least one non-missing value is needed for imputation with strategy='mean'.\n",
      "  warnings.warn(\n"
     ]
    },
    {
     "name": "stdout",
     "output_type": "stream",
     "text": [
      "GBR - Train score: 10.0511 | Validation score: 10.2719\n",
      "\n",
      "Validation year 2014\n"
     ]
    },
    {
     "name": "stderr",
     "output_type": "stream",
     "text": [
      "/Users/DanPfeiffer/Documents/code/data-collector/env/lib/python3.11/site-packages/sklearn/impute/_base.py:577: UserWarning: Skipping features without any observed values: ['offense_total_4th_down_conversion_pcnt_matchup_differential'\n",
      " 'defense_total_4th_down_conversion_pcnt_matchup_differential']. At least one non-missing value is needed for imputation with strategy='mean'.\n",
      "  warnings.warn(\n",
      "/Users/DanPfeiffer/Documents/code/data-collector/env/lib/python3.11/site-packages/sklearn/impute/_base.py:577: UserWarning: Skipping features without any observed values: ['offense_total_4th_down_conversion_pcnt_matchup_differential'\n",
      " 'defense_total_4th_down_conversion_pcnt_matchup_differential']. At least one non-missing value is needed for imputation with strategy='mean'.\n",
      "  warnings.warn(\n",
      "/Users/DanPfeiffer/Documents/code/data-collector/env/lib/python3.11/site-packages/sklearn/impute/_base.py:577: UserWarning: Skipping features without any observed values: ['offense_total_4th_down_conversion_pcnt_matchup_differential'\n",
      " 'defense_total_4th_down_conversion_pcnt_matchup_differential']. At least one non-missing value is needed for imputation with strategy='mean'.\n",
      "  warnings.warn(\n"
     ]
    },
    {
     "name": "stdout",
     "output_type": "stream",
     "text": [
      "GBR - Train score: 10.0487 | Validation score: 11.0597\n",
      "\n",
      "Validation year 2015\n"
     ]
    },
    {
     "name": "stderr",
     "output_type": "stream",
     "text": [
      "/Users/DanPfeiffer/Documents/code/data-collector/env/lib/python3.11/site-packages/sklearn/impute/_base.py:577: UserWarning: Skipping features without any observed values: ['offense_total_4th_down_conversion_pcnt_matchup_differential'\n",
      " 'defense_total_4th_down_conversion_pcnt_matchup_differential']. At least one non-missing value is needed for imputation with strategy='mean'.\n",
      "  warnings.warn(\n",
      "/Users/DanPfeiffer/Documents/code/data-collector/env/lib/python3.11/site-packages/sklearn/impute/_base.py:577: UserWarning: Skipping features without any observed values: ['offense_total_4th_down_conversion_pcnt_matchup_differential'\n",
      " 'defense_total_4th_down_conversion_pcnt_matchup_differential']. At least one non-missing value is needed for imputation with strategy='mean'.\n",
      "  warnings.warn(\n",
      "/Users/DanPfeiffer/Documents/code/data-collector/env/lib/python3.11/site-packages/sklearn/impute/_base.py:577: UserWarning: Skipping features without any observed values: ['offense_total_4th_down_conversion_pcnt_matchup_differential'\n",
      " 'defense_total_4th_down_conversion_pcnt_matchup_differential']. At least one non-missing value is needed for imputation with strategy='mean'.\n",
      "  warnings.warn(\n"
     ]
    },
    {
     "name": "stdout",
     "output_type": "stream",
     "text": [
      "GBR - Train score: 10.3296 | Validation score: 10.2113\n",
      "\n",
      "Validation year 2016\n"
     ]
    },
    {
     "name": "stderr",
     "output_type": "stream",
     "text": [
      "/Users/DanPfeiffer/Documents/code/data-collector/env/lib/python3.11/site-packages/sklearn/impute/_base.py:577: UserWarning: Skipping features without any observed values: ['offense_total_4th_down_conversion_pcnt_matchup_differential'\n",
      " 'defense_total_4th_down_conversion_pcnt_matchup_differential']. At least one non-missing value is needed for imputation with strategy='mean'.\n",
      "  warnings.warn(\n",
      "/Users/DanPfeiffer/Documents/code/data-collector/env/lib/python3.11/site-packages/sklearn/impute/_base.py:577: UserWarning: Skipping features without any observed values: ['offense_total_4th_down_conversion_pcnt_matchup_differential'\n",
      " 'defense_total_4th_down_conversion_pcnt_matchup_differential']. At least one non-missing value is needed for imputation with strategy='mean'.\n",
      "  warnings.warn(\n",
      "/Users/DanPfeiffer/Documents/code/data-collector/env/lib/python3.11/site-packages/sklearn/impute/_base.py:577: UserWarning: Skipping features without any observed values: ['offense_total_4th_down_conversion_pcnt_matchup_differential'\n",
      " 'defense_total_4th_down_conversion_pcnt_matchup_differential']. At least one non-missing value is needed for imputation with strategy='mean'.\n",
      "  warnings.warn(\n"
     ]
    },
    {
     "name": "stdout",
     "output_type": "stream",
     "text": [
      "GBR - Train score: 10.1443 | Validation score: 9.2735\n",
      "\n",
      "Validation year 2017\n"
     ]
    },
    {
     "name": "stderr",
     "output_type": "stream",
     "text": [
      "/Users/DanPfeiffer/Documents/code/data-collector/env/lib/python3.11/site-packages/sklearn/impute/_base.py:577: UserWarning: Skipping features without any observed values: ['road_defense_total_4th_down_conversion_pcnt'\n",
      " 'offense_total_4th_down_conversion_pcnt_matchup_differential'\n",
      " 'home_defense_total_4th_down_conversion_pcnt'\n",
      " 'defense_total_4th_down_conversion_pcnt_matchup_differential']. At least one non-missing value is needed for imputation with strategy='mean'.\n",
      "  warnings.warn(\n",
      "/Users/DanPfeiffer/Documents/code/data-collector/env/lib/python3.11/site-packages/sklearn/impute/_base.py:577: UserWarning: Skipping features without any observed values: ['road_defense_total_4th_down_conversion_pcnt'\n",
      " 'offense_total_4th_down_conversion_pcnt_matchup_differential'\n",
      " 'home_defense_total_4th_down_conversion_pcnt'\n",
      " 'defense_total_4th_down_conversion_pcnt_matchup_differential']. At least one non-missing value is needed for imputation with strategy='mean'.\n",
      "  warnings.warn(\n",
      "/Users/DanPfeiffer/Documents/code/data-collector/env/lib/python3.11/site-packages/sklearn/impute/_base.py:577: UserWarning: Skipping features without any observed values: ['road_defense_total_4th_down_conversion_pcnt'\n",
      " 'offense_total_4th_down_conversion_pcnt_matchup_differential'\n",
      " 'home_defense_total_4th_down_conversion_pcnt'\n",
      " 'defense_total_4th_down_conversion_pcnt_matchup_differential']. At least one non-missing value is needed for imputation with strategy='mean'.\n",
      "  warnings.warn(\n"
     ]
    },
    {
     "name": "stdout",
     "output_type": "stream",
     "text": [
      "GBR - Train score: 9.6419 | Validation score: 10.9518\n",
      "\n",
      "Validation year 2018\n"
     ]
    },
    {
     "name": "stderr",
     "output_type": "stream",
     "text": [
      "/Users/DanPfeiffer/Documents/code/data-collector/env/lib/python3.11/site-packages/sklearn/impute/_base.py:577: UserWarning: Skipping features without any observed values: ['road_defense_total_4th_down_conversion_pcnt'\n",
      " 'offense_total_4th_down_conversion_pcnt_matchup_differential'\n",
      " 'home_defense_total_4th_down_conversion_pcnt'\n",
      " 'defense_total_4th_down_conversion_pcnt_matchup_differential']. At least one non-missing value is needed for imputation with strategy='mean'.\n",
      "  warnings.warn(\n",
      "/Users/DanPfeiffer/Documents/code/data-collector/env/lib/python3.11/site-packages/sklearn/impute/_base.py:577: UserWarning: Skipping features without any observed values: ['road_defense_total_4th_down_conversion_pcnt'\n",
      " 'offense_total_4th_down_conversion_pcnt_matchup_differential'\n",
      " 'home_defense_total_4th_down_conversion_pcnt'\n",
      " 'defense_total_4th_down_conversion_pcnt_matchup_differential']. At least one non-missing value is needed for imputation with strategy='mean'.\n",
      "  warnings.warn(\n",
      "/Users/DanPfeiffer/Documents/code/data-collector/env/lib/python3.11/site-packages/sklearn/impute/_base.py:577: UserWarning: Skipping features without any observed values: ['road_defense_total_4th_down_conversion_pcnt'\n",
      " 'offense_total_4th_down_conversion_pcnt_matchup_differential'\n",
      " 'home_defense_total_4th_down_conversion_pcnt'\n",
      " 'defense_total_4th_down_conversion_pcnt_matchup_differential']. At least one non-missing value is needed for imputation with strategy='mean'.\n",
      "  warnings.warn(\n"
     ]
    },
    {
     "name": "stdout",
     "output_type": "stream",
     "text": [
      "GBR - Train score: 9.4234 | Validation score: 9.7749\n",
      "\n",
      "Validation year 2019\n"
     ]
    },
    {
     "name": "stderr",
     "output_type": "stream",
     "text": [
      "/Users/DanPfeiffer/Documents/code/data-collector/env/lib/python3.11/site-packages/sklearn/impute/_base.py:577: UserWarning: Skipping features without any observed values: ['road_defense_total_4th_down_conversion_pcnt'\n",
      " 'offense_total_4th_down_conversion_pcnt_matchup_differential'\n",
      " 'home_defense_total_4th_down_conversion_pcnt'\n",
      " 'defense_total_4th_down_conversion_pcnt_matchup_differential']. At least one non-missing value is needed for imputation with strategy='mean'.\n",
      "  warnings.warn(\n",
      "/Users/DanPfeiffer/Documents/code/data-collector/env/lib/python3.11/site-packages/sklearn/impute/_base.py:577: UserWarning: Skipping features without any observed values: ['road_defense_total_4th_down_conversion_pcnt'\n",
      " 'offense_total_4th_down_conversion_pcnt_matchup_differential'\n",
      " 'home_defense_total_4th_down_conversion_pcnt'\n",
      " 'defense_total_4th_down_conversion_pcnt_matchup_differential']. At least one non-missing value is needed for imputation with strategy='mean'.\n",
      "  warnings.warn(\n",
      "/Users/DanPfeiffer/Documents/code/data-collector/env/lib/python3.11/site-packages/sklearn/impute/_base.py:577: UserWarning: Skipping features without any observed values: ['road_defense_total_4th_down_conversion_pcnt'\n",
      " 'offense_total_4th_down_conversion_pcnt_matchup_differential'\n",
      " 'home_defense_total_4th_down_conversion_pcnt'\n",
      " 'defense_total_4th_down_conversion_pcnt_matchup_differential']. At least one non-missing value is needed for imputation with strategy='mean'.\n",
      "  warnings.warn(\n"
     ]
    },
    {
     "name": "stdout",
     "output_type": "stream",
     "text": [
      "GBR - Train score: 9.4677 | Validation score: 10.8341\n",
      "\n",
      "Validation year 2020\n"
     ]
    },
    {
     "name": "stderr",
     "output_type": "stream",
     "text": [
      "/Users/DanPfeiffer/Documents/code/data-collector/env/lib/python3.11/site-packages/sklearn/impute/_base.py:577: UserWarning: Skipping features without any observed values: ['road_defense_total_4th_down_conversion_pcnt'\n",
      " 'offense_total_4th_down_conversion_pcnt_matchup_differential'\n",
      " 'home_defense_total_4th_down_conversion_pcnt'\n",
      " 'defense_total_4th_down_conversion_pcnt_matchup_differential']. At least one non-missing value is needed for imputation with strategy='mean'.\n",
      "  warnings.warn(\n",
      "/Users/DanPfeiffer/Documents/code/data-collector/env/lib/python3.11/site-packages/sklearn/impute/_base.py:577: UserWarning: Skipping features without any observed values: ['road_defense_total_4th_down_conversion_pcnt'\n",
      " 'offense_total_4th_down_conversion_pcnt_matchup_differential'\n",
      " 'home_defense_total_4th_down_conversion_pcnt'\n",
      " 'defense_total_4th_down_conversion_pcnt_matchup_differential']. At least one non-missing value is needed for imputation with strategy='mean'.\n",
      "  warnings.warn(\n",
      "/Users/DanPfeiffer/Documents/code/data-collector/env/lib/python3.11/site-packages/sklearn/impute/_base.py:577: UserWarning: Skipping features without any observed values: ['road_defense_total_4th_down_conversion_pcnt'\n",
      " 'offense_total_4th_down_conversion_pcnt_matchup_differential'\n",
      " 'home_defense_total_4th_down_conversion_pcnt'\n",
      " 'defense_total_4th_down_conversion_pcnt_matchup_differential']. At least one non-missing value is needed for imputation with strategy='mean'.\n",
      "  warnings.warn(\n"
     ]
    },
    {
     "name": "stdout",
     "output_type": "stream",
     "text": [
      "GBR - Train score: 9.7496 | Validation score: 10.2405\n",
      "\n",
      "Validation year 2021\n"
     ]
    },
    {
     "name": "stderr",
     "output_type": "stream",
     "text": [
      "/Users/DanPfeiffer/Documents/code/data-collector/env/lib/python3.11/site-packages/sklearn/impute/_base.py:577: UserWarning: Skipping features without any observed values: ['offense_total_4th_down_conversion_pcnt_matchup_differential'\n",
      " 'defense_total_4th_down_conversion_pcnt_matchup_differential']. At least one non-missing value is needed for imputation with strategy='mean'.\n",
      "  warnings.warn(\n",
      "/Users/DanPfeiffer/Documents/code/data-collector/env/lib/python3.11/site-packages/sklearn/impute/_base.py:577: UserWarning: Skipping features without any observed values: ['offense_total_4th_down_conversion_pcnt_matchup_differential'\n",
      " 'defense_total_4th_down_conversion_pcnt_matchup_differential']. At least one non-missing value is needed for imputation with strategy='mean'.\n",
      "  warnings.warn(\n",
      "/Users/DanPfeiffer/Documents/code/data-collector/env/lib/python3.11/site-packages/sklearn/impute/_base.py:577: UserWarning: Skipping features without any observed values: ['offense_total_4th_down_conversion_pcnt_matchup_differential'\n",
      " 'defense_total_4th_down_conversion_pcnt_matchup_differential']. At least one non-missing value is needed for imputation with strategy='mean'.\n",
      "  warnings.warn(\n"
     ]
    },
    {
     "name": "stdout",
     "output_type": "stream",
     "text": [
      "GBR - Train score: 9.2713 | Validation score: 11.4454\n",
      "\n",
      "Validation year 2022\n"
     ]
    },
    {
     "name": "stderr",
     "output_type": "stream",
     "text": [
      "/Users/DanPfeiffer/Documents/code/data-collector/env/lib/python3.11/site-packages/sklearn/impute/_base.py:577: UserWarning: Skipping features without any observed values: ['offense_total_4th_down_conversion_pcnt_matchup_differential'\n",
      " 'defense_total_4th_down_conversion_pcnt_matchup_differential']. At least one non-missing value is needed for imputation with strategy='mean'.\n",
      "  warnings.warn(\n",
      "/Users/DanPfeiffer/Documents/code/data-collector/env/lib/python3.11/site-packages/sklearn/impute/_base.py:577: UserWarning: Skipping features without any observed values: ['offense_total_4th_down_conversion_pcnt_matchup_differential'\n",
      " 'defense_total_4th_down_conversion_pcnt_matchup_differential']. At least one non-missing value is needed for imputation with strategy='mean'.\n",
      "  warnings.warn(\n",
      "/Users/DanPfeiffer/Documents/code/data-collector/env/lib/python3.11/site-packages/sklearn/impute/_base.py:577: UserWarning: Skipping features without any observed values: ['offense_total_4th_down_conversion_pcnt_matchup_differential'\n",
      " 'defense_total_4th_down_conversion_pcnt_matchup_differential']. At least one non-missing value is needed for imputation with strategy='mean'.\n",
      "  warnings.warn(\n"
     ]
    },
    {
     "name": "stdout",
     "output_type": "stream",
     "text": [
      "GBR - Train score: 9.5502 | Validation score: 9.1915\n",
      "\n",
      "Training 16_games_exp_weighted_mean_decay0.88 with GBR\n"
     ]
    },
    {
     "name": "stderr",
     "output_type": "stream",
     "text": [
      "/var/folders/h1/1n1src7x64q_jwgsr43hmkxm0000gq/T/ipykernel_59208/2010834509.py:83: DtypeWarning: Columns (20,46,63) have mixed types. Specify dtype option on import or set low_memory=False.\n",
      "  training_df = pd.read_csv(f\"../data/transformed/{file_name}\")\n"
     ]
    },
    {
     "name": "stdout",
     "output_type": "stream",
     "text": [
      "Validation year 2013\n"
     ]
    },
    {
     "name": "stderr",
     "output_type": "stream",
     "text": [
      "/Users/DanPfeiffer/Documents/code/data-collector/env/lib/python3.11/site-packages/sklearn/impute/_base.py:577: UserWarning: Skipping features without any observed values: ['offense_total_4th_down_conversion_pcnt_matchup_differential'\n",
      " 'defense_total_4th_down_conversion_pcnt_matchup_differential']. At least one non-missing value is needed for imputation with strategy='mean'.\n",
      "  warnings.warn(\n",
      "/Users/DanPfeiffer/Documents/code/data-collector/env/lib/python3.11/site-packages/sklearn/impute/_base.py:577: UserWarning: Skipping features without any observed values: ['offense_total_4th_down_conversion_pcnt_matchup_differential'\n",
      " 'defense_total_4th_down_conversion_pcnt_matchup_differential']. At least one non-missing value is needed for imputation with strategy='mean'.\n",
      "  warnings.warn(\n",
      "/Users/DanPfeiffer/Documents/code/data-collector/env/lib/python3.11/site-packages/sklearn/impute/_base.py:577: UserWarning: Skipping features without any observed values: ['offense_total_4th_down_conversion_pcnt_matchup_differential'\n",
      " 'defense_total_4th_down_conversion_pcnt_matchup_differential']. At least one non-missing value is needed for imputation with strategy='mean'.\n",
      "  warnings.warn(\n"
     ]
    },
    {
     "name": "stdout",
     "output_type": "stream",
     "text": [
      "GBR - Train score: 10.0511 | Validation score: 10.2719\n",
      "\n",
      "Validation year 2014\n"
     ]
    },
    {
     "name": "stderr",
     "output_type": "stream",
     "text": [
      "/Users/DanPfeiffer/Documents/code/data-collector/env/lib/python3.11/site-packages/sklearn/impute/_base.py:577: UserWarning: Skipping features without any observed values: ['offense_total_4th_down_conversion_pcnt_matchup_differential'\n",
      " 'defense_total_4th_down_conversion_pcnt_matchup_differential']. At least one non-missing value is needed for imputation with strategy='mean'.\n",
      "  warnings.warn(\n",
      "/Users/DanPfeiffer/Documents/code/data-collector/env/lib/python3.11/site-packages/sklearn/impute/_base.py:577: UserWarning: Skipping features without any observed values: ['offense_total_4th_down_conversion_pcnt_matchup_differential'\n",
      " 'defense_total_4th_down_conversion_pcnt_matchup_differential']. At least one non-missing value is needed for imputation with strategy='mean'.\n",
      "  warnings.warn(\n",
      "/Users/DanPfeiffer/Documents/code/data-collector/env/lib/python3.11/site-packages/sklearn/impute/_base.py:577: UserWarning: Skipping features without any observed values: ['offense_total_4th_down_conversion_pcnt_matchup_differential'\n",
      " 'defense_total_4th_down_conversion_pcnt_matchup_differential']. At least one non-missing value is needed for imputation with strategy='mean'.\n",
      "  warnings.warn(\n"
     ]
    },
    {
     "name": "stdout",
     "output_type": "stream",
     "text": [
      "GBR - Train score: 10.0487 | Validation score: 11.0597\n",
      "\n",
      "Validation year 2015\n"
     ]
    },
    {
     "name": "stderr",
     "output_type": "stream",
     "text": [
      "/Users/DanPfeiffer/Documents/code/data-collector/env/lib/python3.11/site-packages/sklearn/impute/_base.py:577: UserWarning: Skipping features without any observed values: ['offense_total_4th_down_conversion_pcnt_matchup_differential'\n",
      " 'defense_total_4th_down_conversion_pcnt_matchup_differential']. At least one non-missing value is needed for imputation with strategy='mean'.\n",
      "  warnings.warn(\n",
      "/Users/DanPfeiffer/Documents/code/data-collector/env/lib/python3.11/site-packages/sklearn/impute/_base.py:577: UserWarning: Skipping features without any observed values: ['offense_total_4th_down_conversion_pcnt_matchup_differential'\n",
      " 'defense_total_4th_down_conversion_pcnt_matchup_differential']. At least one non-missing value is needed for imputation with strategy='mean'.\n",
      "  warnings.warn(\n",
      "/Users/DanPfeiffer/Documents/code/data-collector/env/lib/python3.11/site-packages/sklearn/impute/_base.py:577: UserWarning: Skipping features without any observed values: ['offense_total_4th_down_conversion_pcnt_matchup_differential'\n",
      " 'defense_total_4th_down_conversion_pcnt_matchup_differential']. At least one non-missing value is needed for imputation with strategy='mean'.\n",
      "  warnings.warn(\n"
     ]
    },
    {
     "name": "stdout",
     "output_type": "stream",
     "text": [
      "GBR - Train score: 10.3296 | Validation score: 10.2113\n",
      "\n",
      "Validation year 2016\n"
     ]
    },
    {
     "name": "stderr",
     "output_type": "stream",
     "text": [
      "/Users/DanPfeiffer/Documents/code/data-collector/env/lib/python3.11/site-packages/sklearn/impute/_base.py:577: UserWarning: Skipping features without any observed values: ['offense_total_4th_down_conversion_pcnt_matchup_differential'\n",
      " 'defense_total_4th_down_conversion_pcnt_matchup_differential']. At least one non-missing value is needed for imputation with strategy='mean'.\n",
      "  warnings.warn(\n",
      "/Users/DanPfeiffer/Documents/code/data-collector/env/lib/python3.11/site-packages/sklearn/impute/_base.py:577: UserWarning: Skipping features without any observed values: ['offense_total_4th_down_conversion_pcnt_matchup_differential'\n",
      " 'defense_total_4th_down_conversion_pcnt_matchup_differential']. At least one non-missing value is needed for imputation with strategy='mean'.\n",
      "  warnings.warn(\n",
      "/Users/DanPfeiffer/Documents/code/data-collector/env/lib/python3.11/site-packages/sklearn/impute/_base.py:577: UserWarning: Skipping features without any observed values: ['offense_total_4th_down_conversion_pcnt_matchup_differential'\n",
      " 'defense_total_4th_down_conversion_pcnt_matchup_differential']. At least one non-missing value is needed for imputation with strategy='mean'.\n",
      "  warnings.warn(\n"
     ]
    },
    {
     "name": "stdout",
     "output_type": "stream",
     "text": [
      "GBR - Train score: 10.1443 | Validation score: 9.2735\n",
      "\n",
      "Validation year 2017\n"
     ]
    },
    {
     "name": "stderr",
     "output_type": "stream",
     "text": [
      "/Users/DanPfeiffer/Documents/code/data-collector/env/lib/python3.11/site-packages/sklearn/impute/_base.py:577: UserWarning: Skipping features without any observed values: ['road_defense_total_4th_down_conversion_pcnt'\n",
      " 'offense_total_4th_down_conversion_pcnt_matchup_differential'\n",
      " 'home_defense_total_4th_down_conversion_pcnt'\n",
      " 'defense_total_4th_down_conversion_pcnt_matchup_differential']. At least one non-missing value is needed for imputation with strategy='mean'.\n",
      "  warnings.warn(\n",
      "/Users/DanPfeiffer/Documents/code/data-collector/env/lib/python3.11/site-packages/sklearn/impute/_base.py:577: UserWarning: Skipping features without any observed values: ['road_defense_total_4th_down_conversion_pcnt'\n",
      " 'offense_total_4th_down_conversion_pcnt_matchup_differential'\n",
      " 'home_defense_total_4th_down_conversion_pcnt'\n",
      " 'defense_total_4th_down_conversion_pcnt_matchup_differential']. At least one non-missing value is needed for imputation with strategy='mean'.\n",
      "  warnings.warn(\n",
      "/Users/DanPfeiffer/Documents/code/data-collector/env/lib/python3.11/site-packages/sklearn/impute/_base.py:577: UserWarning: Skipping features without any observed values: ['road_defense_total_4th_down_conversion_pcnt'\n",
      " 'offense_total_4th_down_conversion_pcnt_matchup_differential'\n",
      " 'home_defense_total_4th_down_conversion_pcnt'\n",
      " 'defense_total_4th_down_conversion_pcnt_matchup_differential']. At least one non-missing value is needed for imputation with strategy='mean'.\n",
      "  warnings.warn(\n"
     ]
    },
    {
     "name": "stdout",
     "output_type": "stream",
     "text": [
      "GBR - Train score: 9.6419 | Validation score: 10.9518\n",
      "\n",
      "Validation year 2018\n"
     ]
    },
    {
     "name": "stderr",
     "output_type": "stream",
     "text": [
      "/Users/DanPfeiffer/Documents/code/data-collector/env/lib/python3.11/site-packages/sklearn/impute/_base.py:577: UserWarning: Skipping features without any observed values: ['road_defense_total_4th_down_conversion_pcnt'\n",
      " 'offense_total_4th_down_conversion_pcnt_matchup_differential'\n",
      " 'home_defense_total_4th_down_conversion_pcnt'\n",
      " 'defense_total_4th_down_conversion_pcnt_matchup_differential']. At least one non-missing value is needed for imputation with strategy='mean'.\n",
      "  warnings.warn(\n",
      "/Users/DanPfeiffer/Documents/code/data-collector/env/lib/python3.11/site-packages/sklearn/impute/_base.py:577: UserWarning: Skipping features without any observed values: ['road_defense_total_4th_down_conversion_pcnt'\n",
      " 'offense_total_4th_down_conversion_pcnt_matchup_differential'\n",
      " 'home_defense_total_4th_down_conversion_pcnt'\n",
      " 'defense_total_4th_down_conversion_pcnt_matchup_differential']. At least one non-missing value is needed for imputation with strategy='mean'.\n",
      "  warnings.warn(\n",
      "/Users/DanPfeiffer/Documents/code/data-collector/env/lib/python3.11/site-packages/sklearn/impute/_base.py:577: UserWarning: Skipping features without any observed values: ['road_defense_total_4th_down_conversion_pcnt'\n",
      " 'offense_total_4th_down_conversion_pcnt_matchup_differential'\n",
      " 'home_defense_total_4th_down_conversion_pcnt'\n",
      " 'defense_total_4th_down_conversion_pcnt_matchup_differential']. At least one non-missing value is needed for imputation with strategy='mean'.\n",
      "  warnings.warn(\n"
     ]
    },
    {
     "name": "stdout",
     "output_type": "stream",
     "text": [
      "GBR - Train score: 9.4234 | Validation score: 9.7749\n",
      "\n",
      "Validation year 2019\n"
     ]
    },
    {
     "name": "stderr",
     "output_type": "stream",
     "text": [
      "/Users/DanPfeiffer/Documents/code/data-collector/env/lib/python3.11/site-packages/sklearn/impute/_base.py:577: UserWarning: Skipping features without any observed values: ['road_defense_total_4th_down_conversion_pcnt'\n",
      " 'offense_total_4th_down_conversion_pcnt_matchup_differential'\n",
      " 'home_defense_total_4th_down_conversion_pcnt'\n",
      " 'defense_total_4th_down_conversion_pcnt_matchup_differential']. At least one non-missing value is needed for imputation with strategy='mean'.\n",
      "  warnings.warn(\n",
      "/Users/DanPfeiffer/Documents/code/data-collector/env/lib/python3.11/site-packages/sklearn/impute/_base.py:577: UserWarning: Skipping features without any observed values: ['road_defense_total_4th_down_conversion_pcnt'\n",
      " 'offense_total_4th_down_conversion_pcnt_matchup_differential'\n",
      " 'home_defense_total_4th_down_conversion_pcnt'\n",
      " 'defense_total_4th_down_conversion_pcnt_matchup_differential']. At least one non-missing value is needed for imputation with strategy='mean'.\n",
      "  warnings.warn(\n",
      "/Users/DanPfeiffer/Documents/code/data-collector/env/lib/python3.11/site-packages/sklearn/impute/_base.py:577: UserWarning: Skipping features without any observed values: ['road_defense_total_4th_down_conversion_pcnt'\n",
      " 'offense_total_4th_down_conversion_pcnt_matchup_differential'\n",
      " 'home_defense_total_4th_down_conversion_pcnt'\n",
      " 'defense_total_4th_down_conversion_pcnt_matchup_differential']. At least one non-missing value is needed for imputation with strategy='mean'.\n",
      "  warnings.warn(\n"
     ]
    },
    {
     "name": "stdout",
     "output_type": "stream",
     "text": [
      "GBR - Train score: 9.4677 | Validation score: 10.8341\n",
      "\n",
      "Validation year 2020\n"
     ]
    },
    {
     "name": "stderr",
     "output_type": "stream",
     "text": [
      "/Users/DanPfeiffer/Documents/code/data-collector/env/lib/python3.11/site-packages/sklearn/impute/_base.py:577: UserWarning: Skipping features without any observed values: ['road_defense_total_4th_down_conversion_pcnt'\n",
      " 'offense_total_4th_down_conversion_pcnt_matchup_differential'\n",
      " 'home_defense_total_4th_down_conversion_pcnt'\n",
      " 'defense_total_4th_down_conversion_pcnt_matchup_differential']. At least one non-missing value is needed for imputation with strategy='mean'.\n",
      "  warnings.warn(\n",
      "/Users/DanPfeiffer/Documents/code/data-collector/env/lib/python3.11/site-packages/sklearn/impute/_base.py:577: UserWarning: Skipping features without any observed values: ['road_defense_total_4th_down_conversion_pcnt'\n",
      " 'offense_total_4th_down_conversion_pcnt_matchup_differential'\n",
      " 'home_defense_total_4th_down_conversion_pcnt'\n",
      " 'defense_total_4th_down_conversion_pcnt_matchup_differential']. At least one non-missing value is needed for imputation with strategy='mean'.\n",
      "  warnings.warn(\n",
      "/Users/DanPfeiffer/Documents/code/data-collector/env/lib/python3.11/site-packages/sklearn/impute/_base.py:577: UserWarning: Skipping features without any observed values: ['road_defense_total_4th_down_conversion_pcnt'\n",
      " 'offense_total_4th_down_conversion_pcnt_matchup_differential'\n",
      " 'home_defense_total_4th_down_conversion_pcnt'\n",
      " 'defense_total_4th_down_conversion_pcnt_matchup_differential']. At least one non-missing value is needed for imputation with strategy='mean'.\n",
      "  warnings.warn(\n"
     ]
    },
    {
     "name": "stdout",
     "output_type": "stream",
     "text": [
      "GBR - Train score: 9.7496 | Validation score: 10.2405\n",
      "\n",
      "Validation year 2021\n"
     ]
    },
    {
     "name": "stderr",
     "output_type": "stream",
     "text": [
      "/Users/DanPfeiffer/Documents/code/data-collector/env/lib/python3.11/site-packages/sklearn/impute/_base.py:577: UserWarning: Skipping features without any observed values: ['offense_total_4th_down_conversion_pcnt_matchup_differential'\n",
      " 'defense_total_4th_down_conversion_pcnt_matchup_differential']. At least one non-missing value is needed for imputation with strategy='mean'.\n",
      "  warnings.warn(\n",
      "/Users/DanPfeiffer/Documents/code/data-collector/env/lib/python3.11/site-packages/sklearn/impute/_base.py:577: UserWarning: Skipping features without any observed values: ['offense_total_4th_down_conversion_pcnt_matchup_differential'\n",
      " 'defense_total_4th_down_conversion_pcnt_matchup_differential']. At least one non-missing value is needed for imputation with strategy='mean'.\n",
      "  warnings.warn(\n",
      "/Users/DanPfeiffer/Documents/code/data-collector/env/lib/python3.11/site-packages/sklearn/impute/_base.py:577: UserWarning: Skipping features without any observed values: ['offense_total_4th_down_conversion_pcnt_matchup_differential'\n",
      " 'defense_total_4th_down_conversion_pcnt_matchup_differential']. At least one non-missing value is needed for imputation with strategy='mean'.\n",
      "  warnings.warn(\n"
     ]
    },
    {
     "name": "stdout",
     "output_type": "stream",
     "text": [
      "GBR - Train score: 9.2713 | Validation score: 11.4454\n",
      "\n",
      "Validation year 2022\n"
     ]
    },
    {
     "name": "stderr",
     "output_type": "stream",
     "text": [
      "/Users/DanPfeiffer/Documents/code/data-collector/env/lib/python3.11/site-packages/sklearn/impute/_base.py:577: UserWarning: Skipping features without any observed values: ['offense_total_4th_down_conversion_pcnt_matchup_differential'\n",
      " 'defense_total_4th_down_conversion_pcnt_matchup_differential']. At least one non-missing value is needed for imputation with strategy='mean'.\n",
      "  warnings.warn(\n",
      "/Users/DanPfeiffer/Documents/code/data-collector/env/lib/python3.11/site-packages/sklearn/impute/_base.py:577: UserWarning: Skipping features without any observed values: ['offense_total_4th_down_conversion_pcnt_matchup_differential'\n",
      " 'defense_total_4th_down_conversion_pcnt_matchup_differential']. At least one non-missing value is needed for imputation with strategy='mean'.\n",
      "  warnings.warn(\n",
      "/Users/DanPfeiffer/Documents/code/data-collector/env/lib/python3.11/site-packages/sklearn/impute/_base.py:577: UserWarning: Skipping features without any observed values: ['offense_total_4th_down_conversion_pcnt_matchup_differential'\n",
      " 'defense_total_4th_down_conversion_pcnt_matchup_differential']. At least one non-missing value is needed for imputation with strategy='mean'.\n",
      "  warnings.warn(\n"
     ]
    },
    {
     "name": "stdout",
     "output_type": "stream",
     "text": [
      "GBR - Train score: 9.5502 | Validation score: 9.1915\n",
      "\n",
      "Training 16_games_exp_weighted_mean_decay0.8999999999999999 with GBR\n"
     ]
    },
    {
     "name": "stderr",
     "output_type": "stream",
     "text": [
      "/var/folders/h1/1n1src7x64q_jwgsr43hmkxm0000gq/T/ipykernel_59208/2010834509.py:83: DtypeWarning: Columns (20,46,63) have mixed types. Specify dtype option on import or set low_memory=False.\n",
      "  training_df = pd.read_csv(f\"../data/transformed/{file_name}\")\n"
     ]
    },
    {
     "name": "stdout",
     "output_type": "stream",
     "text": [
      "Validation year 2013\n"
     ]
    },
    {
     "name": "stderr",
     "output_type": "stream",
     "text": [
      "/Users/DanPfeiffer/Documents/code/data-collector/env/lib/python3.11/site-packages/sklearn/impute/_base.py:577: UserWarning: Skipping features without any observed values: ['offense_total_4th_down_conversion_pcnt_matchup_differential'\n",
      " 'defense_total_4th_down_conversion_pcnt_matchup_differential']. At least one non-missing value is needed for imputation with strategy='mean'.\n",
      "  warnings.warn(\n",
      "/Users/DanPfeiffer/Documents/code/data-collector/env/lib/python3.11/site-packages/sklearn/impute/_base.py:577: UserWarning: Skipping features without any observed values: ['offense_total_4th_down_conversion_pcnt_matchup_differential'\n",
      " 'defense_total_4th_down_conversion_pcnt_matchup_differential']. At least one non-missing value is needed for imputation with strategy='mean'.\n",
      "  warnings.warn(\n",
      "/Users/DanPfeiffer/Documents/code/data-collector/env/lib/python3.11/site-packages/sklearn/impute/_base.py:577: UserWarning: Skipping features without any observed values: ['offense_total_4th_down_conversion_pcnt_matchup_differential'\n",
      " 'defense_total_4th_down_conversion_pcnt_matchup_differential']. At least one non-missing value is needed for imputation with strategy='mean'.\n",
      "  warnings.warn(\n"
     ]
    },
    {
     "name": "stdout",
     "output_type": "stream",
     "text": [
      "GBR - Train score: 9.8540 | Validation score: 10.6007\n",
      "\n",
      "Validation year 2014\n"
     ]
    },
    {
     "name": "stderr",
     "output_type": "stream",
     "text": [
      "/Users/DanPfeiffer/Documents/code/data-collector/env/lib/python3.11/site-packages/sklearn/impute/_base.py:577: UserWarning: Skipping features without any observed values: ['offense_total_4th_down_conversion_pcnt_matchup_differential'\n",
      " 'defense_total_4th_down_conversion_pcnt_matchup_differential']. At least one non-missing value is needed for imputation with strategy='mean'.\n",
      "  warnings.warn(\n",
      "/Users/DanPfeiffer/Documents/code/data-collector/env/lib/python3.11/site-packages/sklearn/impute/_base.py:577: UserWarning: Skipping features without any observed values: ['offense_total_4th_down_conversion_pcnt_matchup_differential'\n",
      " 'defense_total_4th_down_conversion_pcnt_matchup_differential']. At least one non-missing value is needed for imputation with strategy='mean'.\n",
      "  warnings.warn(\n",
      "/Users/DanPfeiffer/Documents/code/data-collector/env/lib/python3.11/site-packages/sklearn/impute/_base.py:577: UserWarning: Skipping features without any observed values: ['offense_total_4th_down_conversion_pcnt_matchup_differential'\n",
      " 'defense_total_4th_down_conversion_pcnt_matchup_differential']. At least one non-missing value is needed for imputation with strategy='mean'.\n",
      "  warnings.warn(\n"
     ]
    },
    {
     "name": "stdout",
     "output_type": "stream",
     "text": [
      "GBR - Train score: 10.0825 | Validation score: 11.3407\n",
      "\n",
      "Validation year 2015\n"
     ]
    },
    {
     "name": "stderr",
     "output_type": "stream",
     "text": [
      "/Users/DanPfeiffer/Documents/code/data-collector/env/lib/python3.11/site-packages/sklearn/impute/_base.py:577: UserWarning: Skipping features without any observed values: ['offense_total_4th_down_conversion_pcnt_matchup_differential'\n",
      " 'defense_total_4th_down_conversion_pcnt_matchup_differential']. At least one non-missing value is needed for imputation with strategy='mean'.\n",
      "  warnings.warn(\n",
      "/Users/DanPfeiffer/Documents/code/data-collector/env/lib/python3.11/site-packages/sklearn/impute/_base.py:577: UserWarning: Skipping features without any observed values: ['offense_total_4th_down_conversion_pcnt_matchup_differential'\n",
      " 'defense_total_4th_down_conversion_pcnt_matchup_differential']. At least one non-missing value is needed for imputation with strategy='mean'.\n",
      "  warnings.warn(\n",
      "/Users/DanPfeiffer/Documents/code/data-collector/env/lib/python3.11/site-packages/sklearn/impute/_base.py:577: UserWarning: Skipping features without any observed values: ['offense_total_4th_down_conversion_pcnt_matchup_differential'\n",
      " 'defense_total_4th_down_conversion_pcnt_matchup_differential']. At least one non-missing value is needed for imputation with strategy='mean'.\n",
      "  warnings.warn(\n"
     ]
    },
    {
     "name": "stdout",
     "output_type": "stream",
     "text": [
      "GBR - Train score: 10.3883 | Validation score: 10.4342\n",
      "\n",
      "Validation year 2016\n"
     ]
    },
    {
     "name": "stderr",
     "output_type": "stream",
     "text": [
      "/Users/DanPfeiffer/Documents/code/data-collector/env/lib/python3.11/site-packages/sklearn/impute/_base.py:577: UserWarning: Skipping features without any observed values: ['offense_total_4th_down_conversion_pcnt_matchup_differential'\n",
      " 'defense_total_4th_down_conversion_pcnt_matchup_differential']. At least one non-missing value is needed for imputation with strategy='mean'.\n",
      "  warnings.warn(\n",
      "/Users/DanPfeiffer/Documents/code/data-collector/env/lib/python3.11/site-packages/sklearn/impute/_base.py:577: UserWarning: Skipping features without any observed values: ['offense_total_4th_down_conversion_pcnt_matchup_differential'\n",
      " 'defense_total_4th_down_conversion_pcnt_matchup_differential']. At least one non-missing value is needed for imputation with strategy='mean'.\n",
      "  warnings.warn(\n",
      "/Users/DanPfeiffer/Documents/code/data-collector/env/lib/python3.11/site-packages/sklearn/impute/_base.py:577: UserWarning: Skipping features without any observed values: ['offense_total_4th_down_conversion_pcnt_matchup_differential'\n",
      " 'defense_total_4th_down_conversion_pcnt_matchup_differential']. At least one non-missing value is needed for imputation with strategy='mean'.\n",
      "  warnings.warn(\n"
     ]
    },
    {
     "name": "stdout",
     "output_type": "stream",
     "text": [
      "GBR - Train score: 9.8507 | Validation score: 9.1809\n",
      "\n",
      "Validation year 2017\n"
     ]
    },
    {
     "name": "stderr",
     "output_type": "stream",
     "text": [
      "/Users/DanPfeiffer/Documents/code/data-collector/env/lib/python3.11/site-packages/sklearn/impute/_base.py:577: UserWarning: Skipping features without any observed values: ['road_defense_total_4th_down_conversion_pcnt'\n",
      " 'offense_total_4th_down_conversion_pcnt_matchup_differential'\n",
      " 'home_defense_total_4th_down_conversion_pcnt'\n",
      " 'defense_total_4th_down_conversion_pcnt_matchup_differential']. At least one non-missing value is needed for imputation with strategy='mean'.\n",
      "  warnings.warn(\n",
      "/Users/DanPfeiffer/Documents/code/data-collector/env/lib/python3.11/site-packages/sklearn/impute/_base.py:577: UserWarning: Skipping features without any observed values: ['road_defense_total_4th_down_conversion_pcnt'\n",
      " 'offense_total_4th_down_conversion_pcnt_matchup_differential'\n",
      " 'home_defense_total_4th_down_conversion_pcnt'\n",
      " 'defense_total_4th_down_conversion_pcnt_matchup_differential']. At least one non-missing value is needed for imputation with strategy='mean'.\n",
      "  warnings.warn(\n",
      "/Users/DanPfeiffer/Documents/code/data-collector/env/lib/python3.11/site-packages/sklearn/impute/_base.py:577: UserWarning: Skipping features without any observed values: ['road_defense_total_4th_down_conversion_pcnt'\n",
      " 'offense_total_4th_down_conversion_pcnt_matchup_differential'\n",
      " 'home_defense_total_4th_down_conversion_pcnt'\n",
      " 'defense_total_4th_down_conversion_pcnt_matchup_differential']. At least one non-missing value is needed for imputation with strategy='mean'.\n",
      "  warnings.warn(\n"
     ]
    },
    {
     "name": "stdout",
     "output_type": "stream",
     "text": [
      "GBR - Train score: 9.7139 | Validation score: 10.7371\n",
      "\n",
      "Validation year 2018\n"
     ]
    },
    {
     "name": "stderr",
     "output_type": "stream",
     "text": [
      "/Users/DanPfeiffer/Documents/code/data-collector/env/lib/python3.11/site-packages/sklearn/impute/_base.py:577: UserWarning: Skipping features without any observed values: ['road_defense_total_4th_down_conversion_pcnt'\n",
      " 'offense_total_4th_down_conversion_pcnt_matchup_differential'\n",
      " 'home_defense_total_4th_down_conversion_pcnt'\n",
      " 'defense_total_4th_down_conversion_pcnt_matchup_differential']. At least one non-missing value is needed for imputation with strategy='mean'.\n",
      "  warnings.warn(\n",
      "/Users/DanPfeiffer/Documents/code/data-collector/env/lib/python3.11/site-packages/sklearn/impute/_base.py:577: UserWarning: Skipping features without any observed values: ['road_defense_total_4th_down_conversion_pcnt'\n",
      " 'offense_total_4th_down_conversion_pcnt_matchup_differential'\n",
      " 'home_defense_total_4th_down_conversion_pcnt'\n",
      " 'defense_total_4th_down_conversion_pcnt_matchup_differential']. At least one non-missing value is needed for imputation with strategy='mean'.\n",
      "  warnings.warn(\n",
      "/Users/DanPfeiffer/Documents/code/data-collector/env/lib/python3.11/site-packages/sklearn/impute/_base.py:577: UserWarning: Skipping features without any observed values: ['road_defense_total_4th_down_conversion_pcnt'\n",
      " 'offense_total_4th_down_conversion_pcnt_matchup_differential'\n",
      " 'home_defense_total_4th_down_conversion_pcnt'\n",
      " 'defense_total_4th_down_conversion_pcnt_matchup_differential']. At least one non-missing value is needed for imputation with strategy='mean'.\n",
      "  warnings.warn(\n"
     ]
    },
    {
     "name": "stdout",
     "output_type": "stream",
     "text": [
      "GBR - Train score: 9.8802 | Validation score: 9.8295\n",
      "\n",
      "Validation year 2019\n"
     ]
    },
    {
     "name": "stderr",
     "output_type": "stream",
     "text": [
      "/Users/DanPfeiffer/Documents/code/data-collector/env/lib/python3.11/site-packages/sklearn/impute/_base.py:577: UserWarning: Skipping features without any observed values: ['road_defense_total_4th_down_conversion_pcnt'\n",
      " 'offense_total_4th_down_conversion_pcnt_matchup_differential'\n",
      " 'home_defense_total_4th_down_conversion_pcnt'\n",
      " 'defense_total_4th_down_conversion_pcnt_matchup_differential']. At least one non-missing value is needed for imputation with strategy='mean'.\n",
      "  warnings.warn(\n",
      "/Users/DanPfeiffer/Documents/code/data-collector/env/lib/python3.11/site-packages/sklearn/impute/_base.py:577: UserWarning: Skipping features without any observed values: ['road_defense_total_4th_down_conversion_pcnt'\n",
      " 'offense_total_4th_down_conversion_pcnt_matchup_differential'\n",
      " 'home_defense_total_4th_down_conversion_pcnt'\n",
      " 'defense_total_4th_down_conversion_pcnt_matchup_differential']. At least one non-missing value is needed for imputation with strategy='mean'.\n",
      "  warnings.warn(\n",
      "/Users/DanPfeiffer/Documents/code/data-collector/env/lib/python3.11/site-packages/sklearn/impute/_base.py:577: UserWarning: Skipping features without any observed values: ['road_defense_total_4th_down_conversion_pcnt'\n",
      " 'offense_total_4th_down_conversion_pcnt_matchup_differential'\n",
      " 'home_defense_total_4th_down_conversion_pcnt'\n",
      " 'defense_total_4th_down_conversion_pcnt_matchup_differential']. At least one non-missing value is needed for imputation with strategy='mean'.\n",
      "  warnings.warn(\n"
     ]
    },
    {
     "name": "stdout",
     "output_type": "stream",
     "text": [
      "GBR - Train score: 9.7204 | Validation score: 10.9659\n",
      "\n",
      "Validation year 2020\n"
     ]
    },
    {
     "name": "stderr",
     "output_type": "stream",
     "text": [
      "/Users/DanPfeiffer/Documents/code/data-collector/env/lib/python3.11/site-packages/sklearn/impute/_base.py:577: UserWarning: Skipping features without any observed values: ['road_defense_total_4th_down_conversion_pcnt'\n",
      " 'offense_total_4th_down_conversion_pcnt_matchup_differential'\n",
      " 'home_defense_total_4th_down_conversion_pcnt'\n",
      " 'defense_total_4th_down_conversion_pcnt_matchup_differential']. At least one non-missing value is needed for imputation with strategy='mean'.\n",
      "  warnings.warn(\n",
      "/Users/DanPfeiffer/Documents/code/data-collector/env/lib/python3.11/site-packages/sklearn/impute/_base.py:577: UserWarning: Skipping features without any observed values: ['road_defense_total_4th_down_conversion_pcnt'\n",
      " 'offense_total_4th_down_conversion_pcnt_matchup_differential'\n",
      " 'home_defense_total_4th_down_conversion_pcnt'\n",
      " 'defense_total_4th_down_conversion_pcnt_matchup_differential']. At least one non-missing value is needed for imputation with strategy='mean'.\n",
      "  warnings.warn(\n",
      "/Users/DanPfeiffer/Documents/code/data-collector/env/lib/python3.11/site-packages/sklearn/impute/_base.py:577: UserWarning: Skipping features without any observed values: ['road_defense_total_4th_down_conversion_pcnt'\n",
      " 'offense_total_4th_down_conversion_pcnt_matchup_differential'\n",
      " 'home_defense_total_4th_down_conversion_pcnt'\n",
      " 'defense_total_4th_down_conversion_pcnt_matchup_differential']. At least one non-missing value is needed for imputation with strategy='mean'.\n",
      "  warnings.warn(\n"
     ]
    },
    {
     "name": "stdout",
     "output_type": "stream",
     "text": [
      "GBR - Train score: 9.7353 | Validation score: 10.1725\n",
      "\n",
      "Validation year 2021\n"
     ]
    },
    {
     "name": "stderr",
     "output_type": "stream",
     "text": [
      "/Users/DanPfeiffer/Documents/code/data-collector/env/lib/python3.11/site-packages/sklearn/impute/_base.py:577: UserWarning: Skipping features without any observed values: ['offense_total_4th_down_conversion_pcnt_matchup_differential'\n",
      " 'defense_total_4th_down_conversion_pcnt_matchup_differential']. At least one non-missing value is needed for imputation with strategy='mean'.\n",
      "  warnings.warn(\n",
      "/Users/DanPfeiffer/Documents/code/data-collector/env/lib/python3.11/site-packages/sklearn/impute/_base.py:577: UserWarning: Skipping features without any observed values: ['offense_total_4th_down_conversion_pcnt_matchup_differential'\n",
      " 'defense_total_4th_down_conversion_pcnt_matchup_differential']. At least one non-missing value is needed for imputation with strategy='mean'.\n",
      "  warnings.warn(\n",
      "/Users/DanPfeiffer/Documents/code/data-collector/env/lib/python3.11/site-packages/sklearn/impute/_base.py:577: UserWarning: Skipping features without any observed values: ['offense_total_4th_down_conversion_pcnt_matchup_differential'\n",
      " 'defense_total_4th_down_conversion_pcnt_matchup_differential']. At least one non-missing value is needed for imputation with strategy='mean'.\n",
      "  warnings.warn(\n"
     ]
    },
    {
     "name": "stdout",
     "output_type": "stream",
     "text": [
      "GBR - Train score: 9.2180 | Validation score: 11.4322\n",
      "\n",
      "Validation year 2022\n"
     ]
    },
    {
     "name": "stderr",
     "output_type": "stream",
     "text": [
      "/Users/DanPfeiffer/Documents/code/data-collector/env/lib/python3.11/site-packages/sklearn/impute/_base.py:577: UserWarning: Skipping features without any observed values: ['offense_total_4th_down_conversion_pcnt_matchup_differential'\n",
      " 'defense_total_4th_down_conversion_pcnt_matchup_differential']. At least one non-missing value is needed for imputation with strategy='mean'.\n",
      "  warnings.warn(\n",
      "/Users/DanPfeiffer/Documents/code/data-collector/env/lib/python3.11/site-packages/sklearn/impute/_base.py:577: UserWarning: Skipping features without any observed values: ['offense_total_4th_down_conversion_pcnt_matchup_differential'\n",
      " 'defense_total_4th_down_conversion_pcnt_matchup_differential']. At least one non-missing value is needed for imputation with strategy='mean'.\n",
      "  warnings.warn(\n",
      "/Users/DanPfeiffer/Documents/code/data-collector/env/lib/python3.11/site-packages/sklearn/impute/_base.py:577: UserWarning: Skipping features without any observed values: ['offense_total_4th_down_conversion_pcnt_matchup_differential'\n",
      " 'defense_total_4th_down_conversion_pcnt_matchup_differential']. At least one non-missing value is needed for imputation with strategy='mean'.\n",
      "  warnings.warn(\n"
     ]
    },
    {
     "name": "stdout",
     "output_type": "stream",
     "text": [
      "GBR - Train score: 9.5843 | Validation score: 9.2706\n",
      "\n",
      "Training 16_games_exp_weighted_mean_decay0.9199999999999999 with GBR\n"
     ]
    },
    {
     "name": "stderr",
     "output_type": "stream",
     "text": [
      "/var/folders/h1/1n1src7x64q_jwgsr43hmkxm0000gq/T/ipykernel_59208/2010834509.py:83: DtypeWarning: Columns (20,46,63) have mixed types. Specify dtype option on import or set low_memory=False.\n",
      "  training_df = pd.read_csv(f\"../data/transformed/{file_name}\")\n"
     ]
    },
    {
     "name": "stdout",
     "output_type": "stream",
     "text": [
      "Validation year 2013\n"
     ]
    },
    {
     "name": "stderr",
     "output_type": "stream",
     "text": [
      "/Users/DanPfeiffer/Documents/code/data-collector/env/lib/python3.11/site-packages/sklearn/impute/_base.py:577: UserWarning: Skipping features without any observed values: ['offense_total_4th_down_conversion_pcnt_matchup_differential'\n",
      " 'defense_total_4th_down_conversion_pcnt_matchup_differential']. At least one non-missing value is needed for imputation with strategy='mean'.\n",
      "  warnings.warn(\n",
      "/Users/DanPfeiffer/Documents/code/data-collector/env/lib/python3.11/site-packages/sklearn/impute/_base.py:577: UserWarning: Skipping features without any observed values: ['offense_total_4th_down_conversion_pcnt_matchup_differential'\n",
      " 'defense_total_4th_down_conversion_pcnt_matchup_differential']. At least one non-missing value is needed for imputation with strategy='mean'.\n",
      "  warnings.warn(\n",
      "/Users/DanPfeiffer/Documents/code/data-collector/env/lib/python3.11/site-packages/sklearn/impute/_base.py:577: UserWarning: Skipping features without any observed values: ['offense_total_4th_down_conversion_pcnt_matchup_differential'\n",
      " 'defense_total_4th_down_conversion_pcnt_matchup_differential']. At least one non-missing value is needed for imputation with strategy='mean'.\n",
      "  warnings.warn(\n"
     ]
    },
    {
     "name": "stdout",
     "output_type": "stream",
     "text": [
      "GBR - Train score: 10.1578 | Validation score: 10.3026\n",
      "\n",
      "Validation year 2014\n"
     ]
    },
    {
     "name": "stderr",
     "output_type": "stream",
     "text": [
      "/Users/DanPfeiffer/Documents/code/data-collector/env/lib/python3.11/site-packages/sklearn/impute/_base.py:577: UserWarning: Skipping features without any observed values: ['offense_total_4th_down_conversion_pcnt_matchup_differential'\n",
      " 'defense_total_4th_down_conversion_pcnt_matchup_differential']. At least one non-missing value is needed for imputation with strategy='mean'.\n",
      "  warnings.warn(\n",
      "/Users/DanPfeiffer/Documents/code/data-collector/env/lib/python3.11/site-packages/sklearn/impute/_base.py:577: UserWarning: Skipping features without any observed values: ['offense_total_4th_down_conversion_pcnt_matchup_differential'\n",
      " 'defense_total_4th_down_conversion_pcnt_matchup_differential']. At least one non-missing value is needed for imputation with strategy='mean'.\n",
      "  warnings.warn(\n",
      "/Users/DanPfeiffer/Documents/code/data-collector/env/lib/python3.11/site-packages/sklearn/impute/_base.py:577: UserWarning: Skipping features without any observed values: ['offense_total_4th_down_conversion_pcnt_matchup_differential'\n",
      " 'defense_total_4th_down_conversion_pcnt_matchup_differential']. At least one non-missing value is needed for imputation with strategy='mean'.\n",
      "  warnings.warn(\n"
     ]
    },
    {
     "name": "stdout",
     "output_type": "stream",
     "text": [
      "GBR - Train score: 10.0424 | Validation score: 11.2562\n",
      "\n",
      "Validation year 2015\n"
     ]
    },
    {
     "name": "stderr",
     "output_type": "stream",
     "text": [
      "/Users/DanPfeiffer/Documents/code/data-collector/env/lib/python3.11/site-packages/sklearn/impute/_base.py:577: UserWarning: Skipping features without any observed values: ['offense_total_4th_down_conversion_pcnt_matchup_differential'\n",
      " 'defense_total_4th_down_conversion_pcnt_matchup_differential']. At least one non-missing value is needed for imputation with strategy='mean'.\n",
      "  warnings.warn(\n",
      "/Users/DanPfeiffer/Documents/code/data-collector/env/lib/python3.11/site-packages/sklearn/impute/_base.py:577: UserWarning: Skipping features without any observed values: ['offense_total_4th_down_conversion_pcnt_matchup_differential'\n",
      " 'defense_total_4th_down_conversion_pcnt_matchup_differential']. At least one non-missing value is needed for imputation with strategy='mean'.\n",
      "  warnings.warn(\n",
      "/Users/DanPfeiffer/Documents/code/data-collector/env/lib/python3.11/site-packages/sklearn/impute/_base.py:577: UserWarning: Skipping features without any observed values: ['offense_total_4th_down_conversion_pcnt_matchup_differential'\n",
      " 'defense_total_4th_down_conversion_pcnt_matchup_differential']. At least one non-missing value is needed for imputation with strategy='mean'.\n",
      "  warnings.warn(\n"
     ]
    },
    {
     "name": "stdout",
     "output_type": "stream",
     "text": [
      "GBR - Train score: 10.4645 | Validation score: 10.6355\n",
      "\n",
      "Validation year 2016\n"
     ]
    },
    {
     "name": "stderr",
     "output_type": "stream",
     "text": [
      "/Users/DanPfeiffer/Documents/code/data-collector/env/lib/python3.11/site-packages/sklearn/impute/_base.py:577: UserWarning: Skipping features without any observed values: ['offense_total_4th_down_conversion_pcnt_matchup_differential'\n",
      " 'defense_total_4th_down_conversion_pcnt_matchup_differential']. At least one non-missing value is needed for imputation with strategy='mean'.\n",
      "  warnings.warn(\n",
      "/Users/DanPfeiffer/Documents/code/data-collector/env/lib/python3.11/site-packages/sklearn/impute/_base.py:577: UserWarning: Skipping features without any observed values: ['offense_total_4th_down_conversion_pcnt_matchup_differential'\n",
      " 'defense_total_4th_down_conversion_pcnt_matchup_differential']. At least one non-missing value is needed for imputation with strategy='mean'.\n",
      "  warnings.warn(\n",
      "/Users/DanPfeiffer/Documents/code/data-collector/env/lib/python3.11/site-packages/sklearn/impute/_base.py:577: UserWarning: Skipping features without any observed values: ['offense_total_4th_down_conversion_pcnt_matchup_differential'\n",
      " 'defense_total_4th_down_conversion_pcnt_matchup_differential']. At least one non-missing value is needed for imputation with strategy='mean'.\n",
      "  warnings.warn(\n"
     ]
    },
    {
     "name": "stdout",
     "output_type": "stream",
     "text": [
      "GBR - Train score: 9.8668 | Validation score: 9.3480\n",
      "\n",
      "Validation year 2017\n"
     ]
    },
    {
     "name": "stderr",
     "output_type": "stream",
     "text": [
      "/Users/DanPfeiffer/Documents/code/data-collector/env/lib/python3.11/site-packages/sklearn/impute/_base.py:577: UserWarning: Skipping features without any observed values: ['road_defense_total_4th_down_conversion_pcnt'\n",
      " 'offense_total_4th_down_conversion_pcnt_matchup_differential'\n",
      " 'home_defense_total_4th_down_conversion_pcnt'\n",
      " 'defense_total_4th_down_conversion_pcnt_matchup_differential']. At least one non-missing value is needed for imputation with strategy='mean'.\n",
      "  warnings.warn(\n",
      "/Users/DanPfeiffer/Documents/code/data-collector/env/lib/python3.11/site-packages/sklearn/impute/_base.py:577: UserWarning: Skipping features without any observed values: ['road_defense_total_4th_down_conversion_pcnt'\n",
      " 'offense_total_4th_down_conversion_pcnt_matchup_differential'\n",
      " 'home_defense_total_4th_down_conversion_pcnt'\n",
      " 'defense_total_4th_down_conversion_pcnt_matchup_differential']. At least one non-missing value is needed for imputation with strategy='mean'.\n",
      "  warnings.warn(\n",
      "/Users/DanPfeiffer/Documents/code/data-collector/env/lib/python3.11/site-packages/sklearn/impute/_base.py:577: UserWarning: Skipping features without any observed values: ['road_defense_total_4th_down_conversion_pcnt'\n",
      " 'offense_total_4th_down_conversion_pcnt_matchup_differential'\n",
      " 'home_defense_total_4th_down_conversion_pcnt'\n",
      " 'defense_total_4th_down_conversion_pcnt_matchup_differential']. At least one non-missing value is needed for imputation with strategy='mean'.\n",
      "  warnings.warn(\n"
     ]
    },
    {
     "name": "stdout",
     "output_type": "stream",
     "text": [
      "GBR - Train score: 9.6693 | Validation score: 10.8641\n",
      "\n",
      "Validation year 2018\n"
     ]
    },
    {
     "name": "stderr",
     "output_type": "stream",
     "text": [
      "/Users/DanPfeiffer/Documents/code/data-collector/env/lib/python3.11/site-packages/sklearn/impute/_base.py:577: UserWarning: Skipping features without any observed values: ['road_defense_total_4th_down_conversion_pcnt'\n",
      " 'offense_total_4th_down_conversion_pcnt_matchup_differential'\n",
      " 'home_defense_total_4th_down_conversion_pcnt'\n",
      " 'defense_total_4th_down_conversion_pcnt_matchup_differential']. At least one non-missing value is needed for imputation with strategy='mean'.\n",
      "  warnings.warn(\n",
      "/Users/DanPfeiffer/Documents/code/data-collector/env/lib/python3.11/site-packages/sklearn/impute/_base.py:577: UserWarning: Skipping features without any observed values: ['road_defense_total_4th_down_conversion_pcnt'\n",
      " 'offense_total_4th_down_conversion_pcnt_matchup_differential'\n",
      " 'home_defense_total_4th_down_conversion_pcnt'\n",
      " 'defense_total_4th_down_conversion_pcnt_matchup_differential']. At least one non-missing value is needed for imputation with strategy='mean'.\n",
      "  warnings.warn(\n",
      "/Users/DanPfeiffer/Documents/code/data-collector/env/lib/python3.11/site-packages/sklearn/impute/_base.py:577: UserWarning: Skipping features without any observed values: ['road_defense_total_4th_down_conversion_pcnt'\n",
      " 'offense_total_4th_down_conversion_pcnt_matchup_differential'\n",
      " 'home_defense_total_4th_down_conversion_pcnt'\n",
      " 'defense_total_4th_down_conversion_pcnt_matchup_differential']. At least one non-missing value is needed for imputation with strategy='mean'.\n",
      "  warnings.warn(\n"
     ]
    },
    {
     "name": "stdout",
     "output_type": "stream",
     "text": [
      "GBR - Train score: 9.8427 | Validation score: 9.9861\n",
      "\n",
      "Validation year 2019\n"
     ]
    },
    {
     "name": "stderr",
     "output_type": "stream",
     "text": [
      "/Users/DanPfeiffer/Documents/code/data-collector/env/lib/python3.11/site-packages/sklearn/impute/_base.py:577: UserWarning: Skipping features without any observed values: ['road_defense_total_4th_down_conversion_pcnt'\n",
      " 'offense_total_4th_down_conversion_pcnt_matchup_differential'\n",
      " 'home_defense_total_4th_down_conversion_pcnt'\n",
      " 'defense_total_4th_down_conversion_pcnt_matchup_differential']. At least one non-missing value is needed for imputation with strategy='mean'.\n",
      "  warnings.warn(\n",
      "/Users/DanPfeiffer/Documents/code/data-collector/env/lib/python3.11/site-packages/sklearn/impute/_base.py:577: UserWarning: Skipping features without any observed values: ['road_defense_total_4th_down_conversion_pcnt'\n",
      " 'offense_total_4th_down_conversion_pcnt_matchup_differential'\n",
      " 'home_defense_total_4th_down_conversion_pcnt'\n",
      " 'defense_total_4th_down_conversion_pcnt_matchup_differential']. At least one non-missing value is needed for imputation with strategy='mean'.\n",
      "  warnings.warn(\n",
      "/Users/DanPfeiffer/Documents/code/data-collector/env/lib/python3.11/site-packages/sklearn/impute/_base.py:577: UserWarning: Skipping features without any observed values: ['road_defense_total_4th_down_conversion_pcnt'\n",
      " 'offense_total_4th_down_conversion_pcnt_matchup_differential'\n",
      " 'home_defense_total_4th_down_conversion_pcnt'\n",
      " 'defense_total_4th_down_conversion_pcnt_matchup_differential']. At least one non-missing value is needed for imputation with strategy='mean'.\n",
      "  warnings.warn(\n"
     ]
    },
    {
     "name": "stdout",
     "output_type": "stream",
     "text": [
      "GBR - Train score: 9.1516 | Validation score: 10.8689\n",
      "\n",
      "Validation year 2020\n"
     ]
    },
    {
     "name": "stderr",
     "output_type": "stream",
     "text": [
      "/Users/DanPfeiffer/Documents/code/data-collector/env/lib/python3.11/site-packages/sklearn/impute/_base.py:577: UserWarning: Skipping features without any observed values: ['road_defense_total_4th_down_conversion_pcnt'\n",
      " 'offense_total_4th_down_conversion_pcnt_matchup_differential'\n",
      " 'home_defense_total_4th_down_conversion_pcnt'\n",
      " 'defense_total_4th_down_conversion_pcnt_matchup_differential']. At least one non-missing value is needed for imputation with strategy='mean'.\n",
      "  warnings.warn(\n",
      "/Users/DanPfeiffer/Documents/code/data-collector/env/lib/python3.11/site-packages/sklearn/impute/_base.py:577: UserWarning: Skipping features without any observed values: ['road_defense_total_4th_down_conversion_pcnt'\n",
      " 'offense_total_4th_down_conversion_pcnt_matchup_differential'\n",
      " 'home_defense_total_4th_down_conversion_pcnt'\n",
      " 'defense_total_4th_down_conversion_pcnt_matchup_differential']. At least one non-missing value is needed for imputation with strategy='mean'.\n",
      "  warnings.warn(\n",
      "/Users/DanPfeiffer/Documents/code/data-collector/env/lib/python3.11/site-packages/sklearn/impute/_base.py:577: UserWarning: Skipping features without any observed values: ['road_defense_total_4th_down_conversion_pcnt'\n",
      " 'offense_total_4th_down_conversion_pcnt_matchup_differential'\n",
      " 'home_defense_total_4th_down_conversion_pcnt'\n",
      " 'defense_total_4th_down_conversion_pcnt_matchup_differential']. At least one non-missing value is needed for imputation with strategy='mean'.\n",
      "  warnings.warn(\n"
     ]
    },
    {
     "name": "stdout",
     "output_type": "stream",
     "text": [
      "GBR - Train score: 9.3501 | Validation score: 10.1888\n",
      "\n",
      "Validation year 2021\n"
     ]
    },
    {
     "name": "stderr",
     "output_type": "stream",
     "text": [
      "/Users/DanPfeiffer/Documents/code/data-collector/env/lib/python3.11/site-packages/sklearn/impute/_base.py:577: UserWarning: Skipping features without any observed values: ['offense_total_4th_down_conversion_pcnt_matchup_differential'\n",
      " 'defense_total_4th_down_conversion_pcnt_matchup_differential']. At least one non-missing value is needed for imputation with strategy='mean'.\n",
      "  warnings.warn(\n",
      "/Users/DanPfeiffer/Documents/code/data-collector/env/lib/python3.11/site-packages/sklearn/impute/_base.py:577: UserWarning: Skipping features without any observed values: ['offense_total_4th_down_conversion_pcnt_matchup_differential'\n",
      " 'defense_total_4th_down_conversion_pcnt_matchup_differential']. At least one non-missing value is needed for imputation with strategy='mean'.\n",
      "  warnings.warn(\n",
      "/Users/DanPfeiffer/Documents/code/data-collector/env/lib/python3.11/site-packages/sklearn/impute/_base.py:577: UserWarning: Skipping features without any observed values: ['offense_total_4th_down_conversion_pcnt_matchup_differential'\n",
      " 'defense_total_4th_down_conversion_pcnt_matchup_differential']. At least one non-missing value is needed for imputation with strategy='mean'.\n",
      "  warnings.warn(\n"
     ]
    },
    {
     "name": "stdout",
     "output_type": "stream",
     "text": [
      "GBR - Train score: 9.2580 | Validation score: 11.3137\n",
      "\n",
      "Validation year 2022\n"
     ]
    },
    {
     "name": "stderr",
     "output_type": "stream",
     "text": [
      "/Users/DanPfeiffer/Documents/code/data-collector/env/lib/python3.11/site-packages/sklearn/impute/_base.py:577: UserWarning: Skipping features without any observed values: ['offense_total_4th_down_conversion_pcnt_matchup_differential'\n",
      " 'defense_total_4th_down_conversion_pcnt_matchup_differential']. At least one non-missing value is needed for imputation with strategy='mean'.\n",
      "  warnings.warn(\n",
      "/Users/DanPfeiffer/Documents/code/data-collector/env/lib/python3.11/site-packages/sklearn/impute/_base.py:577: UserWarning: Skipping features without any observed values: ['offense_total_4th_down_conversion_pcnt_matchup_differential'\n",
      " 'defense_total_4th_down_conversion_pcnt_matchup_differential']. At least one non-missing value is needed for imputation with strategy='mean'.\n",
      "  warnings.warn(\n",
      "/Users/DanPfeiffer/Documents/code/data-collector/env/lib/python3.11/site-packages/sklearn/impute/_base.py:577: UserWarning: Skipping features without any observed values: ['offense_total_4th_down_conversion_pcnt_matchup_differential'\n",
      " 'defense_total_4th_down_conversion_pcnt_matchup_differential']. At least one non-missing value is needed for imputation with strategy='mean'.\n",
      "  warnings.warn(\n"
     ]
    },
    {
     "name": "stdout",
     "output_type": "stream",
     "text": [
      "GBR - Train score: 9.3574 | Validation score: 9.3840\n",
      "\n",
      "Training 16_games_exp_weighted_mean_decay0.94 with GBR\n"
     ]
    },
    {
     "name": "stderr",
     "output_type": "stream",
     "text": [
      "/var/folders/h1/1n1src7x64q_jwgsr43hmkxm0000gq/T/ipykernel_59208/2010834509.py:83: DtypeWarning: Columns (20,46,63) have mixed types. Specify dtype option on import or set low_memory=False.\n",
      "  training_df = pd.read_csv(f\"../data/transformed/{file_name}\")\n"
     ]
    },
    {
     "name": "stdout",
     "output_type": "stream",
     "text": [
      "Validation year 2013\n"
     ]
    },
    {
     "name": "stderr",
     "output_type": "stream",
     "text": [
      "/Users/DanPfeiffer/Documents/code/data-collector/env/lib/python3.11/site-packages/sklearn/impute/_base.py:577: UserWarning: Skipping features without any observed values: ['offense_total_4th_down_conversion_pcnt_matchup_differential'\n",
      " 'defense_total_4th_down_conversion_pcnt_matchup_differential']. At least one non-missing value is needed for imputation with strategy='mean'.\n",
      "  warnings.warn(\n",
      "/Users/DanPfeiffer/Documents/code/data-collector/env/lib/python3.11/site-packages/sklearn/impute/_base.py:577: UserWarning: Skipping features without any observed values: ['offense_total_4th_down_conversion_pcnt_matchup_differential'\n",
      " 'defense_total_4th_down_conversion_pcnt_matchup_differential']. At least one non-missing value is needed for imputation with strategy='mean'.\n",
      "  warnings.warn(\n",
      "/Users/DanPfeiffer/Documents/code/data-collector/env/lib/python3.11/site-packages/sklearn/impute/_base.py:577: UserWarning: Skipping features without any observed values: ['offense_total_4th_down_conversion_pcnt_matchup_differential'\n",
      " 'defense_total_4th_down_conversion_pcnt_matchup_differential']. At least one non-missing value is needed for imputation with strategy='mean'.\n",
      "  warnings.warn(\n"
     ]
    },
    {
     "name": "stdout",
     "output_type": "stream",
     "text": [
      "GBR - Train score: 10.3279 | Validation score: 10.2276\n",
      "\n",
      "Validation year 2014\n"
     ]
    },
    {
     "name": "stderr",
     "output_type": "stream",
     "text": [
      "/Users/DanPfeiffer/Documents/code/data-collector/env/lib/python3.11/site-packages/sklearn/impute/_base.py:577: UserWarning: Skipping features without any observed values: ['offense_total_4th_down_conversion_pcnt_matchup_differential'\n",
      " 'defense_total_4th_down_conversion_pcnt_matchup_differential']. At least one non-missing value is needed for imputation with strategy='mean'.\n",
      "  warnings.warn(\n",
      "/Users/DanPfeiffer/Documents/code/data-collector/env/lib/python3.11/site-packages/sklearn/impute/_base.py:577: UserWarning: Skipping features without any observed values: ['offense_total_4th_down_conversion_pcnt_matchup_differential'\n",
      " 'defense_total_4th_down_conversion_pcnt_matchup_differential']. At least one non-missing value is needed for imputation with strategy='mean'.\n",
      "  warnings.warn(\n",
      "/Users/DanPfeiffer/Documents/code/data-collector/env/lib/python3.11/site-packages/sklearn/impute/_base.py:577: UserWarning: Skipping features without any observed values: ['offense_total_4th_down_conversion_pcnt_matchup_differential'\n",
      " 'defense_total_4th_down_conversion_pcnt_matchup_differential']. At least one non-missing value is needed for imputation with strategy='mean'.\n",
      "  warnings.warn(\n"
     ]
    },
    {
     "name": "stdout",
     "output_type": "stream",
     "text": [
      "GBR - Train score: 10.1614 | Validation score: 11.2843\n",
      "\n",
      "Validation year 2015\n"
     ]
    },
    {
     "name": "stderr",
     "output_type": "stream",
     "text": [
      "/Users/DanPfeiffer/Documents/code/data-collector/env/lib/python3.11/site-packages/sklearn/impute/_base.py:577: UserWarning: Skipping features without any observed values: ['offense_total_4th_down_conversion_pcnt_matchup_differential'\n",
      " 'defense_total_4th_down_conversion_pcnt_matchup_differential']. At least one non-missing value is needed for imputation with strategy='mean'.\n",
      "  warnings.warn(\n",
      "/Users/DanPfeiffer/Documents/code/data-collector/env/lib/python3.11/site-packages/sklearn/impute/_base.py:577: UserWarning: Skipping features without any observed values: ['offense_total_4th_down_conversion_pcnt_matchup_differential'\n",
      " 'defense_total_4th_down_conversion_pcnt_matchup_differential']. At least one non-missing value is needed for imputation with strategy='mean'.\n",
      "  warnings.warn(\n",
      "/Users/DanPfeiffer/Documents/code/data-collector/env/lib/python3.11/site-packages/sklearn/impute/_base.py:577: UserWarning: Skipping features without any observed values: ['offense_total_4th_down_conversion_pcnt_matchup_differential'\n",
      " 'defense_total_4th_down_conversion_pcnt_matchup_differential']. At least one non-missing value is needed for imputation with strategy='mean'.\n",
      "  warnings.warn(\n"
     ]
    },
    {
     "name": "stdout",
     "output_type": "stream",
     "text": [
      "GBR - Train score: 10.1056 | Validation score: 10.5060\n",
      "\n",
      "Validation year 2016\n"
     ]
    },
    {
     "name": "stderr",
     "output_type": "stream",
     "text": [
      "/Users/DanPfeiffer/Documents/code/data-collector/env/lib/python3.11/site-packages/sklearn/impute/_base.py:577: UserWarning: Skipping features without any observed values: ['offense_total_4th_down_conversion_pcnt_matchup_differential'\n",
      " 'defense_total_4th_down_conversion_pcnt_matchup_differential']. At least one non-missing value is needed for imputation with strategy='mean'.\n",
      "  warnings.warn(\n",
      "/Users/DanPfeiffer/Documents/code/data-collector/env/lib/python3.11/site-packages/sklearn/impute/_base.py:577: UserWarning: Skipping features without any observed values: ['offense_total_4th_down_conversion_pcnt_matchup_differential'\n",
      " 'defense_total_4th_down_conversion_pcnt_matchup_differential']. At least one non-missing value is needed for imputation with strategy='mean'.\n",
      "  warnings.warn(\n",
      "/Users/DanPfeiffer/Documents/code/data-collector/env/lib/python3.11/site-packages/sklearn/impute/_base.py:577: UserWarning: Skipping features without any observed values: ['offense_total_4th_down_conversion_pcnt_matchup_differential'\n",
      " 'defense_total_4th_down_conversion_pcnt_matchup_differential']. At least one non-missing value is needed for imputation with strategy='mean'.\n",
      "  warnings.warn(\n"
     ]
    },
    {
     "name": "stdout",
     "output_type": "stream",
     "text": [
      "GBR - Train score: 9.7974 | Validation score: 9.2908\n",
      "\n",
      "Validation year 2017\n"
     ]
    },
    {
     "name": "stderr",
     "output_type": "stream",
     "text": [
      "/Users/DanPfeiffer/Documents/code/data-collector/env/lib/python3.11/site-packages/sklearn/impute/_base.py:577: UserWarning: Skipping features without any observed values: ['road_defense_total_4th_down_conversion_pcnt'\n",
      " 'offense_total_4th_down_conversion_pcnt_matchup_differential'\n",
      " 'home_defense_total_4th_down_conversion_pcnt'\n",
      " 'defense_total_4th_down_conversion_pcnt_matchup_differential']. At least one non-missing value is needed for imputation with strategy='mean'.\n",
      "  warnings.warn(\n",
      "/Users/DanPfeiffer/Documents/code/data-collector/env/lib/python3.11/site-packages/sklearn/impute/_base.py:577: UserWarning: Skipping features without any observed values: ['road_defense_total_4th_down_conversion_pcnt'\n",
      " 'offense_total_4th_down_conversion_pcnt_matchup_differential'\n",
      " 'home_defense_total_4th_down_conversion_pcnt'\n",
      " 'defense_total_4th_down_conversion_pcnt_matchup_differential']. At least one non-missing value is needed for imputation with strategy='mean'.\n",
      "  warnings.warn(\n",
      "/Users/DanPfeiffer/Documents/code/data-collector/env/lib/python3.11/site-packages/sklearn/impute/_base.py:577: UserWarning: Skipping features without any observed values: ['road_defense_total_4th_down_conversion_pcnt'\n",
      " 'offense_total_4th_down_conversion_pcnt_matchup_differential'\n",
      " 'home_defense_total_4th_down_conversion_pcnt'\n",
      " 'defense_total_4th_down_conversion_pcnt_matchup_differential']. At least one non-missing value is needed for imputation with strategy='mean'.\n",
      "  warnings.warn(\n"
     ]
    },
    {
     "name": "stdout",
     "output_type": "stream",
     "text": [
      "GBR - Train score: 9.6921 | Validation score: 10.8718\n",
      "\n",
      "Validation year 2018\n"
     ]
    },
    {
     "name": "stderr",
     "output_type": "stream",
     "text": [
      "/Users/DanPfeiffer/Documents/code/data-collector/env/lib/python3.11/site-packages/sklearn/impute/_base.py:577: UserWarning: Skipping features without any observed values: ['road_defense_total_4th_down_conversion_pcnt'\n",
      " 'offense_total_4th_down_conversion_pcnt_matchup_differential'\n",
      " 'home_defense_total_4th_down_conversion_pcnt'\n",
      " 'defense_total_4th_down_conversion_pcnt_matchup_differential']. At least one non-missing value is needed for imputation with strategy='mean'.\n",
      "  warnings.warn(\n",
      "/Users/DanPfeiffer/Documents/code/data-collector/env/lib/python3.11/site-packages/sklearn/impute/_base.py:577: UserWarning: Skipping features without any observed values: ['road_defense_total_4th_down_conversion_pcnt'\n",
      " 'offense_total_4th_down_conversion_pcnt_matchup_differential'\n",
      " 'home_defense_total_4th_down_conversion_pcnt'\n",
      " 'defense_total_4th_down_conversion_pcnt_matchup_differential']. At least one non-missing value is needed for imputation with strategy='mean'.\n",
      "  warnings.warn(\n",
      "/Users/DanPfeiffer/Documents/code/data-collector/env/lib/python3.11/site-packages/sklearn/impute/_base.py:577: UserWarning: Skipping features without any observed values: ['road_defense_total_4th_down_conversion_pcnt'\n",
      " 'offense_total_4th_down_conversion_pcnt_matchup_differential'\n",
      " 'home_defense_total_4th_down_conversion_pcnt'\n",
      " 'defense_total_4th_down_conversion_pcnt_matchup_differential']. At least one non-missing value is needed for imputation with strategy='mean'.\n",
      "  warnings.warn(\n"
     ]
    },
    {
     "name": "stdout",
     "output_type": "stream",
     "text": [
      "GBR - Train score: 8.8199 | Validation score: 10.0778\n",
      "\n",
      "Validation year 2019\n"
     ]
    },
    {
     "name": "stderr",
     "output_type": "stream",
     "text": [
      "/Users/DanPfeiffer/Documents/code/data-collector/env/lib/python3.11/site-packages/sklearn/impute/_base.py:577: UserWarning: Skipping features without any observed values: ['road_defense_total_4th_down_conversion_pcnt'\n",
      " 'offense_total_4th_down_conversion_pcnt_matchup_differential'\n",
      " 'home_defense_total_4th_down_conversion_pcnt'\n",
      " 'defense_total_4th_down_conversion_pcnt_matchup_differential']. At least one non-missing value is needed for imputation with strategy='mean'.\n",
      "  warnings.warn(\n",
      "/Users/DanPfeiffer/Documents/code/data-collector/env/lib/python3.11/site-packages/sklearn/impute/_base.py:577: UserWarning: Skipping features without any observed values: ['road_defense_total_4th_down_conversion_pcnt'\n",
      " 'offense_total_4th_down_conversion_pcnt_matchup_differential'\n",
      " 'home_defense_total_4th_down_conversion_pcnt'\n",
      " 'defense_total_4th_down_conversion_pcnt_matchup_differential']. At least one non-missing value is needed for imputation with strategy='mean'.\n",
      "  warnings.warn(\n",
      "/Users/DanPfeiffer/Documents/code/data-collector/env/lib/python3.11/site-packages/sklearn/impute/_base.py:577: UserWarning: Skipping features without any observed values: ['road_defense_total_4th_down_conversion_pcnt'\n",
      " 'offense_total_4th_down_conversion_pcnt_matchup_differential'\n",
      " 'home_defense_total_4th_down_conversion_pcnt'\n",
      " 'defense_total_4th_down_conversion_pcnt_matchup_differential']. At least one non-missing value is needed for imputation with strategy='mean'.\n",
      "  warnings.warn(\n"
     ]
    },
    {
     "name": "stdout",
     "output_type": "stream",
     "text": [
      "GBR - Train score: 9.6102 | Validation score: 10.9465\n",
      "\n",
      "Validation year 2020\n"
     ]
    },
    {
     "name": "stderr",
     "output_type": "stream",
     "text": [
      "/Users/DanPfeiffer/Documents/code/data-collector/env/lib/python3.11/site-packages/sklearn/impute/_base.py:577: UserWarning: Skipping features without any observed values: ['road_defense_total_4th_down_conversion_pcnt'\n",
      " 'offense_total_4th_down_conversion_pcnt_matchup_differential'\n",
      " 'home_defense_total_4th_down_conversion_pcnt'\n",
      " 'defense_total_4th_down_conversion_pcnt_matchup_differential']. At least one non-missing value is needed for imputation with strategy='mean'.\n",
      "  warnings.warn(\n",
      "/Users/DanPfeiffer/Documents/code/data-collector/env/lib/python3.11/site-packages/sklearn/impute/_base.py:577: UserWarning: Skipping features without any observed values: ['road_defense_total_4th_down_conversion_pcnt'\n",
      " 'offense_total_4th_down_conversion_pcnt_matchup_differential'\n",
      " 'home_defense_total_4th_down_conversion_pcnt'\n",
      " 'defense_total_4th_down_conversion_pcnt_matchup_differential']. At least one non-missing value is needed for imputation with strategy='mean'.\n",
      "  warnings.warn(\n",
      "/Users/DanPfeiffer/Documents/code/data-collector/env/lib/python3.11/site-packages/sklearn/impute/_base.py:577: UserWarning: Skipping features without any observed values: ['road_defense_total_4th_down_conversion_pcnt'\n",
      " 'offense_total_4th_down_conversion_pcnt_matchup_differential'\n",
      " 'home_defense_total_4th_down_conversion_pcnt'\n",
      " 'defense_total_4th_down_conversion_pcnt_matchup_differential']. At least one non-missing value is needed for imputation with strategy='mean'.\n",
      "  warnings.warn(\n"
     ]
    },
    {
     "name": "stdout",
     "output_type": "stream",
     "text": [
      "GBR - Train score: 9.0484 | Validation score: 10.3426\n",
      "\n",
      "Validation year 2021\n"
     ]
    },
    {
     "name": "stderr",
     "output_type": "stream",
     "text": [
      "/Users/DanPfeiffer/Documents/code/data-collector/env/lib/python3.11/site-packages/sklearn/impute/_base.py:577: UserWarning: Skipping features without any observed values: ['offense_total_4th_down_conversion_pcnt_matchup_differential'\n",
      " 'defense_total_4th_down_conversion_pcnt_matchup_differential']. At least one non-missing value is needed for imputation with strategy='mean'.\n",
      "  warnings.warn(\n",
      "/Users/DanPfeiffer/Documents/code/data-collector/env/lib/python3.11/site-packages/sklearn/impute/_base.py:577: UserWarning: Skipping features without any observed values: ['offense_total_4th_down_conversion_pcnt_matchup_differential'\n",
      " 'defense_total_4th_down_conversion_pcnt_matchup_differential']. At least one non-missing value is needed for imputation with strategy='mean'.\n",
      "  warnings.warn(\n",
      "/Users/DanPfeiffer/Documents/code/data-collector/env/lib/python3.11/site-packages/sklearn/impute/_base.py:577: UserWarning: Skipping features without any observed values: ['offense_total_4th_down_conversion_pcnt_matchup_differential'\n",
      " 'defense_total_4th_down_conversion_pcnt_matchup_differential']. At least one non-missing value is needed for imputation with strategy='mean'.\n",
      "  warnings.warn(\n"
     ]
    },
    {
     "name": "stdout",
     "output_type": "stream",
     "text": [
      "GBR - Train score: 9.1456 | Validation score: 11.5168\n",
      "\n",
      "Validation year 2022\n"
     ]
    },
    {
     "name": "stderr",
     "output_type": "stream",
     "text": [
      "/Users/DanPfeiffer/Documents/code/data-collector/env/lib/python3.11/site-packages/sklearn/impute/_base.py:577: UserWarning: Skipping features without any observed values: ['offense_total_4th_down_conversion_pcnt_matchup_differential'\n",
      " 'defense_total_4th_down_conversion_pcnt_matchup_differential']. At least one non-missing value is needed for imputation with strategy='mean'.\n",
      "  warnings.warn(\n",
      "/Users/DanPfeiffer/Documents/code/data-collector/env/lib/python3.11/site-packages/sklearn/impute/_base.py:577: UserWarning: Skipping features without any observed values: ['offense_total_4th_down_conversion_pcnt_matchup_differential'\n",
      " 'defense_total_4th_down_conversion_pcnt_matchup_differential']. At least one non-missing value is needed for imputation with strategy='mean'.\n",
      "  warnings.warn(\n",
      "/Users/DanPfeiffer/Documents/code/data-collector/env/lib/python3.11/site-packages/sklearn/impute/_base.py:577: UserWarning: Skipping features without any observed values: ['offense_total_4th_down_conversion_pcnt_matchup_differential'\n",
      " 'defense_total_4th_down_conversion_pcnt_matchup_differential']. At least one non-missing value is needed for imputation with strategy='mean'.\n",
      "  warnings.warn(\n"
     ]
    },
    {
     "name": "stdout",
     "output_type": "stream",
     "text": [
      "GBR - Train score: 9.5758 | Validation score: 9.3374\n",
      "\n",
      "Training 16_games_exp_weighted_mean_decay0.96 with GBR\n"
     ]
    },
    {
     "name": "stderr",
     "output_type": "stream",
     "text": [
      "/var/folders/h1/1n1src7x64q_jwgsr43hmkxm0000gq/T/ipykernel_59208/2010834509.py:83: DtypeWarning: Columns (20,46,63) have mixed types. Specify dtype option on import or set low_memory=False.\n",
      "  training_df = pd.read_csv(f\"../data/transformed/{file_name}\")\n"
     ]
    },
    {
     "name": "stdout",
     "output_type": "stream",
     "text": [
      "Validation year 2013\n"
     ]
    },
    {
     "name": "stderr",
     "output_type": "stream",
     "text": [
      "/Users/DanPfeiffer/Documents/code/data-collector/env/lib/python3.11/site-packages/sklearn/impute/_base.py:577: UserWarning: Skipping features without any observed values: ['offense_total_4th_down_conversion_pcnt_matchup_differential'\n",
      " 'defense_total_4th_down_conversion_pcnt_matchup_differential']. At least one non-missing value is needed for imputation with strategy='mean'.\n",
      "  warnings.warn(\n",
      "/Users/DanPfeiffer/Documents/code/data-collector/env/lib/python3.11/site-packages/sklearn/impute/_base.py:577: UserWarning: Skipping features without any observed values: ['offense_total_4th_down_conversion_pcnt_matchup_differential'\n",
      " 'defense_total_4th_down_conversion_pcnt_matchup_differential']. At least one non-missing value is needed for imputation with strategy='mean'.\n",
      "  warnings.warn(\n",
      "/Users/DanPfeiffer/Documents/code/data-collector/env/lib/python3.11/site-packages/sklearn/impute/_base.py:577: UserWarning: Skipping features without any observed values: ['offense_total_4th_down_conversion_pcnt_matchup_differential'\n",
      " 'defense_total_4th_down_conversion_pcnt_matchup_differential']. At least one non-missing value is needed for imputation with strategy='mean'.\n",
      "  warnings.warn(\n"
     ]
    },
    {
     "name": "stdout",
     "output_type": "stream",
     "text": [
      "GBR - Train score: 10.2216 | Validation score: 10.3698\n",
      "\n",
      "Validation year 2014\n"
     ]
    },
    {
     "name": "stderr",
     "output_type": "stream",
     "text": [
      "/Users/DanPfeiffer/Documents/code/data-collector/env/lib/python3.11/site-packages/sklearn/impute/_base.py:577: UserWarning: Skipping features without any observed values: ['offense_total_4th_down_conversion_pcnt_matchup_differential'\n",
      " 'defense_total_4th_down_conversion_pcnt_matchup_differential']. At least one non-missing value is needed for imputation with strategy='mean'.\n",
      "  warnings.warn(\n",
      "/Users/DanPfeiffer/Documents/code/data-collector/env/lib/python3.11/site-packages/sklearn/impute/_base.py:577: UserWarning: Skipping features without any observed values: ['offense_total_4th_down_conversion_pcnt_matchup_differential'\n",
      " 'defense_total_4th_down_conversion_pcnt_matchup_differential']. At least one non-missing value is needed for imputation with strategy='mean'.\n",
      "  warnings.warn(\n",
      "/Users/DanPfeiffer/Documents/code/data-collector/env/lib/python3.11/site-packages/sklearn/impute/_base.py:577: UserWarning: Skipping features without any observed values: ['offense_total_4th_down_conversion_pcnt_matchup_differential'\n",
      " 'defense_total_4th_down_conversion_pcnt_matchup_differential']. At least one non-missing value is needed for imputation with strategy='mean'.\n",
      "  warnings.warn(\n"
     ]
    },
    {
     "name": "stdout",
     "output_type": "stream",
     "text": [
      "GBR - Train score: 10.3511 | Validation score: 11.3209\n",
      "\n",
      "Validation year 2015\n"
     ]
    },
    {
     "name": "stderr",
     "output_type": "stream",
     "text": [
      "/Users/DanPfeiffer/Documents/code/data-collector/env/lib/python3.11/site-packages/sklearn/impute/_base.py:577: UserWarning: Skipping features without any observed values: ['offense_total_4th_down_conversion_pcnt_matchup_differential'\n",
      " 'defense_total_4th_down_conversion_pcnt_matchup_differential']. At least one non-missing value is needed for imputation with strategy='mean'.\n",
      "  warnings.warn(\n",
      "/Users/DanPfeiffer/Documents/code/data-collector/env/lib/python3.11/site-packages/sklearn/impute/_base.py:577: UserWarning: Skipping features without any observed values: ['offense_total_4th_down_conversion_pcnt_matchup_differential'\n",
      " 'defense_total_4th_down_conversion_pcnt_matchup_differential']. At least one non-missing value is needed for imputation with strategy='mean'.\n",
      "  warnings.warn(\n",
      "/Users/DanPfeiffer/Documents/code/data-collector/env/lib/python3.11/site-packages/sklearn/impute/_base.py:577: UserWarning: Skipping features without any observed values: ['offense_total_4th_down_conversion_pcnt_matchup_differential'\n",
      " 'defense_total_4th_down_conversion_pcnt_matchup_differential']. At least one non-missing value is needed for imputation with strategy='mean'.\n",
      "  warnings.warn(\n"
     ]
    },
    {
     "name": "stdout",
     "output_type": "stream",
     "text": [
      "GBR - Train score: 10.2266 | Validation score: 10.5325\n",
      "\n",
      "Validation year 2016\n"
     ]
    },
    {
     "name": "stderr",
     "output_type": "stream",
     "text": [
      "/Users/DanPfeiffer/Documents/code/data-collector/env/lib/python3.11/site-packages/sklearn/impute/_base.py:577: UserWarning: Skipping features without any observed values: ['offense_total_4th_down_conversion_pcnt_matchup_differential'\n",
      " 'defense_total_4th_down_conversion_pcnt_matchup_differential']. At least one non-missing value is needed for imputation with strategy='mean'.\n",
      "  warnings.warn(\n",
      "/Users/DanPfeiffer/Documents/code/data-collector/env/lib/python3.11/site-packages/sklearn/impute/_base.py:577: UserWarning: Skipping features without any observed values: ['offense_total_4th_down_conversion_pcnt_matchup_differential'\n",
      " 'defense_total_4th_down_conversion_pcnt_matchup_differential']. At least one non-missing value is needed for imputation with strategy='mean'.\n",
      "  warnings.warn(\n",
      "/Users/DanPfeiffer/Documents/code/data-collector/env/lib/python3.11/site-packages/sklearn/impute/_base.py:577: UserWarning: Skipping features without any observed values: ['offense_total_4th_down_conversion_pcnt_matchup_differential'\n",
      " 'defense_total_4th_down_conversion_pcnt_matchup_differential']. At least one non-missing value is needed for imputation with strategy='mean'.\n",
      "  warnings.warn(\n"
     ]
    },
    {
     "name": "stdout",
     "output_type": "stream",
     "text": [
      "GBR - Train score: 9.8566 | Validation score: 9.3273\n",
      "\n",
      "Validation year 2017\n"
     ]
    },
    {
     "name": "stderr",
     "output_type": "stream",
     "text": [
      "/Users/DanPfeiffer/Documents/code/data-collector/env/lib/python3.11/site-packages/sklearn/impute/_base.py:577: UserWarning: Skipping features without any observed values: ['road_defense_total_4th_down_conversion_pcnt'\n",
      " 'offense_total_4th_down_conversion_pcnt_matchup_differential'\n",
      " 'home_defense_total_4th_down_conversion_pcnt'\n",
      " 'defense_total_4th_down_conversion_pcnt_matchup_differential']. At least one non-missing value is needed for imputation with strategy='mean'.\n",
      "  warnings.warn(\n",
      "/Users/DanPfeiffer/Documents/code/data-collector/env/lib/python3.11/site-packages/sklearn/impute/_base.py:577: UserWarning: Skipping features without any observed values: ['road_defense_total_4th_down_conversion_pcnt'\n",
      " 'offense_total_4th_down_conversion_pcnt_matchup_differential'\n",
      " 'home_defense_total_4th_down_conversion_pcnt'\n",
      " 'defense_total_4th_down_conversion_pcnt_matchup_differential']. At least one non-missing value is needed for imputation with strategy='mean'.\n",
      "  warnings.warn(\n",
      "/Users/DanPfeiffer/Documents/code/data-collector/env/lib/python3.11/site-packages/sklearn/impute/_base.py:577: UserWarning: Skipping features without any observed values: ['road_defense_total_4th_down_conversion_pcnt'\n",
      " 'offense_total_4th_down_conversion_pcnt_matchup_differential'\n",
      " 'home_defense_total_4th_down_conversion_pcnt'\n",
      " 'defense_total_4th_down_conversion_pcnt_matchup_differential']. At least one non-missing value is needed for imputation with strategy='mean'.\n",
      "  warnings.warn(\n"
     ]
    },
    {
     "name": "stdout",
     "output_type": "stream",
     "text": [
      "GBR - Train score: 9.3887 | Validation score: 11.0185\n",
      "\n",
      "Validation year 2018\n"
     ]
    },
    {
     "name": "stderr",
     "output_type": "stream",
     "text": [
      "/Users/DanPfeiffer/Documents/code/data-collector/env/lib/python3.11/site-packages/sklearn/impute/_base.py:577: UserWarning: Skipping features without any observed values: ['road_defense_total_4th_down_conversion_pcnt'\n",
      " 'offense_total_4th_down_conversion_pcnt_matchup_differential'\n",
      " 'home_defense_total_4th_down_conversion_pcnt'\n",
      " 'defense_total_4th_down_conversion_pcnt_matchup_differential']. At least one non-missing value is needed for imputation with strategy='mean'.\n",
      "  warnings.warn(\n",
      "/Users/DanPfeiffer/Documents/code/data-collector/env/lib/python3.11/site-packages/sklearn/impute/_base.py:577: UserWarning: Skipping features without any observed values: ['road_defense_total_4th_down_conversion_pcnt'\n",
      " 'offense_total_4th_down_conversion_pcnt_matchup_differential'\n",
      " 'home_defense_total_4th_down_conversion_pcnt'\n",
      " 'defense_total_4th_down_conversion_pcnt_matchup_differential']. At least one non-missing value is needed for imputation with strategy='mean'.\n",
      "  warnings.warn(\n",
      "/Users/DanPfeiffer/Documents/code/data-collector/env/lib/python3.11/site-packages/sklearn/impute/_base.py:577: UserWarning: Skipping features without any observed values: ['road_defense_total_4th_down_conversion_pcnt'\n",
      " 'offense_total_4th_down_conversion_pcnt_matchup_differential'\n",
      " 'home_defense_total_4th_down_conversion_pcnt'\n",
      " 'defense_total_4th_down_conversion_pcnt_matchup_differential']. At least one non-missing value is needed for imputation with strategy='mean'.\n",
      "  warnings.warn(\n"
     ]
    },
    {
     "name": "stdout",
     "output_type": "stream",
     "text": [
      "GBR - Train score: 9.8766 | Validation score: 9.9023\n",
      "\n",
      "Validation year 2019\n"
     ]
    },
    {
     "name": "stderr",
     "output_type": "stream",
     "text": [
      "/Users/DanPfeiffer/Documents/code/data-collector/env/lib/python3.11/site-packages/sklearn/impute/_base.py:577: UserWarning: Skipping features without any observed values: ['road_defense_total_4th_down_conversion_pcnt'\n",
      " 'offense_total_4th_down_conversion_pcnt_matchup_differential'\n",
      " 'home_defense_total_4th_down_conversion_pcnt'\n",
      " 'defense_total_4th_down_conversion_pcnt_matchup_differential']. At least one non-missing value is needed for imputation with strategy='mean'.\n",
      "  warnings.warn(\n",
      "/Users/DanPfeiffer/Documents/code/data-collector/env/lib/python3.11/site-packages/sklearn/impute/_base.py:577: UserWarning: Skipping features without any observed values: ['road_defense_total_4th_down_conversion_pcnt'\n",
      " 'offense_total_4th_down_conversion_pcnt_matchup_differential'\n",
      " 'home_defense_total_4th_down_conversion_pcnt'\n",
      " 'defense_total_4th_down_conversion_pcnt_matchup_differential']. At least one non-missing value is needed for imputation with strategy='mean'.\n",
      "  warnings.warn(\n",
      "/Users/DanPfeiffer/Documents/code/data-collector/env/lib/python3.11/site-packages/sklearn/impute/_base.py:577: UserWarning: Skipping features without any observed values: ['road_defense_total_4th_down_conversion_pcnt'\n",
      " 'offense_total_4th_down_conversion_pcnt_matchup_differential'\n",
      " 'home_defense_total_4th_down_conversion_pcnt'\n",
      " 'defense_total_4th_down_conversion_pcnt_matchup_differential']. At least one non-missing value is needed for imputation with strategy='mean'.\n",
      "  warnings.warn(\n"
     ]
    },
    {
     "name": "stdout",
     "output_type": "stream",
     "text": [
      "GBR - Train score: 9.3006 | Validation score: 10.7547\n",
      "\n",
      "Validation year 2020\n"
     ]
    },
    {
     "name": "stderr",
     "output_type": "stream",
     "text": [
      "/Users/DanPfeiffer/Documents/code/data-collector/env/lib/python3.11/site-packages/sklearn/impute/_base.py:577: UserWarning: Skipping features without any observed values: ['road_defense_total_4th_down_conversion_pcnt'\n",
      " 'offense_total_4th_down_conversion_pcnt_matchup_differential'\n",
      " 'home_defense_total_4th_down_conversion_pcnt'\n",
      " 'defense_total_4th_down_conversion_pcnt_matchup_differential']. At least one non-missing value is needed for imputation with strategy='mean'.\n",
      "  warnings.warn(\n",
      "/Users/DanPfeiffer/Documents/code/data-collector/env/lib/python3.11/site-packages/sklearn/impute/_base.py:577: UserWarning: Skipping features without any observed values: ['road_defense_total_4th_down_conversion_pcnt'\n",
      " 'offense_total_4th_down_conversion_pcnt_matchup_differential'\n",
      " 'home_defense_total_4th_down_conversion_pcnt'\n",
      " 'defense_total_4th_down_conversion_pcnt_matchup_differential']. At least one non-missing value is needed for imputation with strategy='mean'.\n",
      "  warnings.warn(\n",
      "/Users/DanPfeiffer/Documents/code/data-collector/env/lib/python3.11/site-packages/sklearn/impute/_base.py:577: UserWarning: Skipping features without any observed values: ['road_defense_total_4th_down_conversion_pcnt'\n",
      " 'offense_total_4th_down_conversion_pcnt_matchup_differential'\n",
      " 'home_defense_total_4th_down_conversion_pcnt'\n",
      " 'defense_total_4th_down_conversion_pcnt_matchup_differential']. At least one non-missing value is needed for imputation with strategy='mean'.\n",
      "  warnings.warn(\n"
     ]
    },
    {
     "name": "stdout",
     "output_type": "stream",
     "text": [
      "GBR - Train score: 9.0361 | Validation score: 10.2157\n",
      "\n",
      "Validation year 2021\n"
     ]
    },
    {
     "name": "stderr",
     "output_type": "stream",
     "text": [
      "/Users/DanPfeiffer/Documents/code/data-collector/env/lib/python3.11/site-packages/sklearn/impute/_base.py:577: UserWarning: Skipping features without any observed values: ['offense_total_4th_down_conversion_pcnt_matchup_differential'\n",
      " 'defense_total_4th_down_conversion_pcnt_matchup_differential']. At least one non-missing value is needed for imputation with strategy='mean'.\n",
      "  warnings.warn(\n",
      "/Users/DanPfeiffer/Documents/code/data-collector/env/lib/python3.11/site-packages/sklearn/impute/_base.py:577: UserWarning: Skipping features without any observed values: ['offense_total_4th_down_conversion_pcnt_matchup_differential'\n",
      " 'defense_total_4th_down_conversion_pcnt_matchup_differential']. At least one non-missing value is needed for imputation with strategy='mean'.\n",
      "  warnings.warn(\n",
      "/Users/DanPfeiffer/Documents/code/data-collector/env/lib/python3.11/site-packages/sklearn/impute/_base.py:577: UserWarning: Skipping features without any observed values: ['offense_total_4th_down_conversion_pcnt_matchup_differential'\n",
      " 'defense_total_4th_down_conversion_pcnt_matchup_differential']. At least one non-missing value is needed for imputation with strategy='mean'.\n",
      "  warnings.warn(\n"
     ]
    },
    {
     "name": "stdout",
     "output_type": "stream",
     "text": [
      "GBR - Train score: 9.2501 | Validation score: 11.3965\n",
      "\n",
      "Validation year 2022\n"
     ]
    },
    {
     "name": "stderr",
     "output_type": "stream",
     "text": [
      "/Users/DanPfeiffer/Documents/code/data-collector/env/lib/python3.11/site-packages/sklearn/impute/_base.py:577: UserWarning: Skipping features without any observed values: ['offense_total_4th_down_conversion_pcnt_matchup_differential'\n",
      " 'defense_total_4th_down_conversion_pcnt_matchup_differential']. At least one non-missing value is needed for imputation with strategy='mean'.\n",
      "  warnings.warn(\n",
      "/Users/DanPfeiffer/Documents/code/data-collector/env/lib/python3.11/site-packages/sklearn/impute/_base.py:577: UserWarning: Skipping features without any observed values: ['offense_total_4th_down_conversion_pcnt_matchup_differential'\n",
      " 'defense_total_4th_down_conversion_pcnt_matchup_differential']. At least one non-missing value is needed for imputation with strategy='mean'.\n",
      "  warnings.warn(\n",
      "/Users/DanPfeiffer/Documents/code/data-collector/env/lib/python3.11/site-packages/sklearn/impute/_base.py:577: UserWarning: Skipping features without any observed values: ['offense_total_4th_down_conversion_pcnt_matchup_differential'\n",
      " 'defense_total_4th_down_conversion_pcnt_matchup_differential']. At least one non-missing value is needed for imputation with strategy='mean'.\n",
      "  warnings.warn(\n"
     ]
    },
    {
     "name": "stdout",
     "output_type": "stream",
     "text": [
      "GBR - Train score: 9.4241 | Validation score: 9.3971\n",
      "\n",
      "Training 16_games_exp_weighted_mean_decay0.98 with GBR\n"
     ]
    },
    {
     "name": "stderr",
     "output_type": "stream",
     "text": [
      "/var/folders/h1/1n1src7x64q_jwgsr43hmkxm0000gq/T/ipykernel_59208/2010834509.py:83: DtypeWarning: Columns (20,46,63) have mixed types. Specify dtype option on import or set low_memory=False.\n",
      "  training_df = pd.read_csv(f\"../data/transformed/{file_name}\")\n"
     ]
    },
    {
     "name": "stdout",
     "output_type": "stream",
     "text": [
      "Validation year 2013\n"
     ]
    },
    {
     "name": "stderr",
     "output_type": "stream",
     "text": [
      "/Users/DanPfeiffer/Documents/code/data-collector/env/lib/python3.11/site-packages/sklearn/impute/_base.py:577: UserWarning: Skipping features without any observed values: ['offense_total_4th_down_conversion_pcnt_matchup_differential'\n",
      " 'defense_total_4th_down_conversion_pcnt_matchup_differential']. At least one non-missing value is needed for imputation with strategy='mean'.\n",
      "  warnings.warn(\n",
      "/Users/DanPfeiffer/Documents/code/data-collector/env/lib/python3.11/site-packages/sklearn/impute/_base.py:577: UserWarning: Skipping features without any observed values: ['offense_total_4th_down_conversion_pcnt_matchup_differential'\n",
      " 'defense_total_4th_down_conversion_pcnt_matchup_differential']. At least one non-missing value is needed for imputation with strategy='mean'.\n",
      "  warnings.warn(\n",
      "/Users/DanPfeiffer/Documents/code/data-collector/env/lib/python3.11/site-packages/sklearn/impute/_base.py:577: UserWarning: Skipping features without any observed values: ['offense_total_4th_down_conversion_pcnt_matchup_differential'\n",
      " 'defense_total_4th_down_conversion_pcnt_matchup_differential']. At least one non-missing value is needed for imputation with strategy='mean'.\n",
      "  warnings.warn(\n"
     ]
    },
    {
     "name": "stdout",
     "output_type": "stream",
     "text": [
      "GBR - Train score: 9.9135 | Validation score: 10.6529\n",
      "\n",
      "Validation year 2014\n"
     ]
    },
    {
     "name": "stderr",
     "output_type": "stream",
     "text": [
      "/Users/DanPfeiffer/Documents/code/data-collector/env/lib/python3.11/site-packages/sklearn/impute/_base.py:577: UserWarning: Skipping features without any observed values: ['offense_total_4th_down_conversion_pcnt_matchup_differential'\n",
      " 'defense_total_4th_down_conversion_pcnt_matchup_differential']. At least one non-missing value is needed for imputation with strategy='mean'.\n",
      "  warnings.warn(\n",
      "/Users/DanPfeiffer/Documents/code/data-collector/env/lib/python3.11/site-packages/sklearn/impute/_base.py:577: UserWarning: Skipping features without any observed values: ['offense_total_4th_down_conversion_pcnt_matchup_differential'\n",
      " 'defense_total_4th_down_conversion_pcnt_matchup_differential']. At least one non-missing value is needed for imputation with strategy='mean'.\n",
      "  warnings.warn(\n",
      "/Users/DanPfeiffer/Documents/code/data-collector/env/lib/python3.11/site-packages/sklearn/impute/_base.py:577: UserWarning: Skipping features without any observed values: ['offense_total_4th_down_conversion_pcnt_matchup_differential'\n",
      " 'defense_total_4th_down_conversion_pcnt_matchup_differential']. At least one non-missing value is needed for imputation with strategy='mean'.\n",
      "  warnings.warn(\n"
     ]
    },
    {
     "name": "stdout",
     "output_type": "stream",
     "text": [
      "GBR - Train score: 10.2051 | Validation score: 11.2581\n",
      "\n",
      "Validation year 2015\n"
     ]
    },
    {
     "name": "stderr",
     "output_type": "stream",
     "text": [
      "/Users/DanPfeiffer/Documents/code/data-collector/env/lib/python3.11/site-packages/sklearn/impute/_base.py:577: UserWarning: Skipping features without any observed values: ['offense_total_4th_down_conversion_pcnt_matchup_differential'\n",
      " 'defense_total_4th_down_conversion_pcnt_matchup_differential']. At least one non-missing value is needed for imputation with strategy='mean'.\n",
      "  warnings.warn(\n",
      "/Users/DanPfeiffer/Documents/code/data-collector/env/lib/python3.11/site-packages/sklearn/impute/_base.py:577: UserWarning: Skipping features without any observed values: ['offense_total_4th_down_conversion_pcnt_matchup_differential'\n",
      " 'defense_total_4th_down_conversion_pcnt_matchup_differential']. At least one non-missing value is needed for imputation with strategy='mean'.\n",
      "  warnings.warn(\n",
      "/Users/DanPfeiffer/Documents/code/data-collector/env/lib/python3.11/site-packages/sklearn/impute/_base.py:577: UserWarning: Skipping features without any observed values: ['offense_total_4th_down_conversion_pcnt_matchup_differential'\n",
      " 'defense_total_4th_down_conversion_pcnt_matchup_differential']. At least one non-missing value is needed for imputation with strategy='mean'.\n",
      "  warnings.warn(\n"
     ]
    },
    {
     "name": "stdout",
     "output_type": "stream",
     "text": [
      "GBR - Train score: 10.4014 | Validation score: 10.4987\n",
      "\n",
      "Validation year 2016\n"
     ]
    },
    {
     "name": "stderr",
     "output_type": "stream",
     "text": [
      "/Users/DanPfeiffer/Documents/code/data-collector/env/lib/python3.11/site-packages/sklearn/impute/_base.py:577: UserWarning: Skipping features without any observed values: ['offense_total_4th_down_conversion_pcnt_matchup_differential'\n",
      " 'defense_total_4th_down_conversion_pcnt_matchup_differential']. At least one non-missing value is needed for imputation with strategy='mean'.\n",
      "  warnings.warn(\n",
      "/Users/DanPfeiffer/Documents/code/data-collector/env/lib/python3.11/site-packages/sklearn/impute/_base.py:577: UserWarning: Skipping features without any observed values: ['offense_total_4th_down_conversion_pcnt_matchup_differential'\n",
      " 'defense_total_4th_down_conversion_pcnt_matchup_differential']. At least one non-missing value is needed for imputation with strategy='mean'.\n",
      "  warnings.warn(\n",
      "/Users/DanPfeiffer/Documents/code/data-collector/env/lib/python3.11/site-packages/sklearn/impute/_base.py:577: UserWarning: Skipping features without any observed values: ['offense_total_4th_down_conversion_pcnt_matchup_differential'\n",
      " 'defense_total_4th_down_conversion_pcnt_matchup_differential']. At least one non-missing value is needed for imputation with strategy='mean'.\n",
      "  warnings.warn(\n"
     ]
    },
    {
     "name": "stdout",
     "output_type": "stream",
     "text": [
      "GBR - Train score: 9.8381 | Validation score: 9.2980\n",
      "\n",
      "Validation year 2017\n"
     ]
    },
    {
     "name": "stderr",
     "output_type": "stream",
     "text": [
      "/Users/DanPfeiffer/Documents/code/data-collector/env/lib/python3.11/site-packages/sklearn/impute/_base.py:577: UserWarning: Skipping features without any observed values: ['road_defense_total_4th_down_conversion_pcnt'\n",
      " 'offense_total_4th_down_conversion_pcnt_matchup_differential'\n",
      " 'home_defense_total_4th_down_conversion_pcnt'\n",
      " 'defense_total_4th_down_conversion_pcnt_matchup_differential']. At least one non-missing value is needed for imputation with strategy='mean'.\n",
      "  warnings.warn(\n",
      "/Users/DanPfeiffer/Documents/code/data-collector/env/lib/python3.11/site-packages/sklearn/impute/_base.py:577: UserWarning: Skipping features without any observed values: ['road_defense_total_4th_down_conversion_pcnt'\n",
      " 'offense_total_4th_down_conversion_pcnt_matchup_differential'\n",
      " 'home_defense_total_4th_down_conversion_pcnt'\n",
      " 'defense_total_4th_down_conversion_pcnt_matchup_differential']. At least one non-missing value is needed for imputation with strategy='mean'.\n",
      "  warnings.warn(\n",
      "/Users/DanPfeiffer/Documents/code/data-collector/env/lib/python3.11/site-packages/sklearn/impute/_base.py:577: UserWarning: Skipping features without any observed values: ['road_defense_total_4th_down_conversion_pcnt'\n",
      " 'offense_total_4th_down_conversion_pcnt_matchup_differential'\n",
      " 'home_defense_total_4th_down_conversion_pcnt'\n",
      " 'defense_total_4th_down_conversion_pcnt_matchup_differential']. At least one non-missing value is needed for imputation with strategy='mean'.\n",
      "  warnings.warn(\n"
     ]
    },
    {
     "name": "stdout",
     "output_type": "stream",
     "text": [
      "GBR - Train score: 9.4606 | Validation score: 10.9905\n",
      "\n",
      "Validation year 2018\n"
     ]
    },
    {
     "name": "stderr",
     "output_type": "stream",
     "text": [
      "/Users/DanPfeiffer/Documents/code/data-collector/env/lib/python3.11/site-packages/sklearn/impute/_base.py:577: UserWarning: Skipping features without any observed values: ['road_defense_total_4th_down_conversion_pcnt'\n",
      " 'offense_total_4th_down_conversion_pcnt_matchup_differential'\n",
      " 'home_defense_total_4th_down_conversion_pcnt'\n",
      " 'defense_total_4th_down_conversion_pcnt_matchup_differential']. At least one non-missing value is needed for imputation with strategy='mean'.\n",
      "  warnings.warn(\n",
      "/Users/DanPfeiffer/Documents/code/data-collector/env/lib/python3.11/site-packages/sklearn/impute/_base.py:577: UserWarning: Skipping features without any observed values: ['road_defense_total_4th_down_conversion_pcnt'\n",
      " 'offense_total_4th_down_conversion_pcnt_matchup_differential'\n",
      " 'home_defense_total_4th_down_conversion_pcnt'\n",
      " 'defense_total_4th_down_conversion_pcnt_matchup_differential']. At least one non-missing value is needed for imputation with strategy='mean'.\n",
      "  warnings.warn(\n",
      "/Users/DanPfeiffer/Documents/code/data-collector/env/lib/python3.11/site-packages/sklearn/impute/_base.py:577: UserWarning: Skipping features without any observed values: ['road_defense_total_4th_down_conversion_pcnt'\n",
      " 'offense_total_4th_down_conversion_pcnt_matchup_differential'\n",
      " 'home_defense_total_4th_down_conversion_pcnt'\n",
      " 'defense_total_4th_down_conversion_pcnt_matchup_differential']. At least one non-missing value is needed for imputation with strategy='mean'.\n",
      "  warnings.warn(\n"
     ]
    },
    {
     "name": "stdout",
     "output_type": "stream",
     "text": [
      "GBR - Train score: 9.3503 | Validation score: 10.0455\n",
      "\n",
      "Validation year 2019\n"
     ]
    },
    {
     "name": "stderr",
     "output_type": "stream",
     "text": [
      "/Users/DanPfeiffer/Documents/code/data-collector/env/lib/python3.11/site-packages/sklearn/impute/_base.py:577: UserWarning: Skipping features without any observed values: ['road_defense_total_4th_down_conversion_pcnt'\n",
      " 'offense_total_4th_down_conversion_pcnt_matchup_differential'\n",
      " 'home_defense_total_4th_down_conversion_pcnt'\n",
      " 'defense_total_4th_down_conversion_pcnt_matchup_differential']. At least one non-missing value is needed for imputation with strategy='mean'.\n",
      "  warnings.warn(\n",
      "/Users/DanPfeiffer/Documents/code/data-collector/env/lib/python3.11/site-packages/sklearn/impute/_base.py:577: UserWarning: Skipping features without any observed values: ['road_defense_total_4th_down_conversion_pcnt'\n",
      " 'offense_total_4th_down_conversion_pcnt_matchup_differential'\n",
      " 'home_defense_total_4th_down_conversion_pcnt'\n",
      " 'defense_total_4th_down_conversion_pcnt_matchup_differential']. At least one non-missing value is needed for imputation with strategy='mean'.\n",
      "  warnings.warn(\n",
      "/Users/DanPfeiffer/Documents/code/data-collector/env/lib/python3.11/site-packages/sklearn/impute/_base.py:577: UserWarning: Skipping features without any observed values: ['road_defense_total_4th_down_conversion_pcnt'\n",
      " 'offense_total_4th_down_conversion_pcnt_matchup_differential'\n",
      " 'home_defense_total_4th_down_conversion_pcnt'\n",
      " 'defense_total_4th_down_conversion_pcnt_matchup_differential']. At least one non-missing value is needed for imputation with strategy='mean'.\n",
      "  warnings.warn(\n"
     ]
    },
    {
     "name": "stdout",
     "output_type": "stream",
     "text": [
      "GBR - Train score: 9.3087 | Validation score: 10.7842\n",
      "\n",
      "Validation year 2020\n"
     ]
    },
    {
     "name": "stderr",
     "output_type": "stream",
     "text": [
      "/Users/DanPfeiffer/Documents/code/data-collector/env/lib/python3.11/site-packages/sklearn/impute/_base.py:577: UserWarning: Skipping features without any observed values: ['road_defense_total_4th_down_conversion_pcnt'\n",
      " 'offense_total_4th_down_conversion_pcnt_matchup_differential'\n",
      " 'home_defense_total_4th_down_conversion_pcnt'\n",
      " 'defense_total_4th_down_conversion_pcnt_matchup_differential']. At least one non-missing value is needed for imputation with strategy='mean'.\n",
      "  warnings.warn(\n",
      "/Users/DanPfeiffer/Documents/code/data-collector/env/lib/python3.11/site-packages/sklearn/impute/_base.py:577: UserWarning: Skipping features without any observed values: ['road_defense_total_4th_down_conversion_pcnt'\n",
      " 'offense_total_4th_down_conversion_pcnt_matchup_differential'\n",
      " 'home_defense_total_4th_down_conversion_pcnt'\n",
      " 'defense_total_4th_down_conversion_pcnt_matchup_differential']. At least one non-missing value is needed for imputation with strategy='mean'.\n",
      "  warnings.warn(\n",
      "/Users/DanPfeiffer/Documents/code/data-collector/env/lib/python3.11/site-packages/sklearn/impute/_base.py:577: UserWarning: Skipping features without any observed values: ['road_defense_total_4th_down_conversion_pcnt'\n",
      " 'offense_total_4th_down_conversion_pcnt_matchup_differential'\n",
      " 'home_defense_total_4th_down_conversion_pcnt'\n",
      " 'defense_total_4th_down_conversion_pcnt_matchup_differential']. At least one non-missing value is needed for imputation with strategy='mean'.\n",
      "  warnings.warn(\n"
     ]
    },
    {
     "name": "stdout",
     "output_type": "stream",
     "text": [
      "GBR - Train score: 9.6225 | Validation score: 10.1138\n",
      "\n",
      "Validation year 2021\n"
     ]
    },
    {
     "name": "stderr",
     "output_type": "stream",
     "text": [
      "/Users/DanPfeiffer/Documents/code/data-collector/env/lib/python3.11/site-packages/sklearn/impute/_base.py:577: UserWarning: Skipping features without any observed values: ['offense_total_4th_down_conversion_pcnt_matchup_differential'\n",
      " 'defense_total_4th_down_conversion_pcnt_matchup_differential']. At least one non-missing value is needed for imputation with strategy='mean'.\n",
      "  warnings.warn(\n",
      "/Users/DanPfeiffer/Documents/code/data-collector/env/lib/python3.11/site-packages/sklearn/impute/_base.py:577: UserWarning: Skipping features without any observed values: ['offense_total_4th_down_conversion_pcnt_matchup_differential'\n",
      " 'defense_total_4th_down_conversion_pcnt_matchup_differential']. At least one non-missing value is needed for imputation with strategy='mean'.\n",
      "  warnings.warn(\n",
      "/Users/DanPfeiffer/Documents/code/data-collector/env/lib/python3.11/site-packages/sklearn/impute/_base.py:577: UserWarning: Skipping features without any observed values: ['offense_total_4th_down_conversion_pcnt_matchup_differential'\n",
      " 'defense_total_4th_down_conversion_pcnt_matchup_differential']. At least one non-missing value is needed for imputation with strategy='mean'.\n",
      "  warnings.warn(\n"
     ]
    },
    {
     "name": "stdout",
     "output_type": "stream",
     "text": [
      "GBR - Train score: 9.3183 | Validation score: 11.2562\n",
      "\n",
      "Validation year 2022\n"
     ]
    },
    {
     "name": "stderr",
     "output_type": "stream",
     "text": [
      "/Users/DanPfeiffer/Documents/code/data-collector/env/lib/python3.11/site-packages/sklearn/impute/_base.py:577: UserWarning: Skipping features without any observed values: ['offense_total_4th_down_conversion_pcnt_matchup_differential'\n",
      " 'defense_total_4th_down_conversion_pcnt_matchup_differential']. At least one non-missing value is needed for imputation with strategy='mean'.\n",
      "  warnings.warn(\n",
      "/Users/DanPfeiffer/Documents/code/data-collector/env/lib/python3.11/site-packages/sklearn/impute/_base.py:577: UserWarning: Skipping features without any observed values: ['offense_total_4th_down_conversion_pcnt_matchup_differential'\n",
      " 'defense_total_4th_down_conversion_pcnt_matchup_differential']. At least one non-missing value is needed for imputation with strategy='mean'.\n",
      "  warnings.warn(\n",
      "/Users/DanPfeiffer/Documents/code/data-collector/env/lib/python3.11/site-packages/sklearn/impute/_base.py:577: UserWarning: Skipping features without any observed values: ['offense_total_4th_down_conversion_pcnt_matchup_differential'\n",
      " 'defense_total_4th_down_conversion_pcnt_matchup_differential']. At least one non-missing value is needed for imputation with strategy='mean'.\n",
      "  warnings.warn(\n"
     ]
    },
    {
     "name": "stdout",
     "output_type": "stream",
     "text": [
      "GBR - Train score: 9.4006 | Validation score: 9.3207\n",
      "\n",
      "Training 16_games_exp_weighted_mean_decay0.9 with GBR\n"
     ]
    },
    {
     "name": "stderr",
     "output_type": "stream",
     "text": [
      "/var/folders/h1/1n1src7x64q_jwgsr43hmkxm0000gq/T/ipykernel_59208/2010834509.py:83: DtypeWarning: Columns (20,46,63) have mixed types. Specify dtype option on import or set low_memory=False.\n",
      "  training_df = pd.read_csv(f\"../data/transformed/{file_name}\")\n"
     ]
    },
    {
     "name": "stdout",
     "output_type": "stream",
     "text": [
      "Validation year 2013\n"
     ]
    },
    {
     "name": "stderr",
     "output_type": "stream",
     "text": [
      "/Users/DanPfeiffer/Documents/code/data-collector/env/lib/python3.11/site-packages/sklearn/impute/_base.py:577: UserWarning: Skipping features without any observed values: ['offense_total_4th_down_conversion_pcnt_matchup_differential'\n",
      " 'defense_total_4th_down_conversion_pcnt_matchup_differential']. At least one non-missing value is needed for imputation with strategy='mean'.\n",
      "  warnings.warn(\n",
      "/Users/DanPfeiffer/Documents/code/data-collector/env/lib/python3.11/site-packages/sklearn/impute/_base.py:577: UserWarning: Skipping features without any observed values: ['offense_total_4th_down_conversion_pcnt_matchup_differential'\n",
      " 'defense_total_4th_down_conversion_pcnt_matchup_differential']. At least one non-missing value is needed for imputation with strategy='mean'.\n",
      "  warnings.warn(\n",
      "/Users/DanPfeiffer/Documents/code/data-collector/env/lib/python3.11/site-packages/sklearn/impute/_base.py:577: UserWarning: Skipping features without any observed values: ['offense_total_4th_down_conversion_pcnt_matchup_differential'\n",
      " 'defense_total_4th_down_conversion_pcnt_matchup_differential']. At least one non-missing value is needed for imputation with strategy='mean'.\n",
      "  warnings.warn(\n"
     ]
    },
    {
     "name": "stdout",
     "output_type": "stream",
     "text": [
      "GBR - Train score: 9.8540 | Validation score: 10.6007\n",
      "\n",
      "Validation year 2014\n"
     ]
    },
    {
     "name": "stderr",
     "output_type": "stream",
     "text": [
      "/Users/DanPfeiffer/Documents/code/data-collector/env/lib/python3.11/site-packages/sklearn/impute/_base.py:577: UserWarning: Skipping features without any observed values: ['offense_total_4th_down_conversion_pcnt_matchup_differential'\n",
      " 'defense_total_4th_down_conversion_pcnt_matchup_differential']. At least one non-missing value is needed for imputation with strategy='mean'.\n",
      "  warnings.warn(\n",
      "/Users/DanPfeiffer/Documents/code/data-collector/env/lib/python3.11/site-packages/sklearn/impute/_base.py:577: UserWarning: Skipping features without any observed values: ['offense_total_4th_down_conversion_pcnt_matchup_differential'\n",
      " 'defense_total_4th_down_conversion_pcnt_matchup_differential']. At least one non-missing value is needed for imputation with strategy='mean'.\n",
      "  warnings.warn(\n",
      "/Users/DanPfeiffer/Documents/code/data-collector/env/lib/python3.11/site-packages/sklearn/impute/_base.py:577: UserWarning: Skipping features without any observed values: ['offense_total_4th_down_conversion_pcnt_matchup_differential'\n",
      " 'defense_total_4th_down_conversion_pcnt_matchup_differential']. At least one non-missing value is needed for imputation with strategy='mean'.\n",
      "  warnings.warn(\n"
     ]
    },
    {
     "name": "stdout",
     "output_type": "stream",
     "text": [
      "GBR - Train score: 10.0825 | Validation score: 11.3407\n",
      "\n",
      "Validation year 2015\n"
     ]
    },
    {
     "name": "stderr",
     "output_type": "stream",
     "text": [
      "/Users/DanPfeiffer/Documents/code/data-collector/env/lib/python3.11/site-packages/sklearn/impute/_base.py:577: UserWarning: Skipping features without any observed values: ['offense_total_4th_down_conversion_pcnt_matchup_differential'\n",
      " 'defense_total_4th_down_conversion_pcnt_matchup_differential']. At least one non-missing value is needed for imputation with strategy='mean'.\n",
      "  warnings.warn(\n",
      "/Users/DanPfeiffer/Documents/code/data-collector/env/lib/python3.11/site-packages/sklearn/impute/_base.py:577: UserWarning: Skipping features without any observed values: ['offense_total_4th_down_conversion_pcnt_matchup_differential'\n",
      " 'defense_total_4th_down_conversion_pcnt_matchup_differential']. At least one non-missing value is needed for imputation with strategy='mean'.\n",
      "  warnings.warn(\n",
      "/Users/DanPfeiffer/Documents/code/data-collector/env/lib/python3.11/site-packages/sklearn/impute/_base.py:577: UserWarning: Skipping features without any observed values: ['offense_total_4th_down_conversion_pcnt_matchup_differential'\n",
      " 'defense_total_4th_down_conversion_pcnt_matchup_differential']. At least one non-missing value is needed for imputation with strategy='mean'.\n",
      "  warnings.warn(\n"
     ]
    },
    {
     "name": "stdout",
     "output_type": "stream",
     "text": [
      "GBR - Train score: 10.3883 | Validation score: 10.4342\n",
      "\n",
      "Validation year 2016\n"
     ]
    },
    {
     "name": "stderr",
     "output_type": "stream",
     "text": [
      "/Users/DanPfeiffer/Documents/code/data-collector/env/lib/python3.11/site-packages/sklearn/impute/_base.py:577: UserWarning: Skipping features without any observed values: ['offense_total_4th_down_conversion_pcnt_matchup_differential'\n",
      " 'defense_total_4th_down_conversion_pcnt_matchup_differential']. At least one non-missing value is needed for imputation with strategy='mean'.\n",
      "  warnings.warn(\n",
      "/Users/DanPfeiffer/Documents/code/data-collector/env/lib/python3.11/site-packages/sklearn/impute/_base.py:577: UserWarning: Skipping features without any observed values: ['offense_total_4th_down_conversion_pcnt_matchup_differential'\n",
      " 'defense_total_4th_down_conversion_pcnt_matchup_differential']. At least one non-missing value is needed for imputation with strategy='mean'.\n",
      "  warnings.warn(\n",
      "/Users/DanPfeiffer/Documents/code/data-collector/env/lib/python3.11/site-packages/sklearn/impute/_base.py:577: UserWarning: Skipping features without any observed values: ['offense_total_4th_down_conversion_pcnt_matchup_differential'\n",
      " 'defense_total_4th_down_conversion_pcnt_matchup_differential']. At least one non-missing value is needed for imputation with strategy='mean'.\n",
      "  warnings.warn(\n"
     ]
    },
    {
     "name": "stdout",
     "output_type": "stream",
     "text": [
      "GBR - Train score: 9.8507 | Validation score: 9.1809\n",
      "\n",
      "Validation year 2017\n"
     ]
    },
    {
     "name": "stderr",
     "output_type": "stream",
     "text": [
      "/Users/DanPfeiffer/Documents/code/data-collector/env/lib/python3.11/site-packages/sklearn/impute/_base.py:577: UserWarning: Skipping features without any observed values: ['road_defense_total_4th_down_conversion_pcnt'\n",
      " 'offense_total_4th_down_conversion_pcnt_matchup_differential'\n",
      " 'home_defense_total_4th_down_conversion_pcnt'\n",
      " 'defense_total_4th_down_conversion_pcnt_matchup_differential']. At least one non-missing value is needed for imputation with strategy='mean'.\n",
      "  warnings.warn(\n",
      "/Users/DanPfeiffer/Documents/code/data-collector/env/lib/python3.11/site-packages/sklearn/impute/_base.py:577: UserWarning: Skipping features without any observed values: ['road_defense_total_4th_down_conversion_pcnt'\n",
      " 'offense_total_4th_down_conversion_pcnt_matchup_differential'\n",
      " 'home_defense_total_4th_down_conversion_pcnt'\n",
      " 'defense_total_4th_down_conversion_pcnt_matchup_differential']. At least one non-missing value is needed for imputation with strategy='mean'.\n",
      "  warnings.warn(\n",
      "/Users/DanPfeiffer/Documents/code/data-collector/env/lib/python3.11/site-packages/sklearn/impute/_base.py:577: UserWarning: Skipping features without any observed values: ['road_defense_total_4th_down_conversion_pcnt'\n",
      " 'offense_total_4th_down_conversion_pcnt_matchup_differential'\n",
      " 'home_defense_total_4th_down_conversion_pcnt'\n",
      " 'defense_total_4th_down_conversion_pcnt_matchup_differential']. At least one non-missing value is needed for imputation with strategy='mean'.\n",
      "  warnings.warn(\n"
     ]
    },
    {
     "name": "stdout",
     "output_type": "stream",
     "text": [
      "GBR - Train score: 9.7139 | Validation score: 10.7371\n",
      "\n",
      "Validation year 2018\n"
     ]
    },
    {
     "name": "stderr",
     "output_type": "stream",
     "text": [
      "/Users/DanPfeiffer/Documents/code/data-collector/env/lib/python3.11/site-packages/sklearn/impute/_base.py:577: UserWarning: Skipping features without any observed values: ['road_defense_total_4th_down_conversion_pcnt'\n",
      " 'offense_total_4th_down_conversion_pcnt_matchup_differential'\n",
      " 'home_defense_total_4th_down_conversion_pcnt'\n",
      " 'defense_total_4th_down_conversion_pcnt_matchup_differential']. At least one non-missing value is needed for imputation with strategy='mean'.\n",
      "  warnings.warn(\n",
      "/Users/DanPfeiffer/Documents/code/data-collector/env/lib/python3.11/site-packages/sklearn/impute/_base.py:577: UserWarning: Skipping features without any observed values: ['road_defense_total_4th_down_conversion_pcnt'\n",
      " 'offense_total_4th_down_conversion_pcnt_matchup_differential'\n",
      " 'home_defense_total_4th_down_conversion_pcnt'\n",
      " 'defense_total_4th_down_conversion_pcnt_matchup_differential']. At least one non-missing value is needed for imputation with strategy='mean'.\n",
      "  warnings.warn(\n",
      "/Users/DanPfeiffer/Documents/code/data-collector/env/lib/python3.11/site-packages/sklearn/impute/_base.py:577: UserWarning: Skipping features without any observed values: ['road_defense_total_4th_down_conversion_pcnt'\n",
      " 'offense_total_4th_down_conversion_pcnt_matchup_differential'\n",
      " 'home_defense_total_4th_down_conversion_pcnt'\n",
      " 'defense_total_4th_down_conversion_pcnt_matchup_differential']. At least one non-missing value is needed for imputation with strategy='mean'.\n",
      "  warnings.warn(\n"
     ]
    },
    {
     "name": "stdout",
     "output_type": "stream",
     "text": [
      "GBR - Train score: 9.8802 | Validation score: 9.8295\n",
      "\n",
      "Validation year 2019\n"
     ]
    },
    {
     "name": "stderr",
     "output_type": "stream",
     "text": [
      "/Users/DanPfeiffer/Documents/code/data-collector/env/lib/python3.11/site-packages/sklearn/impute/_base.py:577: UserWarning: Skipping features without any observed values: ['road_defense_total_4th_down_conversion_pcnt'\n",
      " 'offense_total_4th_down_conversion_pcnt_matchup_differential'\n",
      " 'home_defense_total_4th_down_conversion_pcnt'\n",
      " 'defense_total_4th_down_conversion_pcnt_matchup_differential']. At least one non-missing value is needed for imputation with strategy='mean'.\n",
      "  warnings.warn(\n",
      "/Users/DanPfeiffer/Documents/code/data-collector/env/lib/python3.11/site-packages/sklearn/impute/_base.py:577: UserWarning: Skipping features without any observed values: ['road_defense_total_4th_down_conversion_pcnt'\n",
      " 'offense_total_4th_down_conversion_pcnt_matchup_differential'\n",
      " 'home_defense_total_4th_down_conversion_pcnt'\n",
      " 'defense_total_4th_down_conversion_pcnt_matchup_differential']. At least one non-missing value is needed for imputation with strategy='mean'.\n",
      "  warnings.warn(\n",
      "/Users/DanPfeiffer/Documents/code/data-collector/env/lib/python3.11/site-packages/sklearn/impute/_base.py:577: UserWarning: Skipping features without any observed values: ['road_defense_total_4th_down_conversion_pcnt'\n",
      " 'offense_total_4th_down_conversion_pcnt_matchup_differential'\n",
      " 'home_defense_total_4th_down_conversion_pcnt'\n",
      " 'defense_total_4th_down_conversion_pcnt_matchup_differential']. At least one non-missing value is needed for imputation with strategy='mean'.\n",
      "  warnings.warn(\n"
     ]
    },
    {
     "name": "stdout",
     "output_type": "stream",
     "text": [
      "GBR - Train score: 9.7204 | Validation score: 10.9659\n",
      "\n",
      "Validation year 2020\n"
     ]
    },
    {
     "name": "stderr",
     "output_type": "stream",
     "text": [
      "/Users/DanPfeiffer/Documents/code/data-collector/env/lib/python3.11/site-packages/sklearn/impute/_base.py:577: UserWarning: Skipping features without any observed values: ['road_defense_total_4th_down_conversion_pcnt'\n",
      " 'offense_total_4th_down_conversion_pcnt_matchup_differential'\n",
      " 'home_defense_total_4th_down_conversion_pcnt'\n",
      " 'defense_total_4th_down_conversion_pcnt_matchup_differential']. At least one non-missing value is needed for imputation with strategy='mean'.\n",
      "  warnings.warn(\n",
      "/Users/DanPfeiffer/Documents/code/data-collector/env/lib/python3.11/site-packages/sklearn/impute/_base.py:577: UserWarning: Skipping features without any observed values: ['road_defense_total_4th_down_conversion_pcnt'\n",
      " 'offense_total_4th_down_conversion_pcnt_matchup_differential'\n",
      " 'home_defense_total_4th_down_conversion_pcnt'\n",
      " 'defense_total_4th_down_conversion_pcnt_matchup_differential']. At least one non-missing value is needed for imputation with strategy='mean'.\n",
      "  warnings.warn(\n",
      "/Users/DanPfeiffer/Documents/code/data-collector/env/lib/python3.11/site-packages/sklearn/impute/_base.py:577: UserWarning: Skipping features without any observed values: ['road_defense_total_4th_down_conversion_pcnt'\n",
      " 'offense_total_4th_down_conversion_pcnt_matchup_differential'\n",
      " 'home_defense_total_4th_down_conversion_pcnt'\n",
      " 'defense_total_4th_down_conversion_pcnt_matchup_differential']. At least one non-missing value is needed for imputation with strategy='mean'.\n",
      "  warnings.warn(\n"
     ]
    },
    {
     "name": "stdout",
     "output_type": "stream",
     "text": [
      "GBR - Train score: 9.7353 | Validation score: 10.1725\n",
      "\n",
      "Validation year 2021\n"
     ]
    },
    {
     "name": "stderr",
     "output_type": "stream",
     "text": [
      "/Users/DanPfeiffer/Documents/code/data-collector/env/lib/python3.11/site-packages/sklearn/impute/_base.py:577: UserWarning: Skipping features without any observed values: ['offense_total_4th_down_conversion_pcnt_matchup_differential'\n",
      " 'defense_total_4th_down_conversion_pcnt_matchup_differential']. At least one non-missing value is needed for imputation with strategy='mean'.\n",
      "  warnings.warn(\n",
      "/Users/DanPfeiffer/Documents/code/data-collector/env/lib/python3.11/site-packages/sklearn/impute/_base.py:577: UserWarning: Skipping features without any observed values: ['offense_total_4th_down_conversion_pcnt_matchup_differential'\n",
      " 'defense_total_4th_down_conversion_pcnt_matchup_differential']. At least one non-missing value is needed for imputation with strategy='mean'.\n",
      "  warnings.warn(\n",
      "/Users/DanPfeiffer/Documents/code/data-collector/env/lib/python3.11/site-packages/sklearn/impute/_base.py:577: UserWarning: Skipping features without any observed values: ['offense_total_4th_down_conversion_pcnt_matchup_differential'\n",
      " 'defense_total_4th_down_conversion_pcnt_matchup_differential']. At least one non-missing value is needed for imputation with strategy='mean'.\n",
      "  warnings.warn(\n"
     ]
    },
    {
     "name": "stdout",
     "output_type": "stream",
     "text": [
      "GBR - Train score: 9.2180 | Validation score: 11.4322\n",
      "\n",
      "Validation year 2022\n"
     ]
    },
    {
     "name": "stderr",
     "output_type": "stream",
     "text": [
      "/Users/DanPfeiffer/Documents/code/data-collector/env/lib/python3.11/site-packages/sklearn/impute/_base.py:577: UserWarning: Skipping features without any observed values: ['offense_total_4th_down_conversion_pcnt_matchup_differential'\n",
      " 'defense_total_4th_down_conversion_pcnt_matchup_differential']. At least one non-missing value is needed for imputation with strategy='mean'.\n",
      "  warnings.warn(\n",
      "/Users/DanPfeiffer/Documents/code/data-collector/env/lib/python3.11/site-packages/sklearn/impute/_base.py:577: UserWarning: Skipping features without any observed values: ['offense_total_4th_down_conversion_pcnt_matchup_differential'\n",
      " 'defense_total_4th_down_conversion_pcnt_matchup_differential']. At least one non-missing value is needed for imputation with strategy='mean'.\n",
      "  warnings.warn(\n",
      "/Users/DanPfeiffer/Documents/code/data-collector/env/lib/python3.11/site-packages/sklearn/impute/_base.py:577: UserWarning: Skipping features without any observed values: ['offense_total_4th_down_conversion_pcnt_matchup_differential'\n",
      " 'defense_total_4th_down_conversion_pcnt_matchup_differential']. At least one non-missing value is needed for imputation with strategy='mean'.\n",
      "  warnings.warn(\n"
     ]
    },
    {
     "name": "stdout",
     "output_type": "stream",
     "text": [
      "GBR - Train score: 9.5843 | Validation score: 9.2706\n",
      "\n",
      "Training 16_games_exp_weighted_mean_decay1.0 with GBR\n"
     ]
    },
    {
     "name": "stderr",
     "output_type": "stream",
     "text": [
      "/var/folders/h1/1n1src7x64q_jwgsr43hmkxm0000gq/T/ipykernel_59208/2010834509.py:83: DtypeWarning: Columns (20,46,63) have mixed types. Specify dtype option on import or set low_memory=False.\n",
      "  training_df = pd.read_csv(f\"../data/transformed/{file_name}\")\n"
     ]
    },
    {
     "name": "stdout",
     "output_type": "stream",
     "text": [
      "Validation year 2013\n"
     ]
    },
    {
     "name": "stderr",
     "output_type": "stream",
     "text": [
      "/Users/DanPfeiffer/Documents/code/data-collector/env/lib/python3.11/site-packages/sklearn/impute/_base.py:577: UserWarning: Skipping features without any observed values: ['offense_total_4th_down_conversion_pcnt_matchup_differential'\n",
      " 'defense_total_4th_down_conversion_pcnt_matchup_differential']. At least one non-missing value is needed for imputation with strategy='mean'.\n",
      "  warnings.warn(\n",
      "/Users/DanPfeiffer/Documents/code/data-collector/env/lib/python3.11/site-packages/sklearn/impute/_base.py:577: UserWarning: Skipping features without any observed values: ['offense_total_4th_down_conversion_pcnt_matchup_differential'\n",
      " 'defense_total_4th_down_conversion_pcnt_matchup_differential']. At least one non-missing value is needed for imputation with strategy='mean'.\n",
      "  warnings.warn(\n",
      "/Users/DanPfeiffer/Documents/code/data-collector/env/lib/python3.11/site-packages/sklearn/impute/_base.py:577: UserWarning: Skipping features without any observed values: ['offense_total_4th_down_conversion_pcnt_matchup_differential'\n",
      " 'defense_total_4th_down_conversion_pcnt_matchup_differential']. At least one non-missing value is needed for imputation with strategy='mean'.\n",
      "  warnings.warn(\n"
     ]
    },
    {
     "name": "stdout",
     "output_type": "stream",
     "text": [
      "GBR - Train score: 10.0217 | Validation score: 10.2144\n",
      "\n",
      "Validation year 2014\n"
     ]
    },
    {
     "name": "stderr",
     "output_type": "stream",
     "text": [
      "/Users/DanPfeiffer/Documents/code/data-collector/env/lib/python3.11/site-packages/sklearn/impute/_base.py:577: UserWarning: Skipping features without any observed values: ['offense_total_4th_down_conversion_pcnt_matchup_differential'\n",
      " 'defense_total_4th_down_conversion_pcnt_matchup_differential']. At least one non-missing value is needed for imputation with strategy='mean'.\n",
      "  warnings.warn(\n",
      "/Users/DanPfeiffer/Documents/code/data-collector/env/lib/python3.11/site-packages/sklearn/impute/_base.py:577: UserWarning: Skipping features without any observed values: ['offense_total_4th_down_conversion_pcnt_matchup_differential'\n",
      " 'defense_total_4th_down_conversion_pcnt_matchup_differential']. At least one non-missing value is needed for imputation with strategy='mean'.\n",
      "  warnings.warn(\n",
      "/Users/DanPfeiffer/Documents/code/data-collector/env/lib/python3.11/site-packages/sklearn/impute/_base.py:577: UserWarning: Skipping features without any observed values: ['offense_total_4th_down_conversion_pcnt_matchup_differential'\n",
      " 'defense_total_4th_down_conversion_pcnt_matchup_differential']. At least one non-missing value is needed for imputation with strategy='mean'.\n",
      "  warnings.warn(\n"
     ]
    },
    {
     "name": "stdout",
     "output_type": "stream",
     "text": [
      "GBR - Train score: 10.2667 | Validation score: 11.4823\n",
      "\n",
      "Validation year 2015\n"
     ]
    },
    {
     "name": "stderr",
     "output_type": "stream",
     "text": [
      "/Users/DanPfeiffer/Documents/code/data-collector/env/lib/python3.11/site-packages/sklearn/impute/_base.py:577: UserWarning: Skipping features without any observed values: ['offense_total_4th_down_conversion_pcnt_matchup_differential'\n",
      " 'defense_total_4th_down_conversion_pcnt_matchup_differential']. At least one non-missing value is needed for imputation with strategy='mean'.\n",
      "  warnings.warn(\n",
      "/Users/DanPfeiffer/Documents/code/data-collector/env/lib/python3.11/site-packages/sklearn/impute/_base.py:577: UserWarning: Skipping features without any observed values: ['offense_total_4th_down_conversion_pcnt_matchup_differential'\n",
      " 'defense_total_4th_down_conversion_pcnt_matchup_differential']. At least one non-missing value is needed for imputation with strategy='mean'.\n",
      "  warnings.warn(\n",
      "/Users/DanPfeiffer/Documents/code/data-collector/env/lib/python3.11/site-packages/sklearn/impute/_base.py:577: UserWarning: Skipping features without any observed values: ['offense_total_4th_down_conversion_pcnt_matchup_differential'\n",
      " 'defense_total_4th_down_conversion_pcnt_matchup_differential']. At least one non-missing value is needed for imputation with strategy='mean'.\n",
      "  warnings.warn(\n"
     ]
    },
    {
     "name": "stdout",
     "output_type": "stream",
     "text": [
      "GBR - Train score: 9.9005 | Validation score: 10.5367\n",
      "\n",
      "Validation year 2016\n"
     ]
    },
    {
     "name": "stderr",
     "output_type": "stream",
     "text": [
      "/Users/DanPfeiffer/Documents/code/data-collector/env/lib/python3.11/site-packages/sklearn/impute/_base.py:577: UserWarning: Skipping features without any observed values: ['offense_total_4th_down_conversion_pcnt_matchup_differential'\n",
      " 'defense_total_4th_down_conversion_pcnt_matchup_differential']. At least one non-missing value is needed for imputation with strategy='mean'.\n",
      "  warnings.warn(\n",
      "/Users/DanPfeiffer/Documents/code/data-collector/env/lib/python3.11/site-packages/sklearn/impute/_base.py:577: UserWarning: Skipping features without any observed values: ['offense_total_4th_down_conversion_pcnt_matchup_differential'\n",
      " 'defense_total_4th_down_conversion_pcnt_matchup_differential']. At least one non-missing value is needed for imputation with strategy='mean'.\n",
      "  warnings.warn(\n",
      "/Users/DanPfeiffer/Documents/code/data-collector/env/lib/python3.11/site-packages/sklearn/impute/_base.py:577: UserWarning: Skipping features without any observed values: ['offense_total_4th_down_conversion_pcnt_matchup_differential'\n",
      " 'defense_total_4th_down_conversion_pcnt_matchup_differential']. At least one non-missing value is needed for imputation with strategy='mean'.\n",
      "  warnings.warn(\n"
     ]
    },
    {
     "name": "stdout",
     "output_type": "stream",
     "text": [
      "GBR - Train score: 9.3922 | Validation score: 9.3876\n",
      "\n",
      "Validation year 2017\n"
     ]
    },
    {
     "name": "stderr",
     "output_type": "stream",
     "text": [
      "/Users/DanPfeiffer/Documents/code/data-collector/env/lib/python3.11/site-packages/sklearn/impute/_base.py:577: UserWarning: Skipping features without any observed values: ['road_defense_total_4th_down_conversion_pcnt'\n",
      " 'offense_total_4th_down_conversion_pcnt_matchup_differential'\n",
      " 'home_defense_total_4th_down_conversion_pcnt'\n",
      " 'defense_total_4th_down_conversion_pcnt_matchup_differential']. At least one non-missing value is needed for imputation with strategy='mean'.\n",
      "  warnings.warn(\n",
      "/Users/DanPfeiffer/Documents/code/data-collector/env/lib/python3.11/site-packages/sklearn/impute/_base.py:577: UserWarning: Skipping features without any observed values: ['road_defense_total_4th_down_conversion_pcnt'\n",
      " 'offense_total_4th_down_conversion_pcnt_matchup_differential'\n",
      " 'home_defense_total_4th_down_conversion_pcnt'\n",
      " 'defense_total_4th_down_conversion_pcnt_matchup_differential']. At least one non-missing value is needed for imputation with strategy='mean'.\n",
      "  warnings.warn(\n",
      "/Users/DanPfeiffer/Documents/code/data-collector/env/lib/python3.11/site-packages/sklearn/impute/_base.py:577: UserWarning: Skipping features without any observed values: ['road_defense_total_4th_down_conversion_pcnt'\n",
      " 'offense_total_4th_down_conversion_pcnt_matchup_differential'\n",
      " 'home_defense_total_4th_down_conversion_pcnt'\n",
      " 'defense_total_4th_down_conversion_pcnt_matchup_differential']. At least one non-missing value is needed for imputation with strategy='mean'.\n",
      "  warnings.warn(\n"
     ]
    },
    {
     "name": "stdout",
     "output_type": "stream",
     "text": [
      "GBR - Train score: 9.6444 | Validation score: 10.8382\n",
      "\n",
      "Validation year 2018\n"
     ]
    },
    {
     "name": "stderr",
     "output_type": "stream",
     "text": [
      "/Users/DanPfeiffer/Documents/code/data-collector/env/lib/python3.11/site-packages/sklearn/impute/_base.py:577: UserWarning: Skipping features without any observed values: ['road_defense_total_4th_down_conversion_pcnt'\n",
      " 'offense_total_4th_down_conversion_pcnt_matchup_differential'\n",
      " 'home_defense_total_4th_down_conversion_pcnt'\n",
      " 'defense_total_4th_down_conversion_pcnt_matchup_differential']. At least one non-missing value is needed for imputation with strategy='mean'.\n",
      "  warnings.warn(\n",
      "/Users/DanPfeiffer/Documents/code/data-collector/env/lib/python3.11/site-packages/sklearn/impute/_base.py:577: UserWarning: Skipping features without any observed values: ['road_defense_total_4th_down_conversion_pcnt'\n",
      " 'offense_total_4th_down_conversion_pcnt_matchup_differential'\n",
      " 'home_defense_total_4th_down_conversion_pcnt'\n",
      " 'defense_total_4th_down_conversion_pcnt_matchup_differential']. At least one non-missing value is needed for imputation with strategy='mean'.\n",
      "  warnings.warn(\n",
      "/Users/DanPfeiffer/Documents/code/data-collector/env/lib/python3.11/site-packages/sklearn/impute/_base.py:577: UserWarning: Skipping features without any observed values: ['road_defense_total_4th_down_conversion_pcnt'\n",
      " 'offense_total_4th_down_conversion_pcnt_matchup_differential'\n",
      " 'home_defense_total_4th_down_conversion_pcnt'\n",
      " 'defense_total_4th_down_conversion_pcnt_matchup_differential']. At least one non-missing value is needed for imputation with strategy='mean'.\n",
      "  warnings.warn(\n"
     ]
    },
    {
     "name": "stdout",
     "output_type": "stream",
     "text": [
      "GBR - Train score: 9.2340 | Validation score: 10.0267\n",
      "\n",
      "Validation year 2019\n"
     ]
    },
    {
     "name": "stderr",
     "output_type": "stream",
     "text": [
      "/Users/DanPfeiffer/Documents/code/data-collector/env/lib/python3.11/site-packages/sklearn/impute/_base.py:577: UserWarning: Skipping features without any observed values: ['road_defense_total_4th_down_conversion_pcnt'\n",
      " 'offense_total_4th_down_conversion_pcnt_matchup_differential'\n",
      " 'home_defense_total_4th_down_conversion_pcnt'\n",
      " 'defense_total_4th_down_conversion_pcnt_matchup_differential']. At least one non-missing value is needed for imputation with strategy='mean'.\n",
      "  warnings.warn(\n",
      "/Users/DanPfeiffer/Documents/code/data-collector/env/lib/python3.11/site-packages/sklearn/impute/_base.py:577: UserWarning: Skipping features without any observed values: ['road_defense_total_4th_down_conversion_pcnt'\n",
      " 'offense_total_4th_down_conversion_pcnt_matchup_differential'\n",
      " 'home_defense_total_4th_down_conversion_pcnt'\n",
      " 'defense_total_4th_down_conversion_pcnt_matchup_differential']. At least one non-missing value is needed for imputation with strategy='mean'.\n",
      "  warnings.warn(\n",
      "/Users/DanPfeiffer/Documents/code/data-collector/env/lib/python3.11/site-packages/sklearn/impute/_base.py:577: UserWarning: Skipping features without any observed values: ['road_defense_total_4th_down_conversion_pcnt'\n",
      " 'offense_total_4th_down_conversion_pcnt_matchup_differential'\n",
      " 'home_defense_total_4th_down_conversion_pcnt'\n",
      " 'defense_total_4th_down_conversion_pcnt_matchup_differential']. At least one non-missing value is needed for imputation with strategy='mean'.\n",
      "  warnings.warn(\n"
     ]
    },
    {
     "name": "stdout",
     "output_type": "stream",
     "text": [
      "GBR - Train score: 9.8808 | Validation score: 10.9896\n",
      "\n",
      "Validation year 2020\n"
     ]
    },
    {
     "name": "stderr",
     "output_type": "stream",
     "text": [
      "/Users/DanPfeiffer/Documents/code/data-collector/env/lib/python3.11/site-packages/sklearn/impute/_base.py:577: UserWarning: Skipping features without any observed values: ['road_defense_total_4th_down_conversion_pcnt'\n",
      " 'offense_total_4th_down_conversion_pcnt_matchup_differential'\n",
      " 'home_defense_total_4th_down_conversion_pcnt'\n",
      " 'defense_total_4th_down_conversion_pcnt_matchup_differential']. At least one non-missing value is needed for imputation with strategy='mean'.\n",
      "  warnings.warn(\n",
      "/Users/DanPfeiffer/Documents/code/data-collector/env/lib/python3.11/site-packages/sklearn/impute/_base.py:577: UserWarning: Skipping features without any observed values: ['road_defense_total_4th_down_conversion_pcnt'\n",
      " 'offense_total_4th_down_conversion_pcnt_matchup_differential'\n",
      " 'home_defense_total_4th_down_conversion_pcnt'\n",
      " 'defense_total_4th_down_conversion_pcnt_matchup_differential']. At least one non-missing value is needed for imputation with strategy='mean'.\n",
      "  warnings.warn(\n",
      "/Users/DanPfeiffer/Documents/code/data-collector/env/lib/python3.11/site-packages/sklearn/impute/_base.py:577: UserWarning: Skipping features without any observed values: ['road_defense_total_4th_down_conversion_pcnt'\n",
      " 'offense_total_4th_down_conversion_pcnt_matchup_differential'\n",
      " 'home_defense_total_4th_down_conversion_pcnt'\n",
      " 'defense_total_4th_down_conversion_pcnt_matchup_differential']. At least one non-missing value is needed for imputation with strategy='mean'.\n",
      "  warnings.warn(\n"
     ]
    },
    {
     "name": "stdout",
     "output_type": "stream",
     "text": [
      "GBR - Train score: 9.1609 | Validation score: 10.1370\n",
      "\n",
      "Validation year 2021\n"
     ]
    },
    {
     "name": "stderr",
     "output_type": "stream",
     "text": [
      "/Users/DanPfeiffer/Documents/code/data-collector/env/lib/python3.11/site-packages/sklearn/impute/_base.py:577: UserWarning: Skipping features without any observed values: ['offense_total_4th_down_conversion_pcnt_matchup_differential'\n",
      " 'defense_total_4th_down_conversion_pcnt_matchup_differential']. At least one non-missing value is needed for imputation with strategy='mean'.\n",
      "  warnings.warn(\n",
      "/Users/DanPfeiffer/Documents/code/data-collector/env/lib/python3.11/site-packages/sklearn/impute/_base.py:577: UserWarning: Skipping features without any observed values: ['offense_total_4th_down_conversion_pcnt_matchup_differential'\n",
      " 'defense_total_4th_down_conversion_pcnt_matchup_differential']. At least one non-missing value is needed for imputation with strategy='mean'.\n",
      "  warnings.warn(\n",
      "/Users/DanPfeiffer/Documents/code/data-collector/env/lib/python3.11/site-packages/sklearn/impute/_base.py:577: UserWarning: Skipping features without any observed values: ['offense_total_4th_down_conversion_pcnt_matchup_differential'\n",
      " 'defense_total_4th_down_conversion_pcnt_matchup_differential']. At least one non-missing value is needed for imputation with strategy='mean'.\n",
      "  warnings.warn(\n"
     ]
    },
    {
     "name": "stdout",
     "output_type": "stream",
     "text": [
      "GBR - Train score: 9.3758 | Validation score: 11.1224\n",
      "\n",
      "Validation year 2022\n"
     ]
    },
    {
     "name": "stderr",
     "output_type": "stream",
     "text": [
      "/Users/DanPfeiffer/Documents/code/data-collector/env/lib/python3.11/site-packages/sklearn/impute/_base.py:577: UserWarning: Skipping features without any observed values: ['offense_total_4th_down_conversion_pcnt_matchup_differential'\n",
      " 'defense_total_4th_down_conversion_pcnt_matchup_differential']. At least one non-missing value is needed for imputation with strategy='mean'.\n",
      "  warnings.warn(\n",
      "/Users/DanPfeiffer/Documents/code/data-collector/env/lib/python3.11/site-packages/sklearn/impute/_base.py:577: UserWarning: Skipping features without any observed values: ['offense_total_4th_down_conversion_pcnt_matchup_differential'\n",
      " 'defense_total_4th_down_conversion_pcnt_matchup_differential']. At least one non-missing value is needed for imputation with strategy='mean'.\n",
      "  warnings.warn(\n"
     ]
    },
    {
     "name": "stdout",
     "output_type": "stream",
     "text": [
      "GBR - Train score: 9.5044 | Validation score: 9.2712\n",
      "\n"
     ]
    },
    {
     "name": "stderr",
     "output_type": "stream",
     "text": [
      "/Users/DanPfeiffer/Documents/code/data-collector/env/lib/python3.11/site-packages/sklearn/impute/_base.py:577: UserWarning: Skipping features without any observed values: ['offense_total_4th_down_conversion_pcnt_matchup_differential'\n",
      " 'defense_total_4th_down_conversion_pcnt_matchup_differential']. At least one non-missing value is needed for imputation with strategy='mean'.\n",
      "  warnings.warn(\n"
     ]
    }
   ],
   "source": [
    "# Define the range of years and duration for the rolling window\n",
    "years = np.arange(2005, 2024)\n",
    "duration = 8  \n",
    "\n",
    "# Parameter grids for each model\n",
    "rf_param_distributions = {\n",
    "    'n_estimators': np.arange(50, 500, 50),\n",
    "    'max_depth': np.arange(3, 15),\n",
    "    'min_samples_split': np.arange(2, 20),\n",
    "    'min_samples_leaf': np.arange(1, 20),\n",
    "    'max_features': ['sqrt', 'log2', None],  # Removed 'auto'\n",
    "}\n",
    "\n",
    "et_param_distributions = {\n",
    "    'n_estimators': np.arange(50, 500, 50),\n",
    "    'max_depth': np.arange(3, 15),\n",
    "    'min_samples_split': np.arange(2, 20),\n",
    "    'min_samples_leaf': np.arange(1, 20),\n",
    "    'max_features': ['sqrt', 'log2', 'auto', None],  # Included 'auto'\n",
    "}\n",
    "\n",
    "gbm_param_distributions = {\n",
    "    'n_estimators': np.arange(50, 500, 50),\n",
    "    'max_depth': np.arange(3, 15),\n",
    "    'learning_rate': np.linspace(0.01, 0.3, 10),\n",
    "    'subsample': np.linspace(0.5, 1.0, 6),\n",
    "    'min_samples_split': np.arange(2, 20),\n",
    "    'min_samples_leaf': np.arange(1, 20),\n",
    "    'max_features': [None],  # GradientBoostingRegressor does not use max_features\n",
    "}\n",
    "\n",
    "# Models to evaluate\n",
    "models = {\n",
    "    'RandomForest': (RandomForestRegressor(random_state=54), rf_param_distributions),\n",
    "    'ExtraTrees': (ExtraTreesRegressor(random_state=54), et_param_distributions),\n",
    "    'GradientBoosting': (GradientBoostingRegressor(random_state=54), gbm_param_distributions),\n",
    "}\n",
    "\n",
    "results = {\n",
    "    'model_name': [],\n",
    "    'experiment': [],\n",
    "    'validation_year': [],\n",
    "    'train_score': [],\n",
    "    'validation_score': []\n",
    "}\n",
    "rf_speed_params = {\n",
    "    'n_estimators': 200,\n",
    "    'min_samples_split': 15,\n",
    "    'min_samples_leaf': 20,\n",
    "    'max_features': 'sqrt',  # or 'log2'\n",
    "    'max_depth': 8,\n",
    "    'n_jobs': -1\n",
    "}\n",
    "et_speed_params = {\n",
    "    'n_estimators': 100,            # Moderate number of trees for balance\n",
    "    'max_depth': 10,                # Limit depth to avoid overfitting\n",
    "    'min_samples_split': 10,        # Higher value to avoid small splits\n",
    "    'min_samples_leaf': 5,          # Ensure leaves have a minimum number of samples\n",
    "    'max_features': 'sqrt',         # Use a subset of features for each split\n",
    "    'n_jobs': -1                    # Utilize all CPU cores for faster training\n",
    "}\n",
    "\n",
    "gbr_speed_params = {\n",
    "    'n_estimators': 100,          # Number of boosting stages; fewer trees for faster training\n",
    "    'max_depth': 3,               # Shallow trees to prevent overfitting and reduce training time\n",
    "    'learning_rate': 0.1,         # Typical default; balances between number of trees and their individual contribution\n",
    "    'subsample': 0.8,             # Use a subsample to reduce variance and speed up training\n",
    "    'min_samples_split': 10,      # Ensures each split has at least 10 samples\n",
    "    'min_samples_leaf': 5,        # Ensures each leaf has at least 5 samples to avoid overfitting\n",
    "    'max_features': 'sqrt',       # Use a subset of features to reduce computation and prevent overfitting\n",
    "    'random_state': 42,           # Set for reproducibility\n",
    "    'n_iter_no_change': 10,       # Early stopping to terminate if no improvement\n",
    "    'tol': 1e-4                   # Tolerance for stopping criterion\n",
    "}\n",
    "\n",
    "# Loop through each model\n",
    "# for model_name, (model, param_distrib) in models.items():\n",
    "# param_list = list(ParameterSampler(param_distrib, n_iter=1, random_state=random_state))\n",
    "\n",
    "model_name='GBR'\n",
    "for file_name, experiment_name in files_to_exp_names.items():\n",
    "    print(f\"Training {experiment_name} with {model_name}\")\n",
    "    training_df = pd.read_csv(f\"../data/transformed/{file_name}\")\n",
    "    small_train_df = training_df[train_features + spread_y + total_y + all_spread_y + all_total_y].copy()\n",
    "    small_train_df[\"year\"] = pd.to_datetime(small_train_df[\"game_datetime\"]).dt.year\n",
    "    X = small_train_df[[\"year\"] + train_features].copy()\n",
    "    y = small_train_df[[\"year\"] + spread_y].copy()\n",
    "        \n",
    "    for start_year in range(len(years) - duration - 1):  # -1 to leave space for validation year\n",
    "        train_years = years[start_year:start_year + duration]\n",
    "        validation_year = years[start_year + duration]\n",
    "        print(f\"Validation year {validation_year}\")\n",
    "\n",
    "        # Filter data for the training and validation periods\n",
    "        X_train = X[X['year'].isin(train_years)].drop(columns=[\"year\", \"game_datetime\"])\n",
    "        y_train = y[y['year'].isin(train_years)].drop(columns=[\"year\"])\n",
    "        X_test = X[X['year'] == validation_year].drop(columns=[\"year\", \"game_datetime\"])\n",
    "        y_test = y[y['year'] == validation_year].drop(columns=[\"year\"])\n",
    "\n",
    "        model = GradientBoostingRegressor(random_state=54)\n",
    "        model.set_params(**gbr_speed_params)\n",
    "        pipeline = Pipeline([\n",
    "            ('imputer', SimpleImputer(strategy='mean')),\n",
    "            ('scaler', StandardScaler()),\n",
    "            ('model', model)\n",
    "        ])\n",
    "\n",
    "        # Train the model\n",
    "        pipeline.fit(X_train, y_train.values.ravel())\n",
    "\n",
    "        # Evaluate on training set\n",
    "        y_train_pred = pipeline.predict(X_train)\n",
    "        train_score = mean_absolute_error(y_train, y_train_pred)\n",
    "\n",
    "        # Evaluate on validation set\n",
    "        y_pred = pipeline.predict(X_test)\n",
    "        validation_score = mean_absolute_error(y_test, y_pred)\n",
    "\n",
    "        # Store results in the DataFrame\n",
    "        results['model_name'].append(model_name)\n",
    "        results['experiment'].append(experiment_name)\n",
    "        results['validation_year'].append(validation_year)\n",
    "        results['train_score'].append(train_score)\n",
    "        results['validation_score'].append(validation_score)\n",
    "\n",
    "        print(f\"{model_name} - Train score: {train_score:.4f} | Validation score: {validation_score:.4f}\")\n",
    "        print()"
   ]
  },
  {
   "cell_type": "code",
   "execution_count": 11,
   "metadata": {},
   "outputs": [
    {
     "name": "stdout",
     "output_type": "stream",
     "text": [
      "  model_name                                         experiment  \\\n",
      "0        GBR  16_games_exp_weighted_mean_decay0.699999999999...   \n",
      "1        GBR  16_games_exp_weighted_mean_decay0.699999999999...   \n",
      "2        GBR  16_games_exp_weighted_mean_decay0.699999999999...   \n",
      "3        GBR  16_games_exp_weighted_mean_decay0.699999999999...   \n",
      "4        GBR  16_games_exp_weighted_mean_decay0.699999999999...   \n",
      "\n",
      "   validation_year  train_score  validation_score  \n",
      "0             2013    10.104556          9.954007  \n",
      "1             2014    10.048308         11.330933  \n",
      "2             2015     9.970443         10.233360  \n",
      "3             2016     9.959284          9.437391  \n",
      "4             2017     9.171479         11.029668  \n"
     ]
    }
   ],
   "source": [
    "# Convert results to DataFrame\n",
    "results_df = pd.DataFrame(results)\n",
    "print(results_df.head())"
   ]
  },
  {
   "cell_type": "code",
   "execution_count": 50,
   "metadata": {},
   "outputs": [],
   "source": [
    "# rf_results = (\n",
    "#     results_df\n",
    "#     .groupby(by=[\"model_name\", \"experiment\"])[[\"train_score\", \"validation_score\"]]\n",
    "#     .agg([\"mean\", \"std\"])\n",
    "#     .sort_values(by=(\"validation_score\", \"mean\"))\n",
    "#     .reset_index()\n",
    "# )                                                                                                             "
   ]
  },
  {
   "cell_type": "code",
   "execution_count": 51,
   "metadata": {},
   "outputs": [
    {
     "data": {
      "text/html": [
       "<div>\n",
       "<style scoped>\n",
       "    .dataframe tbody tr th:only-of-type {\n",
       "        vertical-align: middle;\n",
       "    }\n",
       "\n",
       "    .dataframe tbody tr th {\n",
       "        vertical-align: top;\n",
       "    }\n",
       "\n",
       "    .dataframe thead tr th {\n",
       "        text-align: left;\n",
       "    }\n",
       "</style>\n",
       "<table border=\"1\" class=\"dataframe\">\n",
       "  <thead>\n",
       "    <tr>\n",
       "      <th></th>\n",
       "      <th>model_name</th>\n",
       "      <th>experiment</th>\n",
       "      <th colspan=\"2\" halign=\"left\">train_score</th>\n",
       "      <th colspan=\"2\" halign=\"left\">validation_score</th>\n",
       "    </tr>\n",
       "    <tr>\n",
       "      <th></th>\n",
       "      <th></th>\n",
       "      <th></th>\n",
       "      <th>mean</th>\n",
       "      <th>std</th>\n",
       "      <th>mean</th>\n",
       "      <th>std</th>\n",
       "    </tr>\n",
       "  </thead>\n",
       "  <tbody>\n",
       "    <tr>\n",
       "      <th>0</th>\n",
       "      <td>RandomForest</td>\n",
       "      <td>16_games_exp_weighted_mean_decay1.0</td>\n",
       "      <td>9.478025</td>\n",
       "      <td>0.399682</td>\n",
       "      <td>10.276386</td>\n",
       "      <td>0.790058</td>\n",
       "    </tr>\n",
       "    <tr>\n",
       "      <th>1</th>\n",
       "      <td>RandomForest</td>\n",
       "      <td>16_games_exp_weighted_mean_decay0.97</td>\n",
       "      <td>9.464383</td>\n",
       "      <td>0.398237</td>\n",
       "      <td>10.279245</td>\n",
       "      <td>0.782969</td>\n",
       "    </tr>\n",
       "    <tr>\n",
       "      <th>2</th>\n",
       "      <td>RandomForest</td>\n",
       "      <td>16_games_exp_weighted_mean_decay0.95</td>\n",
       "      <td>9.472186</td>\n",
       "      <td>0.401603</td>\n",
       "      <td>10.282559</td>\n",
       "      <td>0.775141</td>\n",
       "    </tr>\n",
       "    <tr>\n",
       "      <th>3</th>\n",
       "      <td>RandomForest</td>\n",
       "      <td>16_games_exp_weighted_mean_decay0.87</td>\n",
       "      <td>9.499063</td>\n",
       "      <td>0.399911</td>\n",
       "      <td>10.283826</td>\n",
       "      <td>0.769863</td>\n",
       "    </tr>\n",
       "    <tr>\n",
       "      <th>4</th>\n",
       "      <td>RandomForest</td>\n",
       "      <td>16_games_exp_weighted_mean_decay0.90</td>\n",
       "      <td>9.490378</td>\n",
       "      <td>0.394653</td>\n",
       "      <td>10.283891</td>\n",
       "      <td>0.787503</td>\n",
       "    </tr>\n",
       "    <tr>\n",
       "      <th>5</th>\n",
       "      <td>RandomForest</td>\n",
       "      <td>16_games_exp_weighted_mean_decay0.92</td>\n",
       "      <td>9.479974</td>\n",
       "      <td>0.393980</td>\n",
       "      <td>10.285350</td>\n",
       "      <td>0.779047</td>\n",
       "    </tr>\n",
       "    <tr>\n",
       "      <th>6</th>\n",
       "      <td>RandomForest</td>\n",
       "      <td>16_games_exp_weighted_mean_decay0.88</td>\n",
       "      <td>9.494120</td>\n",
       "      <td>0.393767</td>\n",
       "      <td>10.287418</td>\n",
       "      <td>0.777523</td>\n",
       "    </tr>\n",
       "    <tr>\n",
       "      <th>7</th>\n",
       "      <td>RandomForest</td>\n",
       "      <td>16_games_exp_weighted_mean_decay0.94</td>\n",
       "      <td>9.472324</td>\n",
       "      <td>0.394935</td>\n",
       "      <td>10.287799</td>\n",
       "      <td>0.776201</td>\n",
       "    </tr>\n",
       "    <tr>\n",
       "      <th>8</th>\n",
       "      <td>RandomForest</td>\n",
       "      <td>16_games_exp_weighted_mean_decay0.96</td>\n",
       "      <td>9.463010</td>\n",
       "      <td>0.399748</td>\n",
       "      <td>10.288322</td>\n",
       "      <td>0.782006</td>\n",
       "    </tr>\n",
       "    <tr>\n",
       "      <th>9</th>\n",
       "      <td>RandomForest</td>\n",
       "      <td>16_games_exp_weighted_mean_decay0.98</td>\n",
       "      <td>9.456526</td>\n",
       "      <td>0.401259</td>\n",
       "      <td>10.289079</td>\n",
       "      <td>0.785487</td>\n",
       "    </tr>\n",
       "    <tr>\n",
       "      <th>10</th>\n",
       "      <td>RandomForest</td>\n",
       "      <td>16_games_exp_weighted_mean_decay0.93</td>\n",
       "      <td>9.472948</td>\n",
       "      <td>0.407387</td>\n",
       "      <td>10.289890</td>\n",
       "      <td>0.769870</td>\n",
       "    </tr>\n",
       "    <tr>\n",
       "      <th>11</th>\n",
       "      <td>RandomForest</td>\n",
       "      <td>14_games_mean</td>\n",
       "      <td>9.241998</td>\n",
       "      <td>0.266932</td>\n",
       "      <td>10.291311</td>\n",
       "      <td>0.775243</td>\n",
       "    </tr>\n",
       "    <tr>\n",
       "      <th>12</th>\n",
       "      <td>RandomForest</td>\n",
       "      <td>16_games_exp_weighted_mean_decay0.91</td>\n",
       "      <td>9.482955</td>\n",
       "      <td>0.395235</td>\n",
       "      <td>10.292639</td>\n",
       "      <td>0.785947</td>\n",
       "    </tr>\n",
       "    <tr>\n",
       "      <th>13</th>\n",
       "      <td>RandomForest</td>\n",
       "      <td>16_games_exp_weighted_mean_decay0.85</td>\n",
       "      <td>9.505024</td>\n",
       "      <td>0.393929</td>\n",
       "      <td>10.293465</td>\n",
       "      <td>0.772244</td>\n",
       "    </tr>\n",
       "    <tr>\n",
       "      <th>14</th>\n",
       "      <td>RandomForest</td>\n",
       "      <td>15_games_mean</td>\n",
       "      <td>9.239910</td>\n",
       "      <td>0.268809</td>\n",
       "      <td>10.294948</td>\n",
       "      <td>0.762773</td>\n",
       "    </tr>\n",
       "    <tr>\n",
       "      <th>15</th>\n",
       "      <td>RandomForest</td>\n",
       "      <td>16_games_exp_weighted_mean_decay0.99</td>\n",
       "      <td>9.455661</td>\n",
       "      <td>0.399829</td>\n",
       "      <td>10.295479</td>\n",
       "      <td>0.773515</td>\n",
       "    </tr>\n",
       "    <tr>\n",
       "      <th>16</th>\n",
       "      <td>RandomForest</td>\n",
       "      <td>16_games_exp_weighted_mean_decay0.86</td>\n",
       "      <td>9.498184</td>\n",
       "      <td>0.403058</td>\n",
       "      <td>10.295501</td>\n",
       "      <td>0.785631</td>\n",
       "    </tr>\n",
       "    <tr>\n",
       "      <th>17</th>\n",
       "      <td>RandomForest</td>\n",
       "      <td>16_games_exp_weighted_mean_decay0.89</td>\n",
       "      <td>9.491222</td>\n",
       "      <td>0.395851</td>\n",
       "      <td>10.297871</td>\n",
       "      <td>0.784816</td>\n",
       "    </tr>\n",
       "    <tr>\n",
       "      <th>18</th>\n",
       "      <td>RandomForest</td>\n",
       "      <td>12_games_mean</td>\n",
       "      <td>9.235079</td>\n",
       "      <td>0.268660</td>\n",
       "      <td>10.299236</td>\n",
       "      <td>0.767352</td>\n",
       "    </tr>\n",
       "    <tr>\n",
       "      <th>19</th>\n",
       "      <td>RandomForest</td>\n",
       "      <td>11_games_mean</td>\n",
       "      <td>9.242193</td>\n",
       "      <td>0.265568</td>\n",
       "      <td>10.300305</td>\n",
       "      <td>0.785498</td>\n",
       "    </tr>\n",
       "    <tr>\n",
       "      <th>20</th>\n",
       "      <td>RandomForest</td>\n",
       "      <td>13_games_mean</td>\n",
       "      <td>9.229332</td>\n",
       "      <td>0.257397</td>\n",
       "      <td>10.303298</td>\n",
       "      <td>0.773928</td>\n",
       "    </tr>\n",
       "    <tr>\n",
       "      <th>21</th>\n",
       "      <td>RandomForest</td>\n",
       "      <td>10_games_mean</td>\n",
       "      <td>9.266233</td>\n",
       "      <td>0.279001</td>\n",
       "      <td>10.309728</td>\n",
       "      <td>0.762426</td>\n",
       "    </tr>\n",
       "    <tr>\n",
       "      <th>22</th>\n",
       "      <td>RandomForest</td>\n",
       "      <td>9_games_mean</td>\n",
       "      <td>9.274358</td>\n",
       "      <td>0.284035</td>\n",
       "      <td>10.312843</td>\n",
       "      <td>0.786766</td>\n",
       "    </tr>\n",
       "    <tr>\n",
       "      <th>23</th>\n",
       "      <td>RandomForest</td>\n",
       "      <td>8_games_mean</td>\n",
       "      <td>9.288228</td>\n",
       "      <td>0.287629</td>\n",
       "      <td>10.327835</td>\n",
       "      <td>0.746300</td>\n",
       "    </tr>\n",
       "    <tr>\n",
       "      <th>24</th>\n",
       "      <td>RandomForest</td>\n",
       "      <td>6_games_mean</td>\n",
       "      <td>9.332391</td>\n",
       "      <td>0.290362</td>\n",
       "      <td>10.329048</td>\n",
       "      <td>0.780866</td>\n",
       "    </tr>\n",
       "    <tr>\n",
       "      <th>25</th>\n",
       "      <td>RandomForest</td>\n",
       "      <td>7_games_mean</td>\n",
       "      <td>9.306960</td>\n",
       "      <td>0.294157</td>\n",
       "      <td>10.341685</td>\n",
       "      <td>0.756325</td>\n",
       "    </tr>\n",
       "    <tr>\n",
       "      <th>26</th>\n",
       "      <td>RandomForest</td>\n",
       "      <td>5_games_mean</td>\n",
       "      <td>9.339061</td>\n",
       "      <td>0.281255</td>\n",
       "      <td>10.361539</td>\n",
       "      <td>0.771607</td>\n",
       "    </tr>\n",
       "    <tr>\n",
       "      <th>27</th>\n",
       "      <td>RandomForest</td>\n",
       "      <td>4_games_mean</td>\n",
       "      <td>9.353884</td>\n",
       "      <td>0.276087</td>\n",
       "      <td>10.372231</td>\n",
       "      <td>0.775335</td>\n",
       "    </tr>\n",
       "  </tbody>\n",
       "</table>\n",
       "</div>"
      ],
      "text/plain": [
       "      model_name                            experiment train_score            \\\n",
       "                                                              mean       std   \n",
       "0   RandomForest   16_games_exp_weighted_mean_decay1.0    9.478025  0.399682   \n",
       "1   RandomForest  16_games_exp_weighted_mean_decay0.97    9.464383  0.398237   \n",
       "2   RandomForest  16_games_exp_weighted_mean_decay0.95    9.472186  0.401603   \n",
       "3   RandomForest  16_games_exp_weighted_mean_decay0.87    9.499063  0.399911   \n",
       "4   RandomForest  16_games_exp_weighted_mean_decay0.90    9.490378  0.394653   \n",
       "5   RandomForest  16_games_exp_weighted_mean_decay0.92    9.479974  0.393980   \n",
       "6   RandomForest  16_games_exp_weighted_mean_decay0.88    9.494120  0.393767   \n",
       "7   RandomForest  16_games_exp_weighted_mean_decay0.94    9.472324  0.394935   \n",
       "8   RandomForest  16_games_exp_weighted_mean_decay0.96    9.463010  0.399748   \n",
       "9   RandomForest  16_games_exp_weighted_mean_decay0.98    9.456526  0.401259   \n",
       "10  RandomForest  16_games_exp_weighted_mean_decay0.93    9.472948  0.407387   \n",
       "11  RandomForest                         14_games_mean    9.241998  0.266932   \n",
       "12  RandomForest  16_games_exp_weighted_mean_decay0.91    9.482955  0.395235   \n",
       "13  RandomForest  16_games_exp_weighted_mean_decay0.85    9.505024  0.393929   \n",
       "14  RandomForest                         15_games_mean    9.239910  0.268809   \n",
       "15  RandomForest  16_games_exp_weighted_mean_decay0.99    9.455661  0.399829   \n",
       "16  RandomForest  16_games_exp_weighted_mean_decay0.86    9.498184  0.403058   \n",
       "17  RandomForest  16_games_exp_weighted_mean_decay0.89    9.491222  0.395851   \n",
       "18  RandomForest                         12_games_mean    9.235079  0.268660   \n",
       "19  RandomForest                         11_games_mean    9.242193  0.265568   \n",
       "20  RandomForest                         13_games_mean    9.229332  0.257397   \n",
       "21  RandomForest                         10_games_mean    9.266233  0.279001   \n",
       "22  RandomForest                          9_games_mean    9.274358  0.284035   \n",
       "23  RandomForest                          8_games_mean    9.288228  0.287629   \n",
       "24  RandomForest                          6_games_mean    9.332391  0.290362   \n",
       "25  RandomForest                          7_games_mean    9.306960  0.294157   \n",
       "26  RandomForest                          5_games_mean    9.339061  0.281255   \n",
       "27  RandomForest                          4_games_mean    9.353884  0.276087   \n",
       "\n",
       "   validation_score            \n",
       "               mean       std  \n",
       "0         10.276386  0.790058  \n",
       "1         10.279245  0.782969  \n",
       "2         10.282559  0.775141  \n",
       "3         10.283826  0.769863  \n",
       "4         10.283891  0.787503  \n",
       "5         10.285350  0.779047  \n",
       "6         10.287418  0.777523  \n",
       "7         10.287799  0.776201  \n",
       "8         10.288322  0.782006  \n",
       "9         10.289079  0.785487  \n",
       "10        10.289890  0.769870  \n",
       "11        10.291311  0.775243  \n",
       "12        10.292639  0.785947  \n",
       "13        10.293465  0.772244  \n",
       "14        10.294948  0.762773  \n",
       "15        10.295479  0.773515  \n",
       "16        10.295501  0.785631  \n",
       "17        10.297871  0.784816  \n",
       "18        10.299236  0.767352  \n",
       "19        10.300305  0.785498  \n",
       "20        10.303298  0.773928  \n",
       "21        10.309728  0.762426  \n",
       "22        10.312843  0.786766  \n",
       "23        10.327835  0.746300  \n",
       "24        10.329048  0.780866  \n",
       "25        10.341685  0.756325  \n",
       "26        10.361539  0.771607  \n",
       "27        10.372231  0.775335  "
      ]
     },
     "execution_count": 51,
     "metadata": {},
     "output_type": "execute_result"
    }
   ],
   "source": [
    "rf_results"
   ]
  },
  {
   "cell_type": "code",
   "execution_count": 54,
   "metadata": {},
   "outputs": [],
   "source": [
    "# et_results = (\n",
    "#     results_df\n",
    "#     .groupby(by=[\"model_name\", \"experiment\"])[[\"train_score\", \"validation_score\"]]\n",
    "#     .agg([\"mean\", \"std\"])\n",
    "#     .sort_values(by=(\"validation_score\", \"mean\"))\n",
    "#     .reset_index()\n",
    "# )"
   ]
  },
  {
   "cell_type": "code",
   "execution_count": 55,
   "metadata": {},
   "outputs": [
    {
     "data": {
      "text/html": [
       "<div>\n",
       "<style scoped>\n",
       "    .dataframe tbody tr th:only-of-type {\n",
       "        vertical-align: middle;\n",
       "    }\n",
       "\n",
       "    .dataframe tbody tr th {\n",
       "        vertical-align: top;\n",
       "    }\n",
       "\n",
       "    .dataframe thead tr th {\n",
       "        text-align: left;\n",
       "    }\n",
       "</style>\n",
       "<table border=\"1\" class=\"dataframe\">\n",
       "  <thead>\n",
       "    <tr>\n",
       "      <th></th>\n",
       "      <th>model_name</th>\n",
       "      <th>experiment</th>\n",
       "      <th colspan=\"2\" halign=\"left\">train_score</th>\n",
       "      <th colspan=\"2\" halign=\"left\">validation_score</th>\n",
       "    </tr>\n",
       "    <tr>\n",
       "      <th></th>\n",
       "      <th></th>\n",
       "      <th></th>\n",
       "      <th>mean</th>\n",
       "      <th>std</th>\n",
       "      <th>mean</th>\n",
       "      <th>std</th>\n",
       "    </tr>\n",
       "  </thead>\n",
       "  <tbody>\n",
       "    <tr>\n",
       "      <th>0</th>\n",
       "      <td>ExtraTrees</td>\n",
       "      <td>12_games_mean</td>\n",
       "      <td>8.413011</td>\n",
       "      <td>0.196311</td>\n",
       "      <td>10.362085</td>\n",
       "      <td>0.773875</td>\n",
       "    </tr>\n",
       "    <tr>\n",
       "      <th>1</th>\n",
       "      <td>ExtraTrees</td>\n",
       "      <td>11_games_mean</td>\n",
       "      <td>8.417199</td>\n",
       "      <td>0.206810</td>\n",
       "      <td>10.367105</td>\n",
       "      <td>0.785465</td>\n",
       "    </tr>\n",
       "    <tr>\n",
       "      <th>2</th>\n",
       "      <td>ExtraTrees</td>\n",
       "      <td>14_games_mean</td>\n",
       "      <td>8.431996</td>\n",
       "      <td>0.218460</td>\n",
       "      <td>10.373664</td>\n",
       "      <td>0.736355</td>\n",
       "    </tr>\n",
       "    <tr>\n",
       "      <th>3</th>\n",
       "      <td>ExtraTrees</td>\n",
       "      <td>13_games_mean</td>\n",
       "      <td>8.405882</td>\n",
       "      <td>0.181360</td>\n",
       "      <td>10.374625</td>\n",
       "      <td>0.794041</td>\n",
       "    </tr>\n",
       "    <tr>\n",
       "      <th>4</th>\n",
       "      <td>ExtraTrees</td>\n",
       "      <td>16_games_exp_weighted_mean_decay0.98</td>\n",
       "      <td>8.869355</td>\n",
       "      <td>0.426332</td>\n",
       "      <td>10.376554</td>\n",
       "      <td>0.799566</td>\n",
       "    </tr>\n",
       "    <tr>\n",
       "      <th>5</th>\n",
       "      <td>ExtraTrees</td>\n",
       "      <td>16_games_exp_weighted_mean_decay1.0</td>\n",
       "      <td>8.863130</td>\n",
       "      <td>0.434470</td>\n",
       "      <td>10.377028</td>\n",
       "      <td>0.795638</td>\n",
       "    </tr>\n",
       "    <tr>\n",
       "      <th>6</th>\n",
       "      <td>ExtraTrees</td>\n",
       "      <td>15_games_mean</td>\n",
       "      <td>8.431308</td>\n",
       "      <td>0.197253</td>\n",
       "      <td>10.385334</td>\n",
       "      <td>0.771550</td>\n",
       "    </tr>\n",
       "    <tr>\n",
       "      <th>7</th>\n",
       "      <td>ExtraTrees</td>\n",
       "      <td>16_games_exp_weighted_mean_decay0.99</td>\n",
       "      <td>8.856318</td>\n",
       "      <td>0.419385</td>\n",
       "      <td>10.390170</td>\n",
       "      <td>0.777718</td>\n",
       "    </tr>\n",
       "    <tr>\n",
       "      <th>8</th>\n",
       "      <td>ExtraTrees</td>\n",
       "      <td>16_games_exp_weighted_mean_decay0.92</td>\n",
       "      <td>8.948427</td>\n",
       "      <td>0.440171</td>\n",
       "      <td>10.390532</td>\n",
       "      <td>0.794711</td>\n",
       "    </tr>\n",
       "    <tr>\n",
       "      <th>9</th>\n",
       "      <td>ExtraTrees</td>\n",
       "      <td>8_games_mean</td>\n",
       "      <td>8.609851</td>\n",
       "      <td>0.229169</td>\n",
       "      <td>10.397041</td>\n",
       "      <td>0.774867</td>\n",
       "    </tr>\n",
       "    <tr>\n",
       "      <th>10</th>\n",
       "      <td>ExtraTrees</td>\n",
       "      <td>16_games_exp_weighted_mean_decay0.94</td>\n",
       "      <td>8.920530</td>\n",
       "      <td>0.411605</td>\n",
       "      <td>10.398482</td>\n",
       "      <td>0.787234</td>\n",
       "    </tr>\n",
       "    <tr>\n",
       "      <th>11</th>\n",
       "      <td>ExtraTrees</td>\n",
       "      <td>7_games_mean</td>\n",
       "      <td>8.677916</td>\n",
       "      <td>0.261030</td>\n",
       "      <td>10.401150</td>\n",
       "      <td>0.788001</td>\n",
       "    </tr>\n",
       "    <tr>\n",
       "      <th>12</th>\n",
       "      <td>ExtraTrees</td>\n",
       "      <td>16_games_exp_weighted_mean_decay0.93</td>\n",
       "      <td>8.949896</td>\n",
       "      <td>0.422751</td>\n",
       "      <td>10.402091</td>\n",
       "      <td>0.787210</td>\n",
       "    </tr>\n",
       "    <tr>\n",
       "      <th>13</th>\n",
       "      <td>ExtraTrees</td>\n",
       "      <td>16_games_exp_weighted_mean_decay0.90</td>\n",
       "      <td>8.982234</td>\n",
       "      <td>0.424228</td>\n",
       "      <td>10.403363</td>\n",
       "      <td>0.786883</td>\n",
       "    </tr>\n",
       "    <tr>\n",
       "      <th>14</th>\n",
       "      <td>ExtraTrees</td>\n",
       "      <td>9_games_mean</td>\n",
       "      <td>8.531452</td>\n",
       "      <td>0.236038</td>\n",
       "      <td>10.404377</td>\n",
       "      <td>0.813265</td>\n",
       "    </tr>\n",
       "    <tr>\n",
       "      <th>15</th>\n",
       "      <td>ExtraTrees</td>\n",
       "      <td>16_games_exp_weighted_mean_decay0.96</td>\n",
       "      <td>8.893277</td>\n",
       "      <td>0.417835</td>\n",
       "      <td>10.404646</td>\n",
       "      <td>0.767058</td>\n",
       "    </tr>\n",
       "    <tr>\n",
       "      <th>16</th>\n",
       "      <td>ExtraTrees</td>\n",
       "      <td>16_games_exp_weighted_mean_decay0.97</td>\n",
       "      <td>8.876633</td>\n",
       "      <td>0.415002</td>\n",
       "      <td>10.404936</td>\n",
       "      <td>0.801342</td>\n",
       "    </tr>\n",
       "    <tr>\n",
       "      <th>17</th>\n",
       "      <td>ExtraTrees</td>\n",
       "      <td>10_games_mean</td>\n",
       "      <td>8.483221</td>\n",
       "      <td>0.217626</td>\n",
       "      <td>10.406038</td>\n",
       "      <td>0.789698</td>\n",
       "    </tr>\n",
       "    <tr>\n",
       "      <th>18</th>\n",
       "      <td>ExtraTrees</td>\n",
       "      <td>16_games_exp_weighted_mean_decay0.87</td>\n",
       "      <td>9.036547</td>\n",
       "      <td>0.414248</td>\n",
       "      <td>10.406440</td>\n",
       "      <td>0.787186</td>\n",
       "    </tr>\n",
       "    <tr>\n",
       "      <th>19</th>\n",
       "      <td>ExtraTrees</td>\n",
       "      <td>16_games_exp_weighted_mean_decay0.95</td>\n",
       "      <td>8.903595</td>\n",
       "      <td>0.414341</td>\n",
       "      <td>10.407479</td>\n",
       "      <td>0.785723</td>\n",
       "    </tr>\n",
       "    <tr>\n",
       "      <th>20</th>\n",
       "      <td>ExtraTrees</td>\n",
       "      <td>16_games_exp_weighted_mean_decay0.88</td>\n",
       "      <td>9.022308</td>\n",
       "      <td>0.421578</td>\n",
       "      <td>10.413579</td>\n",
       "      <td>0.788212</td>\n",
       "    </tr>\n",
       "    <tr>\n",
       "      <th>21</th>\n",
       "      <td>ExtraTrees</td>\n",
       "      <td>16_games_exp_weighted_mean_decay0.86</td>\n",
       "      <td>9.039690</td>\n",
       "      <td>0.424491</td>\n",
       "      <td>10.419902</td>\n",
       "      <td>0.812042</td>\n",
       "    </tr>\n",
       "    <tr>\n",
       "      <th>22</th>\n",
       "      <td>ExtraTrees</td>\n",
       "      <td>16_games_exp_weighted_mean_decay0.91</td>\n",
       "      <td>8.964868</td>\n",
       "      <td>0.419438</td>\n",
       "      <td>10.428631</td>\n",
       "      <td>0.790677</td>\n",
       "    </tr>\n",
       "    <tr>\n",
       "      <th>23</th>\n",
       "      <td>ExtraTrees</td>\n",
       "      <td>16_games_exp_weighted_mean_decay0.89</td>\n",
       "      <td>9.015180</td>\n",
       "      <td>0.414135</td>\n",
       "      <td>10.445492</td>\n",
       "      <td>0.801488</td>\n",
       "    </tr>\n",
       "    <tr>\n",
       "      <th>24</th>\n",
       "      <td>ExtraTrees</td>\n",
       "      <td>16_games_exp_weighted_mean_decay0.85</td>\n",
       "      <td>9.058614</td>\n",
       "      <td>0.424542</td>\n",
       "      <td>10.448717</td>\n",
       "      <td>0.820276</td>\n",
       "    </tr>\n",
       "    <tr>\n",
       "      <th>25</th>\n",
       "      <td>ExtraTrees</td>\n",
       "      <td>6_games_mean</td>\n",
       "      <td>8.698139</td>\n",
       "      <td>0.224581</td>\n",
       "      <td>10.466615</td>\n",
       "      <td>0.778451</td>\n",
       "    </tr>\n",
       "    <tr>\n",
       "      <th>26</th>\n",
       "      <td>ExtraTrees</td>\n",
       "      <td>4_games_mean</td>\n",
       "      <td>8.675654</td>\n",
       "      <td>0.226657</td>\n",
       "      <td>10.472732</td>\n",
       "      <td>0.788819</td>\n",
       "    </tr>\n",
       "    <tr>\n",
       "      <th>27</th>\n",
       "      <td>ExtraTrees</td>\n",
       "      <td>5_games_mean</td>\n",
       "      <td>8.726530</td>\n",
       "      <td>0.212964</td>\n",
       "      <td>10.477819</td>\n",
       "      <td>0.788107</td>\n",
       "    </tr>\n",
       "  </tbody>\n",
       "</table>\n",
       "</div>"
      ],
      "text/plain": [
       "    model_name                            experiment train_score            \\\n",
       "                                                            mean       std   \n",
       "0   ExtraTrees                         12_games_mean    8.413011  0.196311   \n",
       "1   ExtraTrees                         11_games_mean    8.417199  0.206810   \n",
       "2   ExtraTrees                         14_games_mean    8.431996  0.218460   \n",
       "3   ExtraTrees                         13_games_mean    8.405882  0.181360   \n",
       "4   ExtraTrees  16_games_exp_weighted_mean_decay0.98    8.869355  0.426332   \n",
       "5   ExtraTrees   16_games_exp_weighted_mean_decay1.0    8.863130  0.434470   \n",
       "6   ExtraTrees                         15_games_mean    8.431308  0.197253   \n",
       "7   ExtraTrees  16_games_exp_weighted_mean_decay0.99    8.856318  0.419385   \n",
       "8   ExtraTrees  16_games_exp_weighted_mean_decay0.92    8.948427  0.440171   \n",
       "9   ExtraTrees                          8_games_mean    8.609851  0.229169   \n",
       "10  ExtraTrees  16_games_exp_weighted_mean_decay0.94    8.920530  0.411605   \n",
       "11  ExtraTrees                          7_games_mean    8.677916  0.261030   \n",
       "12  ExtraTrees  16_games_exp_weighted_mean_decay0.93    8.949896  0.422751   \n",
       "13  ExtraTrees  16_games_exp_weighted_mean_decay0.90    8.982234  0.424228   \n",
       "14  ExtraTrees                          9_games_mean    8.531452  0.236038   \n",
       "15  ExtraTrees  16_games_exp_weighted_mean_decay0.96    8.893277  0.417835   \n",
       "16  ExtraTrees  16_games_exp_weighted_mean_decay0.97    8.876633  0.415002   \n",
       "17  ExtraTrees                         10_games_mean    8.483221  0.217626   \n",
       "18  ExtraTrees  16_games_exp_weighted_mean_decay0.87    9.036547  0.414248   \n",
       "19  ExtraTrees  16_games_exp_weighted_mean_decay0.95    8.903595  0.414341   \n",
       "20  ExtraTrees  16_games_exp_weighted_mean_decay0.88    9.022308  0.421578   \n",
       "21  ExtraTrees  16_games_exp_weighted_mean_decay0.86    9.039690  0.424491   \n",
       "22  ExtraTrees  16_games_exp_weighted_mean_decay0.91    8.964868  0.419438   \n",
       "23  ExtraTrees  16_games_exp_weighted_mean_decay0.89    9.015180  0.414135   \n",
       "24  ExtraTrees  16_games_exp_weighted_mean_decay0.85    9.058614  0.424542   \n",
       "25  ExtraTrees                          6_games_mean    8.698139  0.224581   \n",
       "26  ExtraTrees                          4_games_mean    8.675654  0.226657   \n",
       "27  ExtraTrees                          5_games_mean    8.726530  0.212964   \n",
       "\n",
       "   validation_score            \n",
       "               mean       std  \n",
       "0         10.362085  0.773875  \n",
       "1         10.367105  0.785465  \n",
       "2         10.373664  0.736355  \n",
       "3         10.374625  0.794041  \n",
       "4         10.376554  0.799566  \n",
       "5         10.377028  0.795638  \n",
       "6         10.385334  0.771550  \n",
       "7         10.390170  0.777718  \n",
       "8         10.390532  0.794711  \n",
       "9         10.397041  0.774867  \n",
       "10        10.398482  0.787234  \n",
       "11        10.401150  0.788001  \n",
       "12        10.402091  0.787210  \n",
       "13        10.403363  0.786883  \n",
       "14        10.404377  0.813265  \n",
       "15        10.404646  0.767058  \n",
       "16        10.404936  0.801342  \n",
       "17        10.406038  0.789698  \n",
       "18        10.406440  0.787186  \n",
       "19        10.407479  0.785723  \n",
       "20        10.413579  0.788212  \n",
       "21        10.419902  0.812042  \n",
       "22        10.428631  0.790677  \n",
       "23        10.445492  0.801488  \n",
       "24        10.448717  0.820276  \n",
       "25        10.466615  0.778451  \n",
       "26        10.472732  0.788819  \n",
       "27        10.477819  0.788107  "
      ]
     },
     "execution_count": 55,
     "metadata": {},
     "output_type": "execute_result"
    }
   ],
   "source": [
    "et_results"
   ]
  },
  {
   "cell_type": "code",
   "execution_count": 12,
   "metadata": {},
   "outputs": [],
   "source": [
    "gbr_results = (\n",
    "    results_df\n",
    "    .groupby(by=[\"model_name\", \"experiment\"])[[\"train_score\", \"validation_score\"]]\n",
    "    .agg([\"mean\", \"std\"])\n",
    "    .sort_values(by=(\"validation_score\", \"mean\"))\n",
    "    .reset_index()\n",
    ")"
   ]
  },
  {
   "cell_type": "code",
   "execution_count": null,
   "metadata": {},
   "outputs": [],
   "source": [
    "# 10.36 mean, .77 std was best GBR w/ buggy stat agg. ~10.4 median"
   ]
  },
  {
   "cell_type": "code",
   "execution_count": 13,
   "metadata": {},
   "outputs": [
    {
     "data": {
      "text/html": [
       "<div>\n",
       "<style scoped>\n",
       "    .dataframe tbody tr th:only-of-type {\n",
       "        vertical-align: middle;\n",
       "    }\n",
       "\n",
       "    .dataframe tbody tr th {\n",
       "        vertical-align: top;\n",
       "    }\n",
       "\n",
       "    .dataframe thead tr th {\n",
       "        text-align: left;\n",
       "    }\n",
       "</style>\n",
       "<table border=\"1\" class=\"dataframe\">\n",
       "  <thead>\n",
       "    <tr>\n",
       "      <th></th>\n",
       "      <th>model_name</th>\n",
       "      <th>experiment</th>\n",
       "      <th colspan=\"2\" halign=\"left\">train_score</th>\n",
       "      <th colspan=\"2\" halign=\"left\">validation_score</th>\n",
       "    </tr>\n",
       "    <tr>\n",
       "      <th></th>\n",
       "      <th></th>\n",
       "      <th></th>\n",
       "      <th>mean</th>\n",
       "      <th>std</th>\n",
       "      <th>mean</th>\n",
       "      <th>std</th>\n",
       "    </tr>\n",
       "  </thead>\n",
       "  <tbody>\n",
       "    <tr>\n",
       "      <th>0</th>\n",
       "      <td>GBR</td>\n",
       "      <td>16_games_exp_weighted_mean_decay0.88</td>\n",
       "      <td>9.767778</td>\n",
       "      <td>0.355154</td>\n",
       "      <td>10.325455</td>\n",
       "      <td>0.757409</td>\n",
       "    </tr>\n",
       "    <tr>\n",
       "      <th>1</th>\n",
       "      <td>GBR</td>\n",
       "      <td>16_games_exp_weighted_mean_decay0.879999999999...</td>\n",
       "      <td>9.767778</td>\n",
       "      <td>0.355154</td>\n",
       "      <td>10.325455</td>\n",
       "      <td>0.757409</td>\n",
       "    </tr>\n",
       "    <tr>\n",
       "      <th>2</th>\n",
       "      <td>GBR</td>\n",
       "      <td>16_games_exp_weighted_mean_decay0.799999999999...</td>\n",
       "      <td>9.556600</td>\n",
       "      <td>0.416428</td>\n",
       "      <td>10.365049</td>\n",
       "      <td>0.750125</td>\n",
       "    </tr>\n",
       "    <tr>\n",
       "      <th>3</th>\n",
       "      <td>GBR</td>\n",
       "      <td>16_games_exp_weighted_mean_decay0.779999999999...</td>\n",
       "      <td>9.713624</td>\n",
       "      <td>0.341820</td>\n",
       "      <td>10.366601</td>\n",
       "      <td>0.782518</td>\n",
       "    </tr>\n",
       "    <tr>\n",
       "      <th>4</th>\n",
       "      <td>GBR</td>\n",
       "      <td>16_games_exp_weighted_mean_decay0.739999999999...</td>\n",
       "      <td>9.629079</td>\n",
       "      <td>0.563431</td>\n",
       "      <td>10.370932</td>\n",
       "      <td>0.704951</td>\n",
       "    </tr>\n",
       "    <tr>\n",
       "      <th>5</th>\n",
       "      <td>GBR</td>\n",
       "      <td>16_games_exp_weighted_mean_decay0.699999999999...</td>\n",
       "      <td>9.745964</td>\n",
       "      <td>0.342249</td>\n",
       "      <td>10.377137</td>\n",
       "      <td>0.752638</td>\n",
       "    </tr>\n",
       "    <tr>\n",
       "      <th>6</th>\n",
       "      <td>GBR</td>\n",
       "      <td>16_games_exp_weighted_mean_decay0.759999999999...</td>\n",
       "      <td>9.576448</td>\n",
       "      <td>0.510453</td>\n",
       "      <td>10.381092</td>\n",
       "      <td>0.675752</td>\n",
       "    </tr>\n",
       "    <tr>\n",
       "      <th>7</th>\n",
       "      <td>GBR</td>\n",
       "      <td>16_games_exp_weighted_mean_decay0.719999999999...</td>\n",
       "      <td>9.523468</td>\n",
       "      <td>0.374104</td>\n",
       "      <td>10.383078</td>\n",
       "      <td>0.723901</td>\n",
       "    </tr>\n",
       "    <tr>\n",
       "      <th>8</th>\n",
       "      <td>GBR</td>\n",
       "      <td>16_games_exp_weighted_mean_decay0.9</td>\n",
       "      <td>9.802765</td>\n",
       "      <td>0.305667</td>\n",
       "      <td>10.396442</td>\n",
       "      <td>0.786296</td>\n",
       "    </tr>\n",
       "    <tr>\n",
       "      <th>9</th>\n",
       "      <td>GBR</td>\n",
       "      <td>16_games_exp_weighted_mean_decay0.899999999999...</td>\n",
       "      <td>9.802765</td>\n",
       "      <td>0.305667</td>\n",
       "      <td>10.396442</td>\n",
       "      <td>0.786296</td>\n",
       "    </tr>\n",
       "    <tr>\n",
       "      <th>10</th>\n",
       "      <td>GBR</td>\n",
       "      <td>16_games_exp_weighted_mean_decay1.0</td>\n",
       "      <td>9.638137</td>\n",
       "      <td>0.366395</td>\n",
       "      <td>10.400597</td>\n",
       "      <td>0.729819</td>\n",
       "    </tr>\n",
       "    <tr>\n",
       "      <th>11</th>\n",
       "      <td>GBR</td>\n",
       "      <td>16_games_exp_weighted_mean_decay0.82</td>\n",
       "      <td>9.742658</td>\n",
       "      <td>0.360095</td>\n",
       "      <td>10.414499</td>\n",
       "      <td>0.723771</td>\n",
       "    </tr>\n",
       "    <tr>\n",
       "      <th>12</th>\n",
       "      <td>GBR</td>\n",
       "      <td>16_games_exp_weighted_mean_decay0.819999999999...</td>\n",
       "      <td>9.742658</td>\n",
       "      <td>0.360095</td>\n",
       "      <td>10.414499</td>\n",
       "      <td>0.723771</td>\n",
       "    </tr>\n",
       "    <tr>\n",
       "      <th>13</th>\n",
       "      <td>GBR</td>\n",
       "      <td>16_games_exp_weighted_mean_decay0.919999999999...</td>\n",
       "      <td>9.716046</td>\n",
       "      <td>0.433804</td>\n",
       "      <td>10.414777</td>\n",
       "      <td>0.700878</td>\n",
       "    </tr>\n",
       "    <tr>\n",
       "      <th>14</th>\n",
       "      <td>GBR</td>\n",
       "      <td>16_games_exp_weighted_mean_decay0.839999999999...</td>\n",
       "      <td>9.616355</td>\n",
       "      <td>0.479403</td>\n",
       "      <td>10.420352</td>\n",
       "      <td>0.736338</td>\n",
       "    </tr>\n",
       "    <tr>\n",
       "      <th>15</th>\n",
       "      <td>GBR</td>\n",
       "      <td>16_games_exp_weighted_mean_decay0.98</td>\n",
       "      <td>9.681900</td>\n",
       "      <td>0.391935</td>\n",
       "      <td>10.421863</td>\n",
       "      <td>0.716599</td>\n",
       "    </tr>\n",
       "    <tr>\n",
       "      <th>16</th>\n",
       "      <td>GBR</td>\n",
       "      <td>16_games_exp_weighted_mean_decay0.96</td>\n",
       "      <td>9.693212</td>\n",
       "      <td>0.471908</td>\n",
       "      <td>10.423521</td>\n",
       "      <td>0.730328</td>\n",
       "    </tr>\n",
       "    <tr>\n",
       "      <th>17</th>\n",
       "      <td>GBR</td>\n",
       "      <td>16_games_exp_weighted_mean_decay0.859999999999...</td>\n",
       "      <td>9.708976</td>\n",
       "      <td>0.466235</td>\n",
       "      <td>10.434369</td>\n",
       "      <td>0.698963</td>\n",
       "    </tr>\n",
       "    <tr>\n",
       "      <th>18</th>\n",
       "      <td>GBR</td>\n",
       "      <td>16_games_exp_weighted_mean_decay0.94</td>\n",
       "      <td>9.628453</td>\n",
       "      <td>0.501110</td>\n",
       "      <td>10.440170</td>\n",
       "      <td>0.748461</td>\n",
       "    </tr>\n",
       "  </tbody>\n",
       "</table>\n",
       "</div>"
      ],
      "text/plain": [
       "   model_name                                         experiment train_score  \\\n",
       "                                                                        mean   \n",
       "0         GBR               16_games_exp_weighted_mean_decay0.88    9.767778   \n",
       "1         GBR  16_games_exp_weighted_mean_decay0.879999999999...    9.767778   \n",
       "2         GBR  16_games_exp_weighted_mean_decay0.799999999999...    9.556600   \n",
       "3         GBR  16_games_exp_weighted_mean_decay0.779999999999...    9.713624   \n",
       "4         GBR  16_games_exp_weighted_mean_decay0.739999999999...    9.629079   \n",
       "5         GBR  16_games_exp_weighted_mean_decay0.699999999999...    9.745964   \n",
       "6         GBR  16_games_exp_weighted_mean_decay0.759999999999...    9.576448   \n",
       "7         GBR  16_games_exp_weighted_mean_decay0.719999999999...    9.523468   \n",
       "8         GBR                16_games_exp_weighted_mean_decay0.9    9.802765   \n",
       "9         GBR  16_games_exp_weighted_mean_decay0.899999999999...    9.802765   \n",
       "10        GBR                16_games_exp_weighted_mean_decay1.0    9.638137   \n",
       "11        GBR               16_games_exp_weighted_mean_decay0.82    9.742658   \n",
       "12        GBR  16_games_exp_weighted_mean_decay0.819999999999...    9.742658   \n",
       "13        GBR  16_games_exp_weighted_mean_decay0.919999999999...    9.716046   \n",
       "14        GBR  16_games_exp_weighted_mean_decay0.839999999999...    9.616355   \n",
       "15        GBR               16_games_exp_weighted_mean_decay0.98    9.681900   \n",
       "16        GBR               16_games_exp_weighted_mean_decay0.96    9.693212   \n",
       "17        GBR  16_games_exp_weighted_mean_decay0.859999999999...    9.708976   \n",
       "18        GBR               16_games_exp_weighted_mean_decay0.94    9.628453   \n",
       "\n",
       "             validation_score            \n",
       "         std             mean       std  \n",
       "0   0.355154        10.325455  0.757409  \n",
       "1   0.355154        10.325455  0.757409  \n",
       "2   0.416428        10.365049  0.750125  \n",
       "3   0.341820        10.366601  0.782518  \n",
       "4   0.563431        10.370932  0.704951  \n",
       "5   0.342249        10.377137  0.752638  \n",
       "6   0.510453        10.381092  0.675752  \n",
       "7   0.374104        10.383078  0.723901  \n",
       "8   0.305667        10.396442  0.786296  \n",
       "9   0.305667        10.396442  0.786296  \n",
       "10  0.366395        10.400597  0.729819  \n",
       "11  0.360095        10.414499  0.723771  \n",
       "12  0.360095        10.414499  0.723771  \n",
       "13  0.433804        10.414777  0.700878  \n",
       "14  0.479403        10.420352  0.736338  \n",
       "15  0.391935        10.421863  0.716599  \n",
       "16  0.471908        10.423521  0.730328  \n",
       "17  0.466235        10.434369  0.698963  \n",
       "18  0.501110        10.440170  0.748461  "
      ]
     },
     "execution_count": 13,
     "metadata": {},
     "output_type": "execute_result"
    }
   ],
   "source": [
    "gbr_results"
   ]
  },
  {
   "cell_type": "code",
   "execution_count": 36,
   "metadata": {},
   "outputs": [
    {
     "name": "stderr",
     "output_type": "stream",
     "text": [
      "/var/folders/h1/1n1src7x64q_jwgsr43hmkxm0000gq/T/ipykernel_59208/639080084.py:3: DtypeWarning:\n",
      "\n",
      "Columns (20,46,63) have mixed types. Specify dtype option on import or set low_memory=False.\n",
      "\n"
     ]
    },
    {
     "name": "stdout",
     "output_type": "stream",
     "text": [
      "(2027, 263)\n"
     ]
    },
    {
     "name": "stderr",
     "output_type": "stream",
     "text": [
      "/Users/DanPfeiffer/Documents/code/data-collector/env/lib/python3.11/site-packages/sklearn/impute/_base.py:577: UserWarning:\n",
      "\n",
      "Skipping features without any observed values: ['offense_total_4th_down_conversion_pcnt_matchup_differential'\n",
      " 'defense_total_4th_down_conversion_pcnt_matchup_differential']. At least one non-missing value is needed for imputation with strategy='mean'.\n",
      "\n",
      "/Users/DanPfeiffer/Documents/code/data-collector/env/lib/python3.11/site-packages/sklearn/impute/_base.py:577: UserWarning:\n",
      "\n",
      "Skipping features without any observed values: ['offense_total_4th_down_conversion_pcnt_matchup_differential'\n",
      " 'defense_total_4th_down_conversion_pcnt_matchup_differential']. At least one non-missing value is needed for imputation with strategy='mean'.\n",
      "\n",
      "/Users/DanPfeiffer/Documents/code/data-collector/env/lib/python3.11/site-packages/sklearn/impute/_base.py:577: UserWarning:\n",
      "\n",
      "Skipping features without any observed values: ['offense_total_4th_down_conversion_pcnt_matchup_differential'\n",
      " 'defense_total_4th_down_conversion_pcnt_matchup_differential']. At least one non-missing value is needed for imputation with strategy='mean'.\n",
      "\n"
     ]
    },
    {
     "name": "stdout",
     "output_type": "stream",
     "text": [
      "Train score: 8.8146\n",
      "Val score: 10.3046\n",
      "\n"
     ]
    }
   ],
   "source": [
    "# Do one more train w/ the best data then look at feature importances\n",
    "file_name = '16_games_exp_weighted_mean_decay0.88_training.csv'\n",
    "training_df = pd.read_csv(f\"../data/transformed/{file_name}\")\n",
    "small_train_df = training_df[train_features + spread_y + total_y + all_spread_y + all_total_y].copy()\n",
    "small_train_df[\"year\"] = pd.to_datetime(small_train_df[\"game_datetime\"]).dt.year\n",
    "X = small_train_df[[\"year\"] + train_features].copy()\n",
    "y = small_train_df[[\"year\"] + spread_y].copy()\n",
    "\n",
    "\n",
    "train_years = [\n",
    "    2015,\n",
    "    2016,\n",
    "    2017,\n",
    "    2018,\n",
    "    2019,\n",
    "    2020,\n",
    "    2021,\n",
    "    2022\n",
    "]\n",
    "val_years=[\n",
    "    2023,\n",
    "    2024\n",
    "]\n",
    "X_train = X[X['year'].isin(train_years)].drop(columns=[\"year\", \"game_datetime\"])\n",
    "y_train = y[y['year'].isin(train_years)].drop(columns=[\"year\"])\n",
    "X_test = X[X['year'].isin(val_years)].drop(columns=[\"year\", \"game_datetime\"])\n",
    "y_test = y[y['year'].isin(val_years)].drop(columns=[\"year\"])\n",
    "print(X_train.shape)\n",
    "\n",
    "\n",
    "model = RandomForestRegressor(random_state=54)\n",
    "model.set_params(**rf_speed_params)\n",
    "pipeline = Pipeline([\n",
    "    ('imputer', SimpleImputer(strategy='mean')),\n",
    "    ('scaler', StandardScaler()),\n",
    "    ('model', model)\n",
    "])\n",
    "\n",
    "# Train the model\n",
    "pipeline.fit(X_train, y_train.values.ravel())\n",
    "\n",
    "# Evaluate on training set\n",
    "y_train_pred = pipeline.predict(X_train)\n",
    "train_score = mean_absolute_error(y_train, y_train_pred)\n",
    "\n",
    "# Evaluate on training set\n",
    "y_test_pred = pipeline.predict(X_test)\n",
    "val_score = mean_absolute_error(y_test, y_test_pred)\n",
    "\n",
    "print(f\"Train score: {train_score:.4f}\")\n",
    "print(f\"Val score: {val_score:.4f}\")\n",
    "print()"
   ]
  },
  {
   "cell_type": "code",
   "execution_count": 37,
   "metadata": {},
   "outputs": [
    {
     "data": {
      "text/html": [
       "<style>#sk-container-id-2 {\n",
       "  /* Definition of color scheme common for light and dark mode */\n",
       "  --sklearn-color-text: black;\n",
       "  --sklearn-color-line: gray;\n",
       "  /* Definition of color scheme for unfitted estimators */\n",
       "  --sklearn-color-unfitted-level-0: #fff5e6;\n",
       "  --sklearn-color-unfitted-level-1: #f6e4d2;\n",
       "  --sklearn-color-unfitted-level-2: #ffe0b3;\n",
       "  --sklearn-color-unfitted-level-3: chocolate;\n",
       "  /* Definition of color scheme for fitted estimators */\n",
       "  --sklearn-color-fitted-level-0: #f0f8ff;\n",
       "  --sklearn-color-fitted-level-1: #d4ebff;\n",
       "  --sklearn-color-fitted-level-2: #b3dbfd;\n",
       "  --sklearn-color-fitted-level-3: cornflowerblue;\n",
       "\n",
       "  /* Specific color for light theme */\n",
       "  --sklearn-color-text-on-default-background: var(--sg-text-color, var(--theme-code-foreground, var(--jp-content-font-color1, black)));\n",
       "  --sklearn-color-background: var(--sg-background-color, var(--theme-background, var(--jp-layout-color0, white)));\n",
       "  --sklearn-color-border-box: var(--sg-text-color, var(--theme-code-foreground, var(--jp-content-font-color1, black)));\n",
       "  --sklearn-color-icon: #696969;\n",
       "\n",
       "  @media (prefers-color-scheme: dark) {\n",
       "    /* Redefinition of color scheme for dark theme */\n",
       "    --sklearn-color-text-on-default-background: var(--sg-text-color, var(--theme-code-foreground, var(--jp-content-font-color1, white)));\n",
       "    --sklearn-color-background: var(--sg-background-color, var(--theme-background, var(--jp-layout-color0, #111)));\n",
       "    --sklearn-color-border-box: var(--sg-text-color, var(--theme-code-foreground, var(--jp-content-font-color1, white)));\n",
       "    --sklearn-color-icon: #878787;\n",
       "  }\n",
       "}\n",
       "\n",
       "#sk-container-id-2 {\n",
       "  color: var(--sklearn-color-text);\n",
       "}\n",
       "\n",
       "#sk-container-id-2 pre {\n",
       "  padding: 0;\n",
       "}\n",
       "\n",
       "#sk-container-id-2 input.sk-hidden--visually {\n",
       "  border: 0;\n",
       "  clip: rect(1px 1px 1px 1px);\n",
       "  clip: rect(1px, 1px, 1px, 1px);\n",
       "  height: 1px;\n",
       "  margin: -1px;\n",
       "  overflow: hidden;\n",
       "  padding: 0;\n",
       "  position: absolute;\n",
       "  width: 1px;\n",
       "}\n",
       "\n",
       "#sk-container-id-2 div.sk-dashed-wrapped {\n",
       "  border: 1px dashed var(--sklearn-color-line);\n",
       "  margin: 0 0.4em 0.5em 0.4em;\n",
       "  box-sizing: border-box;\n",
       "  padding-bottom: 0.4em;\n",
       "  background-color: var(--sklearn-color-background);\n",
       "}\n",
       "\n",
       "#sk-container-id-2 div.sk-container {\n",
       "  /* jupyter's `normalize.less` sets `[hidden] { display: none; }`\n",
       "     but bootstrap.min.css set `[hidden] { display: none !important; }`\n",
       "     so we also need the `!important` here to be able to override the\n",
       "     default hidden behavior on the sphinx rendered scikit-learn.org.\n",
       "     See: https://github.com/scikit-learn/scikit-learn/issues/21755 */\n",
       "  display: inline-block !important;\n",
       "  position: relative;\n",
       "}\n",
       "\n",
       "#sk-container-id-2 div.sk-text-repr-fallback {\n",
       "  display: none;\n",
       "}\n",
       "\n",
       "div.sk-parallel-item,\n",
       "div.sk-serial,\n",
       "div.sk-item {\n",
       "  /* draw centered vertical line to link estimators */\n",
       "  background-image: linear-gradient(var(--sklearn-color-text-on-default-background), var(--sklearn-color-text-on-default-background));\n",
       "  background-size: 2px 100%;\n",
       "  background-repeat: no-repeat;\n",
       "  background-position: center center;\n",
       "}\n",
       "\n",
       "/* Parallel-specific style estimator block */\n",
       "\n",
       "#sk-container-id-2 div.sk-parallel-item::after {\n",
       "  content: \"\";\n",
       "  width: 100%;\n",
       "  border-bottom: 2px solid var(--sklearn-color-text-on-default-background);\n",
       "  flex-grow: 1;\n",
       "}\n",
       "\n",
       "#sk-container-id-2 div.sk-parallel {\n",
       "  display: flex;\n",
       "  align-items: stretch;\n",
       "  justify-content: center;\n",
       "  background-color: var(--sklearn-color-background);\n",
       "  position: relative;\n",
       "}\n",
       "\n",
       "#sk-container-id-2 div.sk-parallel-item {\n",
       "  display: flex;\n",
       "  flex-direction: column;\n",
       "}\n",
       "\n",
       "#sk-container-id-2 div.sk-parallel-item:first-child::after {\n",
       "  align-self: flex-end;\n",
       "  width: 50%;\n",
       "}\n",
       "\n",
       "#sk-container-id-2 div.sk-parallel-item:last-child::after {\n",
       "  align-self: flex-start;\n",
       "  width: 50%;\n",
       "}\n",
       "\n",
       "#sk-container-id-2 div.sk-parallel-item:only-child::after {\n",
       "  width: 0;\n",
       "}\n",
       "\n",
       "/* Serial-specific style estimator block */\n",
       "\n",
       "#sk-container-id-2 div.sk-serial {\n",
       "  display: flex;\n",
       "  flex-direction: column;\n",
       "  align-items: center;\n",
       "  background-color: var(--sklearn-color-background);\n",
       "  padding-right: 1em;\n",
       "  padding-left: 1em;\n",
       "}\n",
       "\n",
       "\n",
       "/* Toggleable style: style used for estimator/Pipeline/ColumnTransformer box that is\n",
       "clickable and can be expanded/collapsed.\n",
       "- Pipeline and ColumnTransformer use this feature and define the default style\n",
       "- Estimators will overwrite some part of the style using the `sk-estimator` class\n",
       "*/\n",
       "\n",
       "/* Pipeline and ColumnTransformer style (default) */\n",
       "\n",
       "#sk-container-id-2 div.sk-toggleable {\n",
       "  /* Default theme specific background. It is overwritten whether we have a\n",
       "  specific estimator or a Pipeline/ColumnTransformer */\n",
       "  background-color: var(--sklearn-color-background);\n",
       "}\n",
       "\n",
       "/* Toggleable label */\n",
       "#sk-container-id-2 label.sk-toggleable__label {\n",
       "  cursor: pointer;\n",
       "  display: block;\n",
       "  width: 100%;\n",
       "  margin-bottom: 0;\n",
       "  padding: 0.5em;\n",
       "  box-sizing: border-box;\n",
       "  text-align: center;\n",
       "}\n",
       "\n",
       "#sk-container-id-2 label.sk-toggleable__label-arrow:before {\n",
       "  /* Arrow on the left of the label */\n",
       "  content: \"▸\";\n",
       "  float: left;\n",
       "  margin-right: 0.25em;\n",
       "  color: var(--sklearn-color-icon);\n",
       "}\n",
       "\n",
       "#sk-container-id-2 label.sk-toggleable__label-arrow:hover:before {\n",
       "  color: var(--sklearn-color-text);\n",
       "}\n",
       "\n",
       "/* Toggleable content - dropdown */\n",
       "\n",
       "#sk-container-id-2 div.sk-toggleable__content {\n",
       "  max-height: 0;\n",
       "  max-width: 0;\n",
       "  overflow: hidden;\n",
       "  text-align: left;\n",
       "  /* unfitted */\n",
       "  background-color: var(--sklearn-color-unfitted-level-0);\n",
       "}\n",
       "\n",
       "#sk-container-id-2 div.sk-toggleable__content.fitted {\n",
       "  /* fitted */\n",
       "  background-color: var(--sklearn-color-fitted-level-0);\n",
       "}\n",
       "\n",
       "#sk-container-id-2 div.sk-toggleable__content pre {\n",
       "  margin: 0.2em;\n",
       "  border-radius: 0.25em;\n",
       "  color: var(--sklearn-color-text);\n",
       "  /* unfitted */\n",
       "  background-color: var(--sklearn-color-unfitted-level-0);\n",
       "}\n",
       "\n",
       "#sk-container-id-2 div.sk-toggleable__content.fitted pre {\n",
       "  /* unfitted */\n",
       "  background-color: var(--sklearn-color-fitted-level-0);\n",
       "}\n",
       "\n",
       "#sk-container-id-2 input.sk-toggleable__control:checked~div.sk-toggleable__content {\n",
       "  /* Expand drop-down */\n",
       "  max-height: 200px;\n",
       "  max-width: 100%;\n",
       "  overflow: auto;\n",
       "}\n",
       "\n",
       "#sk-container-id-2 input.sk-toggleable__control:checked~label.sk-toggleable__label-arrow:before {\n",
       "  content: \"▾\";\n",
       "}\n",
       "\n",
       "/* Pipeline/ColumnTransformer-specific style */\n",
       "\n",
       "#sk-container-id-2 div.sk-label input.sk-toggleable__control:checked~label.sk-toggleable__label {\n",
       "  color: var(--sklearn-color-text);\n",
       "  background-color: var(--sklearn-color-unfitted-level-2);\n",
       "}\n",
       "\n",
       "#sk-container-id-2 div.sk-label.fitted input.sk-toggleable__control:checked~label.sk-toggleable__label {\n",
       "  background-color: var(--sklearn-color-fitted-level-2);\n",
       "}\n",
       "\n",
       "/* Estimator-specific style */\n",
       "\n",
       "/* Colorize estimator box */\n",
       "#sk-container-id-2 div.sk-estimator input.sk-toggleable__control:checked~label.sk-toggleable__label {\n",
       "  /* unfitted */\n",
       "  background-color: var(--sklearn-color-unfitted-level-2);\n",
       "}\n",
       "\n",
       "#sk-container-id-2 div.sk-estimator.fitted input.sk-toggleable__control:checked~label.sk-toggleable__label {\n",
       "  /* fitted */\n",
       "  background-color: var(--sklearn-color-fitted-level-2);\n",
       "}\n",
       "\n",
       "#sk-container-id-2 div.sk-label label.sk-toggleable__label,\n",
       "#sk-container-id-2 div.sk-label label {\n",
       "  /* The background is the default theme color */\n",
       "  color: var(--sklearn-color-text-on-default-background);\n",
       "}\n",
       "\n",
       "/* On hover, darken the color of the background */\n",
       "#sk-container-id-2 div.sk-label:hover label.sk-toggleable__label {\n",
       "  color: var(--sklearn-color-text);\n",
       "  background-color: var(--sklearn-color-unfitted-level-2);\n",
       "}\n",
       "\n",
       "/* Label box, darken color on hover, fitted */\n",
       "#sk-container-id-2 div.sk-label.fitted:hover label.sk-toggleable__label.fitted {\n",
       "  color: var(--sklearn-color-text);\n",
       "  background-color: var(--sklearn-color-fitted-level-2);\n",
       "}\n",
       "\n",
       "/* Estimator label */\n",
       "\n",
       "#sk-container-id-2 div.sk-label label {\n",
       "  font-family: monospace;\n",
       "  font-weight: bold;\n",
       "  display: inline-block;\n",
       "  line-height: 1.2em;\n",
       "}\n",
       "\n",
       "#sk-container-id-2 div.sk-label-container {\n",
       "  text-align: center;\n",
       "}\n",
       "\n",
       "/* Estimator-specific */\n",
       "#sk-container-id-2 div.sk-estimator {\n",
       "  font-family: monospace;\n",
       "  border: 1px dotted var(--sklearn-color-border-box);\n",
       "  border-radius: 0.25em;\n",
       "  box-sizing: border-box;\n",
       "  margin-bottom: 0.5em;\n",
       "  /* unfitted */\n",
       "  background-color: var(--sklearn-color-unfitted-level-0);\n",
       "}\n",
       "\n",
       "#sk-container-id-2 div.sk-estimator.fitted {\n",
       "  /* fitted */\n",
       "  background-color: var(--sklearn-color-fitted-level-0);\n",
       "}\n",
       "\n",
       "/* on hover */\n",
       "#sk-container-id-2 div.sk-estimator:hover {\n",
       "  /* unfitted */\n",
       "  background-color: var(--sklearn-color-unfitted-level-2);\n",
       "}\n",
       "\n",
       "#sk-container-id-2 div.sk-estimator.fitted:hover {\n",
       "  /* fitted */\n",
       "  background-color: var(--sklearn-color-fitted-level-2);\n",
       "}\n",
       "\n",
       "/* Specification for estimator info (e.g. \"i\" and \"?\") */\n",
       "\n",
       "/* Common style for \"i\" and \"?\" */\n",
       "\n",
       ".sk-estimator-doc-link,\n",
       "a:link.sk-estimator-doc-link,\n",
       "a:visited.sk-estimator-doc-link {\n",
       "  float: right;\n",
       "  font-size: smaller;\n",
       "  line-height: 1em;\n",
       "  font-family: monospace;\n",
       "  background-color: var(--sklearn-color-background);\n",
       "  border-radius: 1em;\n",
       "  height: 1em;\n",
       "  width: 1em;\n",
       "  text-decoration: none !important;\n",
       "  margin-left: 1ex;\n",
       "  /* unfitted */\n",
       "  border: var(--sklearn-color-unfitted-level-1) 1pt solid;\n",
       "  color: var(--sklearn-color-unfitted-level-1);\n",
       "}\n",
       "\n",
       ".sk-estimator-doc-link.fitted,\n",
       "a:link.sk-estimator-doc-link.fitted,\n",
       "a:visited.sk-estimator-doc-link.fitted {\n",
       "  /* fitted */\n",
       "  border: var(--sklearn-color-fitted-level-1) 1pt solid;\n",
       "  color: var(--sklearn-color-fitted-level-1);\n",
       "}\n",
       "\n",
       "/* On hover */\n",
       "div.sk-estimator:hover .sk-estimator-doc-link:hover,\n",
       ".sk-estimator-doc-link:hover,\n",
       "div.sk-label-container:hover .sk-estimator-doc-link:hover,\n",
       ".sk-estimator-doc-link:hover {\n",
       "  /* unfitted */\n",
       "  background-color: var(--sklearn-color-unfitted-level-3);\n",
       "  color: var(--sklearn-color-background);\n",
       "  text-decoration: none;\n",
       "}\n",
       "\n",
       "div.sk-estimator.fitted:hover .sk-estimator-doc-link.fitted:hover,\n",
       ".sk-estimator-doc-link.fitted:hover,\n",
       "div.sk-label-container:hover .sk-estimator-doc-link.fitted:hover,\n",
       ".sk-estimator-doc-link.fitted:hover {\n",
       "  /* fitted */\n",
       "  background-color: var(--sklearn-color-fitted-level-3);\n",
       "  color: var(--sklearn-color-background);\n",
       "  text-decoration: none;\n",
       "}\n",
       "\n",
       "/* Span, style for the box shown on hovering the info icon */\n",
       ".sk-estimator-doc-link span {\n",
       "  display: none;\n",
       "  z-index: 9999;\n",
       "  position: relative;\n",
       "  font-weight: normal;\n",
       "  right: .2ex;\n",
       "  padding: .5ex;\n",
       "  margin: .5ex;\n",
       "  width: min-content;\n",
       "  min-width: 20ex;\n",
       "  max-width: 50ex;\n",
       "  color: var(--sklearn-color-text);\n",
       "  box-shadow: 2pt 2pt 4pt #999;\n",
       "  /* unfitted */\n",
       "  background: var(--sklearn-color-unfitted-level-0);\n",
       "  border: .5pt solid var(--sklearn-color-unfitted-level-3);\n",
       "}\n",
       "\n",
       ".sk-estimator-doc-link.fitted span {\n",
       "  /* fitted */\n",
       "  background: var(--sklearn-color-fitted-level-0);\n",
       "  border: var(--sklearn-color-fitted-level-3);\n",
       "}\n",
       "\n",
       ".sk-estimator-doc-link:hover span {\n",
       "  display: block;\n",
       "}\n",
       "\n",
       "/* \"?\"-specific style due to the `<a>` HTML tag */\n",
       "\n",
       "#sk-container-id-2 a.estimator_doc_link {\n",
       "  float: right;\n",
       "  font-size: 1rem;\n",
       "  line-height: 1em;\n",
       "  font-family: monospace;\n",
       "  background-color: var(--sklearn-color-background);\n",
       "  border-radius: 1rem;\n",
       "  height: 1rem;\n",
       "  width: 1rem;\n",
       "  text-decoration: none;\n",
       "  /* unfitted */\n",
       "  color: var(--sklearn-color-unfitted-level-1);\n",
       "  border: var(--sklearn-color-unfitted-level-1) 1pt solid;\n",
       "}\n",
       "\n",
       "#sk-container-id-2 a.estimator_doc_link.fitted {\n",
       "  /* fitted */\n",
       "  border: var(--sklearn-color-fitted-level-1) 1pt solid;\n",
       "  color: var(--sklearn-color-fitted-level-1);\n",
       "}\n",
       "\n",
       "/* On hover */\n",
       "#sk-container-id-2 a.estimator_doc_link:hover {\n",
       "  /* unfitted */\n",
       "  background-color: var(--sklearn-color-unfitted-level-3);\n",
       "  color: var(--sklearn-color-background);\n",
       "  text-decoration: none;\n",
       "}\n",
       "\n",
       "#sk-container-id-2 a.estimator_doc_link.fitted:hover {\n",
       "  /* fitted */\n",
       "  background-color: var(--sklearn-color-fitted-level-3);\n",
       "}\n",
       "</style><div id=\"sk-container-id-2\" class=\"sk-top-container\"><div class=\"sk-text-repr-fallback\"><pre>RandomForestRegressor(max_depth=8, max_features=&#x27;sqrt&#x27;, min_samples_leaf=20,\n",
       "                      min_samples_split=15, n_estimators=200, n_jobs=-1,\n",
       "                      random_state=54)</pre><b>In a Jupyter environment, please rerun this cell to show the HTML representation or trust the notebook. <br />On GitHub, the HTML representation is unable to render, please try loading this page with nbviewer.org.</b></div><div class=\"sk-container\" hidden><div class=\"sk-item\"><div class=\"sk-estimator fitted sk-toggleable\"><input class=\"sk-toggleable__control sk-hidden--visually\" id=\"sk-estimator-id-2\" type=\"checkbox\" checked><label for=\"sk-estimator-id-2\" class=\"sk-toggleable__label fitted sk-toggleable__label-arrow fitted\">&nbsp;&nbsp;RandomForestRegressor<a class=\"sk-estimator-doc-link fitted\" rel=\"noreferrer\" target=\"_blank\" href=\"https://scikit-learn.org/1.4/modules/generated/sklearn.ensemble.RandomForestRegressor.html\">?<span>Documentation for RandomForestRegressor</span></a><span class=\"sk-estimator-doc-link fitted\">i<span>Fitted</span></span></label><div class=\"sk-toggleable__content fitted\"><pre>RandomForestRegressor(max_depth=8, max_features=&#x27;sqrt&#x27;, min_samples_leaf=20,\n",
       "                      min_samples_split=15, n_estimators=200, n_jobs=-1,\n",
       "                      random_state=54)</pre></div> </div></div></div></div>"
      ],
      "text/plain": [
       "RandomForestRegressor(max_depth=8, max_features='sqrt', min_samples_leaf=20,\n",
       "                      min_samples_split=15, n_estimators=200, n_jobs=-1,\n",
       "                      random_state=54)"
      ]
     },
     "execution_count": 37,
     "metadata": {},
     "output_type": "execute_result"
    }
   ],
   "source": [
    "pipeline.named_steps[\"model\"]"
   ]
  },
  {
   "cell_type": "code",
   "execution_count": 38,
   "metadata": {},
   "outputs": [
    {
     "data": {
      "text/html": [
       "<div>\n",
       "<style scoped>\n",
       "    .dataframe tbody tr th:only-of-type {\n",
       "        vertical-align: middle;\n",
       "    }\n",
       "\n",
       "    .dataframe tbody tr th {\n",
       "        vertical-align: top;\n",
       "    }\n",
       "\n",
       "    .dataframe thead th {\n",
       "        text-align: right;\n",
       "    }\n",
       "</style>\n",
       "<table border=\"1\" class=\"dataframe\">\n",
       "  <thead>\n",
       "    <tr style=\"text-align: right;\">\n",
       "      <th></th>\n",
       "      <th>feature</th>\n",
       "      <th>importance</th>\n",
       "    </tr>\n",
       "  </thead>\n",
       "  <tbody>\n",
       "    <tr>\n",
       "      <th>131</th>\n",
       "      <td>rankings_predictive_rating_matchup_differential</td>\n",
       "      <td>0.070352</td>\n",
       "    </tr>\n",
       "    <tr>\n",
       "      <th>129</th>\n",
       "      <td>home_rankings_predictive_rating</td>\n",
       "      <td>0.039024</td>\n",
       "    </tr>\n",
       "    <tr>\n",
       "      <th>66</th>\n",
       "      <td>offense_scoring_points_per_game_delta_matchup_...</td>\n",
       "      <td>0.035642</td>\n",
       "    </tr>\n",
       "    <tr>\n",
       "      <th>130</th>\n",
       "      <td>road_rankings_predictive_rating</td>\n",
       "      <td>0.033854</td>\n",
       "    </tr>\n",
       "    <tr>\n",
       "      <th>124</th>\n",
       "      <td>home_rankings_road_rating</td>\n",
       "      <td>0.028699</td>\n",
       "    </tr>\n",
       "    <tr>\n",
       "      <th>117</th>\n",
       "      <td>rankings_home_rating_matchup_differential</td>\n",
       "      <td>0.025306</td>\n",
       "    </tr>\n",
       "    <tr>\n",
       "      <th>116</th>\n",
       "      <td>road_rankings_home_rating</td>\n",
       "      <td>0.021087</td>\n",
       "    </tr>\n",
       "    <tr>\n",
       "      <th>60</th>\n",
       "      <td>home_offense_scoring_points_per_game_delta</td>\n",
       "      <td>0.014606</td>\n",
       "    </tr>\n",
       "    <tr>\n",
       "      <th>203</th>\n",
       "      <td>road_offense_scoring_points_per_game</td>\n",
       "      <td>0.014072</td>\n",
       "    </tr>\n",
       "    <tr>\n",
       "      <th>125</th>\n",
       "      <td>road_rankings_road_rating</td>\n",
       "      <td>0.012628</td>\n",
       "    </tr>\n",
       "    <tr>\n",
       "      <th>207</th>\n",
       "      <td>road_offense_scoring_points_per_play</td>\n",
       "      <td>0.012578</td>\n",
       "    </tr>\n",
       "    <tr>\n",
       "      <th>114</th>\n",
       "      <td>home_rankings_home_rating</td>\n",
       "      <td>0.011339</td>\n",
       "    </tr>\n",
       "    <tr>\n",
       "      <th>204</th>\n",
       "      <td>road_offense_scoring_points_per_game_delta</td>\n",
       "      <td>0.010399</td>\n",
       "    </tr>\n",
       "    <tr>\n",
       "      <th>123</th>\n",
       "      <td>rankings_luck_rating_matchup_differential</td>\n",
       "      <td>0.009519</td>\n",
       "    </tr>\n",
       "    <tr>\n",
       "      <th>212</th>\n",
       "      <td>road_offense_total_1st_downs</td>\n",
       "      <td>0.007942</td>\n",
       "    </tr>\n",
       "    <tr>\n",
       "      <th>209</th>\n",
       "      <td>road_offense_total_yards</td>\n",
       "      <td>0.007858</td>\n",
       "    </tr>\n",
       "    <tr>\n",
       "      <th>155</th>\n",
       "      <td>home_defense_rushing_attempts</td>\n",
       "      <td>0.007463</td>\n",
       "    </tr>\n",
       "    <tr>\n",
       "      <th>222</th>\n",
       "      <td>road_offense_total_punts_per_score</td>\n",
       "      <td>0.007160</td>\n",
       "    </tr>\n",
       "    <tr>\n",
       "      <th>205</th>\n",
       "      <td>road_offense_scoring_yards_per_point</td>\n",
       "      <td>0.006888</td>\n",
       "    </tr>\n",
       "    <tr>\n",
       "      <th>121</th>\n",
       "      <td>home_rankings_luck_rating</td>\n",
       "      <td>0.006799</td>\n",
       "    </tr>\n",
       "    <tr>\n",
       "      <th>190</th>\n",
       "      <td>road_offense_passing_pass_rtg</td>\n",
       "      <td>0.006162</td>\n",
       "    </tr>\n",
       "    <tr>\n",
       "      <th>82</th>\n",
       "      <td>home_offense_total_punts_per_play</td>\n",
       "      <td>0.006154</td>\n",
       "    </tr>\n",
       "    <tr>\n",
       "      <th>147</th>\n",
       "      <td>home_defense_passing_ypa</td>\n",
       "      <td>0.005845</td>\n",
       "    </tr>\n",
       "    <tr>\n",
       "      <th>211</th>\n",
       "      <td>road_offense_total_yards_per_play</td>\n",
       "      <td>0.005745</td>\n",
       "    </tr>\n",
       "    <tr>\n",
       "      <th>79</th>\n",
       "      <td>home_offense_total_1st_downs_per_play</td>\n",
       "      <td>0.005700</td>\n",
       "    </tr>\n",
       "    <tr>\n",
       "      <th>156</th>\n",
       "      <td>home_defense_rushing_ypg</td>\n",
       "      <td>0.005627</td>\n",
       "    </tr>\n",
       "    <tr>\n",
       "      <th>83</th>\n",
       "      <td>home_offense_total_punts_per_score</td>\n",
       "      <td>0.005544</td>\n",
       "    </tr>\n",
       "    <tr>\n",
       "      <th>47</th>\n",
       "      <td>home_offense_passing_pass_rtg</td>\n",
       "      <td>0.005367</td>\n",
       "    </tr>\n",
       "    <tr>\n",
       "      <th>218</th>\n",
       "      <td>road_offense_total_1st_downs_per_play</td>\n",
       "      <td>0.005359</td>\n",
       "    </tr>\n",
       "    <tr>\n",
       "      <th>70</th>\n",
       "      <td>home_offense_total_yards</td>\n",
       "      <td>0.005032</td>\n",
       "    </tr>\n",
       "    <tr>\n",
       "      <th>45</th>\n",
       "      <td>home_offense_passing_sack_pcnt</td>\n",
       "      <td>0.004963</td>\n",
       "    </tr>\n",
       "    <tr>\n",
       "      <th>73</th>\n",
       "      <td>home_offense_total_1st_downs</td>\n",
       "      <td>0.004945</td>\n",
       "    </tr>\n",
       "    <tr>\n",
       "      <th>219</th>\n",
       "      <td>road_offense_total_3rd_down_conversion_pcnt</td>\n",
       "      <td>0.004924</td>\n",
       "    </tr>\n",
       "    <tr>\n",
       "      <th>63</th>\n",
       "      <td>home_offense_scoring_points_per_play</td>\n",
       "      <td>0.004886</td>\n",
       "    </tr>\n",
       "    <tr>\n",
       "      <th>160</th>\n",
       "      <td>home_defense_scoring_yards_per_point</td>\n",
       "      <td>0.004862</td>\n",
       "    </tr>\n",
       "    <tr>\n",
       "      <th>71</th>\n",
       "      <td>home_offense_total_plays</td>\n",
       "      <td>0.004853</td>\n",
       "    </tr>\n",
       "    <tr>\n",
       "      <th>167</th>\n",
       "      <td>home_defense_total_yards_per_play</td>\n",
       "      <td>0.004636</td>\n",
       "    </tr>\n",
       "    <tr>\n",
       "      <th>111</th>\n",
       "      <td>penalties_penalties_matchup_differential</td>\n",
       "      <td>0.004620</td>\n",
       "    </tr>\n",
       "    <tr>\n",
       "      <th>59</th>\n",
       "      <td>home_offense_scoring_points_per_game</td>\n",
       "      <td>0.004611</td>\n",
       "    </tr>\n",
       "    <tr>\n",
       "      <th>151</th>\n",
       "      <td>home_defense_passing_pass_rtg</td>\n",
       "      <td>0.004551</td>\n",
       "    </tr>\n",
       "    <tr>\n",
       "      <th>122</th>\n",
       "      <td>road_rankings_luck_rating</td>\n",
       "      <td>0.004202</td>\n",
       "    </tr>\n",
       "    <tr>\n",
       "      <th>37</th>\n",
       "      <td>home_off_turnovers_fumbles</td>\n",
       "      <td>0.004196</td>\n",
       "    </tr>\n",
       "    <tr>\n",
       "      <th>206</th>\n",
       "      <td>road_offense_scoring_yards_per_point_delta</td>\n",
       "      <td>0.004160</td>\n",
       "    </tr>\n",
       "    <tr>\n",
       "      <th>148</th>\n",
       "      <td>home_defense_passing_ypc</td>\n",
       "      <td>0.004146</td>\n",
       "    </tr>\n",
       "    <tr>\n",
       "      <th>175</th>\n",
       "      <td>home_defense_total_punts_per_score</td>\n",
       "      <td>0.004088</td>\n",
       "    </tr>\n",
       "    <tr>\n",
       "      <th>38</th>\n",
       "      <td>home_off_turnovers_int_pcnt</td>\n",
       "      <td>0.004050</td>\n",
       "    </tr>\n",
       "    <tr>\n",
       "      <th>164</th>\n",
       "      <td>home_def_turnovers_takeaways</td>\n",
       "      <td>0.004036</td>\n",
       "    </tr>\n",
       "    <tr>\n",
       "      <th>140</th>\n",
       "      <td>home_defense_special_teams_net_punt_ypa</td>\n",
       "      <td>0.003970</td>\n",
       "    </tr>\n",
       "    <tr>\n",
       "      <th>85</th>\n",
       "      <td>home_offense_total_opp_solo_tackles</td>\n",
       "      <td>0.003961</td>\n",
       "    </tr>\n",
       "    <tr>\n",
       "      <th>243</th>\n",
       "      <td>road_penalties_opponent_penalty_yards</td>\n",
       "      <td>0.003952</td>\n",
       "    </tr>\n",
       "    <tr>\n",
       "      <th>214</th>\n",
       "      <td>road_offense_total_3rd_down_conversions</td>\n",
       "      <td>0.003875</td>\n",
       "    </tr>\n",
       "    <tr>\n",
       "      <th>245</th>\n",
       "      <td>road_penalties_opponent_yards_per_penalty</td>\n",
       "      <td>0.003853</td>\n",
       "    </tr>\n",
       "    <tr>\n",
       "      <th>171</th>\n",
       "      <td>home_defense_total_1st_downs_per_play</td>\n",
       "      <td>0.003842</td>\n",
       "    </tr>\n",
       "    <tr>\n",
       "      <th>7</th>\n",
       "      <td>road_defense_passing_ypc</td>\n",
       "      <td>0.003815</td>\n",
       "    </tr>\n",
       "    <tr>\n",
       "      <th>188</th>\n",
       "      <td>road_offense_passing_sack_pcnt</td>\n",
       "      <td>0.003757</td>\n",
       "    </tr>\n",
       "    <tr>\n",
       "      <th>41</th>\n",
       "      <td>home_offense_passing_completion_pcnt</td>\n",
       "      <td>0.003737</td>\n",
       "    </tr>\n",
       "    <tr>\n",
       "      <th>68</th>\n",
       "      <td>offense_scoring_yards_per_point_delta_matchup_...</td>\n",
       "      <td>0.003704</td>\n",
       "    </tr>\n",
       "    <tr>\n",
       "      <th>43</th>\n",
       "      <td>home_offense_passing_ypc</td>\n",
       "      <td>0.003699</td>\n",
       "    </tr>\n",
       "    <tr>\n",
       "      <th>31</th>\n",
       "      <td>road_defense_total_3rd_down_conversion_pcnt</td>\n",
       "      <td>0.003669</td>\n",
       "    </tr>\n",
       "    <tr>\n",
       "      <th>23</th>\n",
       "      <td>road_def_turnovers_takeaways</td>\n",
       "      <td>0.003598</td>\n",
       "    </tr>\n",
       "    <tr>\n",
       "      <th>202</th>\n",
       "      <td>defense_rushing_1st_down_pcnt_matchup_differen...</td>\n",
       "      <td>0.003582</td>\n",
       "    </tr>\n",
       "    <tr>\n",
       "      <th>62</th>\n",
       "      <td>home_offense_scoring_yards_per_point_delta</td>\n",
       "      <td>0.003532</td>\n",
       "    </tr>\n",
       "    <tr>\n",
       "      <th>14</th>\n",
       "      <td>road_defense_rushing_attempts</td>\n",
       "      <td>0.003531</td>\n",
       "    </tr>\n",
       "    <tr>\n",
       "      <th>88</th>\n",
       "      <td>offense_total_plays_matchup_differential</td>\n",
       "      <td>0.003527</td>\n",
       "    </tr>\n",
       "    <tr>\n",
       "      <th>186</th>\n",
       "      <td>road_offense_passing_ypc</td>\n",
       "      <td>0.003525</td>\n",
       "    </tr>\n",
       "    <tr>\n",
       "      <th>84</th>\n",
       "      <td>home_offense_total_opp_tackles</td>\n",
       "      <td>0.003513</td>\n",
       "    </tr>\n",
       "    <tr>\n",
       "      <th>221</th>\n",
       "      <td>road_offense_total_punts_per_play</td>\n",
       "      <td>0.003487</td>\n",
       "    </tr>\n",
       "    <tr>\n",
       "      <th>119</th>\n",
       "      <td>road_rankings_consistency_rating</td>\n",
       "      <td>0.003479</td>\n",
       "    </tr>\n",
       "    <tr>\n",
       "      <th>72</th>\n",
       "      <td>home_offense_total_yards_per_play</td>\n",
       "      <td>0.003452</td>\n",
       "    </tr>\n",
       "    <tr>\n",
       "      <th>42</th>\n",
       "      <td>home_offense_passing_ypa</td>\n",
       "      <td>0.003406</td>\n",
       "    </tr>\n",
       "    <tr>\n",
       "      <th>244</th>\n",
       "      <td>road_penalties_opponent_penalty_1st_downs</td>\n",
       "      <td>0.003384</td>\n",
       "    </tr>\n",
       "    <tr>\n",
       "      <th>141</th>\n",
       "      <td>road_defense_special_teams_gross_punt_yards</td>\n",
       "      <td>0.003342</td>\n",
       "    </tr>\n",
       "    <tr>\n",
       "      <th>39</th>\n",
       "      <td>off_turnovers_fumbles_matchup_differential</td>\n",
       "      <td>0.003323</td>\n",
       "    </tr>\n",
       "    <tr>\n",
       "      <th>166</th>\n",
       "      <td>home_defense_total_plays</td>\n",
       "      <td>0.003309</td>\n",
       "    </tr>\n",
       "    <tr>\n",
       "      <th>229</th>\n",
       "      <td>defense_total_1st_downs_matchup_differential</td>\n",
       "      <td>0.003252</td>\n",
       "    </tr>\n",
       "    <tr>\n",
       "      <th>51</th>\n",
       "      <td>offense_passing_sack_pcnt_matchup_differential</td>\n",
       "      <td>0.003229</td>\n",
       "    </tr>\n",
       "    <tr>\n",
       "      <th>216</th>\n",
       "      <td>road_offense_total_4th_down_conversions</td>\n",
       "      <td>0.003189</td>\n",
       "    </tr>\n",
       "    <tr>\n",
       "      <th>194</th>\n",
       "      <td>defense_passing_ypc_matchup_differential</td>\n",
       "      <td>0.003172</td>\n",
       "    </tr>\n",
       "    <tr>\n",
       "      <th>6</th>\n",
       "      <td>road_defense_passing_ypa</td>\n",
       "      <td>0.003168</td>\n",
       "    </tr>\n",
       "    <tr>\n",
       "      <th>86</th>\n",
       "      <td>home_offense_total_opp_asst_tackles</td>\n",
       "      <td>0.003155</td>\n",
       "    </tr>\n",
       "    <tr>\n",
       "      <th>183</th>\n",
       "      <td>road_offense_passing_incompletions</td>\n",
       "      <td>0.003140</td>\n",
       "    </tr>\n",
       "    <tr>\n",
       "      <th>28</th>\n",
       "      <td>road_defense_total_4th_downs</td>\n",
       "      <td>0.003112</td>\n",
       "    </tr>\n",
       "    <tr>\n",
       "      <th>226</th>\n",
       "      <td>defense_total_yards_matchup_differential</td>\n",
       "      <td>0.003094</td>\n",
       "    </tr>\n",
       "    <tr>\n",
       "      <th>138</th>\n",
       "      <td>home_defense_special_teams_net_punt_yards</td>\n",
       "      <td>0.003089</td>\n",
       "    </tr>\n",
       "    <tr>\n",
       "      <th>98</th>\n",
       "      <td>offense_total_punts_per_play_matchup_differential</td>\n",
       "      <td>0.003085</td>\n",
       "    </tr>\n",
       "    <tr>\n",
       "      <th>215</th>\n",
       "      <td>road_offense_total_4th_downs</td>\n",
       "      <td>0.003043</td>\n",
       "    </tr>\n",
       "    <tr>\n",
       "      <th>157</th>\n",
       "      <td>home_defense_rushing_ypa</td>\n",
       "      <td>0.003020</td>\n",
       "    </tr>\n",
       "    <tr>\n",
       "      <th>12</th>\n",
       "      <td>road_defense_passing_sacks</td>\n",
       "      <td>0.002975</td>\n",
       "    </tr>\n",
       "    <tr>\n",
       "      <th>223</th>\n",
       "      <td>road_offense_total_opp_tackles</td>\n",
       "      <td>0.002965</td>\n",
       "    </tr>\n",
       "    <tr>\n",
       "      <th>54</th>\n",
       "      <td>offense_passing_pass_rtg_matchup_differential</td>\n",
       "      <td>0.002957</td>\n",
       "    </tr>\n",
       "    <tr>\n",
       "      <th>153</th>\n",
       "      <td>home_defense_passing_sacks</td>\n",
       "      <td>0.002943</td>\n",
       "    </tr>\n",
       "    <tr>\n",
       "      <th>106</th>\n",
       "      <td>penalties_opponent_penalty_yards_matchup_diffe...</td>\n",
       "      <td>0.002931</td>\n",
       "    </tr>\n",
       "    <tr>\n",
       "      <th>210</th>\n",
       "      <td>road_offense_total_plays</td>\n",
       "      <td>0.002919</td>\n",
       "    </tr>\n",
       "    <tr>\n",
       "      <th>169</th>\n",
       "      <td>home_defense_total_4th_downs</td>\n",
       "      <td>0.002912</td>\n",
       "    </tr>\n",
       "    <tr>\n",
       "      <th>1</th>\n",
       "      <td>offense_special_teams_net_punt_ypa_all_matchup...</td>\n",
       "      <td>0.002910</td>\n",
       "    </tr>\n",
       "    <tr>\n",
       "      <th>224</th>\n",
       "      <td>road_offense_total_opp_solo_tackles</td>\n",
       "      <td>0.002909</td>\n",
       "    </tr>\n",
       "    <tr>\n",
       "      <th>176</th>\n",
       "      <td>home_defense_total_solo_tackles</td>\n",
       "      <td>0.002897</td>\n",
       "    </tr>\n",
       "    <tr>\n",
       "      <th>96</th>\n",
       "      <td>offense_total_1st_downs_per_play_matchup_diffe...</td>\n",
       "      <td>0.002896</td>\n",
       "    </tr>\n",
       "    <tr>\n",
       "      <th>109</th>\n",
       "      <td>home_penalties_penalties</td>\n",
       "      <td>0.002882</td>\n",
       "    </tr>\n",
       "    <tr>\n",
       "      <th>24</th>\n",
       "      <td>road_def_turnovers_int_pcnt</td>\n",
       "      <td>0.002879</td>\n",
       "    </tr>\n",
       "    <tr>\n",
       "      <th>87</th>\n",
       "      <td>offense_total_yards_matchup_differential</td>\n",
       "      <td>0.002876</td>\n",
       "    </tr>\n",
       "    <tr>\n",
       "      <th>233</th>\n",
       "      <td>defense_total_4th_down_conversions_matchup_dif...</td>\n",
       "      <td>0.002861</td>\n",
       "    </tr>\n",
       "    <tr>\n",
       "      <th>101</th>\n",
       "      <td>offense_total_opp_solo_tackles_matchup_differe...</td>\n",
       "      <td>0.002843</td>\n",
       "    </tr>\n",
       "    <tr>\n",
       "      <th>196</th>\n",
       "      <td>defense_passing_sack_pcnt_matchup_differential</td>\n",
       "      <td>0.002830</td>\n",
       "    </tr>\n",
       "    <tr>\n",
       "      <th>90</th>\n",
       "      <td>offense_total_1st_downs_matchup_differential</td>\n",
       "      <td>0.002830</td>\n",
       "    </tr>\n",
       "    <tr>\n",
       "      <th>184</th>\n",
       "      <td>road_offense_passing_completion_pcnt</td>\n",
       "      <td>0.002829</td>\n",
       "    </tr>\n",
       "    <tr>\n",
       "      <th>80</th>\n",
       "      <td>home_offense_total_3rd_down_conversion_pcnt</td>\n",
       "      <td>0.002822</td>\n",
       "    </tr>\n",
       "    <tr>\n",
       "      <th>49</th>\n",
       "      <td>offense_passing_ypa_matchup_differential</td>\n",
       "      <td>0.002807</td>\n",
       "    </tr>\n",
       "    <tr>\n",
       "      <th>100</th>\n",
       "      <td>offense_total_opp_tackles_matchup_differential</td>\n",
       "      <td>0.002805</td>\n",
       "    </tr>\n",
       "    <tr>\n",
       "      <th>105</th>\n",
       "      <td>home_penalties_opponent_yards_per_penalty</td>\n",
       "      <td>0.002777</td>\n",
       "    </tr>\n",
       "    <tr>\n",
       "      <th>161</th>\n",
       "      <td>home_defense_scoring_rz_attempts</td>\n",
       "      <td>0.002776</td>\n",
       "    </tr>\n",
       "    <tr>\n",
       "      <th>61</th>\n",
       "      <td>home_offense_scoring_yards_per_point</td>\n",
       "      <td>0.002775</td>\n",
       "    </tr>\n",
       "    <tr>\n",
       "      <th>182</th>\n",
       "      <td>road_offense_passing_attempts</td>\n",
       "      <td>0.002702</td>\n",
       "    </tr>\n",
       "    <tr>\n",
       "      <th>235</th>\n",
       "      <td>defense_total_seconds_per_play_matchup_differe...</td>\n",
       "      <td>0.002696</td>\n",
       "    </tr>\n",
       "    <tr>\n",
       "      <th>246</th>\n",
       "      <td>road_penalties_penalties</td>\n",
       "      <td>0.002622</td>\n",
       "    </tr>\n",
       "    <tr>\n",
       "      <th>128</th>\n",
       "      <td>rankings_sos_basic_rating_matchup_differential</td>\n",
       "      <td>0.002617</td>\n",
       "    </tr>\n",
       "    <tr>\n",
       "      <th>91</th>\n",
       "      <td>offense_total_3rd_downs_matchup_differential</td>\n",
       "      <td>0.002615</td>\n",
       "    </tr>\n",
       "    <tr>\n",
       "      <th>181</th>\n",
       "      <td>def_turnovers_int_pcnt_matchup_differential</td>\n",
       "      <td>0.002605</td>\n",
       "    </tr>\n",
       "    <tr>\n",
       "      <th>165</th>\n",
       "      <td>home_def_turnovers_int_pcnt</td>\n",
       "      <td>0.002590</td>\n",
       "    </tr>\n",
       "    <tr>\n",
       "      <th>152</th>\n",
       "      <td>home_defense_passing_sack_pcnt</td>\n",
       "      <td>0.002578</td>\n",
       "    </tr>\n",
       "    <tr>\n",
       "      <th>36</th>\n",
       "      <td>road_defense_total_assisted_tackles</td>\n",
       "      <td>0.002557</td>\n",
       "    </tr>\n",
       "    <tr>\n",
       "      <th>133</th>\n",
       "      <td>road_offense_special_teams_gross_punt_ypa</td>\n",
       "      <td>0.002555</td>\n",
       "    </tr>\n",
       "    <tr>\n",
       "      <th>104</th>\n",
       "      <td>home_penalties_opponent_penalty_1st_downs</td>\n",
       "      <td>0.002540</td>\n",
       "    </tr>\n",
       "    <tr>\n",
       "      <th>99</th>\n",
       "      <td>offense_total_punts_per_score_matchup_differen...</td>\n",
       "      <td>0.002540</td>\n",
       "    </tr>\n",
       "    <tr>\n",
       "      <th>18</th>\n",
       "      <td>road_defense_rushing_1st_down_pcnt</td>\n",
       "      <td>0.002539</td>\n",
       "    </tr>\n",
       "    <tr>\n",
       "      <th>103</th>\n",
       "      <td>home_penalties_opponent_penalty_yards</td>\n",
       "      <td>0.002522</td>\n",
       "    </tr>\n",
       "    <tr>\n",
       "      <th>22</th>\n",
       "      <td>road_def_turnovers_fumbles</td>\n",
       "      <td>0.002517</td>\n",
       "    </tr>\n",
       "    <tr>\n",
       "      <th>242</th>\n",
       "      <td>defense_total_assisted_tackles_matchup_differe...</td>\n",
       "      <td>0.002516</td>\n",
       "    </tr>\n",
       "    <tr>\n",
       "      <th>179</th>\n",
       "      <td>road_off_turnovers_int_pcnt</td>\n",
       "      <td>0.002514</td>\n",
       "    </tr>\n",
       "    <tr>\n",
       "      <th>75</th>\n",
       "      <td>home_offense_total_3rd_down_conversions</td>\n",
       "      <td>0.002506</td>\n",
       "    </tr>\n",
       "    <tr>\n",
       "      <th>77</th>\n",
       "      <td>home_offense_total_4th_down_conversions</td>\n",
       "      <td>0.002503</td>\n",
       "    </tr>\n",
       "    <tr>\n",
       "      <th>89</th>\n",
       "      <td>offense_total_yards_per_play_matchup_differential</td>\n",
       "      <td>0.002496</td>\n",
       "    </tr>\n",
       "    <tr>\n",
       "      <th>15</th>\n",
       "      <td>road_defense_rushing_ypg</td>\n",
       "      <td>0.002496</td>\n",
       "    </tr>\n",
       "    <tr>\n",
       "      <th>52</th>\n",
       "      <td>offense_passing_1st_downs_matchup_differential</td>\n",
       "      <td>0.002490</td>\n",
       "    </tr>\n",
       "    <tr>\n",
       "      <th>225</th>\n",
       "      <td>road_offense_total_opp_asst_tackles</td>\n",
       "      <td>0.002488</td>\n",
       "    </tr>\n",
       "    <tr>\n",
       "      <th>110</th>\n",
       "      <td>home_penalties_yards_per_penalty</td>\n",
       "      <td>0.002473</td>\n",
       "    </tr>\n",
       "    <tr>\n",
       "      <th>236</th>\n",
       "      <td>defense_total_1st_downs_per_play_matchup_diffe...</td>\n",
       "      <td>0.002470</td>\n",
       "    </tr>\n",
       "    <tr>\n",
       "      <th>193</th>\n",
       "      <td>defense_passing_ypa_matchup_differential</td>\n",
       "      <td>0.002456</td>\n",
       "    </tr>\n",
       "    <tr>\n",
       "      <th>185</th>\n",
       "      <td>road_offense_passing_ypa</td>\n",
       "      <td>0.002436</td>\n",
       "    </tr>\n",
       "    <tr>\n",
       "      <th>29</th>\n",
       "      <td>road_defense_total_seconds_per_play</td>\n",
       "      <td>0.002432</td>\n",
       "    </tr>\n",
       "    <tr>\n",
       "      <th>149</th>\n",
       "      <td>home_defense_passing_1st_downs</td>\n",
       "      <td>0.002432</td>\n",
       "    </tr>\n",
       "    <tr>\n",
       "      <th>260</th>\n",
       "      <td>travel_delta</td>\n",
       "      <td>0.002421</td>\n",
       "    </tr>\n",
       "    <tr>\n",
       "      <th>250</th>\n",
       "      <td>rest_differential</td>\n",
       "      <td>0.002409</td>\n",
       "    </tr>\n",
       "    <tr>\n",
       "      <th>234</th>\n",
       "      <td>defense_total_time_of_possession_matchup_diffe...</td>\n",
       "      <td>0.002404</td>\n",
       "    </tr>\n",
       "    <tr>\n",
       "      <th>230</th>\n",
       "      <td>defense_total_3rd_downs_matchup_differential</td>\n",
       "      <td>0.002381</td>\n",
       "    </tr>\n",
       "    <tr>\n",
       "      <th>69</th>\n",
       "      <td>offense_scoring_points_per_play_matchup_differ...</td>\n",
       "      <td>0.002357</td>\n",
       "    </tr>\n",
       "    <tr>\n",
       "      <th>78</th>\n",
       "      <td>home_offense_total_seconds_per_play</td>\n",
       "      <td>0.002353</td>\n",
       "    </tr>\n",
       "    <tr>\n",
       "      <th>94</th>\n",
       "      <td>offense_total_4th_down_conversions_matchup_dif...</td>\n",
       "      <td>0.002338</td>\n",
       "    </tr>\n",
       "    <tr>\n",
       "      <th>4</th>\n",
       "      <td>road_defense_passing_attempts</td>\n",
       "      <td>0.002334</td>\n",
       "    </tr>\n",
       "    <tr>\n",
       "      <th>168</th>\n",
       "      <td>home_defense_total_3rd_downs</td>\n",
       "      <td>0.002331</td>\n",
       "    </tr>\n",
       "    <tr>\n",
       "      <th>50</th>\n",
       "      <td>offense_passing_ypc_matchup_differential</td>\n",
       "      <td>0.002330</td>\n",
       "    </tr>\n",
       "    <tr>\n",
       "      <th>145</th>\n",
       "      <td>home_defense_passing_attempts</td>\n",
       "      <td>0.002329</td>\n",
       "    </tr>\n",
       "    <tr>\n",
       "      <th>10</th>\n",
       "      <td>road_defense_passing_pass_rtg</td>\n",
       "      <td>0.002326</td>\n",
       "    </tr>\n",
       "    <tr>\n",
       "      <th>2</th>\n",
       "      <td>offense_special_teams_gross_punt_ypa_matchup_d...</td>\n",
       "      <td>0.002320</td>\n",
       "    </tr>\n",
       "    <tr>\n",
       "      <th>191</th>\n",
       "      <td>defense_passing_incompletions_matchup_differen...</td>\n",
       "      <td>0.002317</td>\n",
       "    </tr>\n",
       "    <tr>\n",
       "      <th>26</th>\n",
       "      <td>road_defense_total_yards_per_play</td>\n",
       "      <td>0.002312</td>\n",
       "    </tr>\n",
       "    <tr>\n",
       "      <th>20</th>\n",
       "      <td>road_defense_scoring_rz_attempts</td>\n",
       "      <td>0.002306</td>\n",
       "    </tr>\n",
       "    <tr>\n",
       "      <th>11</th>\n",
       "      <td>road_defense_passing_sack_pcnt</td>\n",
       "      <td>0.002292</td>\n",
       "    </tr>\n",
       "    <tr>\n",
       "      <th>189</th>\n",
       "      <td>road_offense_passing_1st_down_pcnt</td>\n",
       "      <td>0.002289</td>\n",
       "    </tr>\n",
       "    <tr>\n",
       "      <th>107</th>\n",
       "      <td>penalties_opponent_penalty_1st_downs_matchup_d...</td>\n",
       "      <td>0.002284</td>\n",
       "    </tr>\n",
       "    <tr>\n",
       "      <th>208</th>\n",
       "      <td>road_offense_scoring_rz_td_pcnt</td>\n",
       "      <td>0.002279</td>\n",
       "    </tr>\n",
       "    <tr>\n",
       "      <th>231</th>\n",
       "      <td>defense_total_3rd_down_conversions_matchup_dif...</td>\n",
       "      <td>0.002278</td>\n",
       "    </tr>\n",
       "    <tr>\n",
       "      <th>8</th>\n",
       "      <td>road_defense_passing_1st_downs</td>\n",
       "      <td>0.002274</td>\n",
       "    </tr>\n",
       "    <tr>\n",
       "      <th>217</th>\n",
       "      <td>road_offense_total_seconds_per_play</td>\n",
       "      <td>0.002259</td>\n",
       "    </tr>\n",
       "    <tr>\n",
       "      <th>227</th>\n",
       "      <td>defense_total_plays_matchup_differential</td>\n",
       "      <td>0.002256</td>\n",
       "    </tr>\n",
       "    <tr>\n",
       "      <th>46</th>\n",
       "      <td>home_offense_passing_1st_down_pcnt</td>\n",
       "      <td>0.002247</td>\n",
       "    </tr>\n",
       "    <tr>\n",
       "      <th>150</th>\n",
       "      <td>home_defense_passing_td_pcnt</td>\n",
       "      <td>0.002245</td>\n",
       "    </tr>\n",
       "    <tr>\n",
       "      <th>240</th>\n",
       "      <td>defense_total_tackles_matchup_differential</td>\n",
       "      <td>0.002238</td>\n",
       "    </tr>\n",
       "    <tr>\n",
       "      <th>144</th>\n",
       "      <td>road_defense_special_teams_net_punt_ypa</td>\n",
       "      <td>0.002234</td>\n",
       "    </tr>\n",
       "    <tr>\n",
       "      <th>48</th>\n",
       "      <td>offense_passing_completion_pcnt_matchup_differ...</td>\n",
       "      <td>0.002220</td>\n",
       "    </tr>\n",
       "    <tr>\n",
       "      <th>248</th>\n",
       "      <td>home_days_rest</td>\n",
       "      <td>0.002219</td>\n",
       "    </tr>\n",
       "    <tr>\n",
       "      <th>112</th>\n",
       "      <td>penalties_yards_per_penalty_matchup_differential</td>\n",
       "      <td>0.002208</td>\n",
       "    </tr>\n",
       "    <tr>\n",
       "      <th>197</th>\n",
       "      <td>defense_passing_1st_down_pcnt_matchup_differen...</td>\n",
       "      <td>0.002206</td>\n",
       "    </tr>\n",
       "    <tr>\n",
       "      <th>178</th>\n",
       "      <td>road_off_turnovers_fumbles</td>\n",
       "      <td>0.002205</td>\n",
       "    </tr>\n",
       "    <tr>\n",
       "      <th>27</th>\n",
       "      <td>road_defense_total_3rd_downs</td>\n",
       "      <td>0.002175</td>\n",
       "    </tr>\n",
       "    <tr>\n",
       "      <th>57</th>\n",
       "      <td>offense_rushing_ypa_matchup_differential</td>\n",
       "      <td>0.002174</td>\n",
       "    </tr>\n",
       "    <tr>\n",
       "      <th>170</th>\n",
       "      <td>home_defense_total_seconds_per_play</td>\n",
       "      <td>0.002143</td>\n",
       "    </tr>\n",
       "    <tr>\n",
       "      <th>213</th>\n",
       "      <td>road_offense_total_3rd_downs</td>\n",
       "      <td>0.002138</td>\n",
       "    </tr>\n",
       "    <tr>\n",
       "      <th>137</th>\n",
       "      <td>home_defense_special_teams_gross_punt_yards</td>\n",
       "      <td>0.002129</td>\n",
       "    </tr>\n",
       "    <tr>\n",
       "      <th>159</th>\n",
       "      <td>home_defense_rushing_1st_down_pcnt</td>\n",
       "      <td>0.002128</td>\n",
       "    </tr>\n",
       "    <tr>\n",
       "      <th>237</th>\n",
       "      <td>defense_total_3rd_down_conversion_pcnt_matchup...</td>\n",
       "      <td>0.002106</td>\n",
       "    </tr>\n",
       "    <tr>\n",
       "      <th>259</th>\n",
       "      <td>away_travel_distance</td>\n",
       "      <td>0.002099</td>\n",
       "    </tr>\n",
       "    <tr>\n",
       "      <th>76</th>\n",
       "      <td>home_offense_total_4th_downs</td>\n",
       "      <td>0.002090</td>\n",
       "    </tr>\n",
       "    <tr>\n",
       "      <th>200</th>\n",
       "      <td>defense_rushing_ypa_matchup_differential</td>\n",
       "      <td>0.002090</td>\n",
       "    </tr>\n",
       "    <tr>\n",
       "      <th>93</th>\n",
       "      <td>offense_total_4th_downs_matchup_differential</td>\n",
       "      <td>0.002088</td>\n",
       "    </tr>\n",
       "    <tr>\n",
       "      <th>174</th>\n",
       "      <td>home_defense_total_punts_per_play</td>\n",
       "      <td>0.002088</td>\n",
       "    </tr>\n",
       "    <tr>\n",
       "      <th>142</th>\n",
       "      <td>road_defense_special_teams_net_punt_yards</td>\n",
       "      <td>0.002080</td>\n",
       "    </tr>\n",
       "    <tr>\n",
       "      <th>251</th>\n",
       "      <td>week</td>\n",
       "      <td>0.002078</td>\n",
       "    </tr>\n",
       "    <tr>\n",
       "      <th>135</th>\n",
       "      <td>defense_special_teams_net_punt_ypa_all_matchup...</td>\n",
       "      <td>0.002068</td>\n",
       "    </tr>\n",
       "    <tr>\n",
       "      <th>65</th>\n",
       "      <td>offense_scoring_points_per_game_matchup_differ...</td>\n",
       "      <td>0.002066</td>\n",
       "    </tr>\n",
       "    <tr>\n",
       "      <th>146</th>\n",
       "      <td>home_defense_passing_completion_pcnt</td>\n",
       "      <td>0.002066</td>\n",
       "    </tr>\n",
       "    <tr>\n",
       "      <th>21</th>\n",
       "      <td>road_defense_scoring_rz_td_pcnt</td>\n",
       "      <td>0.002062</td>\n",
       "    </tr>\n",
       "    <tr>\n",
       "      <th>35</th>\n",
       "      <td>road_defense_total_solo_tackles</td>\n",
       "      <td>0.002048</td>\n",
       "    </tr>\n",
       "    <tr>\n",
       "      <th>55</th>\n",
       "      <td>home_offense_rushing_ypa</td>\n",
       "      <td>0.002043</td>\n",
       "    </tr>\n",
       "    <tr>\n",
       "      <th>33</th>\n",
       "      <td>road_defense_total_punts_per_play</td>\n",
       "      <td>0.002042</td>\n",
       "    </tr>\n",
       "    <tr>\n",
       "      <th>127</th>\n",
       "      <td>road_rankings_sos_basic_rating</td>\n",
       "      <td>0.002034</td>\n",
       "    </tr>\n",
       "    <tr>\n",
       "      <th>74</th>\n",
       "      <td>home_offense_total_3rd_downs</td>\n",
       "      <td>0.002026</td>\n",
       "    </tr>\n",
       "    <tr>\n",
       "      <th>16</th>\n",
       "      <td>road_defense_rushing_ypa</td>\n",
       "      <td>0.002007</td>\n",
       "    </tr>\n",
       "    <tr>\n",
       "      <th>192</th>\n",
       "      <td>defense_passing_completion_pcnt_matchup_differ...</td>\n",
       "      <td>0.001960</td>\n",
       "    </tr>\n",
       "    <tr>\n",
       "      <th>199</th>\n",
       "      <td>defense_passing_play_pcnt_matchup_differential</td>\n",
       "      <td>0.001958</td>\n",
       "    </tr>\n",
       "    <tr>\n",
       "      <th>67</th>\n",
       "      <td>offense_scoring_yards_per_point_matchup_differ...</td>\n",
       "      <td>0.001947</td>\n",
       "    </tr>\n",
       "    <tr>\n",
       "      <th>102</th>\n",
       "      <td>offense_total_opp_asst_tackles_matchup_differe...</td>\n",
       "      <td>0.001935</td>\n",
       "    </tr>\n",
       "    <tr>\n",
       "      <th>97</th>\n",
       "      <td>offense_total_3rd_down_conversion_pcnt_matchup...</td>\n",
       "      <td>0.001926</td>\n",
       "    </tr>\n",
       "    <tr>\n",
       "      <th>239</th>\n",
       "      <td>defense_total_punts_per_score_matchup_differen...</td>\n",
       "      <td>0.001903</td>\n",
       "    </tr>\n",
       "    <tr>\n",
       "      <th>228</th>\n",
       "      <td>defense_total_yards_per_play_matchup_differential</td>\n",
       "      <td>0.001897</td>\n",
       "    </tr>\n",
       "    <tr>\n",
       "      <th>0</th>\n",
       "      <td>home_offense_special_teams_net_punt_ypa</td>\n",
       "      <td>0.001881</td>\n",
       "    </tr>\n",
       "    <tr>\n",
       "      <th>162</th>\n",
       "      <td>home_defense_scoring_rz_td_pcnt</td>\n",
       "      <td>0.001871</td>\n",
       "    </tr>\n",
       "    <tr>\n",
       "      <th>163</th>\n",
       "      <td>home_def_turnovers_fumbles</td>\n",
       "      <td>0.001868</td>\n",
       "    </tr>\n",
       "    <tr>\n",
       "      <th>34</th>\n",
       "      <td>road_defense_total_punts_per_score</td>\n",
       "      <td>0.001857</td>\n",
       "    </tr>\n",
       "    <tr>\n",
       "      <th>232</th>\n",
       "      <td>defense_total_4th_downs_matchup_differential</td>\n",
       "      <td>0.001827</td>\n",
       "    </tr>\n",
       "    <tr>\n",
       "      <th>40</th>\n",
       "      <td>off_turnovers_int_pcnt_matchup_differential</td>\n",
       "      <td>0.001825</td>\n",
       "    </tr>\n",
       "    <tr>\n",
       "      <th>95</th>\n",
       "      <td>offense_total_seconds_per_play_matchup_differe...</td>\n",
       "      <td>0.001803</td>\n",
       "    </tr>\n",
       "    <tr>\n",
       "      <th>53</th>\n",
       "      <td>offense_passing_1st_down_pcnt_matchup_differen...</td>\n",
       "      <td>0.001802</td>\n",
       "    </tr>\n",
       "    <tr>\n",
       "      <th>13</th>\n",
       "      <td>road_defense_passing_1st_down_pcnt</td>\n",
       "      <td>0.001799</td>\n",
       "    </tr>\n",
       "    <tr>\n",
       "      <th>126</th>\n",
       "      <td>home_rankings_sos_basic_rating</td>\n",
       "      <td>0.001798</td>\n",
       "    </tr>\n",
       "    <tr>\n",
       "      <th>180</th>\n",
       "      <td>def_turnovers_fumbles_matchup_differential</td>\n",
       "      <td>0.001790</td>\n",
       "    </tr>\n",
       "    <tr>\n",
       "      <th>30</th>\n",
       "      <td>road_defense_total_1st_downs_per_play</td>\n",
       "      <td>0.001768</td>\n",
       "    </tr>\n",
       "    <tr>\n",
       "      <th>238</th>\n",
       "      <td>defense_total_punts_per_play_matchup_differential</td>\n",
       "      <td>0.001760</td>\n",
       "    </tr>\n",
       "    <tr>\n",
       "      <th>177</th>\n",
       "      <td>home_defense_total_assisted_tackles</td>\n",
       "      <td>0.001734</td>\n",
       "    </tr>\n",
       "    <tr>\n",
       "      <th>172</th>\n",
       "      <td>home_defense_total_3rd_down_conversion_pcnt</td>\n",
       "      <td>0.001731</td>\n",
       "    </tr>\n",
       "    <tr>\n",
       "      <th>154</th>\n",
       "      <td>home_defense_passing_1st_down_pcnt</td>\n",
       "      <td>0.001695</td>\n",
       "    </tr>\n",
       "    <tr>\n",
       "      <th>136</th>\n",
       "      <td>defense_special_teams_gross_punt_ypa_matchup_d...</td>\n",
       "      <td>0.001625</td>\n",
       "    </tr>\n",
       "    <tr>\n",
       "      <th>5</th>\n",
       "      <td>road_defense_passing_completion_pcnt</td>\n",
       "      <td>0.001591</td>\n",
       "    </tr>\n",
       "    <tr>\n",
       "      <th>247</th>\n",
       "      <td>road_penalties_yards_per_penalty</td>\n",
       "      <td>0.001583</td>\n",
       "    </tr>\n",
       "    <tr>\n",
       "      <th>139</th>\n",
       "      <td>home_defense_special_teams_gross_punt_ypa</td>\n",
       "      <td>0.001580</td>\n",
       "    </tr>\n",
       "    <tr>\n",
       "      <th>108</th>\n",
       "      <td>penalties_opponent_yards_per_penalty_matchup_d...</td>\n",
       "      <td>0.001546</td>\n",
       "    </tr>\n",
       "    <tr>\n",
       "      <th>158</th>\n",
       "      <td>home_defense_rushing_td_pcnt</td>\n",
       "      <td>0.001545</td>\n",
       "    </tr>\n",
       "    <tr>\n",
       "      <th>19</th>\n",
       "      <td>road_defense_scoring_yards_per_point</td>\n",
       "      <td>0.001431</td>\n",
       "    </tr>\n",
       "    <tr>\n",
       "      <th>25</th>\n",
       "      <td>road_defense_total_plays</td>\n",
       "      <td>0.001418</td>\n",
       "    </tr>\n",
       "    <tr>\n",
       "      <th>198</th>\n",
       "      <td>defense_passing_pass_rtg_matchup_differential</td>\n",
       "      <td>0.001394</td>\n",
       "    </tr>\n",
       "    <tr>\n",
       "      <th>120</th>\n",
       "      <td>rankings_consistency_rating_matchup_differential</td>\n",
       "      <td>0.001375</td>\n",
       "    </tr>\n",
       "    <tr>\n",
       "      <th>252</th>\n",
       "      <td>game_time_hrs</td>\n",
       "      <td>0.001352</td>\n",
       "    </tr>\n",
       "    <tr>\n",
       "      <th>92</th>\n",
       "      <td>offense_total_3rd_down_conversions_matchup_dif...</td>\n",
       "      <td>0.001316</td>\n",
       "    </tr>\n",
       "    <tr>\n",
       "      <th>143</th>\n",
       "      <td>road_defense_special_teams_gross_punt_ypa</td>\n",
       "      <td>0.001308</td>\n",
       "    </tr>\n",
       "    <tr>\n",
       "      <th>134</th>\n",
       "      <td>road_offense_special_teams_net_punt_ypa</td>\n",
       "      <td>0.001285</td>\n",
       "    </tr>\n",
       "    <tr>\n",
       "      <th>249</th>\n",
       "      <td>away_days_rest</td>\n",
       "      <td>0.001259</td>\n",
       "    </tr>\n",
       "    <tr>\n",
       "      <th>44</th>\n",
       "      <td>home_offense_passing_td_pcnt</td>\n",
       "      <td>0.001242</td>\n",
       "    </tr>\n",
       "    <tr>\n",
       "      <th>64</th>\n",
       "      <td>home_offense_scoring_rz_td_pcnt</td>\n",
       "      <td>0.001187</td>\n",
       "    </tr>\n",
       "    <tr>\n",
       "      <th>187</th>\n",
       "      <td>road_offense_passing_td_pcnt</td>\n",
       "      <td>0.001176</td>\n",
       "    </tr>\n",
       "    <tr>\n",
       "      <th>118</th>\n",
       "      <td>home_rankings_consistency_rating</td>\n",
       "      <td>0.001143</td>\n",
       "    </tr>\n",
       "    <tr>\n",
       "      <th>241</th>\n",
       "      <td>defense_total_solo_tackles_matchup_differential</td>\n",
       "      <td>0.001080</td>\n",
       "    </tr>\n",
       "    <tr>\n",
       "      <th>17</th>\n",
       "      <td>road_defense_rushing_td_pcnt</td>\n",
       "      <td>0.000783</td>\n",
       "    </tr>\n",
       "    <tr>\n",
       "      <th>56</th>\n",
       "      <td>home_offense_rushing_td_pcnt</td>\n",
       "      <td>0.000630</td>\n",
       "    </tr>\n",
       "    <tr>\n",
       "      <th>201</th>\n",
       "      <td>defense_rushing_td_pcnt_matchup_differential</td>\n",
       "      <td>0.000599</td>\n",
       "    </tr>\n",
       "    <tr>\n",
       "      <th>9</th>\n",
       "      <td>road_defense_passing_td_pcnt</td>\n",
       "      <td>0.000496</td>\n",
       "    </tr>\n",
       "    <tr>\n",
       "      <th>257</th>\n",
       "      <td>timezones_traveled_delta</td>\n",
       "      <td>0.000475</td>\n",
       "    </tr>\n",
       "    <tr>\n",
       "      <th>256</th>\n",
       "      <td>away_timezones_traveled</td>\n",
       "      <td>0.000335</td>\n",
       "    </tr>\n",
       "    <tr>\n",
       "      <th>254</th>\n",
       "      <td>venue_indoor</td>\n",
       "      <td>0.000294</td>\n",
       "    </tr>\n",
       "    <tr>\n",
       "      <th>58</th>\n",
       "      <td>offense_rushing_td_pcnt_matchup_differential</td>\n",
       "      <td>0.000230</td>\n",
       "    </tr>\n",
       "    <tr>\n",
       "      <th>253</th>\n",
       "      <td>type_id</td>\n",
       "      <td>0.000160</td>\n",
       "    </tr>\n",
       "    <tr>\n",
       "      <th>195</th>\n",
       "      <td>defense_passing_td_pcnt_matchup_differential</td>\n",
       "      <td>0.000000</td>\n",
       "    </tr>\n",
       "    <tr>\n",
       "      <th>258</th>\n",
       "      <td>home_travel_distance</td>\n",
       "      <td>0.000000</td>\n",
       "    </tr>\n",
       "    <tr>\n",
       "      <th>255</th>\n",
       "      <td>home_timezones_traveled</td>\n",
       "      <td>0.000000</td>\n",
       "    </tr>\n",
       "    <tr>\n",
       "      <th>115</th>\n",
       "      <td>road_rankings_home_advantage_rating</td>\n",
       "      <td>0.000000</td>\n",
       "    </tr>\n",
       "    <tr>\n",
       "      <th>3</th>\n",
       "      <td>offense_special_teams_fg_made_pcnt_matchup_dif...</td>\n",
       "      <td>0.000000</td>\n",
       "    </tr>\n",
       "    <tr>\n",
       "      <th>32</th>\n",
       "      <td>road_defense_total_4th_down_conversion_pcnt</td>\n",
       "      <td>0.000000</td>\n",
       "    </tr>\n",
       "    <tr>\n",
       "      <th>81</th>\n",
       "      <td>home_offense_total_4th_down_conversion_pcnt</td>\n",
       "      <td>0.000000</td>\n",
       "    </tr>\n",
       "    <tr>\n",
       "      <th>220</th>\n",
       "      <td>road_offense_total_4th_down_conversion_pcnt</td>\n",
       "      <td>0.000000</td>\n",
       "    </tr>\n",
       "    <tr>\n",
       "      <th>132</th>\n",
       "      <td>defense_special_teams_fg_made_pcnt_matchup_dif...</td>\n",
       "      <td>0.000000</td>\n",
       "    </tr>\n",
       "    <tr>\n",
       "      <th>173</th>\n",
       "      <td>home_defense_total_4th_down_conversion_pcnt</td>\n",
       "      <td>0.000000</td>\n",
       "    </tr>\n",
       "    <tr>\n",
       "      <th>113</th>\n",
       "      <td>home_rankings_home_advantage_rating</td>\n",
       "      <td>0.000000</td>\n",
       "    </tr>\n",
       "  </tbody>\n",
       "</table>\n",
       "</div>"
      ],
      "text/plain": [
       "                                               feature  importance\n",
       "131    rankings_predictive_rating_matchup_differential    0.070352\n",
       "129                    home_rankings_predictive_rating    0.039024\n",
       "66   offense_scoring_points_per_game_delta_matchup_...    0.035642\n",
       "130                    road_rankings_predictive_rating    0.033854\n",
       "124                          home_rankings_road_rating    0.028699\n",
       "117          rankings_home_rating_matchup_differential    0.025306\n",
       "116                          road_rankings_home_rating    0.021087\n",
       "60          home_offense_scoring_points_per_game_delta    0.014606\n",
       "203               road_offense_scoring_points_per_game    0.014072\n",
       "125                          road_rankings_road_rating    0.012628\n",
       "207               road_offense_scoring_points_per_play    0.012578\n",
       "114                          home_rankings_home_rating    0.011339\n",
       "204         road_offense_scoring_points_per_game_delta    0.010399\n",
       "123          rankings_luck_rating_matchup_differential    0.009519\n",
       "212                       road_offense_total_1st_downs    0.007942\n",
       "209                           road_offense_total_yards    0.007858\n",
       "155                      home_defense_rushing_attempts    0.007463\n",
       "222                 road_offense_total_punts_per_score    0.007160\n",
       "205               road_offense_scoring_yards_per_point    0.006888\n",
       "121                          home_rankings_luck_rating    0.006799\n",
       "190                      road_offense_passing_pass_rtg    0.006162\n",
       "82                   home_offense_total_punts_per_play    0.006154\n",
       "147                           home_defense_passing_ypa    0.005845\n",
       "211                  road_offense_total_yards_per_play    0.005745\n",
       "79               home_offense_total_1st_downs_per_play    0.005700\n",
       "156                           home_defense_rushing_ypg    0.005627\n",
       "83                  home_offense_total_punts_per_score    0.005544\n",
       "47                       home_offense_passing_pass_rtg    0.005367\n",
       "218              road_offense_total_1st_downs_per_play    0.005359\n",
       "70                            home_offense_total_yards    0.005032\n",
       "45                      home_offense_passing_sack_pcnt    0.004963\n",
       "73                        home_offense_total_1st_downs    0.004945\n",
       "219        road_offense_total_3rd_down_conversion_pcnt    0.004924\n",
       "63                home_offense_scoring_points_per_play    0.004886\n",
       "160               home_defense_scoring_yards_per_point    0.004862\n",
       "71                            home_offense_total_plays    0.004853\n",
       "167                  home_defense_total_yards_per_play    0.004636\n",
       "111           penalties_penalties_matchup_differential    0.004620\n",
       "59                home_offense_scoring_points_per_game    0.004611\n",
       "151                      home_defense_passing_pass_rtg    0.004551\n",
       "122                          road_rankings_luck_rating    0.004202\n",
       "37                          home_off_turnovers_fumbles    0.004196\n",
       "206         road_offense_scoring_yards_per_point_delta    0.004160\n",
       "148                           home_defense_passing_ypc    0.004146\n",
       "175                 home_defense_total_punts_per_score    0.004088\n",
       "38                         home_off_turnovers_int_pcnt    0.004050\n",
       "164                       home_def_turnovers_takeaways    0.004036\n",
       "140            home_defense_special_teams_net_punt_ypa    0.003970\n",
       "85                 home_offense_total_opp_solo_tackles    0.003961\n",
       "243              road_penalties_opponent_penalty_yards    0.003952\n",
       "214            road_offense_total_3rd_down_conversions    0.003875\n",
       "245          road_penalties_opponent_yards_per_penalty    0.003853\n",
       "171              home_defense_total_1st_downs_per_play    0.003842\n",
       "7                             road_defense_passing_ypc    0.003815\n",
       "188                     road_offense_passing_sack_pcnt    0.003757\n",
       "41                home_offense_passing_completion_pcnt    0.003737\n",
       "68   offense_scoring_yards_per_point_delta_matchup_...    0.003704\n",
       "43                            home_offense_passing_ypc    0.003699\n",
       "31         road_defense_total_3rd_down_conversion_pcnt    0.003669\n",
       "23                        road_def_turnovers_takeaways    0.003598\n",
       "202  defense_rushing_1st_down_pcnt_matchup_differen...    0.003582\n",
       "62          home_offense_scoring_yards_per_point_delta    0.003532\n",
       "14                       road_defense_rushing_attempts    0.003531\n",
       "88            offense_total_plays_matchup_differential    0.003527\n",
       "186                           road_offense_passing_ypc    0.003525\n",
       "84                      home_offense_total_opp_tackles    0.003513\n",
       "221                  road_offense_total_punts_per_play    0.003487\n",
       "119                   road_rankings_consistency_rating    0.003479\n",
       "72                   home_offense_total_yards_per_play    0.003452\n",
       "42                            home_offense_passing_ypa    0.003406\n",
       "244          road_penalties_opponent_penalty_1st_downs    0.003384\n",
       "141        road_defense_special_teams_gross_punt_yards    0.003342\n",
       "39          off_turnovers_fumbles_matchup_differential    0.003323\n",
       "166                           home_defense_total_plays    0.003309\n",
       "229       defense_total_1st_downs_matchup_differential    0.003252\n",
       "51      offense_passing_sack_pcnt_matchup_differential    0.003229\n",
       "216            road_offense_total_4th_down_conversions    0.003189\n",
       "194           defense_passing_ypc_matchup_differential    0.003172\n",
       "6                             road_defense_passing_ypa    0.003168\n",
       "86                 home_offense_total_opp_asst_tackles    0.003155\n",
       "183                 road_offense_passing_incompletions    0.003140\n",
       "28                        road_defense_total_4th_downs    0.003112\n",
       "226           defense_total_yards_matchup_differential    0.003094\n",
       "138          home_defense_special_teams_net_punt_yards    0.003089\n",
       "98   offense_total_punts_per_play_matchup_differential    0.003085\n",
       "215                       road_offense_total_4th_downs    0.003043\n",
       "157                           home_defense_rushing_ypa    0.003020\n",
       "12                          road_defense_passing_sacks    0.002975\n",
       "223                     road_offense_total_opp_tackles    0.002965\n",
       "54       offense_passing_pass_rtg_matchup_differential    0.002957\n",
       "153                         home_defense_passing_sacks    0.002943\n",
       "106  penalties_opponent_penalty_yards_matchup_diffe...    0.002931\n",
       "210                           road_offense_total_plays    0.002919\n",
       "169                       home_defense_total_4th_downs    0.002912\n",
       "1    offense_special_teams_net_punt_ypa_all_matchup...    0.002910\n",
       "224                road_offense_total_opp_solo_tackles    0.002909\n",
       "176                    home_defense_total_solo_tackles    0.002897\n",
       "96   offense_total_1st_downs_per_play_matchup_diffe...    0.002896\n",
       "109                           home_penalties_penalties    0.002882\n",
       "24                         road_def_turnovers_int_pcnt    0.002879\n",
       "87            offense_total_yards_matchup_differential    0.002876\n",
       "233  defense_total_4th_down_conversions_matchup_dif...    0.002861\n",
       "101  offense_total_opp_solo_tackles_matchup_differe...    0.002843\n",
       "196     defense_passing_sack_pcnt_matchup_differential    0.002830\n",
       "90        offense_total_1st_downs_matchup_differential    0.002830\n",
       "184               road_offense_passing_completion_pcnt    0.002829\n",
       "80         home_offense_total_3rd_down_conversion_pcnt    0.002822\n",
       "49            offense_passing_ypa_matchup_differential    0.002807\n",
       "100     offense_total_opp_tackles_matchup_differential    0.002805\n",
       "105          home_penalties_opponent_yards_per_penalty    0.002777\n",
       "161                   home_defense_scoring_rz_attempts    0.002776\n",
       "61                home_offense_scoring_yards_per_point    0.002775\n",
       "182                      road_offense_passing_attempts    0.002702\n",
       "235  defense_total_seconds_per_play_matchup_differe...    0.002696\n",
       "246                           road_penalties_penalties    0.002622\n",
       "128     rankings_sos_basic_rating_matchup_differential    0.002617\n",
       "91        offense_total_3rd_downs_matchup_differential    0.002615\n",
       "181        def_turnovers_int_pcnt_matchup_differential    0.002605\n",
       "165                        home_def_turnovers_int_pcnt    0.002590\n",
       "152                     home_defense_passing_sack_pcnt    0.002578\n",
       "36                 road_defense_total_assisted_tackles    0.002557\n",
       "133          road_offense_special_teams_gross_punt_ypa    0.002555\n",
       "104          home_penalties_opponent_penalty_1st_downs    0.002540\n",
       "99   offense_total_punts_per_score_matchup_differen...    0.002540\n",
       "18                  road_defense_rushing_1st_down_pcnt    0.002539\n",
       "103              home_penalties_opponent_penalty_yards    0.002522\n",
       "22                          road_def_turnovers_fumbles    0.002517\n",
       "242  defense_total_assisted_tackles_matchup_differe...    0.002516\n",
       "179                        road_off_turnovers_int_pcnt    0.002514\n",
       "75             home_offense_total_3rd_down_conversions    0.002506\n",
       "77             home_offense_total_4th_down_conversions    0.002503\n",
       "89   offense_total_yards_per_play_matchup_differential    0.002496\n",
       "15                            road_defense_rushing_ypg    0.002496\n",
       "52      offense_passing_1st_downs_matchup_differential    0.002490\n",
       "225                road_offense_total_opp_asst_tackles    0.002488\n",
       "110                   home_penalties_yards_per_penalty    0.002473\n",
       "236  defense_total_1st_downs_per_play_matchup_diffe...    0.002470\n",
       "193           defense_passing_ypa_matchup_differential    0.002456\n",
       "185                           road_offense_passing_ypa    0.002436\n",
       "29                 road_defense_total_seconds_per_play    0.002432\n",
       "149                     home_defense_passing_1st_downs    0.002432\n",
       "260                                       travel_delta    0.002421\n",
       "250                                  rest_differential    0.002409\n",
       "234  defense_total_time_of_possession_matchup_diffe...    0.002404\n",
       "230       defense_total_3rd_downs_matchup_differential    0.002381\n",
       "69   offense_scoring_points_per_play_matchup_differ...    0.002357\n",
       "78                 home_offense_total_seconds_per_play    0.002353\n",
       "94   offense_total_4th_down_conversions_matchup_dif...    0.002338\n",
       "4                        road_defense_passing_attempts    0.002334\n",
       "168                       home_defense_total_3rd_downs    0.002331\n",
       "50            offense_passing_ypc_matchup_differential    0.002330\n",
       "145                      home_defense_passing_attempts    0.002329\n",
       "10                       road_defense_passing_pass_rtg    0.002326\n",
       "2    offense_special_teams_gross_punt_ypa_matchup_d...    0.002320\n",
       "191  defense_passing_incompletions_matchup_differen...    0.002317\n",
       "26                   road_defense_total_yards_per_play    0.002312\n",
       "20                    road_defense_scoring_rz_attempts    0.002306\n",
       "11                      road_defense_passing_sack_pcnt    0.002292\n",
       "189                 road_offense_passing_1st_down_pcnt    0.002289\n",
       "107  penalties_opponent_penalty_1st_downs_matchup_d...    0.002284\n",
       "208                    road_offense_scoring_rz_td_pcnt    0.002279\n",
       "231  defense_total_3rd_down_conversions_matchup_dif...    0.002278\n",
       "8                       road_defense_passing_1st_downs    0.002274\n",
       "217                road_offense_total_seconds_per_play    0.002259\n",
       "227           defense_total_plays_matchup_differential    0.002256\n",
       "46                  home_offense_passing_1st_down_pcnt    0.002247\n",
       "150                       home_defense_passing_td_pcnt    0.002245\n",
       "240         defense_total_tackles_matchup_differential    0.002238\n",
       "144            road_defense_special_teams_net_punt_ypa    0.002234\n",
       "48   offense_passing_completion_pcnt_matchup_differ...    0.002220\n",
       "248                                     home_days_rest    0.002219\n",
       "112   penalties_yards_per_penalty_matchup_differential    0.002208\n",
       "197  defense_passing_1st_down_pcnt_matchup_differen...    0.002206\n",
       "178                         road_off_turnovers_fumbles    0.002205\n",
       "27                        road_defense_total_3rd_downs    0.002175\n",
       "57            offense_rushing_ypa_matchup_differential    0.002174\n",
       "170                home_defense_total_seconds_per_play    0.002143\n",
       "213                       road_offense_total_3rd_downs    0.002138\n",
       "137        home_defense_special_teams_gross_punt_yards    0.002129\n",
       "159                 home_defense_rushing_1st_down_pcnt    0.002128\n",
       "237  defense_total_3rd_down_conversion_pcnt_matchup...    0.002106\n",
       "259                               away_travel_distance    0.002099\n",
       "76                        home_offense_total_4th_downs    0.002090\n",
       "200           defense_rushing_ypa_matchup_differential    0.002090\n",
       "93        offense_total_4th_downs_matchup_differential    0.002088\n",
       "174                  home_defense_total_punts_per_play    0.002088\n",
       "142          road_defense_special_teams_net_punt_yards    0.002080\n",
       "251                                               week    0.002078\n",
       "135  defense_special_teams_net_punt_ypa_all_matchup...    0.002068\n",
       "65   offense_scoring_points_per_game_matchup_differ...    0.002066\n",
       "146               home_defense_passing_completion_pcnt    0.002066\n",
       "21                     road_defense_scoring_rz_td_pcnt    0.002062\n",
       "35                     road_defense_total_solo_tackles    0.002048\n",
       "55                            home_offense_rushing_ypa    0.002043\n",
       "33                   road_defense_total_punts_per_play    0.002042\n",
       "127                     road_rankings_sos_basic_rating    0.002034\n",
       "74                        home_offense_total_3rd_downs    0.002026\n",
       "16                            road_defense_rushing_ypa    0.002007\n",
       "192  defense_passing_completion_pcnt_matchup_differ...    0.001960\n",
       "199     defense_passing_play_pcnt_matchup_differential    0.001958\n",
       "67   offense_scoring_yards_per_point_matchup_differ...    0.001947\n",
       "102  offense_total_opp_asst_tackles_matchup_differe...    0.001935\n",
       "97   offense_total_3rd_down_conversion_pcnt_matchup...    0.001926\n",
       "239  defense_total_punts_per_score_matchup_differen...    0.001903\n",
       "228  defense_total_yards_per_play_matchup_differential    0.001897\n",
       "0              home_offense_special_teams_net_punt_ypa    0.001881\n",
       "162                    home_defense_scoring_rz_td_pcnt    0.001871\n",
       "163                         home_def_turnovers_fumbles    0.001868\n",
       "34                  road_defense_total_punts_per_score    0.001857\n",
       "232       defense_total_4th_downs_matchup_differential    0.001827\n",
       "40         off_turnovers_int_pcnt_matchup_differential    0.001825\n",
       "95   offense_total_seconds_per_play_matchup_differe...    0.001803\n",
       "53   offense_passing_1st_down_pcnt_matchup_differen...    0.001802\n",
       "13                  road_defense_passing_1st_down_pcnt    0.001799\n",
       "126                     home_rankings_sos_basic_rating    0.001798\n",
       "180         def_turnovers_fumbles_matchup_differential    0.001790\n",
       "30               road_defense_total_1st_downs_per_play    0.001768\n",
       "238  defense_total_punts_per_play_matchup_differential    0.001760\n",
       "177                home_defense_total_assisted_tackles    0.001734\n",
       "172        home_defense_total_3rd_down_conversion_pcnt    0.001731\n",
       "154                 home_defense_passing_1st_down_pcnt    0.001695\n",
       "136  defense_special_teams_gross_punt_ypa_matchup_d...    0.001625\n",
       "5                 road_defense_passing_completion_pcnt    0.001591\n",
       "247                   road_penalties_yards_per_penalty    0.001583\n",
       "139          home_defense_special_teams_gross_punt_ypa    0.001580\n",
       "108  penalties_opponent_yards_per_penalty_matchup_d...    0.001546\n",
       "158                       home_defense_rushing_td_pcnt    0.001545\n",
       "19                road_defense_scoring_yards_per_point    0.001431\n",
       "25                            road_defense_total_plays    0.001418\n",
       "198      defense_passing_pass_rtg_matchup_differential    0.001394\n",
       "120   rankings_consistency_rating_matchup_differential    0.001375\n",
       "252                                      game_time_hrs    0.001352\n",
       "92   offense_total_3rd_down_conversions_matchup_dif...    0.001316\n",
       "143          road_defense_special_teams_gross_punt_ypa    0.001308\n",
       "134            road_offense_special_teams_net_punt_ypa    0.001285\n",
       "249                                     away_days_rest    0.001259\n",
       "44                        home_offense_passing_td_pcnt    0.001242\n",
       "64                     home_offense_scoring_rz_td_pcnt    0.001187\n",
       "187                       road_offense_passing_td_pcnt    0.001176\n",
       "118                   home_rankings_consistency_rating    0.001143\n",
       "241    defense_total_solo_tackles_matchup_differential    0.001080\n",
       "17                        road_defense_rushing_td_pcnt    0.000783\n",
       "56                        home_offense_rushing_td_pcnt    0.000630\n",
       "201       defense_rushing_td_pcnt_matchup_differential    0.000599\n",
       "9                         road_defense_passing_td_pcnt    0.000496\n",
       "257                           timezones_traveled_delta    0.000475\n",
       "256                            away_timezones_traveled    0.000335\n",
       "254                                       venue_indoor    0.000294\n",
       "58        offense_rushing_td_pcnt_matchup_differential    0.000230\n",
       "253                                            type_id    0.000160\n",
       "195       defense_passing_td_pcnt_matchup_differential    0.000000\n",
       "258                               home_travel_distance    0.000000\n",
       "255                            home_timezones_traveled    0.000000\n",
       "115                road_rankings_home_advantage_rating    0.000000\n",
       "3    offense_special_teams_fg_made_pcnt_matchup_dif...    0.000000\n",
       "32         road_defense_total_4th_down_conversion_pcnt    0.000000\n",
       "81         home_offense_total_4th_down_conversion_pcnt    0.000000\n",
       "220        road_offense_total_4th_down_conversion_pcnt    0.000000\n",
       "132  defense_special_teams_fg_made_pcnt_matchup_dif...    0.000000\n",
       "173        home_defense_total_4th_down_conversion_pcnt    0.000000\n",
       "113                home_rankings_home_advantage_rating    0.000000"
      ]
     },
     "execution_count": 38,
     "metadata": {},
     "output_type": "execute_result"
    }
   ],
   "source": [
    "best_model = pipeline.named_steps['model']\n",
    "importances = best_model.feature_importances_\n",
    "feature_importance_df = pd.DataFrame({\n",
    "    'feature': X_train.drop(columns=['offense_total_4th_down_conversion_pcnt_matchup_differential', 'defense_total_4th_down_conversion_pcnt_matchup_differential']).columns,\n",
    "    'importance': importances\n",
    "})\n",
    "feature_importance_df = feature_importance_df.sort_values(by='importance', ascending=False)\n",
    "feature_importance_df"
   ]
  },
  {
   "cell_type": "code",
   "execution_count": 39,
   "metadata": {},
   "outputs": [
    {
     "name": "stderr",
     "output_type": "stream",
     "text": [
      "/var/folders/h1/1n1src7x64q_jwgsr43hmkxm0000gq/T/ipykernel_59208/1564938487.py:2: SettingWithCopyWarning:\n",
      "\n",
      "\n",
      "A value is trying to be set on a copy of a slice from a DataFrame.\n",
      "Try using .loc[row_indexer,col_indexer] = value instead\n",
      "\n",
      "See the caveats in the documentation: https://pandas.pydata.org/pandas-docs/stable/user_guide/indexing.html#returning-a-view-versus-a-copy\n",
      "\n"
     ]
    },
    {
     "data": {
      "application/vnd.plotly.v1+json": {
       "config": {
        "plotlyServerURL": "https://plot.ly"
       },
       "data": [
        {
         "alignmentgroup": "True",
         "hovertemplate": "importance=%{x}<br>feature=%{y}<extra></extra>",
         "legendgroup": "",
         "marker": {
          "color": "#636efa",
          "pattern": {
           "shape": ""
          }
         },
         "name": "",
         "offsetgroup": "",
         "orientation": "h",
         "showlegend": false,
         "textposition": "auto",
         "type": "bar",
         "x": [
          0.07035172898200548,
          0.0390236285394945,
          0.03564209251175231,
          0.03385359059507021,
          0.028699293528284556,
          0.025306069912771973,
          0.021087234437817074,
          0.014605799268973953,
          0.014071780957856947,
          0.01262823127325345,
          0.012577593568771736,
          0.011339209635524393,
          0.010398852074692124,
          0.009518711331771783,
          0.007941518145552825,
          0.00785809514171315,
          0.007463150233157252,
          0.007159769503085056,
          0.006888231724495929,
          0.00679875562752423,
          0.0061623138070971695,
          0.006154430172293597,
          0.005845207250970006,
          0.005745154682294506,
          0.005699698063562346,
          0.005626650566840743,
          0.005543520830292364,
          0.005366582289455567,
          0.005358639246109644,
          0.005032207361620259,
          0.004963102627743093,
          0.004945012834288212,
          0.004924009138251523,
          0.004886145234883179,
          0.004862142524749038,
          0.004853144599717571,
          0.004635764685021041,
          0.004620002175449917,
          0.0046105800472003525,
          0.004550950108324703,
          0.004202179160372578,
          0.004195780535073833,
          0.004160207964796393,
          0.004145555704300305,
          0.004087656618629388,
          0.004050185648885666,
          0.004035790794641458,
          0.003969930813922674,
          0.003961066406875603,
          0.0039521659474948114,
          0.0038752923335102695,
          0.003852869107482192,
          0.0038418114385645125,
          0.0038149271333288333,
          0.003757184469491682,
          0.0037372274071157496,
          0.0037039223420592664,
          0.003699043021613995,
          0.0036693875099536206,
          0.003598261344519279,
          0.0035823376250845047,
          0.003532286573923834,
          0.0035311838352289166,
          0.00352691322572518,
          0.003525264847728164,
          0.0035128317847380863,
          0.0034866751674687375,
          0.0034789660377976023,
          0.0034523771811864946,
          0.0034056972464517345,
          0.003384289330514159,
          0.003342151720990673,
          0.0033232202232345,
          0.0033092959495189854,
          0.003251649746011548,
          0.0032292784742318347,
          0.0031890913400387092,
          0.003171765696907545,
          0.0031677793135983495,
          0.0031550058747607467,
          0.0031399242508106722,
          0.0031117821840947607,
          0.0030941293185012316,
          0.003089377624524073,
          0.003084610296475848,
          0.0030426993242674404,
          0.0030204974607226866,
          0.0029749779841316904,
          0.0029652787369832696,
          0.002957127736793915,
          0.0029429845801307343,
          0.0029314107968311117,
          0.00291938879726877,
          0.002912353550936604,
          0.0029100249401864653,
          0.00290942290182788,
          0.002896740822350784,
          0.002896055539010236,
          0.0028823872858025875,
          0.002878624079201644,
          0.002875812928014142,
          0.0028608242022612083,
          0.0028427566466234415,
          0.0028301201039414104,
          0.0028296598234890907,
          0.0028287309083332587,
          0.002822007351862366,
          0.002806832543369163,
          0.002804570694624499,
          0.0027770798676928616,
          0.002776053379244143,
          0.002775182624984514,
          0.0027018877291139533,
          0.0026957498736473583,
          0.002621982472350005,
          0.002616996251088694,
          0.002615006660395255,
          0.0026047881663178074,
          0.0025904785044817374,
          0.0025783712744304414,
          0.002557348325610256,
          0.002554506538619773,
          0.0025404298060915233,
          0.0025404192836672858,
          0.0025387387973049786,
          0.0025220916924582363,
          0.002517103946171303,
          0.00251619376893878,
          0.0025140810534918035,
          0.0025056586183100004,
          0.0025033606005085834,
          0.002496018086878716,
          0.002495610877347262,
          0.002489919680251349,
          0.0024882794750574104,
          0.00247285746765725,
          0.0024698811656011384,
          0.0024564009483644808,
          0.002435952532124656,
          0.0024323294365314707,
          0.002431920997777647,
          0.002420547317822873,
          0.0024085402937553636,
          0.0024039117838246028,
          0.002380701118699079,
          0.002356838468448544,
          0.0023527284165935185,
          0.002338352000672182,
          0.002334251276663315,
          0.002330913867585826,
          0.002329743395021287,
          0.0023293798415379018,
          0.002325745574526865,
          0.0023204723118059874,
          0.002316963593480591,
          0.002312035218058928,
          0.0023058482628659834,
          0.0022919338536122437,
          0.002289481649059878,
          0.0022840949022240207,
          0.002278906146402508,
          0.0022780682689642322,
          0.002273809533812302,
          0.0022587423427943595,
          0.0022559354052149976,
          0.0022466137971743935,
          0.002244867556664572,
          0.0022381359408813746,
          0.002234103748747302,
          0.0022197803192720513,
          0.002219410203208069,
          0.0022079088875585177,
          0.0022061423014221363,
          0.002205367767193818,
          0.002175476805455127,
          0.0021741125647135777,
          0.002143193404201259,
          0.002137987050072709,
          0.00212933810486824,
          0.0021275365458272486,
          0.0021059232103180668,
          0.002099063901307639,
          0.0020900696351765446,
          0.0020896176280814564,
          0.0020880225726254515,
          0.0020875360873191104,
          0.002080332786644664,
          0.002077638200590525,
          0.0020684854426834833,
          0.002066002895462692,
          0.002065654084005613,
          0.0020617495481333285,
          0.002048129996386328,
          0.0020429604820830075,
          0.0020420968960892807,
          0.0020342372383735942,
          0.0020264535400926313,
          0.0020073286216864836,
          0.0019604818424895855,
          0.0019581137211832954
         ],
         "xaxis": "x",
         "y": [
          "rankings_predictive_rating_matchup_differential",
          "home_rankings_predictive_rating",
          "offense_scoring_points_per_game_delta_matchup_differential",
          "road_rankings_predictive_rating",
          "home_rankings_road_rating",
          "rankings_home_rating_matchup_differential",
          "road_rankings_home_rating",
          "home_offense_scoring_points_per_game_delta",
          "road_offense_scoring_points_per_game",
          "road_rankings_road_rating",
          "road_offense_scoring_points_per_play",
          "home_rankings_home_rating",
          "road_offense_scoring_points_per_game_delta",
          "rankings_luck_rating_matchup_differential",
          "road_offense_total_1st_downs",
          "road_offense_total_yards",
          "home_defense_rushing_attempts",
          "road_offense_total_punts_per_score",
          "road_offense_scoring_yards_per_point",
          "home_rankings_luck_rating",
          "road_offense_passing_pass_rtg",
          "home_offense_total_punts_per_play",
          "home_defense_passing_ypa",
          "road_offense_total_yards_per_play",
          "home_offense_total_1st_downs_per_play",
          "home_defense_rushing_ypg",
          "home_offense_total_punts_per_score",
          "home_offense_passing_pass_rtg",
          "road_offense_total_1st_downs_per_play",
          "home_offense_total_yards",
          "home_offense_passing_sack_pcnt",
          "home_offense_total_1st_downs",
          "road_offense_total_3rd_down_conversion_pcnt",
          "home_offense_scoring_points_per_play",
          "home_defense_scoring_yards_per_point",
          "home_offense_total_plays",
          "home_defense_total_yards_per_play",
          "penalties_penalties_matchup_differential",
          "home_offense_scoring_points_per_game",
          "home_defense_passing_pass_rtg",
          "road_rankings_luck_rating",
          "home_off_turnovers_fumbles",
          "road_offense_scoring_yards_per_point_delta",
          "home_defense_passing_ypc",
          "home_defense_total_punts_per_score",
          "home_off_turnovers_int_pcnt",
          "home_def_turnovers_takeaways",
          "home_defense_special_teams_net_punt_ypa",
          "home_offense_total_opp_solo_tackles",
          "road_penalties_opponent_penalty_yards",
          "road_offense_total_3rd_down_conversions",
          "road_penalties_opponent_yards_per_penalty",
          "home_defense_total_1st_downs_per_play",
          "road_defense_passing_ypc",
          "road_offense_passing_sack_pcnt",
          "home_offense_passing_completion_pcnt",
          "offense_scoring_yards_per_point_delta_matchup_differential",
          "home_offense_passing_ypc",
          "road_defense_total_3rd_down_conversion_pcnt",
          "road_def_turnovers_takeaways",
          "defense_rushing_1st_down_pcnt_matchup_differential",
          "home_offense_scoring_yards_per_point_delta",
          "road_defense_rushing_attempts",
          "offense_total_plays_matchup_differential",
          "road_offense_passing_ypc",
          "home_offense_total_opp_tackles",
          "road_offense_total_punts_per_play",
          "road_rankings_consistency_rating",
          "home_offense_total_yards_per_play",
          "home_offense_passing_ypa",
          "road_penalties_opponent_penalty_1st_downs",
          "road_defense_special_teams_gross_punt_yards",
          "off_turnovers_fumbles_matchup_differential",
          "home_defense_total_plays",
          "defense_total_1st_downs_matchup_differential",
          "offense_passing_sack_pcnt_matchup_differential",
          "road_offense_total_4th_down_conversions",
          "defense_passing_ypc_matchup_differential",
          "road_defense_passing_ypa",
          "home_offense_total_opp_asst_tackles",
          "road_offense_passing_incompletions",
          "road_defense_total_4th_downs",
          "defense_total_yards_matchup_differential",
          "home_defense_special_teams_net_punt_yards",
          "offense_total_punts_per_play_matchup_differential",
          "road_offense_total_4th_downs",
          "home_defense_rushing_ypa",
          "road_defense_passing_sacks",
          "road_offense_total_opp_tackles",
          "offense_passing_pass_rtg_matchup_differential",
          "home_defense_passing_sacks",
          "penalties_opponent_penalty_yards_matchup_differential",
          "road_offense_total_plays",
          "home_defense_total_4th_downs",
          "offense_special_teams_net_punt_ypa_all_matchup_differential",
          "road_offense_total_opp_solo_tackles",
          "home_defense_total_solo_tackles",
          "offense_total_1st_downs_per_play_matchup_differential",
          "home_penalties_penalties",
          "road_def_turnovers_int_pcnt",
          "offense_total_yards_matchup_differential",
          "defense_total_4th_down_conversions_matchup_differential",
          "offense_total_opp_solo_tackles_matchup_differential",
          "defense_passing_sack_pcnt_matchup_differential",
          "offense_total_1st_downs_matchup_differential",
          "road_offense_passing_completion_pcnt",
          "home_offense_total_3rd_down_conversion_pcnt",
          "offense_passing_ypa_matchup_differential",
          "offense_total_opp_tackles_matchup_differential",
          "home_penalties_opponent_yards_per_penalty",
          "home_defense_scoring_rz_attempts",
          "home_offense_scoring_yards_per_point",
          "road_offense_passing_attempts",
          "defense_total_seconds_per_play_matchup_differential",
          "road_penalties_penalties",
          "rankings_sos_basic_rating_matchup_differential",
          "offense_total_3rd_downs_matchup_differential",
          "def_turnovers_int_pcnt_matchup_differential",
          "home_def_turnovers_int_pcnt",
          "home_defense_passing_sack_pcnt",
          "road_defense_total_assisted_tackles",
          "road_offense_special_teams_gross_punt_ypa",
          "home_penalties_opponent_penalty_1st_downs",
          "offense_total_punts_per_score_matchup_differential",
          "road_defense_rushing_1st_down_pcnt",
          "home_penalties_opponent_penalty_yards",
          "road_def_turnovers_fumbles",
          "defense_total_assisted_tackles_matchup_differential",
          "road_off_turnovers_int_pcnt",
          "home_offense_total_3rd_down_conversions",
          "home_offense_total_4th_down_conversions",
          "offense_total_yards_per_play_matchup_differential",
          "road_defense_rushing_ypg",
          "offense_passing_1st_downs_matchup_differential",
          "road_offense_total_opp_asst_tackles",
          "home_penalties_yards_per_penalty",
          "defense_total_1st_downs_per_play_matchup_differential",
          "defense_passing_ypa_matchup_differential",
          "road_offense_passing_ypa",
          "road_defense_total_seconds_per_play",
          "home_defense_passing_1st_downs",
          "travel_delta",
          "rest_differential",
          "defense_total_time_of_possession_matchup_differential",
          "defense_total_3rd_downs_matchup_differential",
          "offense_scoring_points_per_play_matchup_differential",
          "home_offense_total_seconds_per_play",
          "offense_total_4th_down_conversions_matchup_differential",
          "road_defense_passing_attempts",
          "home_defense_total_3rd_downs",
          "offense_passing_ypc_matchup_differential",
          "home_defense_passing_attempts",
          "road_defense_passing_pass_rtg",
          "offense_special_teams_gross_punt_ypa_matchup_differential",
          "defense_passing_incompletions_matchup_differential",
          "road_defense_total_yards_per_play",
          "road_defense_scoring_rz_attempts",
          "road_defense_passing_sack_pcnt",
          "road_offense_passing_1st_down_pcnt",
          "penalties_opponent_penalty_1st_downs_matchup_differential",
          "road_offense_scoring_rz_td_pcnt",
          "defense_total_3rd_down_conversions_matchup_differential",
          "road_defense_passing_1st_downs",
          "road_offense_total_seconds_per_play",
          "defense_total_plays_matchup_differential",
          "home_offense_passing_1st_down_pcnt",
          "home_defense_passing_td_pcnt",
          "defense_total_tackles_matchup_differential",
          "road_defense_special_teams_net_punt_ypa",
          "offense_passing_completion_pcnt_matchup_differential",
          "home_days_rest",
          "penalties_yards_per_penalty_matchup_differential",
          "defense_passing_1st_down_pcnt_matchup_differential",
          "road_off_turnovers_fumbles",
          "road_defense_total_3rd_downs",
          "offense_rushing_ypa_matchup_differential",
          "home_defense_total_seconds_per_play",
          "road_offense_total_3rd_downs",
          "home_defense_special_teams_gross_punt_yards",
          "home_defense_rushing_1st_down_pcnt",
          "defense_total_3rd_down_conversion_pcnt_matchup_differential",
          "away_travel_distance",
          "home_offense_total_4th_downs",
          "defense_rushing_ypa_matchup_differential",
          "offense_total_4th_downs_matchup_differential",
          "home_defense_total_punts_per_play",
          "road_defense_special_teams_net_punt_yards",
          "week",
          "defense_special_teams_net_punt_ypa_all_matchup_differential",
          "offense_scoring_points_per_game_matchup_differential",
          "home_defense_passing_completion_pcnt",
          "road_defense_scoring_rz_td_pcnt",
          "road_defense_total_solo_tackles",
          "home_offense_rushing_ypa",
          "road_defense_total_punts_per_play",
          "road_rankings_sos_basic_rating",
          "home_offense_total_3rd_downs",
          "road_defense_rushing_ypa",
          "defense_passing_completion_pcnt_matchup_differential",
          "defense_passing_play_pcnt_matchup_differential"
         ],
         "yaxis": "y"
        }
       ],
       "layout": {
        "autosize": true,
        "barmode": "relative",
        "legend": {
         "tracegroupgap": 0
        },
        "template": {
         "data": {
          "bar": [
           {
            "error_x": {
             "color": "#2a3f5f"
            },
            "error_y": {
             "color": "#2a3f5f"
            },
            "marker": {
             "line": {
              "color": "#E5ECF6",
              "width": 0.5
             },
             "pattern": {
              "fillmode": "overlay",
              "size": 10,
              "solidity": 0.2
             }
            },
            "type": "bar"
           }
          ],
          "barpolar": [
           {
            "marker": {
             "line": {
              "color": "#E5ECF6",
              "width": 0.5
             },
             "pattern": {
              "fillmode": "overlay",
              "size": 10,
              "solidity": 0.2
             }
            },
            "type": "barpolar"
           }
          ],
          "carpet": [
           {
            "aaxis": {
             "endlinecolor": "#2a3f5f",
             "gridcolor": "white",
             "linecolor": "white",
             "minorgridcolor": "white",
             "startlinecolor": "#2a3f5f"
            },
            "baxis": {
             "endlinecolor": "#2a3f5f",
             "gridcolor": "white",
             "linecolor": "white",
             "minorgridcolor": "white",
             "startlinecolor": "#2a3f5f"
            },
            "type": "carpet"
           }
          ],
          "choropleth": [
           {
            "colorbar": {
             "outlinewidth": 0,
             "ticks": ""
            },
            "type": "choropleth"
           }
          ],
          "contour": [
           {
            "colorbar": {
             "outlinewidth": 0,
             "ticks": ""
            },
            "colorscale": [
             [
              0,
              "#0d0887"
             ],
             [
              0.1111111111111111,
              "#46039f"
             ],
             [
              0.2222222222222222,
              "#7201a8"
             ],
             [
              0.3333333333333333,
              "#9c179e"
             ],
             [
              0.4444444444444444,
              "#bd3786"
             ],
             [
              0.5555555555555556,
              "#d8576b"
             ],
             [
              0.6666666666666666,
              "#ed7953"
             ],
             [
              0.7777777777777778,
              "#fb9f3a"
             ],
             [
              0.8888888888888888,
              "#fdca26"
             ],
             [
              1,
              "#f0f921"
             ]
            ],
            "type": "contour"
           }
          ],
          "contourcarpet": [
           {
            "colorbar": {
             "outlinewidth": 0,
             "ticks": ""
            },
            "type": "contourcarpet"
           }
          ],
          "heatmap": [
           {
            "colorbar": {
             "outlinewidth": 0,
             "ticks": ""
            },
            "colorscale": [
             [
              0,
              "#0d0887"
             ],
             [
              0.1111111111111111,
              "#46039f"
             ],
             [
              0.2222222222222222,
              "#7201a8"
             ],
             [
              0.3333333333333333,
              "#9c179e"
             ],
             [
              0.4444444444444444,
              "#bd3786"
             ],
             [
              0.5555555555555556,
              "#d8576b"
             ],
             [
              0.6666666666666666,
              "#ed7953"
             ],
             [
              0.7777777777777778,
              "#fb9f3a"
             ],
             [
              0.8888888888888888,
              "#fdca26"
             ],
             [
              1,
              "#f0f921"
             ]
            ],
            "type": "heatmap"
           }
          ],
          "heatmapgl": [
           {
            "colorbar": {
             "outlinewidth": 0,
             "ticks": ""
            },
            "colorscale": [
             [
              0,
              "#0d0887"
             ],
             [
              0.1111111111111111,
              "#46039f"
             ],
             [
              0.2222222222222222,
              "#7201a8"
             ],
             [
              0.3333333333333333,
              "#9c179e"
             ],
             [
              0.4444444444444444,
              "#bd3786"
             ],
             [
              0.5555555555555556,
              "#d8576b"
             ],
             [
              0.6666666666666666,
              "#ed7953"
             ],
             [
              0.7777777777777778,
              "#fb9f3a"
             ],
             [
              0.8888888888888888,
              "#fdca26"
             ],
             [
              1,
              "#f0f921"
             ]
            ],
            "type": "heatmapgl"
           }
          ],
          "histogram": [
           {
            "marker": {
             "pattern": {
              "fillmode": "overlay",
              "size": 10,
              "solidity": 0.2
             }
            },
            "type": "histogram"
           }
          ],
          "histogram2d": [
           {
            "colorbar": {
             "outlinewidth": 0,
             "ticks": ""
            },
            "colorscale": [
             [
              0,
              "#0d0887"
             ],
             [
              0.1111111111111111,
              "#46039f"
             ],
             [
              0.2222222222222222,
              "#7201a8"
             ],
             [
              0.3333333333333333,
              "#9c179e"
             ],
             [
              0.4444444444444444,
              "#bd3786"
             ],
             [
              0.5555555555555556,
              "#d8576b"
             ],
             [
              0.6666666666666666,
              "#ed7953"
             ],
             [
              0.7777777777777778,
              "#fb9f3a"
             ],
             [
              0.8888888888888888,
              "#fdca26"
             ],
             [
              1,
              "#f0f921"
             ]
            ],
            "type": "histogram2d"
           }
          ],
          "histogram2dcontour": [
           {
            "colorbar": {
             "outlinewidth": 0,
             "ticks": ""
            },
            "colorscale": [
             [
              0,
              "#0d0887"
             ],
             [
              0.1111111111111111,
              "#46039f"
             ],
             [
              0.2222222222222222,
              "#7201a8"
             ],
             [
              0.3333333333333333,
              "#9c179e"
             ],
             [
              0.4444444444444444,
              "#bd3786"
             ],
             [
              0.5555555555555556,
              "#d8576b"
             ],
             [
              0.6666666666666666,
              "#ed7953"
             ],
             [
              0.7777777777777778,
              "#fb9f3a"
             ],
             [
              0.8888888888888888,
              "#fdca26"
             ],
             [
              1,
              "#f0f921"
             ]
            ],
            "type": "histogram2dcontour"
           }
          ],
          "mesh3d": [
           {
            "colorbar": {
             "outlinewidth": 0,
             "ticks": ""
            },
            "type": "mesh3d"
           }
          ],
          "parcoords": [
           {
            "line": {
             "colorbar": {
              "outlinewidth": 0,
              "ticks": ""
             }
            },
            "type": "parcoords"
           }
          ],
          "pie": [
           {
            "automargin": true,
            "type": "pie"
           }
          ],
          "scatter": [
           {
            "fillpattern": {
             "fillmode": "overlay",
             "size": 10,
             "solidity": 0.2
            },
            "type": "scatter"
           }
          ],
          "scatter3d": [
           {
            "line": {
             "colorbar": {
              "outlinewidth": 0,
              "ticks": ""
             }
            },
            "marker": {
             "colorbar": {
              "outlinewidth": 0,
              "ticks": ""
             }
            },
            "type": "scatter3d"
           }
          ],
          "scattercarpet": [
           {
            "marker": {
             "colorbar": {
              "outlinewidth": 0,
              "ticks": ""
             }
            },
            "type": "scattercarpet"
           }
          ],
          "scattergeo": [
           {
            "marker": {
             "colorbar": {
              "outlinewidth": 0,
              "ticks": ""
             }
            },
            "type": "scattergeo"
           }
          ],
          "scattergl": [
           {
            "marker": {
             "colorbar": {
              "outlinewidth": 0,
              "ticks": ""
             }
            },
            "type": "scattergl"
           }
          ],
          "scattermapbox": [
           {
            "marker": {
             "colorbar": {
              "outlinewidth": 0,
              "ticks": ""
             }
            },
            "type": "scattermapbox"
           }
          ],
          "scatterpolar": [
           {
            "marker": {
             "colorbar": {
              "outlinewidth": 0,
              "ticks": ""
             }
            },
            "type": "scatterpolar"
           }
          ],
          "scatterpolargl": [
           {
            "marker": {
             "colorbar": {
              "outlinewidth": 0,
              "ticks": ""
             }
            },
            "type": "scatterpolargl"
           }
          ],
          "scatterternary": [
           {
            "marker": {
             "colorbar": {
              "outlinewidth": 0,
              "ticks": ""
             }
            },
            "type": "scatterternary"
           }
          ],
          "surface": [
           {
            "colorbar": {
             "outlinewidth": 0,
             "ticks": ""
            },
            "colorscale": [
             [
              0,
              "#0d0887"
             ],
             [
              0.1111111111111111,
              "#46039f"
             ],
             [
              0.2222222222222222,
              "#7201a8"
             ],
             [
              0.3333333333333333,
              "#9c179e"
             ],
             [
              0.4444444444444444,
              "#bd3786"
             ],
             [
              0.5555555555555556,
              "#d8576b"
             ],
             [
              0.6666666666666666,
              "#ed7953"
             ],
             [
              0.7777777777777778,
              "#fb9f3a"
             ],
             [
              0.8888888888888888,
              "#fdca26"
             ],
             [
              1,
              "#f0f921"
             ]
            ],
            "type": "surface"
           }
          ],
          "table": [
           {
            "cells": {
             "fill": {
              "color": "#EBF0F8"
             },
             "line": {
              "color": "white"
             }
            },
            "header": {
             "fill": {
              "color": "#C8D4E3"
             },
             "line": {
              "color": "white"
             }
            },
            "type": "table"
           }
          ]
         },
         "layout": {
          "annotationdefaults": {
           "arrowcolor": "#2a3f5f",
           "arrowhead": 0,
           "arrowwidth": 1
          },
          "autotypenumbers": "strict",
          "coloraxis": {
           "colorbar": {
            "outlinewidth": 0,
            "ticks": ""
           }
          },
          "colorscale": {
           "diverging": [
            [
             0,
             "#8e0152"
            ],
            [
             0.1,
             "#c51b7d"
            ],
            [
             0.2,
             "#de77ae"
            ],
            [
             0.3,
             "#f1b6da"
            ],
            [
             0.4,
             "#fde0ef"
            ],
            [
             0.5,
             "#f7f7f7"
            ],
            [
             0.6,
             "#e6f5d0"
            ],
            [
             0.7,
             "#b8e186"
            ],
            [
             0.8,
             "#7fbc41"
            ],
            [
             0.9,
             "#4d9221"
            ],
            [
             1,
             "#276419"
            ]
           ],
           "sequential": [
            [
             0,
             "#0d0887"
            ],
            [
             0.1111111111111111,
             "#46039f"
            ],
            [
             0.2222222222222222,
             "#7201a8"
            ],
            [
             0.3333333333333333,
             "#9c179e"
            ],
            [
             0.4444444444444444,
             "#bd3786"
            ],
            [
             0.5555555555555556,
             "#d8576b"
            ],
            [
             0.6666666666666666,
             "#ed7953"
            ],
            [
             0.7777777777777778,
             "#fb9f3a"
            ],
            [
             0.8888888888888888,
             "#fdca26"
            ],
            [
             1,
             "#f0f921"
            ]
           ],
           "sequentialminus": [
            [
             0,
             "#0d0887"
            ],
            [
             0.1111111111111111,
             "#46039f"
            ],
            [
             0.2222222222222222,
             "#7201a8"
            ],
            [
             0.3333333333333333,
             "#9c179e"
            ],
            [
             0.4444444444444444,
             "#bd3786"
            ],
            [
             0.5555555555555556,
             "#d8576b"
            ],
            [
             0.6666666666666666,
             "#ed7953"
            ],
            [
             0.7777777777777778,
             "#fb9f3a"
            ],
            [
             0.8888888888888888,
             "#fdca26"
            ],
            [
             1,
             "#f0f921"
            ]
           ]
          },
          "colorway": [
           "#636efa",
           "#EF553B",
           "#00cc96",
           "#ab63fa",
           "#FFA15A",
           "#19d3f3",
           "#FF6692",
           "#B6E880",
           "#FF97FF",
           "#FECB52"
          ],
          "font": {
           "color": "#2a3f5f"
          },
          "geo": {
           "bgcolor": "white",
           "lakecolor": "white",
           "landcolor": "#E5ECF6",
           "showlakes": true,
           "showland": true,
           "subunitcolor": "white"
          },
          "hoverlabel": {
           "align": "left"
          },
          "hovermode": "closest",
          "mapbox": {
           "style": "light"
          },
          "paper_bgcolor": "white",
          "plot_bgcolor": "#E5ECF6",
          "polar": {
           "angularaxis": {
            "gridcolor": "white",
            "linecolor": "white",
            "ticks": ""
           },
           "bgcolor": "#E5ECF6",
           "radialaxis": {
            "gridcolor": "white",
            "linecolor": "white",
            "ticks": ""
           }
          },
          "scene": {
           "xaxis": {
            "backgroundcolor": "#E5ECF6",
            "gridcolor": "white",
            "gridwidth": 2,
            "linecolor": "white",
            "showbackground": true,
            "ticks": "",
            "zerolinecolor": "white"
           },
           "yaxis": {
            "backgroundcolor": "#E5ECF6",
            "gridcolor": "white",
            "gridwidth": 2,
            "linecolor": "white",
            "showbackground": true,
            "ticks": "",
            "zerolinecolor": "white"
           },
           "zaxis": {
            "backgroundcolor": "#E5ECF6",
            "gridcolor": "white",
            "gridwidth": 2,
            "linecolor": "white",
            "showbackground": true,
            "ticks": "",
            "zerolinecolor": "white"
           }
          },
          "shapedefaults": {
           "line": {
            "color": "#2a3f5f"
           }
          },
          "ternary": {
           "aaxis": {
            "gridcolor": "white",
            "linecolor": "white",
            "ticks": ""
           },
           "baxis": {
            "gridcolor": "white",
            "linecolor": "white",
            "ticks": ""
           },
           "bgcolor": "#E5ECF6",
           "caxis": {
            "gridcolor": "white",
            "linecolor": "white",
            "ticks": ""
           }
          },
          "title": {
           "x": 0.05
          },
          "xaxis": {
           "automargin": true,
           "gridcolor": "white",
           "linecolor": "white",
           "ticks": "",
           "title": {
            "standoff": 15
           },
           "zerolinecolor": "white",
           "zerolinewidth": 2
          },
          "yaxis": {
           "automargin": true,
           "gridcolor": "white",
           "linecolor": "white",
           "ticks": "",
           "title": {
            "standoff": 15
           },
           "zerolinecolor": "white",
           "zerolinewidth": 2
          }
         }
        },
        "title": {
         "text": "feature_importance"
        },
        "xaxis": {
         "anchor": "y",
         "autorange": true,
         "domain": [
          0,
          1
         ],
         "range": [
          0,
          0.07405445156000577
         ],
         "title": {
          "text": "importance"
         },
         "type": "linear"
        },
        "yaxis": {
         "anchor": "x",
         "autorange": true,
         "domain": [
          0,
          1
         ],
         "range": [
          -0.5,
          199.5
         ],
         "title": {
          "text": "feature"
         },
         "type": "category"
        }
       }
      },
      "image/png": "[encoded data removed]",
      "text/html": [
       "<div>                            <div id=\"c31438dd-66a7-4c16-9fc2-a2a4a67c548d\" class=\"plotly-graph-div\" style=\"height:525px; width:100%;\"></div>            <script type=\"text/javascript\">                require([\"plotly\"], function(Plotly) {                    window.PLOTLYENV=window.PLOTLYENV || {};                                    if (document.getElementById(\"c31438dd-66a7-4c16-9fc2-a2a4a67c548d\")) {                    Plotly.newPlot(                        \"c31438dd-66a7-4c16-9fc2-a2a4a67c548d\",                        [{\"alignmentgroup\":\"True\",\"hovertemplate\":\"importance=%{x}\\u003cbr\\u003efeature=%{y}\\u003cextra\\u003e\\u003c\\u002fextra\\u003e\",\"legendgroup\":\"\",\"marker\":{\"color\":\"#636efa\",\"pattern\":{\"shape\":\"\"}},\"name\":\"\",\"offsetgroup\":\"\",\"orientation\":\"h\",\"showlegend\":false,\"textposition\":\"auto\",\"x\":[0.07035172898200548,0.0390236285394945,0.03564209251175231,0.03385359059507021,0.028699293528284556,0.025306069912771973,0.021087234437817074,0.014605799268973953,0.014071780957856947,0.01262823127325345,0.012577593568771736,0.011339209635524393,0.010398852074692124,0.009518711331771783,0.007941518145552825,0.00785809514171315,0.007463150233157252,0.007159769503085056,0.006888231724495929,0.00679875562752423,0.0061623138070971695,0.006154430172293597,0.005845207250970006,0.005745154682294506,0.005699698063562346,0.005626650566840743,0.005543520830292364,0.005366582289455567,0.005358639246109644,0.005032207361620259,0.004963102627743093,0.004945012834288212,0.004924009138251523,0.004886145234883179,0.004862142524749038,0.004853144599717571,0.004635764685021041,0.004620002175449917,0.0046105800472003525,0.004550950108324703,0.004202179160372578,0.004195780535073833,0.004160207964796393,0.004145555704300305,0.004087656618629388,0.004050185648885666,0.004035790794641458,0.003969930813922674,0.003961066406875603,0.0039521659474948114,0.0038752923335102695,0.003852869107482192,0.0038418114385645125,0.0038149271333288333,0.003757184469491682,0.0037372274071157496,0.0037039223420592664,0.003699043021613995,0.0036693875099536206,0.003598261344519279,0.0035823376250845047,0.003532286573923834,0.0035311838352289166,0.00352691322572518,0.003525264847728164,0.0035128317847380863,0.0034866751674687375,0.0034789660377976023,0.0034523771811864946,0.0034056972464517345,0.003384289330514159,0.003342151720990673,0.0033232202232345,0.0033092959495189854,0.003251649746011548,0.0032292784742318347,0.0031890913400387092,0.003171765696907545,0.0031677793135983495,0.0031550058747607467,0.0031399242508106722,0.0031117821840947607,0.0030941293185012316,0.003089377624524073,0.003084610296475848,0.0030426993242674404,0.0030204974607226866,0.0029749779841316904,0.0029652787369832696,0.002957127736793915,0.0029429845801307343,0.0029314107968311117,0.00291938879726877,0.002912353550936604,0.0029100249401864653,0.00290942290182788,0.002896740822350784,0.002896055539010236,0.0028823872858025875,0.002878624079201644,0.002875812928014142,0.0028608242022612083,0.0028427566466234415,0.0028301201039414104,0.0028296598234890907,0.0028287309083332587,0.002822007351862366,0.002806832543369163,0.002804570694624499,0.0027770798676928616,0.002776053379244143,0.002775182624984514,0.0027018877291139533,0.0026957498736473583,0.002621982472350005,0.002616996251088694,0.002615006660395255,0.0026047881663178074,0.0025904785044817374,0.0025783712744304414,0.002557348325610256,0.002554506538619773,0.0025404298060915233,0.0025404192836672858,0.0025387387973049786,0.0025220916924582363,0.002517103946171303,0.00251619376893878,0.0025140810534918035,0.0025056586183100004,0.0025033606005085834,0.002496018086878716,0.002495610877347262,0.002489919680251349,0.0024882794750574104,0.00247285746765725,0.0024698811656011384,0.0024564009483644808,0.002435952532124656,0.0024323294365314707,0.002431920997777647,0.002420547317822873,0.0024085402937553636,0.0024039117838246028,0.002380701118699079,0.002356838468448544,0.0023527284165935185,0.002338352000672182,0.002334251276663315,0.002330913867585826,0.002329743395021287,0.0023293798415379018,0.002325745574526865,0.0023204723118059874,0.002316963593480591,0.002312035218058928,0.0023058482628659834,0.0022919338536122437,0.002289481649059878,0.0022840949022240207,0.002278906146402508,0.0022780682689642322,0.002273809533812302,0.0022587423427943595,0.0022559354052149976,0.0022466137971743935,0.002244867556664572,0.0022381359408813746,0.002234103748747302,0.0022197803192720513,0.002219410203208069,0.0022079088875585177,0.0022061423014221363,0.002205367767193818,0.002175476805455127,0.0021741125647135777,0.002143193404201259,0.002137987050072709,0.00212933810486824,0.0021275365458272486,0.0021059232103180668,0.002099063901307639,0.0020900696351765446,0.0020896176280814564,0.0020880225726254515,0.0020875360873191104,0.002080332786644664,0.002077638200590525,0.0020684854426834833,0.002066002895462692,0.002065654084005613,0.0020617495481333285,0.002048129996386328,0.0020429604820830075,0.0020420968960892807,0.0020342372383735942,0.0020264535400926313,0.0020073286216864836,0.0019604818424895855,0.0019581137211832954],\"xaxis\":\"x\",\"y\":[\"rankings_predictive_rating_matchup_differential\",\"home_rankings_predictive_rating\",\"offense_scoring_points_per_game_delta_matchup_differential\",\"road_rankings_predictive_rating\",\"home_rankings_road_rating\",\"rankings_home_rating_matchup_differential\",\"road_rankings_home_rating\",\"home_offense_scoring_points_per_game_delta\",\"road_offense_scoring_points_per_game\",\"road_rankings_road_rating\",\"road_offense_scoring_points_per_play\",\"home_rankings_home_rating\",\"road_offense_scoring_points_per_game_delta\",\"rankings_luck_rating_matchup_differential\",\"road_offense_total_1st_downs\",\"road_offense_total_yards\",\"home_defense_rushing_attempts\",\"road_offense_total_punts_per_score\",\"road_offense_scoring_yards_per_point\",\"home_rankings_luck_rating\",\"road_offense_passing_pass_rtg\",\"home_offense_total_punts_per_play\",\"home_defense_passing_ypa\",\"road_offense_total_yards_per_play\",\"home_offense_total_1st_downs_per_play\",\"home_defense_rushing_ypg\",\"home_offense_total_punts_per_score\",\"home_offense_passing_pass_rtg\",\"road_offense_total_1st_downs_per_play\",\"home_offense_total_yards\",\"home_offense_passing_sack_pcnt\",\"home_offense_total_1st_downs\",\"road_offense_total_3rd_down_conversion_pcnt\",\"home_offense_scoring_points_per_play\",\"home_defense_scoring_yards_per_point\",\"home_offense_total_plays\",\"home_defense_total_yards_per_play\",\"penalties_penalties_matchup_differential\",\"home_offense_scoring_points_per_game\",\"home_defense_passing_pass_rtg\",\"road_rankings_luck_rating\",\"home_off_turnovers_fumbles\",\"road_offense_scoring_yards_per_point_delta\",\"home_defense_passing_ypc\",\"home_defense_total_punts_per_score\",\"home_off_turnovers_int_pcnt\",\"home_def_turnovers_takeaways\",\"home_defense_special_teams_net_punt_ypa\",\"home_offense_total_opp_solo_tackles\",\"road_penalties_opponent_penalty_yards\",\"road_offense_total_3rd_down_conversions\",\"road_penalties_opponent_yards_per_penalty\",\"home_defense_total_1st_downs_per_play\",\"road_defense_passing_ypc\",\"road_offense_passing_sack_pcnt\",\"home_offense_passing_completion_pcnt\",\"offense_scoring_yards_per_point_delta_matchup_differential\",\"home_offense_passing_ypc\",\"road_defense_total_3rd_down_conversion_pcnt\",\"road_def_turnovers_takeaways\",\"defense_rushing_1st_down_pcnt_matchup_differential\",\"home_offense_scoring_yards_per_point_delta\",\"road_defense_rushing_attempts\",\"offense_total_plays_matchup_differential\",\"road_offense_passing_ypc\",\"home_offense_total_opp_tackles\",\"road_offense_total_punts_per_play\",\"road_rankings_consistency_rating\",\"home_offense_total_yards_per_play\",\"home_offense_passing_ypa\",\"road_penalties_opponent_penalty_1st_downs\",\"road_defense_special_teams_gross_punt_yards\",\"off_turnovers_fumbles_matchup_differential\",\"home_defense_total_plays\",\"defense_total_1st_downs_matchup_differential\",\"offense_passing_sack_pcnt_matchup_differential\",\"road_offense_total_4th_down_conversions\",\"defense_passing_ypc_matchup_differential\",\"road_defense_passing_ypa\",\"home_offense_total_opp_asst_tackles\",\"road_offense_passing_incompletions\",\"road_defense_total_4th_downs\",\"defense_total_yards_matchup_differential\",\"home_defense_special_teams_net_punt_yards\",\"offense_total_punts_per_play_matchup_differential\",\"road_offense_total_4th_downs\",\"home_defense_rushing_ypa\",\"road_defense_passing_sacks\",\"road_offense_total_opp_tackles\",\"offense_passing_pass_rtg_matchup_differential\",\"home_defense_passing_sacks\",\"penalties_opponent_penalty_yards_matchup_differential\",\"road_offense_total_plays\",\"home_defense_total_4th_downs\",\"offense_special_teams_net_punt_ypa_all_matchup_differential\",\"road_offense_total_opp_solo_tackles\",\"home_defense_total_solo_tackles\",\"offense_total_1st_downs_per_play_matchup_differential\",\"home_penalties_penalties\",\"road_def_turnovers_int_pcnt\",\"offense_total_yards_matchup_differential\",\"defense_total_4th_down_conversions_matchup_differential\",\"offense_total_opp_solo_tackles_matchup_differential\",\"defense_passing_sack_pcnt_matchup_differential\",\"offense_total_1st_downs_matchup_differential\",\"road_offense_passing_completion_pcnt\",\"home_offense_total_3rd_down_conversion_pcnt\",\"offense_passing_ypa_matchup_differential\",\"offense_total_opp_tackles_matchup_differential\",\"home_penalties_opponent_yards_per_penalty\",\"home_defense_scoring_rz_attempts\",\"home_offense_scoring_yards_per_point\",\"road_offense_passing_attempts\",\"defense_total_seconds_per_play_matchup_differential\",\"road_penalties_penalties\",\"rankings_sos_basic_rating_matchup_differential\",\"offense_total_3rd_downs_matchup_differential\",\"def_turnovers_int_pcnt_matchup_differential\",\"home_def_turnovers_int_pcnt\",\"home_defense_passing_sack_pcnt\",\"road_defense_total_assisted_tackles\",\"road_offense_special_teams_gross_punt_ypa\",\"home_penalties_opponent_penalty_1st_downs\",\"offense_total_punts_per_score_matchup_differential\",\"road_defense_rushing_1st_down_pcnt\",\"home_penalties_opponent_penalty_yards\",\"road_def_turnovers_fumbles\",\"defense_total_assisted_tackles_matchup_differential\",\"road_off_turnovers_int_pcnt\",\"home_offense_total_3rd_down_conversions\",\"home_offense_total_4th_down_conversions\",\"offense_total_yards_per_play_matchup_differential\",\"road_defense_rushing_ypg\",\"offense_passing_1st_downs_matchup_differential\",\"road_offense_total_opp_asst_tackles\",\"home_penalties_yards_per_penalty\",\"defense_total_1st_downs_per_play_matchup_differential\",\"defense_passing_ypa_matchup_differential\",\"road_offense_passing_ypa\",\"road_defense_total_seconds_per_play\",\"home_defense_passing_1st_downs\",\"travel_delta\",\"rest_differential\",\"defense_total_time_of_possession_matchup_differential\",\"defense_total_3rd_downs_matchup_differential\",\"offense_scoring_points_per_play_matchup_differential\",\"home_offense_total_seconds_per_play\",\"offense_total_4th_down_conversions_matchup_differential\",\"road_defense_passing_attempts\",\"home_defense_total_3rd_downs\",\"offense_passing_ypc_matchup_differential\",\"home_defense_passing_attempts\",\"road_defense_passing_pass_rtg\",\"offense_special_teams_gross_punt_ypa_matchup_differential\",\"defense_passing_incompletions_matchup_differential\",\"road_defense_total_yards_per_play\",\"road_defense_scoring_rz_attempts\",\"road_defense_passing_sack_pcnt\",\"road_offense_passing_1st_down_pcnt\",\"penalties_opponent_penalty_1st_downs_matchup_differential\",\"road_offense_scoring_rz_td_pcnt\",\"defense_total_3rd_down_conversions_matchup_differential\",\"road_defense_passing_1st_downs\",\"road_offense_total_seconds_per_play\",\"defense_total_plays_matchup_differential\",\"home_offense_passing_1st_down_pcnt\",\"home_defense_passing_td_pcnt\",\"defense_total_tackles_matchup_differential\",\"road_defense_special_teams_net_punt_ypa\",\"offense_passing_completion_pcnt_matchup_differential\",\"home_days_rest\",\"penalties_yards_per_penalty_matchup_differential\",\"defense_passing_1st_down_pcnt_matchup_differential\",\"road_off_turnovers_fumbles\",\"road_defense_total_3rd_downs\",\"offense_rushing_ypa_matchup_differential\",\"home_defense_total_seconds_per_play\",\"road_offense_total_3rd_downs\",\"home_defense_special_teams_gross_punt_yards\",\"home_defense_rushing_1st_down_pcnt\",\"defense_total_3rd_down_conversion_pcnt_matchup_differential\",\"away_travel_distance\",\"home_offense_total_4th_downs\",\"defense_rushing_ypa_matchup_differential\",\"offense_total_4th_downs_matchup_differential\",\"home_defense_total_punts_per_play\",\"road_defense_special_teams_net_punt_yards\",\"week\",\"defense_special_teams_net_punt_ypa_all_matchup_differential\",\"offense_scoring_points_per_game_matchup_differential\",\"home_defense_passing_completion_pcnt\",\"road_defense_scoring_rz_td_pcnt\",\"road_defense_total_solo_tackles\",\"home_offense_rushing_ypa\",\"road_defense_total_punts_per_play\",\"road_rankings_sos_basic_rating\",\"home_offense_total_3rd_downs\",\"road_defense_rushing_ypa\",\"defense_passing_completion_pcnt_matchup_differential\",\"defense_passing_play_pcnt_matchup_differential\"],\"yaxis\":\"y\",\"type\":\"bar\"}],                        {\"template\":{\"data\":{\"histogram2dcontour\":[{\"type\":\"histogram2dcontour\",\"colorbar\":{\"outlinewidth\":0,\"ticks\":\"\"},\"colorscale\":[[0.0,\"#0d0887\"],[0.1111111111111111,\"#46039f\"],[0.2222222222222222,\"#7201a8\"],[0.3333333333333333,\"#9c179e\"],[0.4444444444444444,\"#bd3786\"],[0.5555555555555556,\"#d8576b\"],[0.6666666666666666,\"#ed7953\"],[0.7777777777777778,\"#fb9f3a\"],[0.8888888888888888,\"#fdca26\"],[1.0,\"#f0f921\"]]}],\"choropleth\":[{\"type\":\"choropleth\",\"colorbar\":{\"outlinewidth\":0,\"ticks\":\"\"}}],\"histogram2d\":[{\"type\":\"histogram2d\",\"colorbar\":{\"outlinewidth\":0,\"ticks\":\"\"},\"colorscale\":[[0.0,\"#0d0887\"],[0.1111111111111111,\"#46039f\"],[0.2222222222222222,\"#7201a8\"],[0.3333333333333333,\"#9c179e\"],[0.4444444444444444,\"#bd3786\"],[0.5555555555555556,\"#d8576b\"],[0.6666666666666666,\"#ed7953\"],[0.7777777777777778,\"#fb9f3a\"],[0.8888888888888888,\"#fdca26\"],[1.0,\"#f0f921\"]]}],\"heatmap\":[{\"type\":\"heatmap\",\"colorbar\":{\"outlinewidth\":0,\"ticks\":\"\"},\"colorscale\":[[0.0,\"#0d0887\"],[0.1111111111111111,\"#46039f\"],[0.2222222222222222,\"#7201a8\"],[0.3333333333333333,\"#9c179e\"],[0.4444444444444444,\"#bd3786\"],[0.5555555555555556,\"#d8576b\"],[0.6666666666666666,\"#ed7953\"],[0.7777777777777778,\"#fb9f3a\"],[0.8888888888888888,\"#fdca26\"],[1.0,\"#f0f921\"]]}],\"heatmapgl\":[{\"type\":\"heatmapgl\",\"colorbar\":{\"outlinewidth\":0,\"ticks\":\"\"},\"colorscale\":[[0.0,\"#0d0887\"],[0.1111111111111111,\"#46039f\"],[0.2222222222222222,\"#7201a8\"],[0.3333333333333333,\"#9c179e\"],[0.4444444444444444,\"#bd3786\"],[0.5555555555555556,\"#d8576b\"],[0.6666666666666666,\"#ed7953\"],[0.7777777777777778,\"#fb9f3a\"],[0.8888888888888888,\"#fdca26\"],[1.0,\"#f0f921\"]]}],\"contourcarpet\":[{\"type\":\"contourcarpet\",\"colorbar\":{\"outlinewidth\":0,\"ticks\":\"\"}}],\"contour\":[{\"type\":\"contour\",\"colorbar\":{\"outlinewidth\":0,\"ticks\":\"\"},\"colorscale\":[[0.0,\"#0d0887\"],[0.1111111111111111,\"#46039f\"],[0.2222222222222222,\"#7201a8\"],[0.3333333333333333,\"#9c179e\"],[0.4444444444444444,\"#bd3786\"],[0.5555555555555556,\"#d8576b\"],[0.6666666666666666,\"#ed7953\"],[0.7777777777777778,\"#fb9f3a\"],[0.8888888888888888,\"#fdca26\"],[1.0,\"#f0f921\"]]}],\"surface\":[{\"type\":\"surface\",\"colorbar\":{\"outlinewidth\":0,\"ticks\":\"\"},\"colorscale\":[[0.0,\"#0d0887\"],[0.1111111111111111,\"#46039f\"],[0.2222222222222222,\"#7201a8\"],[0.3333333333333333,\"#9c179e\"],[0.4444444444444444,\"#bd3786\"],[0.5555555555555556,\"#d8576b\"],[0.6666666666666666,\"#ed7953\"],[0.7777777777777778,\"#fb9f3a\"],[0.8888888888888888,\"#fdca26\"],[1.0,\"#f0f921\"]]}],\"mesh3d\":[{\"type\":\"mesh3d\",\"colorbar\":{\"outlinewidth\":0,\"ticks\":\"\"}}],\"scatter\":[{\"fillpattern\":{\"fillmode\":\"overlay\",\"size\":10,\"solidity\":0.2},\"type\":\"scatter\"}],\"parcoords\":[{\"type\":\"parcoords\",\"line\":{\"colorbar\":{\"outlinewidth\":0,\"ticks\":\"\"}}}],\"scatterpolargl\":[{\"type\":\"scatterpolargl\",\"marker\":{\"colorbar\":{\"outlinewidth\":0,\"ticks\":\"\"}}}],\"bar\":[{\"error_x\":{\"color\":\"#2a3f5f\"},\"error_y\":{\"color\":\"#2a3f5f\"},\"marker\":{\"line\":{\"color\":\"#E5ECF6\",\"width\":0.5},\"pattern\":{\"fillmode\":\"overlay\",\"size\":10,\"solidity\":0.2}},\"type\":\"bar\"}],\"scattergeo\":[{\"type\":\"scattergeo\",\"marker\":{\"colorbar\":{\"outlinewidth\":0,\"ticks\":\"\"}}}],\"scatterpolar\":[{\"type\":\"scatterpolar\",\"marker\":{\"colorbar\":{\"outlinewidth\":0,\"ticks\":\"\"}}}],\"histogram\":[{\"marker\":{\"pattern\":{\"fillmode\":\"overlay\",\"size\":10,\"solidity\":0.2}},\"type\":\"histogram\"}],\"scattergl\":[{\"type\":\"scattergl\",\"marker\":{\"colorbar\":{\"outlinewidth\":0,\"ticks\":\"\"}}}],\"scatter3d\":[{\"type\":\"scatter3d\",\"line\":{\"colorbar\":{\"outlinewidth\":0,\"ticks\":\"\"}},\"marker\":{\"colorbar\":{\"outlinewidth\":0,\"ticks\":\"\"}}}],\"scattermapbox\":[{\"type\":\"scattermapbox\",\"marker\":{\"colorbar\":{\"outlinewidth\":0,\"ticks\":\"\"}}}],\"scatterternary\":[{\"type\":\"scatterternary\",\"marker\":{\"colorbar\":{\"outlinewidth\":0,\"ticks\":\"\"}}}],\"scattercarpet\":[{\"type\":\"scattercarpet\",\"marker\":{\"colorbar\":{\"outlinewidth\":0,\"ticks\":\"\"}}}],\"carpet\":[{\"aaxis\":{\"endlinecolor\":\"#2a3f5f\",\"gridcolor\":\"white\",\"linecolor\":\"white\",\"minorgridcolor\":\"white\",\"startlinecolor\":\"#2a3f5f\"},\"baxis\":{\"endlinecolor\":\"#2a3f5f\",\"gridcolor\":\"white\",\"linecolor\":\"white\",\"minorgridcolor\":\"white\",\"startlinecolor\":\"#2a3f5f\"},\"type\":\"carpet\"}],\"table\":[{\"cells\":{\"fill\":{\"color\":\"#EBF0F8\"},\"line\":{\"color\":\"white\"}},\"header\":{\"fill\":{\"color\":\"#C8D4E3\"},\"line\":{\"color\":\"white\"}},\"type\":\"table\"}],\"barpolar\":[{\"marker\":{\"line\":{\"color\":\"#E5ECF6\",\"width\":0.5},\"pattern\":{\"fillmode\":\"overlay\",\"size\":10,\"solidity\":0.2}},\"type\":\"barpolar\"}],\"pie\":[{\"automargin\":true,\"type\":\"pie\"}]},\"layout\":{\"autotypenumbers\":\"strict\",\"colorway\":[\"#636efa\",\"#EF553B\",\"#00cc96\",\"#ab63fa\",\"#FFA15A\",\"#19d3f3\",\"#FF6692\",\"#B6E880\",\"#FF97FF\",\"#FECB52\"],\"font\":{\"color\":\"#2a3f5f\"},\"hovermode\":\"closest\",\"hoverlabel\":{\"align\":\"left\"},\"paper_bgcolor\":\"white\",\"plot_bgcolor\":\"#E5ECF6\",\"polar\":{\"bgcolor\":\"#E5ECF6\",\"angularaxis\":{\"gridcolor\":\"white\",\"linecolor\":\"white\",\"ticks\":\"\"},\"radialaxis\":{\"gridcolor\":\"white\",\"linecolor\":\"white\",\"ticks\":\"\"}},\"ternary\":{\"bgcolor\":\"#E5ECF6\",\"aaxis\":{\"gridcolor\":\"white\",\"linecolor\":\"white\",\"ticks\":\"\"},\"baxis\":{\"gridcolor\":\"white\",\"linecolor\":\"white\",\"ticks\":\"\"},\"caxis\":{\"gridcolor\":\"white\",\"linecolor\":\"white\",\"ticks\":\"\"}},\"coloraxis\":{\"colorbar\":{\"outlinewidth\":0,\"ticks\":\"\"}},\"colorscale\":{\"sequential\":[[0.0,\"#0d0887\"],[0.1111111111111111,\"#46039f\"],[0.2222222222222222,\"#7201a8\"],[0.3333333333333333,\"#9c179e\"],[0.4444444444444444,\"#bd3786\"],[0.5555555555555556,\"#d8576b\"],[0.6666666666666666,\"#ed7953\"],[0.7777777777777778,\"#fb9f3a\"],[0.8888888888888888,\"#fdca26\"],[1.0,\"#f0f921\"]],\"sequentialminus\":[[0.0,\"#0d0887\"],[0.1111111111111111,\"#46039f\"],[0.2222222222222222,\"#7201a8\"],[0.3333333333333333,\"#9c179e\"],[0.4444444444444444,\"#bd3786\"],[0.5555555555555556,\"#d8576b\"],[0.6666666666666666,\"#ed7953\"],[0.7777777777777778,\"#fb9f3a\"],[0.8888888888888888,\"#fdca26\"],[1.0,\"#f0f921\"]],\"diverging\":[[0,\"#8e0152\"],[0.1,\"#c51b7d\"],[0.2,\"#de77ae\"],[0.3,\"#f1b6da\"],[0.4,\"#fde0ef\"],[0.5,\"#f7f7f7\"],[0.6,\"#e6f5d0\"],[0.7,\"#b8e186\"],[0.8,\"#7fbc41\"],[0.9,\"#4d9221\"],[1,\"#276419\"]]},\"xaxis\":{\"gridcolor\":\"white\",\"linecolor\":\"white\",\"ticks\":\"\",\"title\":{\"standoff\":15},\"zerolinecolor\":\"white\",\"automargin\":true,\"zerolinewidth\":2},\"yaxis\":{\"gridcolor\":\"white\",\"linecolor\":\"white\",\"ticks\":\"\",\"title\":{\"standoff\":15},\"zerolinecolor\":\"white\",\"automargin\":true,\"zerolinewidth\":2},\"scene\":{\"xaxis\":{\"backgroundcolor\":\"#E5ECF6\",\"gridcolor\":\"white\",\"linecolor\":\"white\",\"showbackground\":true,\"ticks\":\"\",\"zerolinecolor\":\"white\",\"gridwidth\":2},\"yaxis\":{\"backgroundcolor\":\"#E5ECF6\",\"gridcolor\":\"white\",\"linecolor\":\"white\",\"showbackground\":true,\"ticks\":\"\",\"zerolinecolor\":\"white\",\"gridwidth\":2},\"zaxis\":{\"backgroundcolor\":\"#E5ECF6\",\"gridcolor\":\"white\",\"linecolor\":\"white\",\"showbackground\":true,\"ticks\":\"\",\"zerolinecolor\":\"white\",\"gridwidth\":2}},\"shapedefaults\":{\"line\":{\"color\":\"#2a3f5f\"}},\"annotationdefaults\":{\"arrowcolor\":\"#2a3f5f\",\"arrowhead\":0,\"arrowwidth\":1},\"geo\":{\"bgcolor\":\"white\",\"landcolor\":\"#E5ECF6\",\"subunitcolor\":\"white\",\"showland\":true,\"showlakes\":true,\"lakecolor\":\"white\"},\"title\":{\"x\":0.05},\"mapbox\":{\"style\":\"light\"}}},\"xaxis\":{\"anchor\":\"y\",\"domain\":[0.0,1.0],\"title\":{\"text\":\"importance\"}},\"yaxis\":{\"anchor\":\"x\",\"domain\":[0.0,1.0],\"title\":{\"text\":\"feature\"}},\"legend\":{\"tracegroupgap\":0},\"title\":{\"text\":\"feature_importance\"},\"barmode\":\"relative\"},                        {\"responsive\": true}                    ).then(function(){\n",
       "                            \n",
       "var gd = document.getElementById('c31438dd-66a7-4c16-9fc2-a2a4a67c548d');\n",
       "var x = new MutationObserver(function (mutations, observer) {{\n",
       "        var display = window.getComputedStyle(gd).display;\n",
       "        if (!display || display === 'none') {{\n",
       "            console.log([gd, 'removed!']);\n",
       "            Plotly.purge(gd);\n",
       "            observer.disconnect();\n",
       "        }}\n",
       "}});\n",
       "\n",
       "// Listen for the removal of the full notebook cells\n",
       "var notebookContainer = gd.closest('#notebook-container');\n",
       "if (notebookContainer) {{\n",
       "    x.observe(notebookContainer, {childList: true});\n",
       "}}\n",
       "\n",
       "// Listen for the clearing of the current output cell\n",
       "var outputEl = gd.closest('.output');\n",
       "if (outputEl) {{\n",
       "    x.observe(outputEl, {childList: true});\n",
       "}}\n",
       "\n",
       "                        })                };                });            </script>        </div>"
      ]
     },
     "metadata": {},
     "output_type": "display_data"
    },
    {
     "data": {
      "application/vnd.plotly.v1+json": {
       "config": {
        "plotlyServerURL": "https://plot.ly"
       },
       "data": [
        {
         "hovertemplate": "feature=%{x}<br>cumulative_importance=%{y}<extra></extra>",
         "legendgroup": "",
         "line": {
          "color": "#636efa",
          "dash": "solid"
         },
         "marker": {
          "symbol": "circle"
         },
         "mode": "lines",
         "name": "",
         "orientation": "v",
         "showlegend": false,
         "type": "scatter",
         "x": [
          "rankings_predictive_rating_matchup_differential",
          "home_rankings_predictive_rating",
          "offense_scoring_points_per_game_delta_matchup_differential",
          "road_rankings_predictive_rating",
          "home_rankings_road_rating",
          "rankings_home_rating_matchup_differential",
          "road_rankings_home_rating",
          "home_offense_scoring_points_per_game_delta",
          "road_offense_scoring_points_per_game",
          "road_rankings_road_rating",
          "road_offense_scoring_points_per_play",
          "home_rankings_home_rating",
          "road_offense_scoring_points_per_game_delta",
          "rankings_luck_rating_matchup_differential",
          "road_offense_total_1st_downs",
          "road_offense_total_yards",
          "home_defense_rushing_attempts",
          "road_offense_total_punts_per_score",
          "road_offense_scoring_yards_per_point",
          "home_rankings_luck_rating",
          "road_offense_passing_pass_rtg",
          "home_offense_total_punts_per_play",
          "home_defense_passing_ypa",
          "road_offense_total_yards_per_play",
          "home_offense_total_1st_downs_per_play",
          "home_defense_rushing_ypg",
          "home_offense_total_punts_per_score",
          "home_offense_passing_pass_rtg",
          "road_offense_total_1st_downs_per_play",
          "home_offense_total_yards",
          "home_offense_passing_sack_pcnt",
          "home_offense_total_1st_downs",
          "road_offense_total_3rd_down_conversion_pcnt",
          "home_offense_scoring_points_per_play",
          "home_defense_scoring_yards_per_point",
          "home_offense_total_plays",
          "home_defense_total_yards_per_play",
          "penalties_penalties_matchup_differential",
          "home_offense_scoring_points_per_game",
          "home_defense_passing_pass_rtg",
          "road_rankings_luck_rating",
          "home_off_turnovers_fumbles",
          "road_offense_scoring_yards_per_point_delta",
          "home_defense_passing_ypc",
          "home_defense_total_punts_per_score",
          "home_off_turnovers_int_pcnt",
          "home_def_turnovers_takeaways",
          "home_defense_special_teams_net_punt_ypa",
          "home_offense_total_opp_solo_tackles",
          "road_penalties_opponent_penalty_yards",
          "road_offense_total_3rd_down_conversions",
          "road_penalties_opponent_yards_per_penalty",
          "home_defense_total_1st_downs_per_play",
          "road_defense_passing_ypc",
          "road_offense_passing_sack_pcnt",
          "home_offense_passing_completion_pcnt",
          "offense_scoring_yards_per_point_delta_matchup_differential",
          "home_offense_passing_ypc",
          "road_defense_total_3rd_down_conversion_pcnt",
          "road_def_turnovers_takeaways",
          "defense_rushing_1st_down_pcnt_matchup_differential",
          "home_offense_scoring_yards_per_point_delta",
          "road_defense_rushing_attempts",
          "offense_total_plays_matchup_differential",
          "road_offense_passing_ypc",
          "home_offense_total_opp_tackles",
          "road_offense_total_punts_per_play",
          "road_rankings_consistency_rating",
          "home_offense_total_yards_per_play",
          "home_offense_passing_ypa",
          "road_penalties_opponent_penalty_1st_downs",
          "road_defense_special_teams_gross_punt_yards",
          "off_turnovers_fumbles_matchup_differential",
          "home_defense_total_plays",
          "defense_total_1st_downs_matchup_differential",
          "offense_passing_sack_pcnt_matchup_differential",
          "road_offense_total_4th_down_conversions",
          "defense_passing_ypc_matchup_differential",
          "road_defense_passing_ypa",
          "home_offense_total_opp_asst_tackles",
          "road_offense_passing_incompletions",
          "road_defense_total_4th_downs",
          "defense_total_yards_matchup_differential",
          "home_defense_special_teams_net_punt_yards",
          "offense_total_punts_per_play_matchup_differential",
          "road_offense_total_4th_downs",
          "home_defense_rushing_ypa",
          "road_defense_passing_sacks",
          "road_offense_total_opp_tackles",
          "offense_passing_pass_rtg_matchup_differential",
          "home_defense_passing_sacks",
          "penalties_opponent_penalty_yards_matchup_differential",
          "road_offense_total_plays",
          "home_defense_total_4th_downs",
          "offense_special_teams_net_punt_ypa_all_matchup_differential",
          "road_offense_total_opp_solo_tackles",
          "home_defense_total_solo_tackles",
          "offense_total_1st_downs_per_play_matchup_differential",
          "home_penalties_penalties",
          "road_def_turnovers_int_pcnt",
          "offense_total_yards_matchup_differential",
          "defense_total_4th_down_conversions_matchup_differential",
          "offense_total_opp_solo_tackles_matchup_differential",
          "defense_passing_sack_pcnt_matchup_differential",
          "offense_total_1st_downs_matchup_differential",
          "road_offense_passing_completion_pcnt",
          "home_offense_total_3rd_down_conversion_pcnt",
          "offense_passing_ypa_matchup_differential",
          "offense_total_opp_tackles_matchup_differential",
          "home_penalties_opponent_yards_per_penalty",
          "home_defense_scoring_rz_attempts",
          "home_offense_scoring_yards_per_point",
          "road_offense_passing_attempts",
          "defense_total_seconds_per_play_matchup_differential",
          "road_penalties_penalties",
          "rankings_sos_basic_rating_matchup_differential",
          "offense_total_3rd_downs_matchup_differential",
          "def_turnovers_int_pcnt_matchup_differential",
          "home_def_turnovers_int_pcnt",
          "home_defense_passing_sack_pcnt",
          "road_defense_total_assisted_tackles",
          "road_offense_special_teams_gross_punt_ypa",
          "home_penalties_opponent_penalty_1st_downs",
          "offense_total_punts_per_score_matchup_differential",
          "road_defense_rushing_1st_down_pcnt",
          "home_penalties_opponent_penalty_yards",
          "road_def_turnovers_fumbles",
          "defense_total_assisted_tackles_matchup_differential",
          "road_off_turnovers_int_pcnt",
          "home_offense_total_3rd_down_conversions",
          "home_offense_total_4th_down_conversions",
          "offense_total_yards_per_play_matchup_differential",
          "road_defense_rushing_ypg",
          "offense_passing_1st_downs_matchup_differential",
          "road_offense_total_opp_asst_tackles",
          "home_penalties_yards_per_penalty",
          "defense_total_1st_downs_per_play_matchup_differential",
          "defense_passing_ypa_matchup_differential",
          "road_offense_passing_ypa",
          "road_defense_total_seconds_per_play",
          "home_defense_passing_1st_downs",
          "travel_delta",
          "rest_differential",
          "defense_total_time_of_possession_matchup_differential",
          "defense_total_3rd_downs_matchup_differential",
          "offense_scoring_points_per_play_matchup_differential",
          "home_offense_total_seconds_per_play",
          "offense_total_4th_down_conversions_matchup_differential",
          "road_defense_passing_attempts",
          "home_defense_total_3rd_downs",
          "offense_passing_ypc_matchup_differential",
          "home_defense_passing_attempts",
          "road_defense_passing_pass_rtg",
          "offense_special_teams_gross_punt_ypa_matchup_differential",
          "defense_passing_incompletions_matchup_differential",
          "road_defense_total_yards_per_play",
          "road_defense_scoring_rz_attempts",
          "road_defense_passing_sack_pcnt",
          "road_offense_passing_1st_down_pcnt",
          "penalties_opponent_penalty_1st_downs_matchup_differential",
          "road_offense_scoring_rz_td_pcnt",
          "defense_total_3rd_down_conversions_matchup_differential",
          "road_defense_passing_1st_downs",
          "road_offense_total_seconds_per_play",
          "defense_total_plays_matchup_differential",
          "home_offense_passing_1st_down_pcnt",
          "home_defense_passing_td_pcnt",
          "defense_total_tackles_matchup_differential",
          "road_defense_special_teams_net_punt_ypa",
          "offense_passing_completion_pcnt_matchup_differential",
          "home_days_rest",
          "penalties_yards_per_penalty_matchup_differential",
          "defense_passing_1st_down_pcnt_matchup_differential",
          "road_off_turnovers_fumbles",
          "road_defense_total_3rd_downs",
          "offense_rushing_ypa_matchup_differential",
          "home_defense_total_seconds_per_play",
          "road_offense_total_3rd_downs",
          "home_defense_special_teams_gross_punt_yards",
          "home_defense_rushing_1st_down_pcnt",
          "defense_total_3rd_down_conversion_pcnt_matchup_differential",
          "away_travel_distance",
          "home_offense_total_4th_downs",
          "defense_rushing_ypa_matchup_differential",
          "offense_total_4th_downs_matchup_differential",
          "home_defense_total_punts_per_play",
          "road_defense_special_teams_net_punt_yards",
          "week",
          "defense_special_teams_net_punt_ypa_all_matchup_differential",
          "offense_scoring_points_per_game_matchup_differential",
          "home_defense_passing_completion_pcnt",
          "road_defense_scoring_rz_td_pcnt",
          "road_defense_total_solo_tackles",
          "home_offense_rushing_ypa",
          "road_defense_total_punts_per_play",
          "road_rankings_sos_basic_rating",
          "home_offense_total_3rd_downs",
          "road_defense_rushing_ypa",
          "defense_passing_completion_pcnt_matchup_differential",
          "defense_passing_play_pcnt_matchup_differential"
         ],
         "xaxis": "x",
         "y": [
          0.07035172898200548,
          0.10937535752149999,
          0.14501745003325228,
          0.1788710406283225,
          0.20757033415660703,
          0.232876404069379,
          0.2539636385071961,
          0.26856943777617004,
          0.282641218734027,
          0.29526945000728044,
          0.3078470435760522,
          0.31918625321157656,
          0.32958510528626866,
          0.33910381661804045,
          0.3470453347635933,
          0.35490342990530643,
          0.3623665801384637,
          0.36952634964154873,
          0.37641458136604466,
          0.3832133369935689,
          0.38937565080066605,
          0.39553008097295966,
          0.40137528822392965,
          0.4071204429062242,
          0.41282014096978653,
          0.4184467915366273,
          0.42399031236691964,
          0.4293568946563752,
          0.43471553390248485,
          0.4397477412641051,
          0.4447108438918482,
          0.4496558567261364,
          0.4545798658643879,
          0.4594660110992711,
          0.46432815362402013,
          0.4691812982237377,
          0.47381706290875875,
          0.4784370650842087,
          0.483047645131409,
          0.4875985952397337,
          0.4918007744001063,
          0.49599655493518013,
          0.5001567628999766,
          0.5043023186042769,
          0.5083899752229063,
          0.512440160871792,
          0.5164759516664335,
          0.5204458824803562,
          0.5244069488872318,
          0.5283591148347266,
          0.5322344071682369,
          0.5360872762757191,
          0.5399290877142836,
          0.5437440148476125,
          0.5475011993171042,
          0.55123842672422,
          0.5549423490662793,
          0.5586413920878932,
          0.5623107795978468,
          0.565909040942366,
          0.5694913785674506,
          0.5730236651413744,
          0.5765548489766033,
          0.5800817622023284,
          0.5836070270500566,
          0.5871198588347947,
          0.5906065340022634,
          0.594085500040061,
          0.5975378772212475,
          0.6009435744676993,
          0.6043278637982135,
          0.6076700155192042,
          0.6109932357424387,
          0.6143025316919577,
          0.6175541814379693,
          0.6207834599122011,
          0.6239725512522398,
          0.6271443169491474,
          0.6303120962627458,
          0.6334671021375065,
          0.6366070263883171,
          0.6397188085724119,
          0.6428129378909132,
          0.6459023155154373,
          0.6489869258119132,
          0.6520296251361807,
          0.6550501225969033,
          0.658025100581035,
          0.6609903793180183,
          0.6639475070548122,
          0.666890491634943,
          0.6698219024317741,
          0.6727412912290428,
          0.6756536447799794,
          0.6785636697201658,
          0.6814730926219936,
          0.6843698334443444,
          0.6872658889833547,
          0.6901482762691573,
          0.693026900348359,
          0.6959027132763731,
          0.6987635374786343,
          0.7016062941252578,
          0.7044364142291992,
          0.7072660740526883,
          0.7100948049610215,
          0.7129168123128838,
          0.715723644856253,
          0.7185282155508774,
          0.7213052954185702,
          0.7240813487978144,
          0.7268565314227989,
          0.7295584191519129,
          0.7322541690255603,
          0.7348761514979103,
          0.737493147748999,
          0.7401081544093943,
          0.7427129425757121,
          0.7453034210801938,
          0.7478817923546242,
          0.7504391406802344,
          0.7529936472188542,
          0.7555340770249457,
          0.758074496308613,
          0.7606132351059179,
          0.7631353267983761,
          0.7656524307445475,
          0.7681686245134862,
          0.770682705566978,
          0.773188364185288,
          0.7756917247857966,
          0.7781877428726753,
          0.7806833537500226,
          0.783173273430274,
          0.7856615529053314,
          0.7881344103729886,
          0.7906042915385897,
          0.7930606924869542,
          0.7954966450190789,
          0.7979289744556104,
          0.8003608954533881,
          0.8027814427712109,
          0.8051899830649663,
          0.8075938948487908,
          0.8099745959674899,
          0.8123314344359385,
          0.814684162852532,
          0.8170225148532042,
          0.8193567661298675,
          0.8216876799974533,
          0.8240174233924745,
          0.8263468032340124,
          0.8286725488085394,
          0.8309930211203453,
          0.8333099847138259,
          0.8356220199318848,
          0.8379278681947507,
          0.840219802048363,
          0.8425092836974228,
          0.8447933785996469,
          0.8470722847460493,
          0.8493503530150136,
          0.8516241625488259,
          0.8538829048916202,
          0.8561388402968352,
          0.8583854540940096,
          0.8606303216506741,
          0.8628684575915555,
          0.8651025613403028,
          0.8673223416595749,
          0.8695417518627829,
          0.8717496607503414,
          0.8739558030517636,
          0.8761611708189574,
          0.8783366476244125,
          0.8805107601891261,
          0.8826539535933273,
          0.8847919406434,
          0.8869212787482683,
          0.8890488152940955,
          0.8911547385044136,
          0.8932538024057213,
          0.8953438720408978,
          0.8974334896689793,
          0.8995215122416047,
          0.9016090483289239,
          0.9036893811155685,
          0.905767019316159,
          0.9078355047588424,
          0.9099015076543051,
          0.9119671617383107,
          0.914028911286444,
          0.9160770412828304,
          0.9181200017649134,
          0.9201620986610026,
          0.9221963358993762,
          0.9242227894394689,
          0.9262301180611554,
          0.9281905999036449,
          0.9301487136248282
         ],
         "yaxis": "y"
        }
       ],
       "layout": {
        "autosize": true,
        "legend": {
         "tracegroupgap": 0
        },
        "template": {
         "data": {
          "bar": [
           {
            "error_x": {
             "color": "#2a3f5f"
            },
            "error_y": {
             "color": "#2a3f5f"
            },
            "marker": {
             "line": {
              "color": "#E5ECF6",
              "width": 0.5
             },
             "pattern": {
              "fillmode": "overlay",
              "size": 10,
              "solidity": 0.2
             }
            },
            "type": "bar"
           }
          ],
          "barpolar": [
           {
            "marker": {
             "line": {
              "color": "#E5ECF6",
              "width": 0.5
             },
             "pattern": {
              "fillmode": "overlay",
              "size": 10,
              "solidity": 0.2
             }
            },
            "type": "barpolar"
           }
          ],
          "carpet": [
           {
            "aaxis": {
             "endlinecolor": "#2a3f5f",
             "gridcolor": "white",
             "linecolor": "white",
             "minorgridcolor": "white",
             "startlinecolor": "#2a3f5f"
            },
            "baxis": {
             "endlinecolor": "#2a3f5f",
             "gridcolor": "white",
             "linecolor": "white",
             "minorgridcolor": "white",
             "startlinecolor": "#2a3f5f"
            },
            "type": "carpet"
           }
          ],
          "choropleth": [
           {
            "colorbar": {
             "outlinewidth": 0,
             "ticks": ""
            },
            "type": "choropleth"
           }
          ],
          "contour": [
           {
            "colorbar": {
             "outlinewidth": 0,
             "ticks": ""
            },
            "colorscale": [
             [
              0,
              "#0d0887"
             ],
             [
              0.1111111111111111,
              "#46039f"
             ],
             [
              0.2222222222222222,
              "#7201a8"
             ],
             [
              0.3333333333333333,
              "#9c179e"
             ],
             [
              0.4444444444444444,
              "#bd3786"
             ],
             [
              0.5555555555555556,
              "#d8576b"
             ],
             [
              0.6666666666666666,
              "#ed7953"
             ],
             [
              0.7777777777777778,
              "#fb9f3a"
             ],
             [
              0.8888888888888888,
              "#fdca26"
             ],
             [
              1,
              "#f0f921"
             ]
            ],
            "type": "contour"
           }
          ],
          "contourcarpet": [
           {
            "colorbar": {
             "outlinewidth": 0,
             "ticks": ""
            },
            "type": "contourcarpet"
           }
          ],
          "heatmap": [
           {
            "colorbar": {
             "outlinewidth": 0,
             "ticks": ""
            },
            "colorscale": [
             [
              0,
              "#0d0887"
             ],
             [
              0.1111111111111111,
              "#46039f"
             ],
             [
              0.2222222222222222,
              "#7201a8"
             ],
             [
              0.3333333333333333,
              "#9c179e"
             ],
             [
              0.4444444444444444,
              "#bd3786"
             ],
             [
              0.5555555555555556,
              "#d8576b"
             ],
             [
              0.6666666666666666,
              "#ed7953"
             ],
             [
              0.7777777777777778,
              "#fb9f3a"
             ],
             [
              0.8888888888888888,
              "#fdca26"
             ],
             [
              1,
              "#f0f921"
             ]
            ],
            "type": "heatmap"
           }
          ],
          "heatmapgl": [
           {
            "colorbar": {
             "outlinewidth": 0,
             "ticks": ""
            },
            "colorscale": [
             [
              0,
              "#0d0887"
             ],
             [
              0.1111111111111111,
              "#46039f"
             ],
             [
              0.2222222222222222,
              "#7201a8"
             ],
             [
              0.3333333333333333,
              "#9c179e"
             ],
             [
              0.4444444444444444,
              "#bd3786"
             ],
             [
              0.5555555555555556,
              "#d8576b"
             ],
             [
              0.6666666666666666,
              "#ed7953"
             ],
             [
              0.7777777777777778,
              "#fb9f3a"
             ],
             [
              0.8888888888888888,
              "#fdca26"
             ],
             [
              1,
              "#f0f921"
             ]
            ],
            "type": "heatmapgl"
           }
          ],
          "histogram": [
           {
            "marker": {
             "pattern": {
              "fillmode": "overlay",
              "size": 10,
              "solidity": 0.2
             }
            },
            "type": "histogram"
           }
          ],
          "histogram2d": [
           {
            "colorbar": {
             "outlinewidth": 0,
             "ticks": ""
            },
            "colorscale": [
             [
              0,
              "#0d0887"
             ],
             [
              0.1111111111111111,
              "#46039f"
             ],
             [
              0.2222222222222222,
              "#7201a8"
             ],
             [
              0.3333333333333333,
              "#9c179e"
             ],
             [
              0.4444444444444444,
              "#bd3786"
             ],
             [
              0.5555555555555556,
              "#d8576b"
             ],
             [
              0.6666666666666666,
              "#ed7953"
             ],
             [
              0.7777777777777778,
              "#fb9f3a"
             ],
             [
              0.8888888888888888,
              "#fdca26"
             ],
             [
              1,
              "#f0f921"
             ]
            ],
            "type": "histogram2d"
           }
          ],
          "histogram2dcontour": [
           {
            "colorbar": {
             "outlinewidth": 0,
             "ticks": ""
            },
            "colorscale": [
             [
              0,
              "#0d0887"
             ],
             [
              0.1111111111111111,
              "#46039f"
             ],
             [
              0.2222222222222222,
              "#7201a8"
             ],
             [
              0.3333333333333333,
              "#9c179e"
             ],
             [
              0.4444444444444444,
              "#bd3786"
             ],
             [
              0.5555555555555556,
              "#d8576b"
             ],
             [
              0.6666666666666666,
              "#ed7953"
             ],
             [
              0.7777777777777778,
              "#fb9f3a"
             ],
             [
              0.8888888888888888,
              "#fdca26"
             ],
             [
              1,
              "#f0f921"
             ]
            ],
            "type": "histogram2dcontour"
           }
          ],
          "mesh3d": [
           {
            "colorbar": {
             "outlinewidth": 0,
             "ticks": ""
            },
            "type": "mesh3d"
           }
          ],
          "parcoords": [
           {
            "line": {
             "colorbar": {
              "outlinewidth": 0,
              "ticks": ""
             }
            },
            "type": "parcoords"
           }
          ],
          "pie": [
           {
            "automargin": true,
            "type": "pie"
           }
          ],
          "scatter": [
           {
            "fillpattern": {
             "fillmode": "overlay",
             "size": 10,
             "solidity": 0.2
            },
            "type": "scatter"
           }
          ],
          "scatter3d": [
           {
            "line": {
             "colorbar": {
              "outlinewidth": 0,
              "ticks": ""
             }
            },
            "marker": {
             "colorbar": {
              "outlinewidth": 0,
              "ticks": ""
             }
            },
            "type": "scatter3d"
           }
          ],
          "scattercarpet": [
           {
            "marker": {
             "colorbar": {
              "outlinewidth": 0,
              "ticks": ""
             }
            },
            "type": "scattercarpet"
           }
          ],
          "scattergeo": [
           {
            "marker": {
             "colorbar": {
              "outlinewidth": 0,
              "ticks": ""
             }
            },
            "type": "scattergeo"
           }
          ],
          "scattergl": [
           {
            "marker": {
             "colorbar": {
              "outlinewidth": 0,
              "ticks": ""
             }
            },
            "type": "scattergl"
           }
          ],
          "scattermapbox": [
           {
            "marker": {
             "colorbar": {
              "outlinewidth": 0,
              "ticks": ""
             }
            },
            "type": "scattermapbox"
           }
          ],
          "scatterpolar": [
           {
            "marker": {
             "colorbar": {
              "outlinewidth": 0,
              "ticks": ""
             }
            },
            "type": "scatterpolar"
           }
          ],
          "scatterpolargl": [
           {
            "marker": {
             "colorbar": {
              "outlinewidth": 0,
              "ticks": ""
             }
            },
            "type": "scatterpolargl"
           }
          ],
          "scatterternary": [
           {
            "marker": {
             "colorbar": {
              "outlinewidth": 0,
              "ticks": ""
             }
            },
            "type": "scatterternary"
           }
          ],
          "surface": [
           {
            "colorbar": {
             "outlinewidth": 0,
             "ticks": ""
            },
            "colorscale": [
             [
              0,
              "#0d0887"
             ],
             [
              0.1111111111111111,
              "#46039f"
             ],
             [
              0.2222222222222222,
              "#7201a8"
             ],
             [
              0.3333333333333333,
              "#9c179e"
             ],
             [
              0.4444444444444444,
              "#bd3786"
             ],
             [
              0.5555555555555556,
              "#d8576b"
             ],
             [
              0.6666666666666666,
              "#ed7953"
             ],
             [
              0.7777777777777778,
              "#fb9f3a"
             ],
             [
              0.8888888888888888,
              "#fdca26"
             ],
             [
              1,
              "#f0f921"
             ]
            ],
            "type": "surface"
           }
          ],
          "table": [
           {
            "cells": {
             "fill": {
              "color": "#EBF0F8"
             },
             "line": {
              "color": "white"
             }
            },
            "header": {
             "fill": {
              "color": "#C8D4E3"
             },
             "line": {
              "color": "white"
             }
            },
            "type": "table"
           }
          ]
         },
         "layout": {
          "annotationdefaults": {
           "arrowcolor": "#2a3f5f",
           "arrowhead": 0,
           "arrowwidth": 1
          },
          "autotypenumbers": "strict",
          "coloraxis": {
           "colorbar": {
            "outlinewidth": 0,
            "ticks": ""
           }
          },
          "colorscale": {
           "diverging": [
            [
             0,
             "#8e0152"
            ],
            [
             0.1,
             "#c51b7d"
            ],
            [
             0.2,
             "#de77ae"
            ],
            [
             0.3,
             "#f1b6da"
            ],
            [
             0.4,
             "#fde0ef"
            ],
            [
             0.5,
             "#f7f7f7"
            ],
            [
             0.6,
             "#e6f5d0"
            ],
            [
             0.7,
             "#b8e186"
            ],
            [
             0.8,
             "#7fbc41"
            ],
            [
             0.9,
             "#4d9221"
            ],
            [
             1,
             "#276419"
            ]
           ],
           "sequential": [
            [
             0,
             "#0d0887"
            ],
            [
             0.1111111111111111,
             "#46039f"
            ],
            [
             0.2222222222222222,
             "#7201a8"
            ],
            [
             0.3333333333333333,
             "#9c179e"
            ],
            [
             0.4444444444444444,
             "#bd3786"
            ],
            [
             0.5555555555555556,
             "#d8576b"
            ],
            [
             0.6666666666666666,
             "#ed7953"
            ],
            [
             0.7777777777777778,
             "#fb9f3a"
            ],
            [
             0.8888888888888888,
             "#fdca26"
            ],
            [
             1,
             "#f0f921"
            ]
           ],
           "sequentialminus": [
            [
             0,
             "#0d0887"
            ],
            [
             0.1111111111111111,
             "#46039f"
            ],
            [
             0.2222222222222222,
             "#7201a8"
            ],
            [
             0.3333333333333333,
             "#9c179e"
            ],
            [
             0.4444444444444444,
             "#bd3786"
            ],
            [
             0.5555555555555556,
             "#d8576b"
            ],
            [
             0.6666666666666666,
             "#ed7953"
            ],
            [
             0.7777777777777778,
             "#fb9f3a"
            ],
            [
             0.8888888888888888,
             "#fdca26"
            ],
            [
             1,
             "#f0f921"
            ]
           ]
          },
          "colorway": [
           "#636efa",
           "#EF553B",
           "#00cc96",
           "#ab63fa",
           "#FFA15A",
           "#19d3f3",
           "#FF6692",
           "#B6E880",
           "#FF97FF",
           "#FECB52"
          ],
          "font": {
           "color": "#2a3f5f"
          },
          "geo": {
           "bgcolor": "white",
           "lakecolor": "white",
           "landcolor": "#E5ECF6",
           "showlakes": true,
           "showland": true,
           "subunitcolor": "white"
          },
          "hoverlabel": {
           "align": "left"
          },
          "hovermode": "closest",
          "mapbox": {
           "style": "light"
          },
          "paper_bgcolor": "white",
          "plot_bgcolor": "#E5ECF6",
          "polar": {
           "angularaxis": {
            "gridcolor": "white",
            "linecolor": "white",
            "ticks": ""
           },
           "bgcolor": "#E5ECF6",
           "radialaxis": {
            "gridcolor": "white",
            "linecolor": "white",
            "ticks": ""
           }
          },
          "scene": {
           "xaxis": {
            "backgroundcolor": "#E5ECF6",
            "gridcolor": "white",
            "gridwidth": 2,
            "linecolor": "white",
            "showbackground": true,
            "ticks": "",
            "zerolinecolor": "white"
           },
           "yaxis": {
            "backgroundcolor": "#E5ECF6",
            "gridcolor": "white",
            "gridwidth": 2,
            "linecolor": "white",
            "showbackground": true,
            "ticks": "",
            "zerolinecolor": "white"
           },
           "zaxis": {
            "backgroundcolor": "#E5ECF6",
            "gridcolor": "white",
            "gridwidth": 2,
            "linecolor": "white",
            "showbackground": true,
            "ticks": "",
            "zerolinecolor": "white"
           }
          },
          "shapedefaults": {
           "line": {
            "color": "#2a3f5f"
           }
          },
          "ternary": {
           "aaxis": {
            "gridcolor": "white",
            "linecolor": "white",
            "ticks": ""
           },
           "baxis": {
            "gridcolor": "white",
            "linecolor": "white",
            "ticks": ""
           },
           "bgcolor": "#E5ECF6",
           "caxis": {
            "gridcolor": "white",
            "linecolor": "white",
            "ticks": ""
           }
          },
          "title": {
           "x": 0.05
          },
          "xaxis": {
           "automargin": true,
           "gridcolor": "white",
           "linecolor": "white",
           "ticks": "",
           "title": {
            "standoff": 15
           },
           "zerolinecolor": "white",
           "zerolinewidth": 2
          },
          "yaxis": {
           "automargin": true,
           "gridcolor": "white",
           "linecolor": "white",
           "ticks": "",
           "title": {
            "standoff": 15
           },
           "zerolinecolor": "white",
           "zerolinewidth": 2
          }
         }
        },
        "title": {
         "text": "cumulative_feature_importance"
        },
        "xaxis": {
         "anchor": "y",
         "autorange": true,
         "domain": [
          0,
          1
         ],
         "range": [
          0,
          199
         ],
         "title": {
          "text": "feature"
         },
         "type": "category"
        },
        "yaxis": {
         "anchor": "x",
         "autorange": true,
         "domain": [
          0,
          1
         ],
         "range": [
          0.02258522983518199,
          0.9779152127716517
         ],
         "title": {
          "text": "cumulative_importance"
         },
         "type": "linear"
        }
       }
      },
      "image/png": "[encoded data removed]",
      "text/html": [
       "<div>                            <div id=\"fe494a15-9302-41ca-acff-c42e6edc0b7a\" class=\"plotly-graph-div\" style=\"height:525px; width:100%;\"></div>            <script type=\"text/javascript\">                require([\"plotly\"], function(Plotly) {                    window.PLOTLYENV=window.PLOTLYENV || {};                                    if (document.getElementById(\"fe494a15-9302-41ca-acff-c42e6edc0b7a\")) {                    Plotly.newPlot(                        \"fe494a15-9302-41ca-acff-c42e6edc0b7a\",                        [{\"hovertemplate\":\"feature=%{x}\\u003cbr\\u003ecumulative_importance=%{y}\\u003cextra\\u003e\\u003c\\u002fextra\\u003e\",\"legendgroup\":\"\",\"line\":{\"color\":\"#636efa\",\"dash\":\"solid\"},\"marker\":{\"symbol\":\"circle\"},\"mode\":\"lines\",\"name\":\"\",\"orientation\":\"v\",\"showlegend\":false,\"x\":[\"rankings_predictive_rating_matchup_differential\",\"home_rankings_predictive_rating\",\"offense_scoring_points_per_game_delta_matchup_differential\",\"road_rankings_predictive_rating\",\"home_rankings_road_rating\",\"rankings_home_rating_matchup_differential\",\"road_rankings_home_rating\",\"home_offense_scoring_points_per_game_delta\",\"road_offense_scoring_points_per_game\",\"road_rankings_road_rating\",\"road_offense_scoring_points_per_play\",\"home_rankings_home_rating\",\"road_offense_scoring_points_per_game_delta\",\"rankings_luck_rating_matchup_differential\",\"road_offense_total_1st_downs\",\"road_offense_total_yards\",\"home_defense_rushing_attempts\",\"road_offense_total_punts_per_score\",\"road_offense_scoring_yards_per_point\",\"home_rankings_luck_rating\",\"road_offense_passing_pass_rtg\",\"home_offense_total_punts_per_play\",\"home_defense_passing_ypa\",\"road_offense_total_yards_per_play\",\"home_offense_total_1st_downs_per_play\",\"home_defense_rushing_ypg\",\"home_offense_total_punts_per_score\",\"home_offense_passing_pass_rtg\",\"road_offense_total_1st_downs_per_play\",\"home_offense_total_yards\",\"home_offense_passing_sack_pcnt\",\"home_offense_total_1st_downs\",\"road_offense_total_3rd_down_conversion_pcnt\",\"home_offense_scoring_points_per_play\",\"home_defense_scoring_yards_per_point\",\"home_offense_total_plays\",\"home_defense_total_yards_per_play\",\"penalties_penalties_matchup_differential\",\"home_offense_scoring_points_per_game\",\"home_defense_passing_pass_rtg\",\"road_rankings_luck_rating\",\"home_off_turnovers_fumbles\",\"road_offense_scoring_yards_per_point_delta\",\"home_defense_passing_ypc\",\"home_defense_total_punts_per_score\",\"home_off_turnovers_int_pcnt\",\"home_def_turnovers_takeaways\",\"home_defense_special_teams_net_punt_ypa\",\"home_offense_total_opp_solo_tackles\",\"road_penalties_opponent_penalty_yards\",\"road_offense_total_3rd_down_conversions\",\"road_penalties_opponent_yards_per_penalty\",\"home_defense_total_1st_downs_per_play\",\"road_defense_passing_ypc\",\"road_offense_passing_sack_pcnt\",\"home_offense_passing_completion_pcnt\",\"offense_scoring_yards_per_point_delta_matchup_differential\",\"home_offense_passing_ypc\",\"road_defense_total_3rd_down_conversion_pcnt\",\"road_def_turnovers_takeaways\",\"defense_rushing_1st_down_pcnt_matchup_differential\",\"home_offense_scoring_yards_per_point_delta\",\"road_defense_rushing_attempts\",\"offense_total_plays_matchup_differential\",\"road_offense_passing_ypc\",\"home_offense_total_opp_tackles\",\"road_offense_total_punts_per_play\",\"road_rankings_consistency_rating\",\"home_offense_total_yards_per_play\",\"home_offense_passing_ypa\",\"road_penalties_opponent_penalty_1st_downs\",\"road_defense_special_teams_gross_punt_yards\",\"off_turnovers_fumbles_matchup_differential\",\"home_defense_total_plays\",\"defense_total_1st_downs_matchup_differential\",\"offense_passing_sack_pcnt_matchup_differential\",\"road_offense_total_4th_down_conversions\",\"defense_passing_ypc_matchup_differential\",\"road_defense_passing_ypa\",\"home_offense_total_opp_asst_tackles\",\"road_offense_passing_incompletions\",\"road_defense_total_4th_downs\",\"defense_total_yards_matchup_differential\",\"home_defense_special_teams_net_punt_yards\",\"offense_total_punts_per_play_matchup_differential\",\"road_offense_total_4th_downs\",\"home_defense_rushing_ypa\",\"road_defense_passing_sacks\",\"road_offense_total_opp_tackles\",\"offense_passing_pass_rtg_matchup_differential\",\"home_defense_passing_sacks\",\"penalties_opponent_penalty_yards_matchup_differential\",\"road_offense_total_plays\",\"home_defense_total_4th_downs\",\"offense_special_teams_net_punt_ypa_all_matchup_differential\",\"road_offense_total_opp_solo_tackles\",\"home_defense_total_solo_tackles\",\"offense_total_1st_downs_per_play_matchup_differential\",\"home_penalties_penalties\",\"road_def_turnovers_int_pcnt\",\"offense_total_yards_matchup_differential\",\"defense_total_4th_down_conversions_matchup_differential\",\"offense_total_opp_solo_tackles_matchup_differential\",\"defense_passing_sack_pcnt_matchup_differential\",\"offense_total_1st_downs_matchup_differential\",\"road_offense_passing_completion_pcnt\",\"home_offense_total_3rd_down_conversion_pcnt\",\"offense_passing_ypa_matchup_differential\",\"offense_total_opp_tackles_matchup_differential\",\"home_penalties_opponent_yards_per_penalty\",\"home_defense_scoring_rz_attempts\",\"home_offense_scoring_yards_per_point\",\"road_offense_passing_attempts\",\"defense_total_seconds_per_play_matchup_differential\",\"road_penalties_penalties\",\"rankings_sos_basic_rating_matchup_differential\",\"offense_total_3rd_downs_matchup_differential\",\"def_turnovers_int_pcnt_matchup_differential\",\"home_def_turnovers_int_pcnt\",\"home_defense_passing_sack_pcnt\",\"road_defense_total_assisted_tackles\",\"road_offense_special_teams_gross_punt_ypa\",\"home_penalties_opponent_penalty_1st_downs\",\"offense_total_punts_per_score_matchup_differential\",\"road_defense_rushing_1st_down_pcnt\",\"home_penalties_opponent_penalty_yards\",\"road_def_turnovers_fumbles\",\"defense_total_assisted_tackles_matchup_differential\",\"road_off_turnovers_int_pcnt\",\"home_offense_total_3rd_down_conversions\",\"home_offense_total_4th_down_conversions\",\"offense_total_yards_per_play_matchup_differential\",\"road_defense_rushing_ypg\",\"offense_passing_1st_downs_matchup_differential\",\"road_offense_total_opp_asst_tackles\",\"home_penalties_yards_per_penalty\",\"defense_total_1st_downs_per_play_matchup_differential\",\"defense_passing_ypa_matchup_differential\",\"road_offense_passing_ypa\",\"road_defense_total_seconds_per_play\",\"home_defense_passing_1st_downs\",\"travel_delta\",\"rest_differential\",\"defense_total_time_of_possession_matchup_differential\",\"defense_total_3rd_downs_matchup_differential\",\"offense_scoring_points_per_play_matchup_differential\",\"home_offense_total_seconds_per_play\",\"offense_total_4th_down_conversions_matchup_differential\",\"road_defense_passing_attempts\",\"home_defense_total_3rd_downs\",\"offense_passing_ypc_matchup_differential\",\"home_defense_passing_attempts\",\"road_defense_passing_pass_rtg\",\"offense_special_teams_gross_punt_ypa_matchup_differential\",\"defense_passing_incompletions_matchup_differential\",\"road_defense_total_yards_per_play\",\"road_defense_scoring_rz_attempts\",\"road_defense_passing_sack_pcnt\",\"road_offense_passing_1st_down_pcnt\",\"penalties_opponent_penalty_1st_downs_matchup_differential\",\"road_offense_scoring_rz_td_pcnt\",\"defense_total_3rd_down_conversions_matchup_differential\",\"road_defense_passing_1st_downs\",\"road_offense_total_seconds_per_play\",\"defense_total_plays_matchup_differential\",\"home_offense_passing_1st_down_pcnt\",\"home_defense_passing_td_pcnt\",\"defense_total_tackles_matchup_differential\",\"road_defense_special_teams_net_punt_ypa\",\"offense_passing_completion_pcnt_matchup_differential\",\"home_days_rest\",\"penalties_yards_per_penalty_matchup_differential\",\"defense_passing_1st_down_pcnt_matchup_differential\",\"road_off_turnovers_fumbles\",\"road_defense_total_3rd_downs\",\"offense_rushing_ypa_matchup_differential\",\"home_defense_total_seconds_per_play\",\"road_offense_total_3rd_downs\",\"home_defense_special_teams_gross_punt_yards\",\"home_defense_rushing_1st_down_pcnt\",\"defense_total_3rd_down_conversion_pcnt_matchup_differential\",\"away_travel_distance\",\"home_offense_total_4th_downs\",\"defense_rushing_ypa_matchup_differential\",\"offense_total_4th_downs_matchup_differential\",\"home_defense_total_punts_per_play\",\"road_defense_special_teams_net_punt_yards\",\"week\",\"defense_special_teams_net_punt_ypa_all_matchup_differential\",\"offense_scoring_points_per_game_matchup_differential\",\"home_defense_passing_completion_pcnt\",\"road_defense_scoring_rz_td_pcnt\",\"road_defense_total_solo_tackles\",\"home_offense_rushing_ypa\",\"road_defense_total_punts_per_play\",\"road_rankings_sos_basic_rating\",\"home_offense_total_3rd_downs\",\"road_defense_rushing_ypa\",\"defense_passing_completion_pcnt_matchup_differential\",\"defense_passing_play_pcnt_matchup_differential\"],\"xaxis\":\"x\",\"y\":[0.07035172898200548,0.10937535752149999,0.14501745003325228,0.1788710406283225,0.20757033415660703,0.232876404069379,0.2539636385071961,0.26856943777617004,0.282641218734027,0.29526945000728044,0.3078470435760522,0.31918625321157656,0.32958510528626866,0.33910381661804045,0.3470453347635933,0.35490342990530643,0.3623665801384637,0.36952634964154873,0.37641458136604466,0.3832133369935689,0.38937565080066605,0.39553008097295966,0.40137528822392965,0.4071204429062242,0.41282014096978653,0.4184467915366273,0.42399031236691964,0.4293568946563752,0.43471553390248485,0.4397477412641051,0.4447108438918482,0.4496558567261364,0.4545798658643879,0.4594660110992711,0.46432815362402013,0.4691812982237377,0.47381706290875875,0.4784370650842087,0.483047645131409,0.4875985952397337,0.4918007744001063,0.49599655493518013,0.5001567628999766,0.5043023186042769,0.5083899752229063,0.512440160871792,0.5164759516664335,0.5204458824803562,0.5244069488872318,0.5283591148347266,0.5322344071682369,0.5360872762757191,0.5399290877142836,0.5437440148476125,0.5475011993171042,0.55123842672422,0.5549423490662793,0.5586413920878932,0.5623107795978468,0.565909040942366,0.5694913785674506,0.5730236651413744,0.5765548489766033,0.5800817622023284,0.5836070270500566,0.5871198588347947,0.5906065340022634,0.594085500040061,0.5975378772212475,0.6009435744676993,0.6043278637982135,0.6076700155192042,0.6109932357424387,0.6143025316919577,0.6175541814379693,0.6207834599122011,0.6239725512522398,0.6271443169491474,0.6303120962627458,0.6334671021375065,0.6366070263883171,0.6397188085724119,0.6428129378909132,0.6459023155154373,0.6489869258119132,0.6520296251361807,0.6550501225969033,0.658025100581035,0.6609903793180183,0.6639475070548122,0.666890491634943,0.6698219024317741,0.6727412912290428,0.6756536447799794,0.6785636697201658,0.6814730926219936,0.6843698334443444,0.6872658889833547,0.6901482762691573,0.693026900348359,0.6959027132763731,0.6987635374786343,0.7016062941252578,0.7044364142291992,0.7072660740526883,0.7100948049610215,0.7129168123128838,0.715723644856253,0.7185282155508774,0.7213052954185702,0.7240813487978144,0.7268565314227989,0.7295584191519129,0.7322541690255603,0.7348761514979103,0.737493147748999,0.7401081544093943,0.7427129425757121,0.7453034210801938,0.7478817923546242,0.7504391406802344,0.7529936472188542,0.7555340770249457,0.758074496308613,0.7606132351059179,0.7631353267983761,0.7656524307445475,0.7681686245134862,0.770682705566978,0.773188364185288,0.7756917247857966,0.7781877428726753,0.7806833537500226,0.783173273430274,0.7856615529053314,0.7881344103729886,0.7906042915385897,0.7930606924869542,0.7954966450190789,0.7979289744556104,0.8003608954533881,0.8027814427712109,0.8051899830649663,0.8075938948487908,0.8099745959674899,0.8123314344359385,0.814684162852532,0.8170225148532042,0.8193567661298675,0.8216876799974533,0.8240174233924745,0.8263468032340124,0.8286725488085394,0.8309930211203453,0.8333099847138259,0.8356220199318848,0.8379278681947507,0.840219802048363,0.8425092836974228,0.8447933785996469,0.8470722847460493,0.8493503530150136,0.8516241625488259,0.8538829048916202,0.8561388402968352,0.8583854540940096,0.8606303216506741,0.8628684575915555,0.8651025613403028,0.8673223416595749,0.8695417518627829,0.8717496607503414,0.8739558030517636,0.8761611708189574,0.8783366476244125,0.8805107601891261,0.8826539535933273,0.8847919406434,0.8869212787482683,0.8890488152940955,0.8911547385044136,0.8932538024057213,0.8953438720408978,0.8974334896689793,0.8995215122416047,0.9016090483289239,0.9036893811155685,0.905767019316159,0.9078355047588424,0.9099015076543051,0.9119671617383107,0.914028911286444,0.9160770412828304,0.9181200017649134,0.9201620986610026,0.9221963358993762,0.9242227894394689,0.9262301180611554,0.9281905999036449,0.9301487136248282],\"yaxis\":\"y\",\"type\":\"scatter\"}],                        {\"template\":{\"data\":{\"histogram2dcontour\":[{\"type\":\"histogram2dcontour\",\"colorbar\":{\"outlinewidth\":0,\"ticks\":\"\"},\"colorscale\":[[0.0,\"#0d0887\"],[0.1111111111111111,\"#46039f\"],[0.2222222222222222,\"#7201a8\"],[0.3333333333333333,\"#9c179e\"],[0.4444444444444444,\"#bd3786\"],[0.5555555555555556,\"#d8576b\"],[0.6666666666666666,\"#ed7953\"],[0.7777777777777778,\"#fb9f3a\"],[0.8888888888888888,\"#fdca26\"],[1.0,\"#f0f921\"]]}],\"choropleth\":[{\"type\":\"choropleth\",\"colorbar\":{\"outlinewidth\":0,\"ticks\":\"\"}}],\"histogram2d\":[{\"type\":\"histogram2d\",\"colorbar\":{\"outlinewidth\":0,\"ticks\":\"\"},\"colorscale\":[[0.0,\"#0d0887\"],[0.1111111111111111,\"#46039f\"],[0.2222222222222222,\"#7201a8\"],[0.3333333333333333,\"#9c179e\"],[0.4444444444444444,\"#bd3786\"],[0.5555555555555556,\"#d8576b\"],[0.6666666666666666,\"#ed7953\"],[0.7777777777777778,\"#fb9f3a\"],[0.8888888888888888,\"#fdca26\"],[1.0,\"#f0f921\"]]}],\"heatmap\":[{\"type\":\"heatmap\",\"colorbar\":{\"outlinewidth\":0,\"ticks\":\"\"},\"colorscale\":[[0.0,\"#0d0887\"],[0.1111111111111111,\"#46039f\"],[0.2222222222222222,\"#7201a8\"],[0.3333333333333333,\"#9c179e\"],[0.4444444444444444,\"#bd3786\"],[0.5555555555555556,\"#d8576b\"],[0.6666666666666666,\"#ed7953\"],[0.7777777777777778,\"#fb9f3a\"],[0.8888888888888888,\"#fdca26\"],[1.0,\"#f0f921\"]]}],\"heatmapgl\":[{\"type\":\"heatmapgl\",\"colorbar\":{\"outlinewidth\":0,\"ticks\":\"\"},\"colorscale\":[[0.0,\"#0d0887\"],[0.1111111111111111,\"#46039f\"],[0.2222222222222222,\"#7201a8\"],[0.3333333333333333,\"#9c179e\"],[0.4444444444444444,\"#bd3786\"],[0.5555555555555556,\"#d8576b\"],[0.6666666666666666,\"#ed7953\"],[0.7777777777777778,\"#fb9f3a\"],[0.8888888888888888,\"#fdca26\"],[1.0,\"#f0f921\"]]}],\"contourcarpet\":[{\"type\":\"contourcarpet\",\"colorbar\":{\"outlinewidth\":0,\"ticks\":\"\"}}],\"contour\":[{\"type\":\"contour\",\"colorbar\":{\"outlinewidth\":0,\"ticks\":\"\"},\"colorscale\":[[0.0,\"#0d0887\"],[0.1111111111111111,\"#46039f\"],[0.2222222222222222,\"#7201a8\"],[0.3333333333333333,\"#9c179e\"],[0.4444444444444444,\"#bd3786\"],[0.5555555555555556,\"#d8576b\"],[0.6666666666666666,\"#ed7953\"],[0.7777777777777778,\"#fb9f3a\"],[0.8888888888888888,\"#fdca26\"],[1.0,\"#f0f921\"]]}],\"surface\":[{\"type\":\"surface\",\"colorbar\":{\"outlinewidth\":0,\"ticks\":\"\"},\"colorscale\":[[0.0,\"#0d0887\"],[0.1111111111111111,\"#46039f\"],[0.2222222222222222,\"#7201a8\"],[0.3333333333333333,\"#9c179e\"],[0.4444444444444444,\"#bd3786\"],[0.5555555555555556,\"#d8576b\"],[0.6666666666666666,\"#ed7953\"],[0.7777777777777778,\"#fb9f3a\"],[0.8888888888888888,\"#fdca26\"],[1.0,\"#f0f921\"]]}],\"mesh3d\":[{\"type\":\"mesh3d\",\"colorbar\":{\"outlinewidth\":0,\"ticks\":\"\"}}],\"scatter\":[{\"fillpattern\":{\"fillmode\":\"overlay\",\"size\":10,\"solidity\":0.2},\"type\":\"scatter\"}],\"parcoords\":[{\"type\":\"parcoords\",\"line\":{\"colorbar\":{\"outlinewidth\":0,\"ticks\":\"\"}}}],\"scatterpolargl\":[{\"type\":\"scatterpolargl\",\"marker\":{\"colorbar\":{\"outlinewidth\":0,\"ticks\":\"\"}}}],\"bar\":[{\"error_x\":{\"color\":\"#2a3f5f\"},\"error_y\":{\"color\":\"#2a3f5f\"},\"marker\":{\"line\":{\"color\":\"#E5ECF6\",\"width\":0.5},\"pattern\":{\"fillmode\":\"overlay\",\"size\":10,\"solidity\":0.2}},\"type\":\"bar\"}],\"scattergeo\":[{\"type\":\"scattergeo\",\"marker\":{\"colorbar\":{\"outlinewidth\":0,\"ticks\":\"\"}}}],\"scatterpolar\":[{\"type\":\"scatterpolar\",\"marker\":{\"colorbar\":{\"outlinewidth\":0,\"ticks\":\"\"}}}],\"histogram\":[{\"marker\":{\"pattern\":{\"fillmode\":\"overlay\",\"size\":10,\"solidity\":0.2}},\"type\":\"histogram\"}],\"scattergl\":[{\"type\":\"scattergl\",\"marker\":{\"colorbar\":{\"outlinewidth\":0,\"ticks\":\"\"}}}],\"scatter3d\":[{\"type\":\"scatter3d\",\"line\":{\"colorbar\":{\"outlinewidth\":0,\"ticks\":\"\"}},\"marker\":{\"colorbar\":{\"outlinewidth\":0,\"ticks\":\"\"}}}],\"scattermapbox\":[{\"type\":\"scattermapbox\",\"marker\":{\"colorbar\":{\"outlinewidth\":0,\"ticks\":\"\"}}}],\"scatterternary\":[{\"type\":\"scatterternary\",\"marker\":{\"colorbar\":{\"outlinewidth\":0,\"ticks\":\"\"}}}],\"scattercarpet\":[{\"type\":\"scattercarpet\",\"marker\":{\"colorbar\":{\"outlinewidth\":0,\"ticks\":\"\"}}}],\"carpet\":[{\"aaxis\":{\"endlinecolor\":\"#2a3f5f\",\"gridcolor\":\"white\",\"linecolor\":\"white\",\"minorgridcolor\":\"white\",\"startlinecolor\":\"#2a3f5f\"},\"baxis\":{\"endlinecolor\":\"#2a3f5f\",\"gridcolor\":\"white\",\"linecolor\":\"white\",\"minorgridcolor\":\"white\",\"startlinecolor\":\"#2a3f5f\"},\"type\":\"carpet\"}],\"table\":[{\"cells\":{\"fill\":{\"color\":\"#EBF0F8\"},\"line\":{\"color\":\"white\"}},\"header\":{\"fill\":{\"color\":\"#C8D4E3\"},\"line\":{\"color\":\"white\"}},\"type\":\"table\"}],\"barpolar\":[{\"marker\":{\"line\":{\"color\":\"#E5ECF6\",\"width\":0.5},\"pattern\":{\"fillmode\":\"overlay\",\"size\":10,\"solidity\":0.2}},\"type\":\"barpolar\"}],\"pie\":[{\"automargin\":true,\"type\":\"pie\"}]},\"layout\":{\"autotypenumbers\":\"strict\",\"colorway\":[\"#636efa\",\"#EF553B\",\"#00cc96\",\"#ab63fa\",\"#FFA15A\",\"#19d3f3\",\"#FF6692\",\"#B6E880\",\"#FF97FF\",\"#FECB52\"],\"font\":{\"color\":\"#2a3f5f\"},\"hovermode\":\"closest\",\"hoverlabel\":{\"align\":\"left\"},\"paper_bgcolor\":\"white\",\"plot_bgcolor\":\"#E5ECF6\",\"polar\":{\"bgcolor\":\"#E5ECF6\",\"angularaxis\":{\"gridcolor\":\"white\",\"linecolor\":\"white\",\"ticks\":\"\"},\"radialaxis\":{\"gridcolor\":\"white\",\"linecolor\":\"white\",\"ticks\":\"\"}},\"ternary\":{\"bgcolor\":\"#E5ECF6\",\"aaxis\":{\"gridcolor\":\"white\",\"linecolor\":\"white\",\"ticks\":\"\"},\"baxis\":{\"gridcolor\":\"white\",\"linecolor\":\"white\",\"ticks\":\"\"},\"caxis\":{\"gridcolor\":\"white\",\"linecolor\":\"white\",\"ticks\":\"\"}},\"coloraxis\":{\"colorbar\":{\"outlinewidth\":0,\"ticks\":\"\"}},\"colorscale\":{\"sequential\":[[0.0,\"#0d0887\"],[0.1111111111111111,\"#46039f\"],[0.2222222222222222,\"#7201a8\"],[0.3333333333333333,\"#9c179e\"],[0.4444444444444444,\"#bd3786\"],[0.5555555555555556,\"#d8576b\"],[0.6666666666666666,\"#ed7953\"],[0.7777777777777778,\"#fb9f3a\"],[0.8888888888888888,\"#fdca26\"],[1.0,\"#f0f921\"]],\"sequentialminus\":[[0.0,\"#0d0887\"],[0.1111111111111111,\"#46039f\"],[0.2222222222222222,\"#7201a8\"],[0.3333333333333333,\"#9c179e\"],[0.4444444444444444,\"#bd3786\"],[0.5555555555555556,\"#d8576b\"],[0.6666666666666666,\"#ed7953\"],[0.7777777777777778,\"#fb9f3a\"],[0.8888888888888888,\"#fdca26\"],[1.0,\"#f0f921\"]],\"diverging\":[[0,\"#8e0152\"],[0.1,\"#c51b7d\"],[0.2,\"#de77ae\"],[0.3,\"#f1b6da\"],[0.4,\"#fde0ef\"],[0.5,\"#f7f7f7\"],[0.6,\"#e6f5d0\"],[0.7,\"#b8e186\"],[0.8,\"#7fbc41\"],[0.9,\"#4d9221\"],[1,\"#276419\"]]},\"xaxis\":{\"gridcolor\":\"white\",\"linecolor\":\"white\",\"ticks\":\"\",\"title\":{\"standoff\":15},\"zerolinecolor\":\"white\",\"automargin\":true,\"zerolinewidth\":2},\"yaxis\":{\"gridcolor\":\"white\",\"linecolor\":\"white\",\"ticks\":\"\",\"title\":{\"standoff\":15},\"zerolinecolor\":\"white\",\"automargin\":true,\"zerolinewidth\":2},\"scene\":{\"xaxis\":{\"backgroundcolor\":\"#E5ECF6\",\"gridcolor\":\"white\",\"linecolor\":\"white\",\"showbackground\":true,\"ticks\":\"\",\"zerolinecolor\":\"white\",\"gridwidth\":2},\"yaxis\":{\"backgroundcolor\":\"#E5ECF6\",\"gridcolor\":\"white\",\"linecolor\":\"white\",\"showbackground\":true,\"ticks\":\"\",\"zerolinecolor\":\"white\",\"gridwidth\":2},\"zaxis\":{\"backgroundcolor\":\"#E5ECF6\",\"gridcolor\":\"white\",\"linecolor\":\"white\",\"showbackground\":true,\"ticks\":\"\",\"zerolinecolor\":\"white\",\"gridwidth\":2}},\"shapedefaults\":{\"line\":{\"color\":\"#2a3f5f\"}},\"annotationdefaults\":{\"arrowcolor\":\"#2a3f5f\",\"arrowhead\":0,\"arrowwidth\":1},\"geo\":{\"bgcolor\":\"white\",\"landcolor\":\"#E5ECF6\",\"subunitcolor\":\"white\",\"showland\":true,\"showlakes\":true,\"lakecolor\":\"white\"},\"title\":{\"x\":0.05},\"mapbox\":{\"style\":\"light\"}}},\"xaxis\":{\"anchor\":\"y\",\"domain\":[0.0,1.0],\"title\":{\"text\":\"feature\"}},\"yaxis\":{\"anchor\":\"x\",\"domain\":[0.0,1.0],\"title\":{\"text\":\"cumulative_importance\"}},\"legend\":{\"tracegroupgap\":0},\"title\":{\"text\":\"cumulative_feature_importance\"}},                        {\"responsive\": true}                    ).then(function(){\n",
       "                            \n",
       "var gd = document.getElementById('fe494a15-9302-41ca-acff-c42e6edc0b7a');\n",
       "var x = new MutationObserver(function (mutations, observer) {{\n",
       "        var display = window.getComputedStyle(gd).display;\n",
       "        if (!display || display === 'none') {{\n",
       "            console.log([gd, 'removed!']);\n",
       "            Plotly.purge(gd);\n",
       "            observer.disconnect();\n",
       "        }}\n",
       "}});\n",
       "\n",
       "// Listen for the removal of the full notebook cells\n",
       "var notebookContainer = gd.closest('#notebook-container');\n",
       "if (notebookContainer) {{\n",
       "    x.observe(notebookContainer, {childList: true});\n",
       "}}\n",
       "\n",
       "// Listen for the clearing of the current output cell\n",
       "var outputEl = gd.closest('.output');\n",
       "if (outputEl) {{\n",
       "    x.observe(outputEl, {childList: true});\n",
       "}}\n",
       "\n",
       "                        })                };                });            </script>        </div>"
      ]
     },
     "metadata": {},
     "output_type": "display_data"
    }
   ],
   "source": [
    "best_features = feature_importance_df.head(200)\n",
    "best_features[\"cumulative_importance\"] = best_features[\"importance\"].cumsum()\n",
    "fig = px.bar(best_features, x=\"importance\", y=\"feature\", title=\"feature_importance\")\n",
    "fig.show()\n",
    "fig.write_html(\"../output/visualizations/feature_importance/feature_importance_v2.html\")\n",
    "fig = px.line(best_features, x=\"feature\", y=\"cumulative_importance\", title=\"cumulative_feature_importance\")\n",
    "fig.show()\n",
    "fig.write_html(\"../output/visualizations/feature_importance/cumulative_feature_importance_v2.html\")"
   ]
  },
  {
   "cell_type": "code",
   "execution_count": 43,
   "metadata": {},
   "outputs": [],
   "source": [
    "feature_importance_df[\"cumulative_importance\"] = feature_importance_df[\"importance\"].cumsum()\n",
    "feature_importance_df.to_csv(\"../output/feature_importance.csv\")"
   ]
  },
  {
   "cell_type": "code",
   "execution_count": null,
   "metadata": {},
   "outputs": [],
   "source": []
  }
 ],
 "metadata": {
  "kernelspec": {
   "display_name": "Python 3 (ipykernel)",
   "language": "python",
   "name": "python3"
  },
  "language_info": {
   "codemirror_mode": {
    "name": "ipython",
    "version": 3
   },
   "file_extension": ".py",
   "mimetype": "text/x-python",
   "name": "python",
   "nbconvert_exporter": "python",
   "pygments_lexer": "ipython3",
   "version": "3.11.5"
  }
 },
 "nbformat": 4,
 "nbformat_minor": 4
}
